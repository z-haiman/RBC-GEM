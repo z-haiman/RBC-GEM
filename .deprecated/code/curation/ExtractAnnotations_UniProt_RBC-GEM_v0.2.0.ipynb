{
 "cells": [
  {
   "cell_type": "markdown",
   "id": "6998b1a1-4fa9-44b4-9fce-03c832930b06",
   "metadata": {},
   "source": [
    "# Extract annotation information from UniProt\n",
    "\n",
    "Note: Requires internet connection to download information from the UniProt.\n",
    "\n",
    "## Setup\n",
    "### Import packages"
   ]
  },
  {
   "cell_type": "code",
   "execution_count": null,
   "id": "20c2f13c-439c-4ae4-b442-c3f0285a7cbc",
   "metadata": {},
   "outputs": [],
   "source": [
    "import matplotlib.pyplot as plt\n",
    "import pandas as pd\n",
    "from rbc_gem_utils import (\n",
    "    ANNOTATION_PATH,\n",
    "    COBRA_CONFIGURATION,\n",
    "    DATABASE_PATH,\n",
    "    INTERIM_PATH,\n",
    "    ROOT_PATH,\n",
    "    compare_tables,\n",
    "    read_rbc_model,\n",
    "    show_versions,\n",
    "    visualize_comparison,\n",
    ")\n",
    "from rbc_gem_utils.database.uniprot import (\n",
    "    UNIPROT_EXPECTED_VERSION,\n",
    "    get_isoform_value_from_entry_UniProt,\n",
    "    get_label_miriam_mapping_UniProt,\n",
    "    get_query_fields_UniProt,\n",
    "    get_version_UniProt,\n",
    "    parse_isoforms_UniProt,\n",
    "    query_UniProt,\n",
    ")\n",
    "\n",
    "# Display versions of last time notebook ran and worked\n",
    "show_versions()"
   ]
  },
  {
   "cell_type": "markdown",
   "id": "71398e9b-93ec-4175-a918-e65cbcb0e221",
   "metadata": {},
   "source": [
    "### Define configuration\n",
    "#### COBRA Configuration"
   ]
  },
  {
   "cell_type": "code",
   "execution_count": null,
   "id": "ff75f8d8-fba4-4801-aa16-2d4002daccd3",
   "metadata": {},
   "outputs": [],
   "source": [
    "COBRA_CONFIGURATION"
   ]
  },
  {
   "cell_type": "markdown",
   "id": "e39299d3-5a18-4e39-8929-4a9ae8a4fbe2",
   "metadata": {},
   "source": [
    "## Check UniProt version\n",
    "If the UniProt version does not match the expected version, it is because UniProt has been updated since the last time this code was utilized. \n",
    "\n",
    "### Expected UniProt version: 2023_05\n",
    "* According to [UniProt](https://www.uniprot.org/help/downloads), updates to the database are made every eight weeks. \n",
    "* Last release utilized: [2023_05](https://www.uniprot.org/uniprotkb/statistics) published on **Wed Nov 08 2023**."
   ]
  },
  {
   "cell_type": "code",
   "execution_count": null,
   "id": "b8f0af97-e98f-41ef-aa30-24703f80f981",
   "metadata": {},
   "outputs": [],
   "source": [
    "version = get_version_UniProt()\n",
    "try:\n",
    "    assert (\n",
    "        UNIPROT_EXPECTED_VERSION == version\n",
    "    ), \"Expected and retrieved versions are not the same\"\n",
    "except AssertionError as e:\n",
    "    warn(\"Expected and retrieved versions are not the same\")\n",
    "    print(f\"Expected UniProt version: {UNIPROT_EXPECTED_VERSION}\")\n",
    "    print(f\"Retrieved UniProt version {version}.\")\n",
    "else:\n",
    "    print(\"Retrieved version matches expected version.\")"
   ]
  },
  {
   "cell_type": "code",
   "execution_count": null,
   "id": "4a9f611f-0e9c-4fd0-bf7f-eaa62cd01f62",
   "metadata": {},
   "outputs": [],
   "source": [
    "if UNIPROT_EXPECTED_VERSION != version:\n",
    "    # Use different directory paths for unexpected behavior\n",
    "    database_dirpath = f\"{ROOT_PATH}{INTERIM_PATH}\"\n",
    "    annotation_dirpath = f\"{ROOT_PATH}{INTERIM_PATH}\"\n",
    "else:\n",
    "    database_dirpath = f\"{ROOT_PATH}{DATABASE_PATH}\"\n",
    "    annotation_dirpath = f\"{ROOT_PATH}{ANNOTATION_PATH}\""
   ]
  },
  {
   "cell_type": "markdown",
   "id": "17682c31-8200-4113-abb2-e455c423d5ef",
   "metadata": {},
   "source": [
    "## Load RBC-GEM model\n",
    "### Current Version: 0.2.0"
   ]
  },
  {
   "cell_type": "code",
   "execution_count": null,
   "id": "da3da359-9231-48a7-b52b-dd34aae21a65",
   "metadata": {},
   "outputs": [],
   "source": [
    "model = read_rbc_model(filetype=\"xml\")\n",
    "model"
   ]
  },
  {
   "cell_type": "markdown",
   "id": "034c40d5-9302-486b-8d18-3eb6f279937d",
   "metadata": {},
   "source": [
    "## Download data from UniProt\n",
    "\n",
    "### Get IDs for query\n",
    "#### Using a customized method"
   ]
  },
  {
   "cell_type": "code",
   "execution_count": null,
   "id": "a85e1792-eb9c-46b8-b81f-dc936e34c808",
   "metadata": {},
   "outputs": [],
   "source": [
    "from_db = \"GeneID\"  # From NCBI Gene ID\n",
    "\n",
    "annotation_type = \"genes\"\n",
    "annotation_key = \"custom\"\n",
    "\n",
    "df_model = pd.DataFrame.from_dict(\n",
    "    {gene.id: gene.id.split(\"_AT\")[0] for gene in model.genes},\n",
    "    orient=\"index\",\n",
    "    columns=[annotation_key],\n",
    ")\n",
    "df_model.index.name = annotation_type\n",
    "df_model = df_model.reset_index(drop=False)\n",
    "\n",
    "\n",
    "query_ids = df_model[annotation_key].unique()\n",
    "assert len(set(query_ids)) == len(query_ids), \"Duplicate IDs in list to query\"\n",
    "model_search_mapping = df_model.set_index(annotation_type)[annotation_key].to_dict()\n",
    "print(f\"Number of model genes associated with query: {len(model_search_mapping)}\")\n",
    "print(f\"Number of unique IDs to query: {len(query_ids)}\")"
   ]
  },
  {
   "cell_type": "markdown",
   "id": "36071358-752c-487a-8d06-ff3848fe7f33",
   "metadata": {},
   "source": [
    "### Set universal query parameters"
   ]
  },
  {
   "cell_type": "code",
   "execution_count": null,
   "id": "77713f3c-49d2-4159-80bd-2c19cc6c2137",
   "metadata": {},
   "outputs": [],
   "source": [
    "miriam_query_fields = get_query_fields_UniProt(miriam_only=True)\n",
    "miriam_query_fields"
   ]
  },
  {
   "cell_type": "code",
   "execution_count": null,
   "id": "ce233ccf-7c28-4d79-9b9a-98fde365d531",
   "metadata": {},
   "outputs": [],
   "source": [
    "# Extract all relevant information for now and save\n",
    "query_parameters = {\n",
    "    \"query\": \" && \".join(\n",
    "        [\n",
    "            \"(reviewed:true)\",\n",
    "            \"(organism_id:9606)\",  # Homo sapiens (Human)\n",
    "        ]\n",
    "    ),\n",
    "    \"format\": \"tsv\",\n",
    "    \"size\": 500,\n",
    "    \"compressed\": True,\n",
    "    \"fields\": \",\".join(miriam_query_fields),\n",
    "}"
   ]
  },
  {
   "cell_type": "markdown",
   "id": "7c7f2c3b-c93c-43b1-96ea-363811827939",
   "metadata": {},
   "source": [
    "## Run queries"
   ]
  },
  {
   "cell_type": "code",
   "execution_count": null,
   "id": "eb2bed48-7222-4a71-9d5f-c645714c3a66",
   "metadata": {},
   "outputs": [],
   "source": [
    "database_tag = \"UniProt\"\n",
    "compare = True\n",
    "overwrite = True\n",
    "\n",
    "all_query_results = {}"
   ]
  },
  {
   "cell_type": "markdown",
   "id": "0fa1417c-8b4d-4d4a-b992-5383c01d7000",
   "metadata": {},
   "source": [
    "### Initial query"
   ]
  },
  {
   "cell_type": "code",
   "execution_count": null,
   "id": "bbe33b3b-7b2c-42b4-8da7-95576cc886c1",
   "metadata": {},
   "outputs": [],
   "source": [
    "query_key = \"initial\"\n",
    "df_results, failed_ids = query_UniProt(\n",
    "    query_ids,\n",
    "    query_parameters=query_parameters,\n",
    "    from_db=\"GeneID\",\n",
    ")\n",
    "if failed_ids:\n",
    "    print(failed_ids)\n",
    "all_query_results[query_key] = df_results\n",
    "df_results"
   ]
  },
  {
   "cell_type": "markdown",
   "id": "2d0ce5f6-d010-4848-a99a-50fc9a731274",
   "metadata": {},
   "source": [
    "### Address failed IDs\n",
    "IDs that failed mapping are all pseudogenes in this case. \n",
    "They have UniProt IDs that can be looked up."
   ]
  },
  {
   "cell_type": "code",
   "execution_count": null,
   "id": "6ddb1aad-6483-428d-b660-6c4980bad003",
   "metadata": {},
   "outputs": [],
   "source": [
    "retry_ids = {\n",
    "    # Failed ID, new ID\n",
    "    \"2713\": \"Q14409\",\n",
    "    \"2974\": \"O75343\",\n",
    "    \"6526\": \"P53794\",\n",
    "}"
   ]
  },
  {
   "cell_type": "code",
   "execution_count": null,
   "id": "172e1366-db77-4c14-bca3-680a8f46d7b4",
   "metadata": {},
   "outputs": [],
   "source": [
    "query_key = \"retry_1\"\n",
    "df_results, failed_ids = query_UniProt(\n",
    "    list(sorted(retry_ids.values())),\n",
    "    from_db=\"UniProtKB\",\n",
    "    query_parameters=query_parameters,\n",
    ")\n",
    "if failed_ids:\n",
    "    print(failed_ids)\n",
    "all_query_results[query_key] = df_results\n",
    "model_search_mapping.update(\n",
    "    {\n",
    "        k: retry_ids[v]\n",
    "        for k, v in model_search_mapping.items()\n",
    "        if v in retry_ids and v not in failed_ids\n",
    "    }\n",
    ")\n",
    "df_results"
   ]
  },
  {
   "cell_type": "markdown",
   "id": "1dc1c7ba-e58f-4641-b162-128ab8aafe90",
   "metadata": {},
   "source": [
    "## Map query results to model\n",
    "### Concat and cleanup query results"
   ]
  },
  {
   "cell_type": "code",
   "execution_count": null,
   "id": "26decb7b-6a66-4e33-a303-43792801cb27",
   "metadata": {},
   "outputs": [],
   "source": [
    "print(f\"Number of unique queries: {len(all_query_results)}\")\n",
    "df_query_results = pd.concat(tuple(all_query_results.values()))\n",
    "df_query_results = df_query_results.set_index(\"From\").drop_duplicates()\n",
    "df_query_results = df_query_results.replace(\"\", float(\"nan\"))\n",
    "df_query_results"
   ]
  },
  {
   "cell_type": "markdown",
   "id": "b1412a7d-1a11-4a5f-bcca-c2456b6350dc",
   "metadata": {},
   "source": [
    "### Save extracted data to database"
   ]
  },
  {
   "cell_type": "code",
   "execution_count": null,
   "id": "9a59ba1f-3f6e-4a69-b275-7a3cf08e2ada",
   "metadata": {},
   "outputs": [],
   "source": [
    "df_database = df_query_results.reset_index(drop=True).drop_duplicates()\n",
    "if compare:\n",
    "    try:\n",
    "        df_previous = pd.read_csv(\n",
    "            f\"{database_dirpath}/{database_tag}_{version}.tsv\",\n",
    "            sep=\"\\t\",\n",
    "            index_col=0,\n",
    "            dtype=str,\n",
    "        )\n",
    "    except FileNotFoundError:\n",
    "        df_previous = pd.DataFrame([], columns=[\"Entry\"], dtype=str)\n",
    "    fig, ax = plt.subplots(1, 1, figsize=(5, 5))\n",
    "    df_comparision = compare_tables(\n",
    "        df_previous.set_index(\"Entry\"), df_database.set_index(\"Entry\")\n",
    "    )\n",
    "    ax = visualize_comparison(df_comparision)\n",
    "\n",
    "if overwrite:\n",
    "    df_database.to_csv(f\"{database_dirpath}/{database_tag}_{version}.tsv\", sep=\"\\t\")\n",
    "else:\n",
    "    df_database.to_csv(\n",
    "        f\"{ROOT_PATH}{INTERIM_PATH}/{database_tag}_{version}.tsv\", sep=\"\\t\"\n",
    "    )\n",
    "df_database"
   ]
  },
  {
   "cell_type": "code",
   "execution_count": null,
   "id": "4520eaaf-5056-4dab-970a-dd7cdfeca7a2",
   "metadata": {},
   "outputs": [],
   "source": [
    "df_model = pd.DataFrame.from_dict(\n",
    "    {\"From\": model_search_mapping},\n",
    "    orient=\"columns\",\n",
    ")\n",
    "df_model.index.name = annotation_type\n",
    "df_model = df_model.reset_index(drop=False)\n",
    "df_annotations = pd.merge(\n",
    "    df_model, df_query_results, left_on=\"From\", right_index=True, how=\"outer\"\n",
    ")\n",
    "df_annotations = df_annotations.drop([\"From\"], axis=1).set_index(\"genes\")\n",
    "df_annotations"
   ]
  },
  {
   "cell_type": "markdown",
   "id": "e7df73bd-f751-41bb-ba1d-607f9944eaa6",
   "metadata": {},
   "source": [
    "### Format UniProt information for annotation files\n",
    "#### Map to chosen MIRIAMs\n",
    "As formatting may be needed for some MIRIAMS, keep it simple for now until formatting methods are developed. "
   ]
  },
  {
   "cell_type": "code",
   "execution_count": null,
   "id": "9ee99db3-cb82-4628-8876-53d6c22928eb",
   "metadata": {},
   "outputs": [],
   "source": [
    "# Keeping it simple for now, group items regardless of isoforms for the time being\n",
    "uniprot_miriam_mapping = get_label_miriam_mapping_UniProt(\n",
    "    get_query_fields_UniProt(miriam_only=True)\n",
    ")\n",
    "df_annotations = df_annotations.loc[:, list(uniprot_miriam_mapping)].rename(\n",
    "    uniprot_miriam_mapping, axis=1\n",
    ")\n",
    "df_annotations = df_annotations.loc[\n",
    "    :,\n",
    "    [\n",
    "        \"uniprot\",\n",
    "        \"uniprot.isoform\",\n",
    "        \"hgnc.symbol\",\n",
    "        \"ncbigene\",\n",
    "        \"ccds\",\n",
    "        \"refseq\",\n",
    "        \"mim\",\n",
    "        \"drugbank\",\n",
    "    ],\n",
    "]\n",
    "df_annotations"
   ]
  },
  {
   "cell_type": "code",
   "execution_count": null,
   "id": "69f4446e-f077-4f71-ae90-2cf4078b3190",
   "metadata": {},
   "outputs": [],
   "source": [
    "# Identify isoforms\n",
    "df_isoforms = df_annotations.loc[:, [\"uniprot\", \"uniprot.isoform\"]].copy()\n",
    "df_isoforms = parse_isoforms_UniProt(df_isoforms, add_canonical=True)\n",
    "double_check = []\n",
    "for gene, (uniprot_id, isoforms) in df_isoforms.loc[\n",
    "    :, [\"uniprot\", \"uniprot.isoform\"]\n",
    "].iterrows():\n",
    "    isoforms = isoforms.split(\";\")\n",
    "    isonum = gene.split(\"_AT\")[-1]\n",
    "    expected_isoform = f\"{uniprot_id}-{isonum}\"\n",
    "    if expected_isoform in isoforms:\n",
    "        df_isoforms.loc[gene, \"uniprot.isoform\"] = expected_isoform\n",
    "    else:\n",
    "        double_check += [gene]\n",
    "        df_isoforms.loc[gene, \"uniprot.isoform\"] = float(\"nan\")\n",
    "\n",
    "df_annotations[\"uniprot.isoform\"] = df_isoforms[\"uniprot.isoform\"]\n",
    "columns = df_annotations.columns.difference(\n",
    "    [\n",
    "        # Uniprot, UniProt Isoform and the \"canonical\" custom column are not formatted for isoforms\n",
    "        \"uniprot\",\n",
    "        \"uniprot.isoform\",\n",
    "        \"uniprot.canonical\",\n",
    "    ]\n",
    ")\n",
    "\n",
    "for idx, row in df_annotations.loc[:, columns].iterrows():\n",
    "    uniprot_id, isoform_id = df_isoforms.loc[\n",
    "        idx, [\"uniprot\", \"uniprot.isoform\"]\n",
    "    ].fillna(\"\")\n",
    "    # No isoform ID set, just aggregate all without regards to isoform.\n",
    "    row = row.apply(lambda x: get_isoform_value_from_entry_UniProt(x, isoform_id))\n",
    "    df_annotations.loc[idx, columns] = row.values\n",
    "df_annotations = df_annotations.reset_index(drop=False)\n",
    "\n",
    "if compare:\n",
    "    try:\n",
    "        df_previous = pd.read_csv(\n",
    "            f\"{annotation_dirpath}/{annotation_type}_{database_tag}.tsv\",\n",
    "            sep=\"\\t\",\n",
    "            index_col=0,\n",
    "            dtype=str,\n",
    "        )\n",
    "    except FileNotFoundError:\n",
    "        df_previous = pd.DataFrame([], columns=[annotation_type], dtype=str)\n",
    "    fig, ax = plt.subplots(1, 1, figsize=(5, 5))\n",
    "    # Comparisons should be done with annotation type as index to ensure correct entries get compared.\n",
    "    df_comparision = compare_tables(\n",
    "        df_previous.set_index(annotation_type),\n",
    "        df_annotations.set_index(annotation_type),\n",
    "    )\n",
    "    ax = visualize_comparison(df_comparision)\n",
    "\n",
    "if overwrite:\n",
    "    df_annotations.to_csv(\n",
    "        f\"{annotation_dirpath}/{annotation_type}_{database_tag}.tsv\", sep=\"\\t\"\n",
    "    )\n",
    "else:\n",
    "    df_annotations.to_csv(\n",
    "        f\"{ROOT_PATH}{INTERIM_PATH}/{annotation_type}_{database_tag}.tsv\", sep=\"\\t\"\n",
    "    )\n",
    "df_annotations"
   ]
  },
  {
   "cell_type": "markdown",
   "id": "0a17147d-4032-4a9b-af26-08473b0df101",
   "metadata": {},
   "source": [
    "#### Double check\n",
    "These didn't have isoforms, with current database mapping."
   ]
  },
  {
   "cell_type": "code",
   "execution_count": null,
   "id": "b8c1ab53-df3a-4633-a355-f1908a150387",
   "metadata": {},
   "outputs": [],
   "source": [
    "df_annotations.set_index(annotation_type).loc[double_check]"
   ]
  }
 ],
 "metadata": {
  "kernelspec": {
   "display_name": "Python 3 (ipykernel)",
   "language": "python",
   "name": "python3"
  },
  "language_info": {
   "codemirror_mode": {
    "name": "ipython",
    "version": 3
   },
   "file_extension": ".py",
   "mimetype": "text/x-python",
   "name": "python",
   "nbconvert_exporter": "python",
   "pygments_lexer": "ipython3"
  }
 },
 "nbformat": 4,
 "nbformat_minor": 5
}
