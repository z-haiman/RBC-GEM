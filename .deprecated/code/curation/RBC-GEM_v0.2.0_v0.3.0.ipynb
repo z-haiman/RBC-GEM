{
 "cells": [
  {
   "cell_type": "markdown",
   "id": "36b505cb-57e0-47f1-9d26-9649ef7179db",
   "metadata": {},
   "source": [
    "# RBC-GEM 0.2.0 --> 0.3.0\n",
    "The purpose of this notebook is to reduce all redundancies, imbalances, and create a reconstruction that can highlights areas for expansion.\n",
    "\n",
    "1. Remove reactions that are \"duplicated\" other than having different directionality\n",
    "2. Remove pseudoreactions that enable flux consistency to identify dead-ends. Leave exchanges.\n",
    "3. Remove distinction for transcripts, ensuring only unique genes in model.\n",
    "4. Change all gene identifiers to HGNC symbols.\n",
    "5. Chemical formulas and charges are updated for some metabolites.\n",
    "6. Metabolite formulas are standardized\n",
    "7. Stoichiometric corrections for reactions\n",
    "8. Lipids reactions are pooled. \n",
    "9. As the model has stoichiometrically altered from the iAB-RBC-283 model, the ID of the model has been officially changed to RBC-GEM.\n",
    "\n",
    "Bordbar, A., Jamshidi, N. & Palsson, B.O. iAB-RBC-283: A proteomically derived knowledge-base of erythrocyte metabolism that can be used to simulate its physiological and patho-physiological states. BMC Syst Biol 5, 110 (2011). https://doi.org/10.1186/1752-0509-5-110\n",
    "\n",
    "## Setup\n",
    "### Import packages"
   ]
  },
  {
   "cell_type": "code",
   "execution_count": null,
   "id": "1e4566d4-7868-4dd4-ac6a-7779e1614ae7",
   "metadata": {},
   "outputs": [],
   "source": [
    "from cobra import Reaction\n",
    "from cobra.manipulation import remove_genes, rename_genes\n",
    "from rbc_gem_utils import (\n",
    "    COBRA_CONFIGURATION,\n",
    "    ROOT_PATH,\n",
    "    build_string,\n",
    "    get_annotation_df,\n",
    "    read_rbc_model,\n",
    "    show_versions,\n",
    "    split_string,\n",
    "    write_rbc_model,\n",
    ")\n",
    "from rbc_gem_utils.annotation import set_sbo_default_annotations\n",
    "from rbc_gem_utils.qc import standardardize_metabolite_formulas\n",
    "\n",
    "# Display versions of last time notebook ran and worked\n",
    "show_versions()"
   ]
  },
  {
   "cell_type": "markdown",
   "id": "a273de7a-3145-4d8f-b23c-086871fbfbbf",
   "metadata": {},
   "source": [
    "### Define configuration\n",
    "#### COBRA Configuration"
   ]
  },
  {
   "cell_type": "code",
   "execution_count": null,
   "id": "2086741a-e868-442c-b560-fcd34484e8a8",
   "metadata": {},
   "outputs": [],
   "source": [
    "COBRA_CONFIGURATION"
   ]
  },
  {
   "cell_type": "markdown",
   "id": "c216415e-cab3-41ba-8c73-e8e876412f6d",
   "metadata": {},
   "source": [
    "## Load RBC-GEM model\n",
    "### Version: 0.2.0"
   ]
  },
  {
   "cell_type": "code",
   "execution_count": null,
   "id": "9b7eea71-81c1-447d-b623-3defa42be232",
   "metadata": {},
   "outputs": [],
   "source": [
    "model = read_rbc_model(filetype=\"xml\")\n",
    "model"
   ]
  },
  {
   "cell_type": "markdown",
   "id": "9fa161a9-ee05-4a86-b070-379108682b49",
   "metadata": {},
   "source": [
    "### Reactions\n",
    "#### Remove \"duplicated\" reactions"
   ]
  },
  {
   "cell_type": "code",
   "execution_count": null,
   "id": "480cb4fa-5b4c-469d-a6b5-596c1a8dff21",
   "metadata": {},
   "outputs": [],
   "source": [
    "# Make reactions reversible (PMID:1618773)\n",
    "model.reactions.CRNAT_16_0.lower_bound = -1000\n",
    "model.reactions.CRNAT_18_9Z.lower_bound = -1000\n",
    "model.reactions.CRNAT_18_9Z12Z.lower_bound = -1000\n",
    "\n",
    "model.remove_reactions(\n",
    "    [\n",
    "        model.reactions.CRNAT_16_0rbc,\n",
    "        model.reactions.CRNAT_18_9Zrbc,\n",
    "        model.reactions.CRNAT_18_9Z12Zrbc,\n",
    "    ]\n",
    ")\n",
    "model"
   ]
  },
  {
   "cell_type": "markdown",
   "id": "2a5ba22a-d68e-4d75-a58e-fb80f1ace912",
   "metadata": {},
   "source": [
    "#### Remove pseudoreactions, leaving exchanges"
   ]
  },
  {
   "cell_type": "code",
   "execution_count": null,
   "id": "0925c8ef-d9e9-4133-a81b-1e8f5632e4c8",
   "metadata": {},
   "outputs": [],
   "source": [
    "model.remove_reactions(model.demands + model.sinks)\n",
    "model.remove_reactions([\"NADHload\"])\n",
    "model"
   ]
  },
  {
   "cell_type": "markdown",
   "id": "e25ca2ff-e0be-4b34-bfde-ae887bb56a3f",
   "metadata": {},
   "source": [
    "#### Pool lipid reactions"
   ]
  },
  {
   "cell_type": "code",
   "execution_count": null,
   "id": "23f0aaf1-3d0f-47d6-85b4-d08f6ffd9a56",
   "metadata": {},
   "outputs": [],
   "source": [
    "pooled_reactons = {\n",
    "    \"CDIPT\": \"cdpdag_hs_c + inost_c <=> cmp_c + h_c + pail_hs_c\",\n",
    "    \"CDS\": \"ctp_c + h_c + pa_hs_c --> cdpdag_hs_c + ppi_c\",\n",
    "    \"CEPTC\": \"cdpchol_c + dag_hs_c --> cmp_c + h_c + pc_hs_c\",\n",
    "    \"CEPTE\": \"cdpea_c + dag_hs_c --> cmp_c + h_c + pe_hs_c\",\n",
    "    \"DAGK\": \"atp_c + dag_hs_c --> adp_c + h_c + pa_hs_c\",\n",
    "    \"GPAT\": \"FAcoa_hs_c + glyc3p_c --> coa_c + lpa_hs_c\",\n",
    "    \"LPAAT\": \"FAcoa_hs_c + lpa_hs_c --> coa_c + pa_hs_c\",\n",
    "    \"LPCLPLB\": \"h2o_c + lpc_hs_c --> FA_hs_c + g3pc_c + h_c\",\n",
    "    \"PCPLA2\": \"h2o_c + pc_hs_c --> FA_hs_c + h_c + lpc_hs_c\",\n",
    "    \"PI45P5P\": \"h2o_c + pail45p_hs_c --> pail4p_hs_c + pi_c\",\n",
    "    \"PI45PLC\": \"h2o_c + pail45p_hs_c --> dag_hs_c + h_c + mi145p_c\",\n",
    "    \"PI4PLC\": \"h2o_c + pail4p_hs_c --> dag_hs_c + h_c + mi14p_c\",\n",
    "    \"PIPLC\": \"h2o_c + pail_hs_c --> dag_hs_c + h_c + mi1p__D_c\",\n",
    "    \"PI4K\": \"atp_c + pail_hs_c --> adp_c + h_c + pail4p_hs_c\",\n",
    "    \"PI4P5K\": \"atp_c + pail4p_hs_c --> adp_c + h_c + pail45p_hs_c\",\n",
    "    \"PI4PP\": \"h2o_c + pail4p_hs_c --> pail_hs_c + pi_c\",\n",
    "    \"PAPP\": \"h2o_c + pa_hs_c --> dag_hs_c + pi_c\",\n",
    "}\n",
    "new_mets = set()\n",
    "for rid, reaction in pooled_reactons.items():\n",
    "    reactions = model.reactions.query(lambda x: x.id.startswith(rid))\n",
    "    subsystem = reactions[0].subsystem\n",
    "    gpr = reactions[0].gene_reaction_rule\n",
    "    bounds = reactions[0].bounds\n",
    "\n",
    "    model.add_reactions([Reaction(rid)])\n",
    "    new = model.reactions.get_by_id(rid)\n",
    "    new.build_reaction_from_string(reaction)\n",
    "\n",
    "    new.subsystem = subsystem\n",
    "    new.gene_reaction_rule = gpr\n",
    "    new.bounds = bounds\n",
    "    for met in new.metabolites:\n",
    "        if met.formula is None:\n",
    "            new_mets.add(met)\n",
    "        met.compartment = met.id[-1:]\n",
    "    model.remove_reactions(reactions, remove_orphans=True)\n",
    "\n",
    "\n",
    "# Any additional annotations can be obtained after linking to MetAtlas"
   ]
  },
  {
   "cell_type": "markdown",
   "id": "14c7143f-1bb2-4a07-bd59-c043bed6e641",
   "metadata": {},
   "source": [
    "### Genes\n",
    "#### Remove isoforms from GPRs"
   ]
  },
  {
   "cell_type": "code",
   "execution_count": null,
   "id": "1d1c67d9-7d2f-4142-8dda-10c0c49c1db9",
   "metadata": {},
   "outputs": [],
   "source": [
    "df_isoforms_to_remove = get_annotation_df(\n",
    "    getattr(model, \"genes\"), [\"uniprot\", \"hgnc.symbol\"]\n",
    ")\n",
    "df_isoforms_to_remove = df_isoforms_to_remove.sort_values(by=\"id\")\n",
    "df_isoforms_to_remove = df_isoforms_to_remove[\n",
    "    df_isoforms_to_remove.loc[:, [\"uniprot\", \"hgnc.symbol\"]].duplicated(keep=\"first\")\n",
    "]\n",
    "remove_genes(\n",
    "    model, gene_list=list(df_isoforms_to_remove[\"id\"].values), remove_reactions=False\n",
    ")\n",
    "df_isoforms_to_remove"
   ]
  },
  {
   "cell_type": "markdown",
   "id": "77852c20-8537-413a-ab66-3c15827acd44",
   "metadata": {},
   "source": [
    "#### Rename genes to HGNC"
   ]
  },
  {
   "cell_type": "code",
   "execution_count": null,
   "id": "2a52b354-f0d6-4f1c-862e-9d409aafa729",
   "metadata": {},
   "outputs": [],
   "source": [
    "gene_mapping = (\n",
    "    get_annotation_df(getattr(model, \"genes\"), [\"hgnc.symbol\"])\n",
    "    .set_index(\"id\")[\"hgnc.symbol\"]\n",
    "    .to_dict()\n",
    ")\n",
    "rename_genes(model, gene_mapping)\n",
    "for gene in model.genes:\n",
    "    gene.name = \"\""
   ]
  },
  {
   "cell_type": "code",
   "execution_count": null,
   "id": "11b30ea9-7775-44c8-81dc-a325ff857c4d",
   "metadata": {},
   "outputs": [],
   "source": [
    "import pandas as pd"
   ]
  },
  {
   "cell_type": "code",
   "execution_count": null,
   "id": "f00320fd-992f-45cc-bf76-c88217c00065",
   "metadata": {},
   "outputs": [],
   "source": [
    "id_mapping_df = pd.DataFrame.from_dict(gene_mapping, orient=\"index\")\n",
    "id_mapping_df = id_mapping_df.reset_index(drop=False)\n",
    "id_mapping_df.columns = [\"geneRetired\", \"genes\"]\n",
    "id_mapping_df = id_mapping_df.loc[:, id_mapping_df.columns[::-1]]\n",
    "id_mapping_df[\"genes\"] = id_mapping_df[\"genes\"].str.split(\" and \")\n",
    "id_mapping_df = id_mapping_df.explode(\"genes\")\n",
    "\n",
    "\n",
    "previous_id_mapping_df = pd.read_csv(\n",
    "    f\"{ROOT_PATH}/data/deprecatedIdentifiers/genes_deprecatedIdentifiers.tsv\",\n",
    "    sep=\"\\t\",\n",
    "    index_col=0,\n",
    ")\n",
    "\n",
    "for idx, row in id_mapping_df.iterrows():\n",
    "    new_id, retiring = row[[\"genes\", \"geneRetired\"]]\n",
    "    previously_retired = previous_id_mapping_df[\n",
    "        previous_id_mapping_df[\"genes\"] == retiring\n",
    "    ]\n",
    "    retired_set_of_ids = {retiring}\n",
    "    if not previously_retired.empty:\n",
    "        # Get all previously retired IDs\n",
    "        try:\n",
    "            retired_set_of_ids.update(\n",
    "                previously_retired[\"geneRetired\"].apply(split_string).item()\n",
    "            )\n",
    "        except ValueError:\n",
    "            retired_set_of_ids.update(\n",
    "                [\n",
    "                    y\n",
    "                    for x in previously_retired[\"geneRetired\"].values\n",
    "                    for y in split_string(x)\n",
    "                ]\n",
    "            )\n",
    "        # Pulling the ID out of retirement\n",
    "        if new_id in retired_set_of_ids:\n",
    "            retired_set_of_ids.remove(new_id)\n",
    "        retired_set_of_ids.add(retiring)\n",
    "\n",
    "    id_mapping_df.loc[idx, \"geneRetired\"] = build_string(retired_set_of_ids, sep=\";\")\n",
    "\n",
    "id_mapping_df.to_csv(\n",
    "    f\"{ROOT_PATH}/data/deprecatedIdentifiers/genes_deprecatedIdentifiers.tsv\",\n",
    "    sep=\"\\t\",\n",
    ")\n",
    "id_mapping_df"
   ]
  },
  {
   "cell_type": "markdown",
   "id": "8cefbfcc-7120-4878-9415-610ea6ca9365",
   "metadata": {},
   "source": [
    "### Metabolites\n",
    "#### Update existing chemical formulas and charges"
   ]
  },
  {
   "cell_type": "code",
   "execution_count": null,
   "id": "af130bd7-240b-4819-a086-fbe92a2f5afa",
   "metadata": {},
   "outputs": [],
   "source": [
    "updated_formula_charges = {\n",
    "    # To update\n",
    "    \"ascb__L\": (\"C6H7O6\", -1),\n",
    "    \"dhdascb__L\": (\"C6H5O6\", -1),\n",
    "    \"bilglcur\": (\"C39H42N4O12\", -2),\n",
    "    \"pe_hs\": (\"C7H12NO8PR2\", 0),\n",
    "    \"pc_hs\": (\"C10H18NO8PR2\", 0),\n",
    "    \"lpc_hs\": (\"C9H19NO7PR\", 0),\n",
    "    \"cdpdag_hs\": (\"C14H17N3O15P2R2\", -2),\n",
    "    \"FA_hs\": (\"CO2R\", -1),\n",
    "    \"dag_hs\": (\"C5H6O5R2\", 0),\n",
    "    \"lpa_hs\": (\"C4H6O7PR\", -2),\n",
    "    \"pa_hs\": (\"C5H5O8PR2\", -2),\n",
    "    \"pail_hs\": (\"C11H16O13PR2\", -1),\n",
    "    \"pail4p_hs\": (\"C11H15O16P2R2\", -3),\n",
    "    \"pail45p_hs\": (\"C11H14O19P3R2\", -5),\n",
    "    \"FAcoa_hs\": (\"C22H31N7O17P3RS\", -4),\n",
    "}\n",
    "\n",
    "for met_id, (new_formula, new_charge) in updated_formula_charges.items():\n",
    "    for metabolite in model.metabolites.query(\n",
    "        lambda x: x.id.replace(f\"_{x.compartment}\", \"\") == met_id\n",
    "    ):\n",
    "        print(metabolite)\n",
    "        metabolite.formula = new_formula\n",
    "        metabolite.charge = new_charge\n",
    "\n",
    "# Additional annotations can be obtained after linking to MetAtlas\n",
    "annotations = {\n",
    "    \"FA_hs_c\": \"MAM10005c\",\n",
    "    \"pe_hs_c\": \"MAM02685c\",\n",
    "    \"lpc_hs_c\": \"MAM00656c\",\n",
    "    \"pc_hs_c\": \"MAM02684c\",\n",
    "    \"dag_hs_c\": \"MAM00240c\",\n",
    "    \"pail_hs_c\": \"MAM02750c\",\n",
    "    \"pail4p_hs_c\": \"MAM02685c\",\n",
    "    \"pail45p_hs_c\": \"MAM02736c\",\n",
    "    \"lpa_hs_c\": \"MAM03419c\",\n",
    "    \"FAcoa_hs_c\": \"MAM10007c\",\n",
    "    \"pe_hs_c\": \"MAM02685c\",\n",
    "    \"cdpdag_hs_c\": \"MAM01427c\",\n",
    "}\n",
    "\n",
    "for met, metatlas in annotations.items():\n",
    "    met = model.metabolites.get_by_id(met)\n",
    "    met.annotation[\"metatlas\"] = metatlas"
   ]
  },
  {
   "cell_type": "markdown",
   "id": "c71729ba-5097-4ec6-b520-cae43368714e",
   "metadata": {},
   "source": [
    "#### Standardize metabolite formulas"
   ]
  },
  {
   "cell_type": "code",
   "execution_count": null,
   "id": "ab82102d-8a4f-42c9-9e4a-e7438d90b88c",
   "metadata": {},
   "outputs": [],
   "source": [
    "metabolite_formulas = dict(\n",
    "    zip(model.metabolites.list_attr(\"id\"), model.metabolites.list_attr(\"formula\"))\n",
    ")\n",
    "standardized = standardardize_metabolite_formulas(metabolite_formulas)\n",
    "\n",
    "for mid, updated_formula in standardized.items():\n",
    "    if metabolite_formulas[mid] != updated_formula:\n",
    "        print(f\"Standardizing formula for `{mid}`\")\n",
    "        model_metabolite = model.metabolites.get_by_id(mid)\n",
    "        model_metabolite.formula = updated_formula"
   ]
  },
  {
   "cell_type": "markdown",
   "id": "514b8103-84ee-4a77-8770-632bbe0df2ab",
   "metadata": {},
   "source": [
    "#### Correct stoichiometry of reactions"
   ]
  },
  {
   "cell_type": "code",
   "execution_count": null,
   "id": "7e1b91f9-d80b-4c43-8aeb-cd67d0e15204",
   "metadata": {},
   "outputs": [],
   "source": [
    "reaction = model.reactions.get_by_id(\"BILIRBU\")\n",
    "reaction.add_metabolites({\"h_c\": 2})"
   ]
  },
  {
   "cell_type": "code",
   "execution_count": null,
   "id": "729c3bf5-0b69-429d-8829-3c336450c4ab",
   "metadata": {},
   "outputs": [],
   "source": [
    "for reaction in model.reactions:\n",
    "    if reaction.boundary:\n",
    "        continue\n",
    "    if reaction.check_mass_balance():\n",
    "        print(reaction.id, reaction.check_mass_balance())"
   ]
  },
  {
   "cell_type": "markdown",
   "id": "e246afce-fa98-4636-9d3c-d4d18b62f86d",
   "metadata": {},
   "source": [
    "### Add/reset SBO annotations"
   ]
  },
  {
   "cell_type": "code",
   "execution_count": null,
   "id": "3e76b69a-dd14-4b7f-b73b-6d6f2c04e5b8",
   "metadata": {},
   "outputs": [],
   "source": [
    "model = set_sbo_default_annotations(\n",
    "    model, [\"reactions\", \"metabolites\", \"genes\"], verbose=True\n",
    ")\n",
    "model"
   ]
  },
  {
   "cell_type": "markdown",
   "id": "27d84eb8-031b-4b60-a1d9-6a3e940c718a",
   "metadata": {},
   "source": [
    "## Export updated model\n",
    "### Version: 0.3.0"
   ]
  },
  {
   "cell_type": "code",
   "execution_count": null,
   "id": "cbf62b1f-3600-4408-8a62-86895b3d92bd",
   "metadata": {},
   "outputs": [],
   "source": [
    "model.id = \"RBC_GEM\"\n",
    "write_rbc_model(model, filetype=\"all\")\n",
    "model"
   ]
  }
 ],
 "metadata": {
  "kernelspec": {
   "display_name": "Python 3 (ipykernel)",
   "language": "python",
   "name": "python3"
  },
  "language_info": {
   "codemirror_mode": {
    "name": "ipython",
    "version": 3
   },
   "file_extension": ".py",
   "mimetype": "text/x-python",
   "name": "python",
   "nbconvert_exporter": "python",
   "pygments_lexer": "ipython3"
  }
 },
 "nbformat": 4,
 "nbformat_minor": 5
}
