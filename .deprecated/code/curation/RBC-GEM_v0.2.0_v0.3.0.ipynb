{
 "cells": [
  {
   "cell_type": "markdown",
   "id": "36b505cb-57e0-47f1-9d26-9649ef7179db",
   "metadata": {},
   "source": [
    "# RBC-GEM 0.2.0 --> 0.3.0\n",
    "The purpose of this notebook is to reduce all redundancies, imbalances, and create a reconstruction that can highlights areas for expansion.\n",
    "\n",
    "1. Remove reactions that are \"duplicated\" other than having different directionality\n",
    "2. Remove pseudoreactions that enable flux consistency to identify dead-ends. Leave exchanges.\n",
    "3. Remove distinction for transcripts, ensuring only unique genes in model.\n",
    "4. Change all gene identifiers to HGNC symbols.\n",
    "5. Chemical formulas and charges are updated for some metabolites.\n",
    "6. Metabolite formulas are standardized\n",
    "7. Stoichiometric corrections for reactions\n",
    "8. Lipids reactions are pooled. \n",
    "9. As the model has stoichiometrically altered from the iAB-RBC-283 model, the ID of the model has been officially changed to RBC-GEM.\n",
    "\n",
    "Bordbar, A., Jamshidi, N. & Palsson, B.O. iAB-RBC-283: A proteomically derived knowledge-base of erythrocyte metabolism that can be used to simulate its physiological and patho-physiological states. BMC Syst Biol 5, 110 (2011). https://doi.org/10.1186/1752-0509-5-110\n",
    "\n",
    "## Setup\n",
    "### Import packages"
   ]
  },
  {
   "cell_type": "code",
   "execution_count": 25,
   "id": "1e4566d4-7868-4dd4-ac6a-7779e1614ae7",
   "metadata": {},
   "outputs": [
    {
     "name": "stdout",
     "output_type": "stream",
     "text": [
      "\n",
      "Package Information\n",
      "-------------------\n",
      "rbc-gem-utils 0.0.1\n",
      "\n",
      "Dependency Information\n",
      "----------------------\n",
      "cobra      0.29.0\n",
      "depinfo     2.2.0\n",
      "matplotlib  3.8.2\n",
      "memote     0.16.1\n",
      "notebook    7.0.6\n",
      "requests   2.31.0\n",
      "scipy      1.11.4\n",
      "seaborn    0.13.0\n",
      "\n",
      "Build Tools Information\n",
      "-----------------------\n",
      "pip        23.3.1\n",
      "setuptools 68.2.2\n",
      "wheel      0.41.2\n",
      "\n",
      "Platform Information\n",
      "--------------------\n",
      "Darwin  22.6.0-x86_64\n",
      "CPython        3.12.0\n"
     ]
    }
   ],
   "source": [
    "from cobra import Reaction\n",
    "from cobra.manipulation import remove_genes, rename_genes\n",
    "from rbc_gem_utils import (COBRA_CONFIGURATION, ROOT_PATH, build_string,\n",
    "                           get_annotation_df, read_rbc_model, show_versions,\n",
    "                           split_string, write_rbc_model)\n",
    "from rbc_gem_utils.annotation import set_sbo_default_annotations\n",
    "from rbc_gem_utils.qc import standardardize_metabolite_formulas\n",
    "\n",
    "# Display versions of last time notebook ran and worked\n",
    "show_versions()"
   ]
  },
  {
   "cell_type": "markdown",
   "id": "a273de7a-3145-4d8f-b23c-086871fbfbbf",
   "metadata": {},
   "source": [
    "### Define configuration\n",
    "#### COBRA Configuration"
   ]
  },
  {
   "cell_type": "code",
   "execution_count": 26,
   "id": "2086741a-e868-442c-b560-fcd34484e8a8",
   "metadata": {},
   "outputs": [
    {
     "data": {
      "text/html": [
       "\n",
       "<table>\n",
       "  <thead>\n",
       "    <tr>\n",
       "      <td><strong>Attribute</strong></td>\n",
       "      <td><strong>Description</strong></td>\n",
       "      <td><strong>Value</strong></td>\n",
       "    </tr>\n",
       "  </thead>\n",
       "  <tbody>\n",
       "    <tr>\n",
       "      <td><pre>solver</pre></td>\n",
       "      <td>Mathematical optimization solver</td>\n",
       "      <td>gurobi</td>\n",
       "    </tr>\n",
       "    <tr>\n",
       "        <td><pre>tolerance</pre></td>\n",
       "        <td>General solver tolerance (feasibility, integrality, etc.)</td>\n",
       "        <td>1e-07</td>\n",
       "    </tr>\n",
       "    <tr>\n",
       "        <td><pre>lower_bound</pre></td>\n",
       "        <td>Default reaction lower bound</td>\n",
       "        <td>-1000.0</td>\n",
       "    </tr>\n",
       "    <tr>\n",
       "        <td><pre>upper_bound</pre></td>\n",
       "        <td>Default reaction upper bound</td>\n",
       "        <td>1000.0</td>\n",
       "    </tr>\n",
       "    <tr>\n",
       "        <td><pre>processes</pre></td>\n",
       "        <td>Number of parallel processes</td>\n",
       "        <td>15</td>\n",
       "    </tr>\n",
       "    <tr>\n",
       "        <td><pre>cache_directory</pre></td>\n",
       "        <td>Path for the model cache</td>\n",
       "        <td>/Users/zhaiman/Library/Caches/cobrapy</td>\n",
       "    </tr>\n",
       "    <tr>\n",
       "        <td><pre>max_cache_size</pre></td>\n",
       "        <td>Maximum cache size in bytes</td>\n",
       "        <td>104857600</td>\n",
       "    </tr>\n",
       "    <tr>\n",
       "        <td><pre>cache_expiration</pre></td>\n",
       "        <td>Model cache expiration time in seconds (if any)</td>\n",
       "        <td>None</td>\n",
       "    </tr>\n",
       "  </tbody>\n",
       "</table>\n"
      ],
      "text/plain": [
       "\n",
       "solver: gurobi\n",
       "tolerance: 1e-07\n",
       "lower_bound: -1000.0\n",
       "upper_bound: 1000.0\n",
       "processes: 15\n",
       "cache_directory: /Users/zhaiman/Library/Caches/cobrapy\n",
       "max_cache_size: 104857600\n",
       "cache_expiration: None"
      ]
     },
     "execution_count": 26,
     "metadata": {},
     "output_type": "execute_result"
    }
   ],
   "source": [
    "COBRA_CONFIGURATION"
   ]
  },
  {
   "cell_type": "markdown",
   "id": "c216415e-cab3-41ba-8c73-e8e876412f6d",
   "metadata": {},
   "source": [
    "## Load RBC-GEM model\n",
    "### Version: 0.2.0"
   ]
  },
  {
   "cell_type": "code",
   "execution_count": 27,
   "id": "9b7eea71-81c1-447d-b623-3defa42be232",
   "metadata": {},
   "outputs": [
    {
     "data": {
      "text/html": [
       "\n",
       "        <table>\n",
       "            <tr>\n",
       "                <td><strong>Name</strong></td>\n",
       "                <td>iAB_RBC_283</td>\n",
       "            </tr><tr>\n",
       "                <td><strong>Memory address</strong></td>\n",
       "                <td>14ea90680</td>\n",
       "            </tr><tr>\n",
       "                <td><strong>Number of metabolites</strong></td>\n",
       "                <td>342</td>\n",
       "            </tr><tr>\n",
       "                <td><strong>Number of reactions</strong></td>\n",
       "                <td>469</td>\n",
       "            </tr><tr>\n",
       "                <td><strong>Number of genes</strong></td>\n",
       "                <td>349</td>\n",
       "            </tr><tr>\n",
       "                <td><strong>Number of groups</strong></td>\n",
       "                <td>33</td>\n",
       "            </tr><tr>\n",
       "                <td><strong>Objective expression</strong></td>\n",
       "                <td>1.0*NaKt - 1.0*NaKt_reverse_db47e</td>\n",
       "            </tr><tr>\n",
       "                <td><strong>Compartments</strong></td>\n",
       "                <td>cytosol, extracellular space</td>\n",
       "            </tr>\n",
       "          </table>"
      ],
      "text/plain": [
       "<Model iAB_RBC_283 at 0x14ea90680>"
      ]
     },
     "execution_count": 27,
     "metadata": {},
     "output_type": "execute_result"
    }
   ],
   "source": [
    "model = read_rbc_model(filetype=\"xml\")\n",
    "model"
   ]
  },
  {
   "cell_type": "markdown",
   "id": "9fa161a9-ee05-4a86-b070-379108682b49",
   "metadata": {},
   "source": [
    "### Reactions\n",
    "#### Remove \"duplicated\" reactions"
   ]
  },
  {
   "cell_type": "code",
   "execution_count": 28,
   "id": "480cb4fa-5b4c-469d-a6b5-596c1a8dff21",
   "metadata": {},
   "outputs": [
    {
     "name": "stderr",
     "output_type": "stream",
     "text": [
      "/Users/zhaiman/opt/miniconda3/envs/memote-rbc-gem/lib/python3.12/site-packages/cobra/core/group.py:147: UserWarning: need to pass in a list\n",
      "  warn(\"need to pass in a list\")\n"
     ]
    },
    {
     "data": {
      "text/html": [
       "\n",
       "        <table>\n",
       "            <tr>\n",
       "                <td><strong>Name</strong></td>\n",
       "                <td>iAB_RBC_283</td>\n",
       "            </tr><tr>\n",
       "                <td><strong>Memory address</strong></td>\n",
       "                <td>14ea90680</td>\n",
       "            </tr><tr>\n",
       "                <td><strong>Number of metabolites</strong></td>\n",
       "                <td>342</td>\n",
       "            </tr><tr>\n",
       "                <td><strong>Number of reactions</strong></td>\n",
       "                <td>466</td>\n",
       "            </tr><tr>\n",
       "                <td><strong>Number of genes</strong></td>\n",
       "                <td>349</td>\n",
       "            </tr><tr>\n",
       "                <td><strong>Number of groups</strong></td>\n",
       "                <td>33</td>\n",
       "            </tr><tr>\n",
       "                <td><strong>Objective expression</strong></td>\n",
       "                <td>1.0*NaKt - 1.0*NaKt_reverse_db47e</td>\n",
       "            </tr><tr>\n",
       "                <td><strong>Compartments</strong></td>\n",
       "                <td>cytosol, extracellular space</td>\n",
       "            </tr>\n",
       "          </table>"
      ],
      "text/plain": [
       "<Model iAB_RBC_283 at 0x14ea90680>"
      ]
     },
     "execution_count": 28,
     "metadata": {},
     "output_type": "execute_result"
    }
   ],
   "source": [
    "# Make reactions reversible (PMID:1618773)\n",
    "model.reactions.CRNAT_16_0.lower_bound = -1000\n",
    "model.reactions.CRNAT_18_9Z.lower_bound = -1000\n",
    "model.reactions.CRNAT_18_9Z12Z.lower_bound = -1000\n",
    "\n",
    "model.remove_reactions(\n",
    "    [\n",
    "        model.reactions.CRNAT_16_0rbc,\n",
    "        model.reactions.CRNAT_18_9Zrbc,\n",
    "        model.reactions.CRNAT_18_9Z12Zrbc,\n",
    "    ]\n",
    ")\n",
    "model"
   ]
  },
  {
   "cell_type": "markdown",
   "id": "2a5ba22a-d68e-4d75-a58e-fb80f1ace912",
   "metadata": {},
   "source": [
    "#### Remove pseudoreactions, leaving exchanges"
   ]
  },
  {
   "cell_type": "code",
   "execution_count": 29,
   "id": "0925c8ef-d9e9-4133-a81b-1e8f5632e4c8",
   "metadata": {},
   "outputs": [
    {
     "name": "stderr",
     "output_type": "stream",
     "text": [
      "/Users/zhaiman/opt/miniconda3/envs/memote-rbc-gem/lib/python3.12/site-packages/cobra/core/group.py:147: UserWarning: need to pass in a list\n",
      "  warn(\"need to pass in a list\")\n"
     ]
    },
    {
     "data": {
      "text/html": [
       "\n",
       "        <table>\n",
       "            <tr>\n",
       "                <td><strong>Name</strong></td>\n",
       "                <td>iAB_RBC_283</td>\n",
       "            </tr><tr>\n",
       "                <td><strong>Memory address</strong></td>\n",
       "                <td>14ea90680</td>\n",
       "            </tr><tr>\n",
       "                <td><strong>Number of metabolites</strong></td>\n",
       "                <td>342</td>\n",
       "            </tr><tr>\n",
       "                <td><strong>Number of reactions</strong></td>\n",
       "                <td>442</td>\n",
       "            </tr><tr>\n",
       "                <td><strong>Number of genes</strong></td>\n",
       "                <td>349</td>\n",
       "            </tr><tr>\n",
       "                <td><strong>Number of groups</strong></td>\n",
       "                <td>33</td>\n",
       "            </tr><tr>\n",
       "                <td><strong>Objective expression</strong></td>\n",
       "                <td>1.0*NaKt - 1.0*NaKt_reverse_db47e</td>\n",
       "            </tr><tr>\n",
       "                <td><strong>Compartments</strong></td>\n",
       "                <td>cytosol, extracellular space</td>\n",
       "            </tr>\n",
       "          </table>"
      ],
      "text/plain": [
       "<Model iAB_RBC_283 at 0x14ea90680>"
      ]
     },
     "execution_count": 29,
     "metadata": {},
     "output_type": "execute_result"
    }
   ],
   "source": [
    "model.remove_reactions(model.demands + model.sinks)\n",
    "model.remove_reactions([\"NADHload\"])\n",
    "model"
   ]
  },
  {
   "cell_type": "markdown",
   "id": "e25ca2ff-e0be-4b34-bfde-ae887bb56a3f",
   "metadata": {},
   "source": [
    "#### Pool lipid reactions"
   ]
  },
  {
   "cell_type": "code",
   "execution_count": 30,
   "id": "23f0aaf1-3d0f-47d6-85b4-d08f6ffd9a56",
   "metadata": {},
   "outputs": [
    {
     "name": "stdout",
     "output_type": "stream",
     "text": [
      "unknown metabolite 'cdpdag_hs_c' created\n",
      "unknown metabolite 'pail_hs_c' created\n",
      "unknown metabolite 'pa_hs_c' created\n",
      "unknown metabolite 'dag_hs_c' created\n",
      "unknown metabolite 'pc_hs_c' created\n",
      "unknown metabolite 'pe_hs_c' created\n",
      "unknown metabolite 'FAcoa_hs_c' created\n",
      "unknown metabolite 'lpa_hs_c' created\n",
      "unknown metabolite 'lpc_hs_c' created\n",
      "unknown metabolite 'FA_hs_c' created\n",
      "unknown metabolite 'pail45p_hs_c' created\n",
      "unknown metabolite 'pail4p_hs_c' created\n"
     ]
    }
   ],
   "source": [
    "pooled_reactons = {\n",
    "    \"CDIPT\": \"cdpdag_hs_c + inost_c <=> cmp_c + h_c + pail_hs_c\",\n",
    "    \"CDS\": \"ctp_c + h_c + pa_hs_c --> cdpdag_hs_c + ppi_c\",\n",
    "    \"CEPTC\": \"cdpchol_c + dag_hs_c --> cmp_c + h_c + pc_hs_c\",\n",
    "    \"CEPTE\": \"cdpea_c + dag_hs_c --> cmp_c + h_c + pe_hs_c\",\n",
    "    \"DAGK\": \"atp_c + dag_hs_c --> adp_c + h_c + pa_hs_c\",\n",
    "    \"GPAT\": \"FAcoa_hs_c + glyc3p_c --> coa_c + lpa_hs_c\",\n",
    "    \"LPAAT\": \"FAcoa_hs_c + lpa_hs_c --> coa_c + pa_hs_c\",\n",
    "    \"LPCLPLB\": \"h2o_c + lpc_hs_c --> FA_hs_c + g3pc_c + h_c\",\n",
    "    \"PCPLA2\": \"h2o_c + pc_hs_c --> FA_hs_c + h_c + lpc_hs_c\",\n",
    "    \"PI45P5P\": \"h2o_c + pail45p_hs_c --> pail4p_hs_c + pi_c\",\n",
    "    \"PI45PLC\": \"h2o_c + pail45p_hs_c --> dag_hs_c + h_c + mi145p_c\",\n",
    "    \"PI4PLC\": \"h2o_c + pail4p_hs_c --> dag_hs_c + h_c + mi14p_c\",\n",
    "    \"PIPLC\": \"h2o_c + pail_hs_c --> dag_hs_c + h_c + mi1p__D_c\",\n",
    "    \"PI4K\": \"atp_c + pail_hs_c --> adp_c + h_c + pail4p_hs_c\",\n",
    "    \"PI4P5K\": \"atp_c + pail4p_hs_c --> adp_c + h_c + pail45p_hs_c\",\n",
    "    \"PI4PP\": \"h2o_c + pail4p_hs_c --> pail_hs_c + pi_c\",\n",
    "    \"PAPP\": \"h2o_c + pa_hs_c --> dag_hs_c + pi_c\",\n",
    "}\n",
    "new_mets = set()\n",
    "for rid, reaction in pooled_reactons.items():\n",
    "    reactions = model.reactions.query(lambda x: x.id.startswith(rid))\n",
    "    subsystem = reactions[0].subsystem\n",
    "    gpr = reactions[0].gene_reaction_rule\n",
    "    bounds = reactions[0].bounds\n",
    "\n",
    "    model.add_reactions([Reaction(rid)])\n",
    "    new = model.reactions.get_by_id(rid)\n",
    "    new.build_reaction_from_string(reaction)\n",
    "\n",
    "    new.subsystem = subsystem\n",
    "    new.gene_reaction_rule = gpr\n",
    "    new.bounds = bounds\n",
    "    for met in new.metabolites:\n",
    "        if met.formula is None:\n",
    "            new_mets.add(met)\n",
    "        met.compartment = met.id[-1:]\n",
    "    model.remove_reactions(reactions, remove_orphans=True)\n",
    "\n",
    "\n",
    "# Any additional annotations can be obtained after linking to MetAtlas"
   ]
  },
  {
   "cell_type": "markdown",
   "id": "14c7143f-1bb2-4a07-bd59-c043bed6e641",
   "metadata": {},
   "source": [
    "### Genes\n",
    "#### Remove isoforms from GPRs"
   ]
  },
  {
   "cell_type": "code",
   "execution_count": 31,
   "id": "1d1c67d9-7d2f-4142-8dda-10c0c49c1db9",
   "metadata": {},
   "outputs": [
    {
     "data": {
      "text/html": [
       "<div>\n",
       "<style scoped>\n",
       "    .dataframe tbody tr th:only-of-type {\n",
       "        vertical-align: middle;\n",
       "    }\n",
       "\n",
       "    .dataframe tbody tr th {\n",
       "        vertical-align: top;\n",
       "    }\n",
       "\n",
       "    .dataframe thead th {\n",
       "        text-align: right;\n",
       "    }\n",
       "</style>\n",
       "<table border=\"1\" class=\"dataframe\">\n",
       "  <thead>\n",
       "    <tr style=\"text-align: right;\">\n",
       "      <th></th>\n",
       "      <th>id</th>\n",
       "      <th>uniprot</th>\n",
       "      <th>hgnc.symbol</th>\n",
       "    </tr>\n",
       "  </thead>\n",
       "  <tbody>\n",
       "    <tr>\n",
       "      <th>27</th>\n",
       "      <td>10327_AT2</td>\n",
       "      <td>P14550</td>\n",
       "      <td>AKR1A1</td>\n",
       "    </tr>\n",
       "    <tr>\n",
       "      <th>274</th>\n",
       "      <td>10423_AT2</td>\n",
       "      <td>O14735</td>\n",
       "      <td>CDIPT</td>\n",
       "    </tr>\n",
       "    <tr>\n",
       "      <th>281</th>\n",
       "      <td>1119_AT2</td>\n",
       "      <td>P35790</td>\n",
       "      <td>CHKA</td>\n",
       "    </tr>\n",
       "    <tr>\n",
       "      <th>283</th>\n",
       "      <td>1120_AT2</td>\n",
       "      <td>Q9Y259</td>\n",
       "      <td>CHKB</td>\n",
       "    </tr>\n",
       "    <tr>\n",
       "      <th>228</th>\n",
       "      <td>112_AT2</td>\n",
       "      <td>O43306</td>\n",
       "      <td>ADCY6</td>\n",
       "    </tr>\n",
       "    <tr>\n",
       "      <th>...</th>\n",
       "      <td>...</td>\n",
       "      <td>...</td>\n",
       "      <td>...</td>\n",
       "    </tr>\n",
       "    <tr>\n",
       "      <th>297</th>\n",
       "      <td>8525_AT2</td>\n",
       "      <td>Q13574</td>\n",
       "      <td>DGKZ</td>\n",
       "    </tr>\n",
       "    <tr>\n",
       "      <th>291</th>\n",
       "      <td>8525_AT3</td>\n",
       "      <td>Q13574</td>\n",
       "      <td>DGKZ</td>\n",
       "    </tr>\n",
       "    <tr>\n",
       "      <th>301</th>\n",
       "      <td>8527_AT2</td>\n",
       "      <td>Q16760</td>\n",
       "      <td>DGKD</td>\n",
       "    </tr>\n",
       "    <tr>\n",
       "      <th>185</th>\n",
       "      <td>8611_AT2</td>\n",
       "      <td>O14494</td>\n",
       "      <td>PLPP1</td>\n",
       "    </tr>\n",
       "    <tr>\n",
       "      <th>105</th>\n",
       "      <td>8867_AT2</td>\n",
       "      <td>O43426</td>\n",
       "      <td>SYNJ1</td>\n",
       "    </tr>\n",
       "  </tbody>\n",
       "</table>\n",
       "<p>66 rows × 3 columns</p>\n",
       "</div>"
      ],
      "text/plain": [
       "            id uniprot hgnc.symbol\n",
       "27   10327_AT2  P14550      AKR1A1\n",
       "274  10423_AT2  O14735       CDIPT\n",
       "281   1119_AT2  P35790        CHKA\n",
       "283   1120_AT2  Q9Y259        CHKB\n",
       "228    112_AT2  O43306       ADCY6\n",
       "..         ...     ...         ...\n",
       "297   8525_AT2  Q13574        DGKZ\n",
       "291   8525_AT3  Q13574        DGKZ\n",
       "301   8527_AT2  Q16760        DGKD\n",
       "185   8611_AT2  O14494       PLPP1\n",
       "105   8867_AT2  O43426       SYNJ1\n",
       "\n",
       "[66 rows x 3 columns]"
      ]
     },
     "execution_count": 31,
     "metadata": {},
     "output_type": "execute_result"
    }
   ],
   "source": [
    "df_isoforms_to_remove = get_annotation_df(\n",
    "    getattr(model, \"genes\"), [\"uniprot\", \"hgnc.symbol\"]\n",
    ")\n",
    "df_isoforms_to_remove = df_isoforms_to_remove.sort_values(by=\"id\")\n",
    "df_isoforms_to_remove = df_isoforms_to_remove[\n",
    "    df_isoforms_to_remove.loc[:, [\"uniprot\", \"hgnc.symbol\"]].duplicated(keep=\"first\")\n",
    "]\n",
    "remove_genes(\n",
    "    model, gene_list=list(df_isoforms_to_remove[\"id\"].values), remove_reactions=False\n",
    ")\n",
    "df_isoforms_to_remove"
   ]
  },
  {
   "cell_type": "markdown",
   "id": "77852c20-8537-413a-ab66-3c15827acd44",
   "metadata": {},
   "source": [
    "#### Rename genes to HGNC"
   ]
  },
  {
   "cell_type": "code",
   "execution_count": 32,
   "id": "2a52b354-f0d6-4f1c-862e-9d409aafa729",
   "metadata": {},
   "outputs": [],
   "source": [
    "gene_mapping = (\n",
    "    get_annotation_df(getattr(model, \"genes\"), [\"hgnc.symbol\"])\n",
    "    .set_index(\"id\")[\"hgnc.symbol\"]\n",
    "    .to_dict()\n",
    ")\n",
    "rename_genes(model, gene_mapping)\n",
    "for gene in model.genes:\n",
    "    gene.name = \"\""
   ]
  },
  {
   "cell_type": "code",
   "execution_count": 33,
   "id": "11b30ea9-7775-44c8-81dc-a325ff857c4d",
   "metadata": {},
   "outputs": [],
   "source": [
    "import pandas as pd"
   ]
  },
  {
   "cell_type": "code",
   "execution_count": 34,
   "id": "f00320fd-992f-45cc-bf76-c88217c00065",
   "metadata": {},
   "outputs": [
    {
     "data": {
      "text/html": [
       "<div>\n",
       "<style scoped>\n",
       "    .dataframe tbody tr th:only-of-type {\n",
       "        vertical-align: middle;\n",
       "    }\n",
       "\n",
       "    .dataframe tbody tr th {\n",
       "        vertical-align: top;\n",
       "    }\n",
       "\n",
       "    .dataframe thead th {\n",
       "        text-align: right;\n",
       "    }\n",
       "</style>\n",
       "<table border=\"1\" class=\"dataframe\">\n",
       "  <thead>\n",
       "    <tr style=\"text-align: right;\">\n",
       "      <th></th>\n",
       "      <th>genes</th>\n",
       "      <th>geneRetired</th>\n",
       "    </tr>\n",
       "  </thead>\n",
       "  <tbody>\n",
       "    <tr>\n",
       "      <th>0</th>\n",
       "      <td>NMRK1</td>\n",
       "      <td>54981_AT1</td>\n",
       "    </tr>\n",
       "    <tr>\n",
       "      <th>1</th>\n",
       "      <td>RPE</td>\n",
       "      <td>6120_AT1</td>\n",
       "    </tr>\n",
       "    <tr>\n",
       "      <th>2</th>\n",
       "      <td>RPIA</td>\n",
       "      <td>22934_AT1</td>\n",
       "    </tr>\n",
       "    <tr>\n",
       "      <th>3</th>\n",
       "      <td>COMTD1</td>\n",
       "      <td>118881_AT1</td>\n",
       "    </tr>\n",
       "    <tr>\n",
       "      <th>4</th>\n",
       "      <td>SORD</td>\n",
       "      <td>6652_AT1</td>\n",
       "    </tr>\n",
       "    <tr>\n",
       "      <th>...</th>\n",
       "      <td>...</td>\n",
       "      <td>...</td>\n",
       "    </tr>\n",
       "    <tr>\n",
       "      <th>278</th>\n",
       "      <td>ATP1B1</td>\n",
       "      <td>481_AT1</td>\n",
       "    </tr>\n",
       "    <tr>\n",
       "      <th>279</th>\n",
       "      <td>ATP1B3</td>\n",
       "      <td>483_AT1</td>\n",
       "    </tr>\n",
       "    <tr>\n",
       "      <th>280</th>\n",
       "      <td>ATP1B2</td>\n",
       "      <td>482_AT1</td>\n",
       "    </tr>\n",
       "    <tr>\n",
       "      <th>281</th>\n",
       "      <td>ATP1B4</td>\n",
       "      <td>23439_AT1</td>\n",
       "    </tr>\n",
       "    <tr>\n",
       "      <th>282</th>\n",
       "      <td>ATP1A1</td>\n",
       "      <td>476_AT1</td>\n",
       "    </tr>\n",
       "  </tbody>\n",
       "</table>\n",
       "<p>283 rows × 2 columns</p>\n",
       "</div>"
      ],
      "text/plain": [
       "      genes geneRetired\n",
       "0     NMRK1   54981_AT1\n",
       "1       RPE    6120_AT1\n",
       "2      RPIA   22934_AT1\n",
       "3    COMTD1  118881_AT1\n",
       "4      SORD    6652_AT1\n",
       "..      ...         ...\n",
       "278  ATP1B1     481_AT1\n",
       "279  ATP1B3     483_AT1\n",
       "280  ATP1B2     482_AT1\n",
       "281  ATP1B4   23439_AT1\n",
       "282  ATP1A1     476_AT1\n",
       "\n",
       "[283 rows x 2 columns]"
      ]
     },
     "execution_count": 34,
     "metadata": {},
     "output_type": "execute_result"
    }
   ],
   "source": [
    "id_mapping_df = pd.DataFrame.from_dict(gene_mapping, orient=\"index\")\n",
    "id_mapping_df = id_mapping_df.reset_index(drop=False)\n",
    "id_mapping_df.columns = [\"geneRetired\", \"genes\"]\n",
    "id_mapping_df = id_mapping_df.loc[:, id_mapping_df.columns[::-1]]\n",
    "id_mapping_df[\"genes\"] = id_mapping_df[\"genes\"].str.split(\" and \")\n",
    "id_mapping_df = id_mapping_df.explode(\"genes\")\n",
    "\n",
    "\n",
    "previous_id_mapping_df = pd.read_csv(\n",
    "    f\"{ROOT_PATH}/data/deprecatedIdentifiers/genes_deprecatedIdentifiers.tsv\",\n",
    "    sep=\"\\t\",\n",
    "    index_col=0,\n",
    ")\n",
    "\n",
    "for idx, row in id_mapping_df.iterrows():\n",
    "    new_id, retiring = row[[\"genes\", \"geneRetired\"]]\n",
    "    previously_retired = previous_id_mapping_df[\n",
    "        previous_id_mapping_df[\"genes\"] == retiring\n",
    "    ]\n",
    "    retired_set_of_ids = {retiring}\n",
    "    if not previously_retired.empty:\n",
    "        # Get all previously retired IDs\n",
    "        try:\n",
    "            retired_set_of_ids.update(\n",
    "                previously_retired[\"geneRetired\"].apply(split_string).item()\n",
    "            )\n",
    "        except ValueError:\n",
    "            retired_set_of_ids.update(\n",
    "                [\n",
    "                    y\n",
    "                    for x in previously_retired[\"geneRetired\"].values\n",
    "                    for y in split_string(x)\n",
    "                ]\n",
    "            )\n",
    "        # Pulling the ID out of retirement\n",
    "        if new_id in retired_set_of_ids:\n",
    "            retired_set_of_ids.remove(new_id)\n",
    "        retired_set_of_ids.add(retiring)\n",
    "\n",
    "    id_mapping_df.loc[idx, \"geneRetired\"] = build_string(retired_set_of_ids, sep=\";\")\n",
    "\n",
    "id_mapping_df.to_csv(\n",
    "    f\"{ROOT_PATH}/data/deprecatedIdentifiers/genes_deprecatedIdentifiers.tsv\",\n",
    "    sep=\"\\t\",\n",
    ")\n",
    "id_mapping_df"
   ]
  },
  {
   "cell_type": "markdown",
   "id": "8cefbfcc-7120-4878-9415-610ea6ca9365",
   "metadata": {},
   "source": [
    "### Metabolites\n",
    "#### Update existing chemical formulas and charges"
   ]
  },
  {
   "cell_type": "code",
   "execution_count": 35,
   "id": "af130bd7-240b-4819-a086-fbe92a2f5afa",
   "metadata": {},
   "outputs": [
    {
     "name": "stdout",
     "output_type": "stream",
     "text": [
      "ascb__L_c\n",
      "ascb__L_e\n",
      "dhdascb__L_c\n",
      "dhdascb__L_e\n",
      "bilglcur_c\n",
      "bilglcur_e\n",
      "pe_hs_c\n",
      "pc_hs_c\n",
      "lpc_hs_c\n",
      "cdpdag_hs_c\n",
      "FA_hs_c\n",
      "dag_hs_c\n",
      "lpa_hs_c\n",
      "pa_hs_c\n",
      "pail_hs_c\n",
      "pail4p_hs_c\n",
      "pail45p_hs_c\n",
      "FAcoa_hs_c\n"
     ]
    }
   ],
   "source": [
    "updated_formula_charges = {\n",
    "    # To update\n",
    "    \"ascb__L\": (\"C6H7O6\", -1),\n",
    "    \"dhdascb__L\": (\"C6H5O6\", -1),\n",
    "    \"bilglcur\": (\"C39H42N4O12\", -2),\n",
    "    \"pe_hs\": (\"C7H12NO8PR2\", 0),\n",
    "    \"pc_hs\": (\"C10H18NO8PR2\", 0),\n",
    "    \"lpc_hs\": (\"C9H19NO7PR\", 0),\n",
    "    \"cdpdag_hs\": (\"C14H17N3O15P2R2\", -2),\n",
    "    \"FA_hs\": (\"CO2R\", -1),\n",
    "    \"dag_hs\": (\"C5H6O5R2\", 0),\n",
    "    \"lpa_hs\": (\"C4H6O7PR\", -2),\n",
    "    \"pa_hs\": (\"C5H5O8PR2\", -2),\n",
    "    \"pail_hs\": (\"C11H16O13PR2\", -1),\n",
    "    \"pail4p_hs\": (\"C11H15O16P2R2\", -3),\n",
    "    \"pail45p_hs\": (\"C11H14O19P3R2\", -5),\n",
    "    \"FAcoa_hs\": (\"C22H31N7O17P3RS\", -4),\n",
    "}\n",
    "\n",
    "for met_id, (new_formula, new_charge) in updated_formula_charges.items():\n",
    "    for metabolite in model.metabolites.query(\n",
    "        lambda x: x.id.replace(f\"_{x.compartment}\", \"\") == met_id\n",
    "    ):\n",
    "        print(metabolite)\n",
    "        metabolite.formula = new_formula\n",
    "        metabolite.charge = new_charge\n",
    "\n",
    "# Additional annotations can be obtained after linking to MetAtlas\n",
    "annotations = {\n",
    "    \"FA_hs_c\": \"MAM10005c\",\n",
    "    \"pe_hs_c\": \"MAM02685c\",\n",
    "    \"lpc_hs_c\": \"MAM00656c\",\n",
    "    \"pc_hs_c\": \"MAM02684c\",\n",
    "    \"dag_hs_c\": \"MAM00240c\",\n",
    "    \"pail_hs_c\": \"MAM02750c\",\n",
    "    \"pail4p_hs_c\": \"MAM02685c\",\n",
    "    \"pail45p_hs_c\": \"MAM02736c\",\n",
    "    \"lpa_hs_c\": \"MAM03419c\",\n",
    "    \"FAcoa_hs_c\": \"MAM10007c\",\n",
    "    \"pe_hs_c\": \"MAM02685c\",\n",
    "    \"cdpdag_hs_c\": \"MAM01427c\",\n",
    "}\n",
    "\n",
    "for met, metatlas in annotations.items():\n",
    "    met = model.metabolites.get_by_id(met)\n",
    "    met.annotation[\"metatlas\"] = metatlas"
   ]
  },
  {
   "cell_type": "markdown",
   "id": "c71729ba-5097-4ec6-b520-cae43368714e",
   "metadata": {},
   "source": [
    "#### Standardize metabolite formulas"
   ]
  },
  {
   "cell_type": "code",
   "execution_count": 36,
   "id": "ab82102d-8a4f-42c9-9e4a-e7438d90b88c",
   "metadata": {},
   "outputs": [],
   "source": [
    "metabolite_formulas = dict(\n",
    "    zip(model.metabolites.list_attr(\"id\"), model.metabolites.list_attr(\"formula\"))\n",
    ")\n",
    "standardized = standardardize_metabolite_formulas(metabolite_formulas)\n",
    "\n",
    "for mid, updated_formula in standardized.items():\n",
    "    if metabolite_formulas[mid] != updated_formula:\n",
    "        print(f\"Standardizing formula for `{mid}`\")\n",
    "        model_metabolite = model.metabolites.get_by_id(mid)\n",
    "        model_metabolite.formula = updated_formula"
   ]
  },
  {
   "cell_type": "markdown",
   "id": "514b8103-84ee-4a77-8770-632bbe0df2ab",
   "metadata": {},
   "source": [
    "#### Correct stoichiometry of reactions"
   ]
  },
  {
   "cell_type": "code",
   "execution_count": 37,
   "id": "7e1b91f9-d80b-4c43-8aeb-cd67d0e15204",
   "metadata": {},
   "outputs": [],
   "source": [
    "reaction = model.reactions.get_by_id(\"BILIRBU\")\n",
    "reaction.add_metabolites({\"h_c\": 2})"
   ]
  },
  {
   "cell_type": "code",
   "execution_count": 38,
   "id": "729c3bf5-0b69-429d-8829-3c336450c4ab",
   "metadata": {},
   "outputs": [],
   "source": [
    "for reaction in model.reactions:\n",
    "    if reaction.boundary:\n",
    "        continue\n",
    "    if reaction.check_mass_balance():\n",
    "        print(reaction.id, reaction.check_mass_balance())"
   ]
  },
  {
   "cell_type": "markdown",
   "id": "e246afce-fa98-4636-9d3c-d4d18b62f86d",
   "metadata": {},
   "source": [
    "### Add/reset SBO annotations"
   ]
  },
  {
   "cell_type": "code",
   "execution_count": 39,
   "id": "3e76b69a-dd14-4b7f-b73b-6d6f2c04e5b8",
   "metadata": {},
   "outputs": [
    {
     "name": "stdout",
     "output_type": "stream",
     "text": [
      "SBO term set for CDIPT\n",
      "SBO term set for CDS\n",
      "SBO term set for CEPTC\n",
      "SBO term set for CEPTE\n",
      "SBO term set for DAGK\n",
      "SBO term set for GPAT\n",
      "SBO term set for LPAAT\n",
      "SBO term set for LPCLPLB\n",
      "SBO term set for PCPLA2\n",
      "SBO term set for PI45P5P\n",
      "SBO term set for PI45PLC\n",
      "SBO term set for PI4PLC\n",
      "SBO term set for PIPLC\n",
      "SBO term set for PI4K\n",
      "SBO term set for PI4P5K\n",
      "SBO term set for PI4PP\n",
      "SBO term set for PAPP\n",
      "SBO term set for cdpdag_hs_c\n",
      "SBO term set for pail_hs_c\n",
      "SBO term set for pa_hs_c\n",
      "SBO term set for dag_hs_c\n",
      "SBO term set for pc_hs_c\n",
      "SBO term set for pe_hs_c\n",
      "SBO term set for FAcoa_hs_c\n",
      "SBO term set for lpa_hs_c\n",
      "SBO term set for lpc_hs_c\n",
      "SBO term set for FA_hs_c\n",
      "SBO term set for pail45p_hs_c\n",
      "SBO term set for pail4p_hs_c\n"
     ]
    },
    {
     "data": {
      "text/html": [
       "\n",
       "        <table>\n",
       "            <tr>\n",
       "                <td><strong>Name</strong></td>\n",
       "                <td>iAB_RBC_283</td>\n",
       "            </tr><tr>\n",
       "                <td><strong>Memory address</strong></td>\n",
       "                <td>14ea90680</td>\n",
       "            </tr><tr>\n",
       "                <td><strong>Number of metabolites</strong></td>\n",
       "                <td>292</td>\n",
       "            </tr><tr>\n",
       "                <td><strong>Number of reactions</strong></td>\n",
       "                <td>348</td>\n",
       "            </tr><tr>\n",
       "                <td><strong>Number of genes</strong></td>\n",
       "                <td>283</td>\n",
       "            </tr><tr>\n",
       "                <td><strong>Number of groups</strong></td>\n",
       "                <td>33</td>\n",
       "            </tr><tr>\n",
       "                <td><strong>Objective expression</strong></td>\n",
       "                <td>1.0*NaKt - 1.0*NaKt_reverse_db47e</td>\n",
       "            </tr><tr>\n",
       "                <td><strong>Compartments</strong></td>\n",
       "                <td>cytosol, extracellular space</td>\n",
       "            </tr>\n",
       "          </table>"
      ],
      "text/plain": [
       "<Model iAB_RBC_283 at 0x14ea90680>"
      ]
     },
     "execution_count": 39,
     "metadata": {},
     "output_type": "execute_result"
    }
   ],
   "source": [
    "model = set_sbo_default_annotations(\n",
    "    model, [\"reactions\", \"metabolites\", \"genes\"], verbose=True\n",
    ")\n",
    "model"
   ]
  },
  {
   "cell_type": "markdown",
   "id": "27d84eb8-031b-4b60-a1d9-6a3e940c718a",
   "metadata": {},
   "source": [
    "## Export updated model\n",
    "### Version: 0.3.0"
   ]
  },
  {
   "cell_type": "code",
   "execution_count": 40,
   "id": "cbf62b1f-3600-4408-8a62-86895b3d92bd",
   "metadata": {},
   "outputs": [
    {
     "data": {
      "text/html": [
       "\n",
       "        <table>\n",
       "            <tr>\n",
       "                <td><strong>Name</strong></td>\n",
       "                <td>RBC_GEM</td>\n",
       "            </tr><tr>\n",
       "                <td><strong>Memory address</strong></td>\n",
       "                <td>14ea90680</td>\n",
       "            </tr><tr>\n",
       "                <td><strong>Number of metabolites</strong></td>\n",
       "                <td>292</td>\n",
       "            </tr><tr>\n",
       "                <td><strong>Number of reactions</strong></td>\n",
       "                <td>348</td>\n",
       "            </tr><tr>\n",
       "                <td><strong>Number of genes</strong></td>\n",
       "                <td>283</td>\n",
       "            </tr><tr>\n",
       "                <td><strong>Number of groups</strong></td>\n",
       "                <td>33</td>\n",
       "            </tr><tr>\n",
       "                <td><strong>Objective expression</strong></td>\n",
       "                <td>1.0*NaKt - 1.0*NaKt_reverse_db47e</td>\n",
       "            </tr><tr>\n",
       "                <td><strong>Compartments</strong></td>\n",
       "                <td>cytosol, extracellular space</td>\n",
       "            </tr>\n",
       "          </table>"
      ],
      "text/plain": [
       "<Model RBC_GEM at 0x14ea90680>"
      ]
     },
     "execution_count": 40,
     "metadata": {},
     "output_type": "execute_result"
    }
   ],
   "source": [
    "model.id = \"RBC_GEM\"\n",
    "write_rbc_model(model, filetype=\"all\")\n",
    "model"
   ]
  }
 ],
 "metadata": {
  "kernelspec": {
   "display_name": "Python 3 (ipykernel)",
   "language": "python",
   "name": "python3"
  },
  "language_info": {
   "codemirror_mode": {
    "name": "ipython",
    "version": 3
   },
   "file_extension": ".py",
   "mimetype": "text/x-python",
   "name": "python",
   "nbconvert_exporter": "python",
   "pygments_lexer": "ipython3",
   "version": "3.12.0"
  }
 },
 "nbformat": 4,
 "nbformat_minor": 5
}
