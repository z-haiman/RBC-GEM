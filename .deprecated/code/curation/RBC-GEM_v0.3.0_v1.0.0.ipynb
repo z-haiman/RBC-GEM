{
 "cells": [
  {
   "cell_type": "markdown",
   "id": "a1e69c41-9c8e-4c93-962b-a7981b422a94",
   "metadata": {},
   "source": [
    "# RBC-GEM 1.0.0 Updates\n",
    "## Setup\n",
    "### Import packages"
   ]
  },
  {
   "cell_type": "code",
   "execution_count": null,
   "id": "b3b792e3-d4e1-4305-8aaf-1bbd08260daa",
   "metadata": {},
   "outputs": [],
   "source": [
    "import pandas as pd\n",
    "from cobra.core import Gene, Group, Metabolite, Reaction\n",
    "from rbc_gem_utils import (\n",
    "    COBRA_CONFIGURATION,\n",
    "    CURATION_PATH,\n",
    "    ROOT_PATH,\n",
    "    read_rbc_model,\n",
    "    write_rbc_model,\n",
    ")\n",
    "from rbc_gem_utils.qc import standardardize_metabolite_formulas"
   ]
  },
  {
   "cell_type": "markdown",
   "id": "caf18f40-c50a-4b26-b48e-2e0db76eff68",
   "metadata": {},
   "source": [
    "### Define configuration\n",
    "#### COBRA Configuration"
   ]
  },
  {
   "cell_type": "code",
   "execution_count": null,
   "id": "778339d1-01af-4afa-a6bf-3a78c0fc2db9",
   "metadata": {},
   "outputs": [],
   "source": [
    "COBRA_CONFIGURATION"
   ]
  },
  {
   "cell_type": "markdown",
   "id": "c976553a-d69a-4981-a906-a9effaea0f12",
   "metadata": {},
   "source": [
    "## Load RBC-GEM model\n",
    "### Version: 0.3.0"
   ]
  },
  {
   "cell_type": "code",
   "execution_count": null,
   "id": "b0e4d876-7d91-483d-9f12-ca8021151cd2",
   "metadata": {},
   "outputs": [],
   "source": [
    "model = read_rbc_model(filetype=\"yml\")\n",
    "model"
   ]
  },
  {
   "cell_type": "markdown",
   "id": "bd6f76c4-304f-4c19-a322-59f7cc3885e9",
   "metadata": {},
   "source": [
    "### Update model based on curation and proteomic evidence\n",
    "* Add metabolites first, then genes and lastly, reactions\n",
    "* Add metabolites with mass and charge balanced formulas (ChemAxon)\n",
    "* After adding to model, connect to MetabolicAtlas where possible and run annotation scripts.\n",
    "* Evidence tables also contain current model objects, adjust stoichiometry if necessary for mass balancing"
   ]
  },
  {
   "cell_type": "code",
   "execution_count": null,
   "id": "6c927168-df6b-4dfe-8470-86b5352e49fb",
   "metadata": {},
   "outputs": [],
   "source": [
    "dataframes_updated = {}"
   ]
  },
  {
   "cell_type": "markdown",
   "id": "7f3a3d99-8ba3-4b1b-9df1-3a28d7e42491",
   "metadata": {},
   "source": [
    "#### Metabolites"
   ]
  },
  {
   "cell_type": "code",
   "execution_count": null,
   "id": "9a8fc008-7d03-43ad-8f02-067775df9e5d",
   "metadata": {},
   "outputs": [],
   "source": [
    "attribute_type = \"metabolites\"\n",
    "\n",
    "df_evidence = pd.read_csv(\n",
    "    ROOT_PATH / CURATION_PATH / f\"{attribute_type}_evidence.tsv\",\n",
    "    sep=\"\\t\",\n",
    "    index_col=0,\n",
    "    dtype=str,\n",
    ").fillna(\"\")\n",
    "for idx, row in df_evidence.iterrows():\n",
    "    mid, name, formula, charge, compartment = row[\n",
    "        [\"metabolites\", \"name\", \"formula\", \"charge\", \"compartment\"]\n",
    "    ]\n",
    "    if not model.metabolites.has_id(mid):\n",
    "        # Add reaction to model\n",
    "        model.add_metabolites([Metabolite(mid)])\n",
    "\n",
    "    metabolite = model.metabolites.get_by_id(mid)\n",
    "    metabolite.name = name\n",
    "    metabolite.formula = formula\n",
    "    metabolite.charge = int(charge)\n",
    "    metabolite.compartment = compartment\n",
    "\n",
    "met_formulas = standardardize_metabolite_formulas(\n",
    "    dict(zip(model.metabolites.list_attr(\"id\"), model.metabolites.list_attr(\"formula\")))\n",
    ")\n",
    "for mid, formula in met_formulas.items():\n",
    "    model.metabolites.get_by_id(mid).formula = formula\n",
    "\n",
    "dataframes_updated[attribute_type] = df_evidence\n",
    "dataframes_updated[attribute_type]"
   ]
  },
  {
   "cell_type": "markdown",
   "id": "57490574-bcd3-43b3-b91c-3601e0e180c8",
   "metadata": {},
   "source": [
    "#### Genes"
   ]
  },
  {
   "cell_type": "code",
   "execution_count": null,
   "id": "9f50928d-4096-4bb7-b43e-b5bb2e22ce2a",
   "metadata": {},
   "outputs": [],
   "source": [
    "attribute_type = \"genes\"\n",
    "\n",
    "df_evidence = pd.read_csv(\n",
    "    ROOT_PATH / CURATION_PATH / f\"{attribute_type}_evidence.tsv\",\n",
    "    sep=\"\\t\",\n",
    "    index_col=0,\n",
    "    dtype=str,\n",
    ").fillna(\"\")\n",
    "\n",
    "for idx, row in df_evidence.iterrows():\n",
    "    # Between these three annotation fields, should be likely that the rest can get extracted from UniProt.\n",
    "    gid = row[\"genes\"]\n",
    "    if not model.genes.has_id(gid):\n",
    "        gene = Gene(gid)\n",
    "        model.genes.extend([gene])\n",
    "    gene = model.genes.get_by_id(gid)\n",
    "    for key in [\"uniprot\", \"ncbigene\", \"hgnc.symbol\"]:\n",
    "        item = row[key]\n",
    "        if item:\n",
    "            gene.annotation[key] = item\n",
    "\n",
    "dataframes_updated[attribute_type] = df_evidence\n",
    "dataframes_updated[attribute_type]"
   ]
  },
  {
   "cell_type": "markdown",
   "id": "8b179ad6-3125-47c8-8fc9-d6f82952fb3c",
   "metadata": {},
   "source": [
    "#### Reactions"
   ]
  },
  {
   "cell_type": "code",
   "execution_count": null,
   "id": "12401ee3-4a2e-45c5-94c8-81af0003b3c2",
   "metadata": {},
   "outputs": [],
   "source": [
    "attribute_type = \"reactions\"\n",
    "\n",
    "df_evidence = pd.read_csv(\n",
    "    ROOT_PATH / CURATION_PATH / f\"{attribute_type}_evidence.tsv\",\n",
    "    sep=\"\\t\",\n",
    "    index_col=0,\n",
    "    dtype=str,\n",
    ").fillna(\"\")\n",
    "for idx, row in df_evidence.iterrows():\n",
    "    rid, name, reaction_str, gpr, subsystem = row[\n",
    "        [\"reactions\", \"name\", \"reaction\", \"gene reaction rule\", \"subsystem\"]\n",
    "    ]\n",
    "    if not model.reactions.has_id(rid):\n",
    "        # Add reaction to model\n",
    "        model.add_reactions([Reaction(rid)])\n",
    "\n",
    "    reaction = model.reactions.get_by_id(rid)\n",
    "    reaction.build_reaction_from_string(reaction_str)\n",
    "    reaction.name = name\n",
    "    reaction.gene_reaction_rule = gpr\n",
    "    reaction.subsystem = subsystem\n",
    "\n",
    "dataframes_updated[attribute_type] = df_evidence\n",
    "dataframes_updated[attribute_type]"
   ]
  },
  {
   "cell_type": "markdown",
   "id": "1185f5fb-9f60-4c8d-8c61-2480f0e7a90c",
   "metadata": {},
   "source": [
    "### Remove from model\n",
    "Remove reactions first, then genes, and lastly metabolites"
   ]
  },
  {
   "cell_type": "code",
   "execution_count": null,
   "id": "a407a3bd-ebd0-4c72-bd98-66cb0eb14eec",
   "metadata": {},
   "outputs": [],
   "source": [
    "dataframes_removed = {}"
   ]
  },
  {
   "cell_type": "markdown",
   "id": "56d67737-ef34-4a18-adff-5d9c4b584320",
   "metadata": {},
   "source": [
    "#### Reactions"
   ]
  },
  {
   "cell_type": "code",
   "execution_count": null,
   "id": "dcb9e282-0d2f-4dc2-b23a-e04dda2a4de8",
   "metadata": {},
   "outputs": [],
   "source": [
    "attribute_type = \"reactions\"\n",
    "try:\n",
    "    df_removed = pd.read_csv(\n",
    "        ROOT_PATH / CURATION_PATH / f\"{attribute_type}_removed.tsv\",\n",
    "        sep=\"\\t\",\n",
    "        index_col=0,\n",
    "        dtype=str,\n",
    "    )\n",
    "except FileNotFoundError:\n",
    "    df_removed = pd.DataFrame([], columns=[attribute_type], dtype=str)\n",
    "\n",
    "to_remove = []\n",
    "for reaction in df_removed[attribute_type]:\n",
    "    try:\n",
    "        reaction = getattr(model, attribute_type).get_by_id(reaction)\n",
    "    except KeyError:\n",
    "        continue\n",
    "    to_remove.append(reaction)\n",
    "\n",
    "model.remove_reactions(to_remove)\n",
    "dataframes_removed[attribute_type] = df_removed\n",
    "dataframes_removed[attribute_type]\n",
    "\n",
    "# Clean up removal file before archial\n",
    "df_removed = df_removed.sort_values(attribute_type, ascending=True).reset_index(\n",
    "    drop=True\n",
    ")\n",
    "df_removed.to_csv(\n",
    "    ROOT_PATH / CURATION_PATH / f\"{attribute_type}_removed.tsv\",\n",
    "    sep=\"\\t\",\n",
    ")\n",
    "df_removed"
   ]
  },
  {
   "cell_type": "markdown",
   "id": "0d8d0eca-5c50-4679-bf22-fb43535ccccf",
   "metadata": {},
   "source": [
    "#### Genes"
   ]
  },
  {
   "cell_type": "code",
   "execution_count": null,
   "id": "7a0a09ff-04bf-4f3f-8db6-00da29e45e77",
   "metadata": {},
   "outputs": [],
   "source": [
    "attribute_type = \"genes\"\n",
    "try:\n",
    "    df_removed = pd.read_csv(\n",
    "        ROOT_PATH / CURATION_PATH / f\"{attribute_type}_removed.tsv\",\n",
    "        sep=\"\\t\",\n",
    "        index_col=0,\n",
    "        dtype=str,\n",
    "    )\n",
    "except FileNotFoundError:\n",
    "    df_removed = pd.DataFrame([], columns=[attribute_type], dtype=str)\n",
    "\n",
    "to_remove = []\n",
    "for gene in df_removed[attribute_type]:\n",
    "    try:\n",
    "        gene = model.genes.get_by_id(gene)\n",
    "    except KeyError:\n",
    "        continue\n",
    "    to_remove.append(gene)\n",
    "model.genes -= to_remove\n",
    "\n",
    "\n",
    "# Clean up removal file before archial\n",
    "df_removed = df_removed.sort_values(attribute_type, ascending=True).reset_index(\n",
    "    drop=True\n",
    ")\n",
    "df_removed.to_csv(\n",
    "    ROOT_PATH / CURATION_PATH / f\"{attribute_type}_removed.tsv\",\n",
    "    sep=\"\\t\",\n",
    ")\n",
    "df_removed\n",
    "\n",
    "\n",
    "dataframes_removed[attribute_type] = df_removed\n",
    "\n",
    "for gene in model.genes:\n",
    "    if gene.reactions:\n",
    "        continue\n",
    "    print(f\"Orphaned: {gene}\")\n",
    "\n",
    "dataframes_removed[attribute_type]"
   ]
  },
  {
   "cell_type": "markdown",
   "id": "6ad923fa-b442-4667-93f5-971a90cb1318",
   "metadata": {},
   "source": [
    "#### Metabolites"
   ]
  },
  {
   "cell_type": "code",
   "execution_count": null,
   "id": "e987854a-c0db-4e4b-9a70-aa251551490e",
   "metadata": {},
   "outputs": [],
   "source": [
    "attribute_type = \"metabolites\"\n",
    "try:\n",
    "    df_removed = pd.read_csv(\n",
    "        ROOT_PATH / CURATION_PATH / f\"{attribute_type}_removed.tsv\",\n",
    "        sep=\"\\t\",\n",
    "        index_col=0,\n",
    "        dtype=str,\n",
    "    )\n",
    "except FileNotFoundError:\n",
    "    df_removed = pd.DataFrame([], columns=[attribute_type], dtype=str)\n",
    "\n",
    "to_remove = []\n",
    "for metabolite in df_removed[attribute_type]:\n",
    "    try:\n",
    "        metabolite = model.metabolites.get_by_id(metabolite)\n",
    "    except KeyError:\n",
    "        continue\n",
    "    model.remove_metabolites([metabolite])\n",
    "model.remove_metabolites(to_remove)\n",
    "\n",
    "dataframes_removed[attribute_type] = df_removed\n",
    "for metabolite in model.metabolites:\n",
    "    if metabolite.reactions:\n",
    "        continue\n",
    "    print(f\"Orphaned: {metabolite}\")\n",
    "dataframes_removed[attribute_type]"
   ]
  },
  {
   "cell_type": "markdown",
   "id": "cbd78766-e03a-4fc2-8215-32d696fa4b1c",
   "metadata": {},
   "source": [
    "#### Add exchanges"
   ]
  },
  {
   "cell_type": "code",
   "execution_count": null,
   "id": "eb647fa6-94e1-4d85-8353-2f6eef374b1f",
   "metadata": {},
   "outputs": [],
   "source": [
    "for met in model.metabolites.query(lambda x: x.compartment == \"e\"):\n",
    "    try:\n",
    "        model.add_boundary(met, type=\"exchange\")\n",
    "    except ValueError:\n",
    "        pass\n",
    "for reaction in model.boundary:\n",
    "    reaction.subsystem = \"Pseudoreactions\""
   ]
  },
  {
   "cell_type": "markdown",
   "id": "c4b93b32-2bc9-44b1-b896-32460fa3c53c",
   "metadata": {},
   "source": [
    "#### Add pooled lipid reactions"
   ]
  },
  {
   "cell_type": "code",
   "execution_count": null,
   "id": "6babdc32-7ac2-4132-8ba1-97418e4d299b",
   "metadata": {},
   "outputs": [],
   "source": [
    "model.add_reactions(\n",
    "    [\n",
    "        Reaction(\n",
    "            \"POOL_FACOA\",\n",
    "            name=\"Pooling reaction Acyl-CoA (CoA)\",\n",
    "            subsystem=\"Pseudoreactions\",\n",
    "            lower_bound=COBRA_CONFIGURATION.lower_bound,\n",
    "            upper_bound=COBRA_CONFIGURATION.upper_bound,\n",
    "        ),\n",
    "        Reaction(\n",
    "            \"POOL_FA\",\n",
    "            name=\"Pooling reaction fatty acids (FA)\",\n",
    "            subsystem=\"Pseudoreactions\",\n",
    "            lower_bound=COBRA_CONFIGURATION.lower_bound,\n",
    "            upper_bound=COBRA_CONFIGURATION.upper_bound,\n",
    "        ),\n",
    "    ]\n",
    ")\n",
    "model.reactions.get_by_id(\"POOL_FACOA\").add_metabolites(\n",
    "    {\n",
    "        \"FAcoa_hs_c\": -1,\n",
    "        \"FAcoa_hs_12_0_c\": 0.0004,  # lauroyl-CoA\n",
    "        \"FAcoa_hs_13_0_c\": 0.0004,  # tridecanoyl-CoA\n",
    "        \"FAcoa_hs_14_0_c\": 0.0133,  # myristoyl-CoA\n",
    "        \"FAcoa_hs_14_5Z_c\": 0.0004,  # (5Z)-tetradecanoyl-CoA\n",
    "        \"FAcoa_hs_14_7Z_c\": 0.0004,  # (7Z)-tetradecenoyl-CoA\n",
    "        \"FAcoa_hs_14_9Z_c\": 0.0004,  # (9Z)-tetradecenoyl-CoA\n",
    "        \"FAcoa_hs_15_0_c\": 0.0004,  # Pentadecanoyl-CoA\n",
    "        \"FAcoa_hs_16_0_c\": 0.2220,  # Palmitoyl-CoA\n",
    "        \"FAcoa_hs_16_7Z_c\": 0.0004,  # (7Z)-palmitoleoyl-CoA\n",
    "        \"FAcoa_hs_16_9Z_c\": 0.0219,  # Palmitoleoyl-CoA\n",
    "        \"FAcoa_hs_17_0_c\": 0.0004,  # margaric acid\n",
    "        \"FAcoa_hs_17_10Z_c\": 0.0004,  #  (10Z)-heptadecylenic acid\n",
    "        \"FAcoa_hs_17_9Z_c\": 0.0004,  #  (9Z)-heptadecylenic acid\n",
    "        \"FAcoa_hs_18_0_c\": 0.1498,  # stearoyl-CoA\n",
    "        \"FAcoa_hs_18_9Z_c\": 0.1545,  # oleoyl-CoA\n",
    "        \"FAcoa_hs_18_11Z_c\": 0.0250,  # cis-vaccenoyl-CoA\n",
    "        \"FAcoa_hs_18_13Z_c\": 0.0004,  # (13Z)-octadecenoyl-CoA\n",
    "        \"FAcoa_hs_18_6Z9Z12Z15Z_c\": 0.0025,  # stearoyl-CoA\n",
    "        \"FAcoa_hs_18_6Z9Z12Z_c\": 0.0029,  # gamma-linolenoyl-CoA\n",
    "        \"FAcoa_hs_18_6Z9Z_c\": 0.0004,  # (6Z,9Z)-octadecadienoyl-CoA\n",
    "        \"FAcoa_hs_18_7Z_c\": 0.0004,  # (7Z)-octadecenoyl-CoA\n",
    "        \"FAcoa_hs_18_9E_c\": 0.0004,  # (9E)-octadecenoyl-CoA\n",
    "        \"FAcoa_hs_18_9Z12Z_c\": 0.1915,  # Linoleoyl-CoA\n",
    "        \"FAcoa_hs_18_9Z12Z15Z_c\": 0.0084,  # alpha-linolenoyl-CoA\n",
    "        \"FAcoa_hs_19_0_c\": 0.0004,  # nonadecanoyl-CoA\n",
    "        \"FAcoa_hs_20_0_c\": 0.0004,  # Arachidoyl-CoA /eicosanoyl-CoA\n",
    "        \"FAcoa_hs_20_11Z14Z17Z_c\": 0.0215,  # (11Z,14Z,17Z)-eicosatrienoyl-CoA\n",
    "        \"FAcoa_hs_20_11Z14Z_c\": 0.0004,  # (11Z,14Z)-eicosadienoyl-CoA\n",
    "        \"FAcoa_hs_20_11Z_c\": 0.0004,  # (11Z)-eicosenoyl-CoA\n",
    "        \"FAcoa_hs_20_13Z_c\": 0.0004,  # (13Z)-eicosenoyl-CoA\n",
    "        \"FAcoa_hs_20_5Z8Z11Z14Z17Z_c\": 0.0116,  # eicosapentaenoyl-CoA\n",
    "        \"FAcoa_hs_20_5Z8Z11Z14Z_c\": 0.1083,  # arachidonoyl-CoA\n",
    "        \"FAcoa_hs_20_5Z8Z11Z_c\": 0.0004,  # (5Z,8Z,11Z)-eicosatrienoyl-CoA\n",
    "        \"FAcoa_hs_20_8Z11Z14Z17Z_c\": 0.0115,  # (8Z,11Z,14Z,17Z)-eicosatetraenoyl-CoA\n",
    "        \"FAcoa_hs_20_8Z11Z14Z_c\": 0.0215,  #  dihomo-gamma-linoleoyl-CoA\n",
    "        \"FAcoa_hs_20_8Z11Z_c\": 0.0004,  # 8,11-eicosadienoyl-CoA\n",
    "        \"FAcoa_hs_20_9Z_c\": 0.0004,  # 9-eicosenoyl-CoA\n",
    "        \"FAcoa_hs_21_0_c\": 0.0004,  # henicosanoyl-CoA\n",
    "        \"FAcoa_hs_22_0_c\": 0.0004,  # docosanoyl-CoA\n",
    "        \"FAcoa_hs_22_10Z13Z16Z19Z_c\": 0.0004,  # 10,13,16,19-docosatetraenoyl-CoA\n",
    "        \"FAcoa_hs_22_10Z13Z16Z_c\": 0.0004,  # 10,13,16-docosatriynoyl-CoA\n",
    "        \"FAcoa_hs_22_11Z_c\": 0.0004,  # (11Z)-docosenoyl-CoA\n",
    "        \"FAcoa_hs_22_13Z16Z19Z_c\": 0.0004,  # 13,16,19-docosatrienoyl-CoA\n",
    "        \"FAcoa_hs_22_13Z16Z_c\": 0.0004,  # (13Z,16Z)-docosadienoyl-CoA\n",
    "        \"FAcoa_hs_22_13Z_c\": 0.0004,  # (13Z)-docosenoyl-CoA\n",
    "        \"FAcoa_hs_22_4Z7Z10Z13Z16Z19Z_c\": 0.0278,  # DHA\n",
    "        \"FAcoa_hs_22_4Z7Z10Z13Z16Z_c\": 0.0038,  #  (4Z,7Z,10Z,13Z,16Z)-docosapentaenoyl-CoA\n",
    "        \"FAcoa_hs_22_7Z10Z13Z16Z19Z_c\": 0.0059,  # (7Z,10Z,13Z,16Z,19Z)-docosapentaenoyl-CoA\n",
    "        \"FAcoa_hs_22_7Z10Z13Z16Z_c\": 0.0014,  #  (7Z,10Z,13Z,16Z)-docosatetraenoyl-CoA\n",
    "        \"FAcoa_hs_23_0_c\": 0.0004,  # tricosanoyl-CoA\n",
    "        \"FAcoa_hs_24_0_c\": 0.0004,  # tetracosanoyl-CoA\n",
    "        \"FAcoa_hs_24_12Z15Z18Z21Z_c\": 0.0004,  # 12,15,18,21-tetracosatetraenoyl-CoA\n",
    "        \"FAcoa_hs_24_15Z_c\": 0.0004,  # (15Z)-tetracosenoyl-CoA\n",
    "        \"FAcoa_hs_24_6Z9Z12Z15Z18Z21Z_c\": 0.0004,  # (6Z,9Z,12Z,15Z,18Z,21Z)-tetracosahexaenoyl-CoA\n",
    "        \"FAcoa_hs_24_6Z9Z12Z15Z18Z_c\": 0.0004,  # (6Z,9Z,12Z,15Z,18Z)-tetracosapentaenoyl-CoA\n",
    "        \"FAcoa_hs_24_9Z12Z15Z18Z21Z_c\": 0.0004,  # (9Z,12Z,15Z,18Z,21Z)-tetracosapentaenoyl-CoA\n",
    "        \"FAcoa_hs_24_9Z12Z15Z18Z_c\": 0.0004,  # (9Z,12Z,15Z,18Z)-tetracosatetraenoyl-CoA\n",
    "        \"FAcoa_hs_26_0_c\": 0.0004,  # hexacosanoyl-CoA\n",
    "        \"FAcoa_hs_26_17Z_c\": 0.0004,  #  hexacosenoyl-CoA\n",
    "    }\n",
    ")\n",
    "model.reactions.get_by_id(\"POOL_FA\").add_metabolites(\n",
    "    {\n",
    "        \"FA_hs_c\": -1,\n",
    "        \"FA_hs_12_0_c\": 0.0004,  # lauric acid\n",
    "        \"FA_hs_13_0_c\": 0.0004,  # tridecylic acid\n",
    "        \"FA_hs_14_0_c\": 0.0133,  # myristic acid\n",
    "        \"FA_hs_14_5Z_c\": 0.0004,  # physeteric acid\n",
    "        \"FA_hs_14_7Z_c\": 0.0004,  # 7Z-tetradecenoic acid\n",
    "        \"FA_hs_14_9Z_c\": 0.0004,  # 9Z-tetradecenoic acid\n",
    "        \"FA_hs_15_0_c\": 0.0004,  # pentadecylic acid\n",
    "        \"FA_hs_16_0_c\": 0.2220,  # Palmitic acid\n",
    "        \"FA_hs_16_7Z_c\": 0.0004,  # 7-palmitoleic acid\n",
    "        \"FA_hs_16_9Z_c\": 0.0219,  # Palmitoleic acid\n",
    "        \"FA_hs_17_0_c\": 0.0004,  # margaric acid\n",
    "        \"FA_hs_17_10Z_c\": 0.0004,  #  10-heptadecylenic acid\n",
    "        \"FA_hs_17_9Z_c\": 0.0004,  #  9-heptadecylenic acid\n",
    "        \"FA_hs_18_0_c\": 0.1498,  # stearate acid\n",
    "        \"FA_hs_18_9Z_c\": 0.1545,  # oleic acid\n",
    "        \"FA_hs_18_11Z_c\": 0.0250,  # cis-vaccenic acid\n",
    "        \"FA_hs_18_13Z_c\": 0.0004,  # (13Z)-octadecenoic acid\n",
    "        \"FA_hs_18_6Z9Z12Z15Z_c\": 0.0025,  # stearidonic acid\n",
    "        \"FA_hs_18_6Z9Z12Z_c\": 0.0029,  # gamma-linolenic acid\n",
    "        \"FA_hs_18_6Z9Z_c\": 0.0004,  # (6Z,9Z)-octadecadienoic acid\n",
    "        \"FA_hs_18_7Z_c\": 0.0004,  # (7Z)-octadecenoic acid\n",
    "        \"FA_hs_18_9E_c\": 0.0004,  # elaidate acid\n",
    "        \"FA_hs_18_9Z12Z_c\": 0.1915,  # Linoleic acid\n",
    "        \"FA_hs_18_9Z12Z15Z_c\": 0.0084,  # alpha-linolenic acid\n",
    "        \"FA_hs_19_0_c\": 0.0004,  # nonadecylic acid\n",
    "        \"FA_hs_20_0_c\": 0.0004,  # Arachidic acid /eicosanoic acid\n",
    "        \"FA_hs_20_11Z14Z17Z_c\": 0.0215,  # (11Z,14Z,17Z)-eicosatrienoic acid\n",
    "        \"FA_hs_20_11Z14Z_c\": 0.0004,  # (11Z,14Z)-eicosadienoic acid\n",
    "        \"FA_hs_20_11Z_c\": 0.0004,  # cis-gondoic acid\n",
    "        \"FA_hs_20_13Z_c\": 0.0004,  # (13Z)-eicosenoic acid\n",
    "        \"FA_hs_20_5Z8Z11Z14Z17Z_c\": 0.0116,  # EPA\n",
    "        \"FA_hs_20_5Z8Z11Z14Z_c\": 0.1083,  # arachidonoic acid\n",
    "        \"FA_hs_20_5Z8Z11Z_c\": 0.0004,  # mead acid\n",
    "        \"FA_hs_20_8Z11Z14Z17Z_c\": 0.0115,  # omega-3-arachidonic acid\n",
    "        \"FA_hs_20_8Z11Z14Z_c\": 0.0215,  #  dihomo-gamma-linoleic acid\n",
    "        \"FA_hs_20_8Z11Z_c\": 0.0004,  # 8,11-eicosadienoic acid\n",
    "        \"FA_hs_20_9Z_c\": 0.0004,  # 9-eicosenoic acid\n",
    "        \"FA_hs_21_0_c\": 0.0004,  # henicosanoic acid\n",
    "        \"FA_hs_22_0_c\": 0.0004,  # behenic acid\n",
    "        \"FA_hs_22_10Z13Z16Z19Z_c\": 0.0004,  # 10,13,16,19-docosatetraenoic acid\n",
    "        \"FA_hs_22_10Z13Z16Z_c\": 0.0004,  # 10,13,16-docosatriynoic acid\n",
    "        \"FA_hs_22_11Z_c\": 0.0004,  # cis-cetoleic acid\n",
    "        \"FA_hs_22_13Z16Z19Z_c\": 0.0004,  # 13,16,19-docosatrienoic acid\n",
    "        \"FA_hs_22_13Z16Z_c\": 0.0004,  # (13Z,16Z)-docosadienoic acid\n",
    "        \"FA_hs_22_13Z_c\": 0.0004,  # cis-erucic acid\n",
    "        \"FA_hs_22_4Z7Z10Z13Z16Z19Z_c\": 0.0278,  # DHA\n",
    "        \"FA_hs_22_4Z7Z10Z13Z16Z_c\": 0.0038,  # (4Z,7Z,10Z,13Z,16Z)-DPA\n",
    "        \"FA_hs_22_7Z10Z13Z16Z19Z_c\": 0.0059,  # DPA\n",
    "        \"FA_hs_22_7Z10Z13Z16Z_c\": 0.0014,  # adrenic acid\n",
    "        \"FA_hs_23_0_c\": 0.0004,  # tricosanoic acid\n",
    "        \"FA_hs_24_0_c\": 0.0004,  # lignocerate\n",
    "        \"FA_hs_24_12Z15Z18Z21Z_c\": 0.0004,  # 12,15,18,21-tetracosatetraenoic acid\n",
    "        \"FA_hs_24_15Z_c\": 0.0004,  # nervonic acid\n",
    "        \"FA_hs_24_6Z9Z12Z15Z18Z21Z_c\": 0.0004,  # (6Z,9Z,12Z,15Z,18Z,21Z)-THA\n",
    "        \"FA_hs_24_6Z9Z12Z15Z18Z_c\": 0.0004,  # (6Z,9Z,12Z,15Z,18Z)-TPA\n",
    "        \"FA_hs_24_9Z12Z15Z18Z21Z_c\": 0.0004,  # (9Z,12Z,15Z,18Z,21Z)-TPA\n",
    "        \"FA_hs_24_9Z12Z15Z18Z_c\": 0.0004,  # (9Z,12Z,15Z,18Z)-TTA\n",
    "        \"FA_hs_26_0_c\": 0.0004,  # cerotic acid\n",
    "        \"FA_hs_26_17Z_c\": 0.0004,  # ximenic acid\n",
    "    }\n",
    ")"
   ]
  },
  {
   "cell_type": "markdown",
   "id": "666c9e41-7b07-4f0b-a5a0-518b4d2fe503",
   "metadata": {},
   "source": [
    "#### Update annotation mappings\n",
    "Map to identifiers of database initially to be able to extract annotations from those databases"
   ]
  },
  {
   "cell_type": "code",
   "execution_count": null,
   "id": "8692a4fd-db0b-4467-a2fb-9e27e7f36103",
   "metadata": {},
   "outputs": [],
   "source": [
    "df_metabolite_mappings = pd.read_csv(\n",
    "    ROOT_PATH / CURATION_PATH / \"metabolites_InitialMappings_1.0.0.tsv\",\n",
    "    sep=\"\\t\",\n",
    "    dtype=str,\n",
    "    index_col=0,\n",
    ").fillna(\"\")\n",
    "df_metabolite_mappings = df_metabolite_mappings.set_index(\"metabolites\")\n",
    "for metabolite, row in df_metabolite_mappings.iterrows():\n",
    "    metabolite = model.metabolites.get_by_id(metabolite)\n",
    "    for key in df_metabolite_mappings.columns:\n",
    "        item = row[key]\n",
    "        if item:\n",
    "            metabolite.annotation[key] = item\n",
    "# Clean up mapping file\n",
    "df_metabolite_mappings = df_metabolite_mappings.sort_index().reset_index(drop=False)\n",
    "df_metabolite_mappings.to_csv(\n",
    "    ROOT_PATH / CURATION_PATH / \"metabolites_InitialMappings_1.0.0.tsv\",\n",
    "    sep=\"\\t\",\n",
    ")\n",
    "\n",
    "df_reaction_mappings = pd.read_csv(\n",
    "    ROOT_PATH / CURATION_PATH / \"reactions_InitialMappings_1.0.0.tsv\",\n",
    "    sep=\"\\t\",\n",
    "    dtype=str,\n",
    "    index_col=0,\n",
    ").fillna(\"\")\n",
    "df_reaction_mappings = df_reaction_mappings.set_index(\"reactions\")\n",
    "for reaction, row in df_reaction_mappings.iterrows():\n",
    "    reaction = model.reactions.get_by_id(reaction)\n",
    "    for key in df_reaction_mappings.columns:\n",
    "        item = row[key]\n",
    "        if item:\n",
    "            reaction.annotation[key] = item\n",
    "\n",
    "# Clean up mapping file\n",
    "df_reaction_mappings = df_reaction_mappings.sort_index().reset_index(drop=False)\n",
    "df_reaction_mappings.to_csv(\n",
    "    ROOT_PATH / CURATION_PATH / \"reactions_InitialMappings_1.0.0.tsv\",\n",
    "    sep=\"\\t\",\n",
    ")"
   ]
  },
  {
   "cell_type": "markdown",
   "id": "76cf33ba-798a-4513-a799-877457ca2f8c",
   "metadata": {},
   "source": [
    "#### Reset subsystem groups"
   ]
  },
  {
   "cell_type": "code",
   "execution_count": null,
   "id": "d5cddb5d-8226-4086-85f8-9ed52e035bbb",
   "metadata": {},
   "outputs": [],
   "source": [
    "model.remove_groups(model.groups)\n",
    "for subsystem in sorted(set(model.reactions.list_attr(\"subsystem\"))):\n",
    "    reaction_list = model.reactions.query(lambda x: x.subsystem == subsystem)\n",
    "    if subsystem not in model.groups:\n",
    "        group = Group(id=subsystem, name=subsystem, members=reaction_list)\n",
    "        model.add_groups([group])\n",
    "    else:\n",
    "        group = model.groups.get_by_id(subsystem).add_members(reaction_list)"
   ]
  },
  {
   "cell_type": "markdown",
   "id": "c7b21d3f-3444-499c-83ea-faef86cd24fa",
   "metadata": {},
   "source": [
    "### Check mass balancing"
   ]
  },
  {
   "cell_type": "code",
   "execution_count": null,
   "id": "3f69d937-06b5-489b-bee2-af836bc25668",
   "metadata": {},
   "outputs": [],
   "source": [
    "for reaction in model.reactions:\n",
    "    if reaction.boundary:\n",
    "        continue\n",
    "    if reaction.check_mass_balance():\n",
    "        print(reaction)\n",
    "        print(reaction.check_mass_balance())\n",
    "        print()"
   ]
  },
  {
   "cell_type": "markdown",
   "id": "eaeae0fb-1f5b-4375-8510-f0f28c79f905",
   "metadata": {},
   "source": [
    "### Export model"
   ]
  },
  {
   "cell_type": "code",
   "execution_count": null,
   "id": "d5f9e94e-1123-46d6-8352-ba96d2af7682",
   "metadata": {},
   "outputs": [],
   "source": [
    "write_rbc_model(model, filetype={\"xml\", \"json\"})\n",
    "model"
   ]
  }
 ],
 "metadata": {
  "kernelspec": {
   "display_name": "Python 3 (ipykernel)",
   "language": "python",
   "name": "python3"
  },
  "language_info": {
   "codemirror_mode": {
    "name": "ipython",
    "version": 3
   },
   "file_extension": ".py",
   "mimetype": "text/x-python",
   "name": "python",
   "nbconvert_exporter": "python",
   "pygments_lexer": "ipython3"
  }
 },
 "nbformat": 4,
 "nbformat_minor": 5
}
