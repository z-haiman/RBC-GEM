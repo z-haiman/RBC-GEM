{
 "cells": [
  {
   "cell_type": "markdown",
   "id": "36f0279a-92b3-4671-98cf-3ac639771f3f",
   "metadata": {},
   "source": [
    "# Visualize network\n",
    "\n",
    "The purpose of this notebook is to help visualize the metabolic network via Escher and ensure that the map and model are synchronized with each other.\n",
    "\n",
    "## Using Escher online:\n",
    "Brief steps on how to load the RBC metabolic network map using Escher online. \n",
    "1. Go to https://escher.github.io/#/ and set both the map and model options to *None*. \n",
    "2. Click the *Load map* button to open a blank canvas.\n",
    "3. Use *(Ctrl+M or Cmd+M)* to load a COBRA model from a `json` file. Alternatively, click on the *Model* tab, then the *Load COBRA model JSON* option to load a new model.\n",
    "    * Load the model file **\"RBC-GEM.json\"** from the `/model` directory.\n",
    "4. Use *(Ctrl+O or Cmd+O)* to load an Escher map from a `json` file. Alternatively, click on the *Map* tab, then the *Load map JSON* option to load a new map.\n",
    "    * Load the map file **\"RBC-GEM.full.map.json\"** from the `/map` directory.\n",
    "\n",
    "## Using Escher via python API (Not recommended currently):\n",
    "It is currently not recommend to utilize the python API as the current Escher dependencies conflict with recent versions of jupyter. It is therefore up to the user to manage package dependencies to utilize the Python API for Escher. \n",
    "\n",
    "The best way to do this is to utilize a seperate virtual environment into prevent dependency conflicts and install Escher. \n",
    "1. Install Python 3.9\n",
    "2. Run the following lines to install packages (order matters!):\n",
    "\n",
    "    ```\n",
    "    cd /code # Navigate to code directory where the pyproject.toml file is located.\n",
    "    pip install markupsafe==2.0.1\n",
    "    pip install notebook==6.5.6\n",
    "    pip install escher # Don't worry about any other dependency conflicts\n",
    "    pip install \".\" # or \".[all]\" for all optional dependencies\n",
    "    ```\n",
    "\n",
    "Once dependency conflicts are worked out, this will be updated :) \n",
    "\n",
    "## Additional information\n",
    "See the [documentation for Escher](https://escher.readthedocs.io/en/latest/) for additional details on how to use Escher.\n",
    "\n",
    "\n",
    "King ZA, Dräger A, Ebrahim A, Sonnenschein N, Lewis NE, Palsson BO. Escher: A Web Application for Building, Sharing, and Embedding Data-Rich Visualizations of Biological Pathways. PLoS Comput Biol. 2015 Aug 27;11(8):e1004321. doi: 10.1371/journal.pcbi.1004321. PMID: 26313928; PMCID: PMC4552468.\n",
    "## Setup\n",
    "### Import packages"
   ]
  },
  {
   "cell_type": "code",
   "execution_count": 1,
   "id": "cda886b1-b190-4a8f-a5b2-c76343ad9562",
   "metadata": {},
   "outputs": [
    {
     "name": "stdout",
     "output_type": "stream",
     "text": [
      "\n",
      "Package Information\n",
      "-------------------\n",
      "rbc-gem-utils 0.0.1\n",
      "\n",
      "Dependency Information\n",
      "----------------------\n",
      "beautifulsoup4                       4.12.3\n",
      "bio                                   1.6.2\n",
      "cobra                                0.29.0\n",
      "depinfo                               2.2.0\n",
      "kaleido                               0.2.1\n",
      "matplotlib                            3.8.2\n",
      "memote                               0.17.0\n",
      "networkx                              3.2.1\n",
      "notebook                              7.0.7\n",
      "openpyxl                              3.1.2\n",
      "pandas                                2.2.0\n",
      "pre-commit                            3.6.0\n",
      "pyvis                                 0.3.2\n",
      "rbc-gem-utils[database,network,vis] missing\n",
      "requests                             2.31.0\n",
      "scipy                                1.12.0\n",
      "seaborn                              0.13.2\n",
      "\n",
      "Build Tools Information\n",
      "-----------------------\n",
      "pip        23.3.1\n",
      "setuptools 68.2.2\n",
      "wheel      0.41.2\n",
      "\n",
      "Platform Information\n",
      "--------------------\n",
      "Darwin  23.6.0-x86_64\n",
      "CPython        3.11.7\n"
     ]
    }
   ],
   "source": [
    "import datetime\n",
    "import json\n",
    "from collections import defaultdict\n",
    "from pathlib import Path\n",
    "\n",
    "import matplotlib as mpl\n",
    "import pandas as pd\n",
    "import requests\n",
    "from rbc_gem_utils import (EXTERNAL_PATH, GEM_NAME, GEM_URL, MODEL_PATH,\n",
    "                           ROOT_PATH, read_cobra_model, read_rbc_model,\n",
    "                           show_versions)\n",
    "from rbc_gem_utils.util import ensure_iterable\n",
    "\n",
    "show_versions()"
   ]
  },
  {
   "cell_type": "markdown",
   "id": "9364b024-35ee-4d6d-ae45-2c3e715d9e03",
   "metadata": {},
   "source": [
    "## Load RBC-GEM model\n",
    "* Load the XML model to utilize annotations in any data mapping and visualization (guarunteed to have annotations).\n",
    "* Use the JSON model to check against the model file that gets loaded into Escher."
   ]
  },
  {
   "cell_type": "code",
   "execution_count": 2,
   "id": "58d4c46b-235e-475c-b174-9c18c0026e6f",
   "metadata": {
    "scrolled": true
   },
   "outputs": [
    {
     "name": "stdout",
     "output_type": "stream",
     "text": [
      "Set parameter Username\n",
      "Academic license - for non-commercial use only - expires 2025-11-21\n"
     ]
    },
    {
     "data": {
      "text/html": [
       "\n",
       "        <table>\n",
       "            <tr>\n",
       "                <td><strong>Name</strong></td>\n",
       "                <td>RBC_GEM</td>\n",
       "            </tr><tr>\n",
       "                <td><strong>Memory address</strong></td>\n",
       "                <td>147bbea50</td>\n",
       "            </tr><tr>\n",
       "                <td><strong>Number of metabolites</strong></td>\n",
       "                <td>2157</td>\n",
       "            </tr><tr>\n",
       "                <td><strong>Number of reactions</strong></td>\n",
       "                <td>3275</td>\n",
       "            </tr><tr>\n",
       "                <td><strong>Number of genes</strong></td>\n",
       "                <td>820</td>\n",
       "            </tr><tr>\n",
       "                <td><strong>Number of groups</strong></td>\n",
       "                <td>78</td>\n",
       "            </tr><tr>\n",
       "                <td><strong>Objective expression</strong></td>\n",
       "                <td>1.0*NaKt - 1.0*NaKt_reverse_db47e</td>\n",
       "            </tr><tr>\n",
       "                <td><strong>Compartments</strong></td>\n",
       "                <td>cytosol, extracellular space</td>\n",
       "            </tr>\n",
       "          </table>"
      ],
      "text/plain": [
       "<Model RBC_GEM at 0x147bbea50>"
      ]
     },
     "execution_count": 2,
     "metadata": {},
     "output_type": "execute_result"
    }
   ],
   "source": [
    "data_path = Path(\"data\").resolve()\n",
    "models_path = Path(\"models\").resolve()\n",
    "figures_path = Path(\"figures\").resolve()\n",
    "version = \"1.2.0\"\n",
    "\n",
    "\n",
    "save_figures = True\n",
    "transparent = False\n",
    "imagetype = \"svg\"\n",
    "dpi = 600\n",
    "\n",
    "ftype = \"xml\"\n",
    "model = read_cobra_model(f\"{models_path}/{GEM_NAME.replace('-', '_')}.{ftype}\")\n",
    "model"
   ]
  },
  {
   "cell_type": "markdown",
   "id": "fd4d872b-0514-4b5f-9e2d-64d65432a819",
   "metadata": {},
   "source": [
    "## Load map JSON"
   ]
  },
  {
   "cell_type": "code",
   "execution_count": 3,
   "id": "e9f5573c-279d-4ea4-8f33-70eae91f473a",
   "metadata": {
    "scrolled": true
   },
   "outputs": [
    {
     "data": {
      "text/plain": [
       "'/Users/zhaiman/opt/github/RBC-GEM/code/notebooks/studies/rbc1/models/RBC_GEM.full.map.json'"
      ]
     },
     "execution_count": 3,
     "metadata": {},
     "output_type": "execute_result"
    }
   ],
   "source": [
    "save_figures = True\n",
    "\n",
    "map_name = f\"{GEM_NAME.replace('-', '_')}.full.map\"\n",
    "log_level = \"OFF\"\n",
    "\n",
    "map_json_filepath = f\"{models_path}/{map_name}.json\"\n",
    "map_json_filepath"
   ]
  },
  {
   "cell_type": "markdown",
   "id": "6a255e44-950e-4cf1-ac28-946219bc5266",
   "metadata": {},
   "source": [
    "### Format data for viewing on map"
   ]
  },
  {
   "cell_type": "code",
   "execution_count": 4,
   "id": "42792696",
   "metadata": {},
   "outputs": [],
   "source": [
    "try:\n",
    "    import escher\n",
    "\n",
    "    escher.rc[\"never_ask_before_quit\"] = True\n",
    "except ImportError:\n",
    "    escher = None"
   ]
  },
  {
   "cell_type": "code",
   "execution_count": 5,
   "id": "7ca6ea09-94aa-4e0e-9d4e-556f913fcfe6",
   "metadata": {},
   "outputs": [],
   "source": [
    "reaction_data = {}\n",
    "metabolite_data = {}\n",
    "gene_data = {}\n",
    "reaction_scale = []\n",
    "metabolite_scale = []"
   ]
  },
  {
   "cell_type": "markdown",
   "id": "f531a30f-b960-4003-a87c-3c4ec13978b8",
   "metadata": {},
   "source": [
    "#### Example: categorized by subsystems"
   ]
  },
  {
   "cell_type": "code",
   "execution_count": 6,
   "id": "8ac271d5-56c0-47db-92da-62b7c4dee593",
   "metadata": {},
   "outputs": [],
   "source": [
    "df_pathways = pd.read_csv(f\"{data_path}/subsystems.tsv\", sep=\"\\t\", dtype=str)\n",
    "df_pathways[\"category\"] = df_pathways[\"category\"].replace(\n",
    "    \"Metabolism of other amino acids\", \"Amino acid metabolism\"\n",
    ")\n",
    "\n",
    "categories_to_exclude = {\"Pseudoreactions\", \"Model total\"}\n",
    "\n",
    "cmax = 0.8\n",
    "colors = {\n",
    "    \"Amino acid metabolism\": mpl.colors.to_hex(mpl.cm.spring(cmax)),\n",
    "    \"Carbohydrate metabolism\": mpl.colors.to_hex(mpl.cm.Greens(cmax)),\n",
    "    \"Lipid metabolism\": mpl.colors.to_hex(mpl.cm.Blues(cmax)),\n",
    "    \"Metabolism of cofactors and vitamins\": mpl.colors.to_hex(mpl.cm.summer(cmax)),\n",
    "    \"Nucleotide metabolism\": mpl.colors.to_hex(mpl.cm.winter(cmax)),\n",
    "    \"Reactive species\": mpl.colors.to_hex(mpl.cm.Reds(cmax)),\n",
    "    \"Transport reactions\": mpl.colors.to_hex(mpl.cm.Purples(cmax)),\n",
    "    \"Other\": mpl.colors.to_hex(mpl.cm.gray_r(cmax)),\n",
    "}\n",
    "\n",
    "reaction_scales_mapping = {\n",
    "    subsystem: {\"type\": \"value\", \"value\": f\"{val}\", \"color\": f\"{color}\"}\n",
    "    for val, (subsystem, color) in enumerate(colors.items(), start=1)\n",
    "}\n",
    "\n",
    "\n",
    "reaction_data = {}\n",
    "df_cat_subsystems = df_pathways.groupby(\"category\")[\"name\"].agg(lambda x: list(x))\n",
    "for category, subsystem_list in df_cat_subsystems.items():\n",
    "    if category in categories_to_exclude:\n",
    "        continue\n",
    "    if (\n",
    "        category not in reaction_scales_mapping\n",
    "        and category not in categories_to_exclude\n",
    "    ):\n",
    "        category = \"Other\"\n",
    "\n",
    "    reaction_data.update(\n",
    "        {\n",
    "            reaction.id: reaction_scales_mapping[category][\"value\"]\n",
    "            for group in model.groups.get_by_any(subsystem_list)\n",
    "            for reaction in group.members\n",
    "        }\n",
    "    )\n",
    "\n",
    "reaction_scale = list(reaction_scales_mapping.values())\n",
    "if escher is not None:\n",
    "    builder = escher.Builder(\n",
    "        map_json=map_json_filepath,\n",
    "        # model=model,\n",
    "        model_json=f\"{models_path}/{GEM_NAME.replace('-', '_')}.json\",\n",
    "    )\n",
    "\n",
    "    for attr, value in dict(\n",
    "        reaction_data=reaction_data,\n",
    "        metabolite_data=metabolite_data,\n",
    "        gene_data=gene_data,\n",
    "        reaction_scale=reaction_scale,\n",
    "        metabolite_scale=metabolite_scale,\n",
    "    ).items():\n",
    "        if value:\n",
    "            setattr(builder, attr, value)\n",
    "    if save_figures:\n",
    "        builder.save_html(\n",
    "            f\"{figures_path}/{GEM_NAME.replace('-', '_')}_categorized_subsystems.html\"\n",
    "        )"
   ]
  },
  {
   "cell_type": "markdown",
   "id": "86f4bfb7-b46e-4cd7-91da-1d5b112a5c27",
   "metadata": {},
   "source": [
    "### Export data for web browser"
   ]
  },
  {
   "cell_type": "code",
   "execution_count": 7,
   "id": "ab27c085-a6bf-4817-9956-a8dde0c1610b",
   "metadata": {},
   "outputs": [],
   "source": [
    "with open(f\"{data_path}/reaction_map_data.json\", \"w\") as map_datafile:\n",
    "    json.dump(reaction_data, map_datafile)\n",
    "\n",
    "with open(f\"{data_path}/metabolite_map_data.json\", \"w\") as map_datafile:\n",
    "    json.dump(metabolite_data, map_datafile)"
   ]
  },
  {
   "cell_type": "markdown",
   "id": "6d581c52-926a-42f5-a16e-ce2d8484dccc",
   "metadata": {},
   "source": [
    "### Utilize EscherConverter to convert map to a standard format\n",
    "To run the Escher converter, uncomment out the final cell\n",
    "* GitHub Page: https://github.com/draeger-lab/EscherConverter\n",
    "* Instructions for the Escher converter: https://escher.readthedocs.io/en/stable/escherconverter.html"
   ]
  },
  {
   "cell_type": "code",
   "execution_count": 8,
   "id": "6069a8e9-dd65-48ae-9ec0-fea123ae3642",
   "metadata": {
    "scrolled": true
   },
   "outputs": [],
   "source": [
    "convert_to_types = [\n",
    "    # \"Escher\",\n",
    "    # \"SBGN\",\n",
    "    # \"SBML\",\n",
    "]\n",
    "\n",
    "if convert_to_types:\n",
    "    for convert_to in convert_to_types:\n",
    "        converter_path = f\"{ROOT_PATH}{EXTERNAL_PATH}/EscherConverter-1.2.1.jar\"\n",
    "        converted_output_filepath = {\n",
    "            \"Escher\": f\"{data_path}/{map_name}.json\",\n",
    "            \"SBGN\": f\"{data_path}/{map_name}.sbgn\",\n",
    "            \"SBML\": f\"{data_path}/{map_name}.xml\",\n",
    "        }[convert_to]\n",
    "        !java -jar -Xms8G -Xmx8G -Duser.language=en \"$converter_path\" --input=\"$map_json_filepath\" --output=\"$converted_output_filepath\" --gui=false --log-level=\"$log_level\""
   ]
  },
  {
   "cell_type": "code",
   "execution_count": null,
   "id": "797a08de-3314-49ea-b93f-02c4a18ed2d1",
   "metadata": {},
   "outputs": [],
   "source": []
  }
 ],
 "metadata": {
  "kernelspec": {
   "display_name": "Python 3 (ipykernel)",
   "language": "python",
   "name": "python3"
  },
  "language_info": {
   "codemirror_mode": {
    "name": "ipython",
    "version": 3
   },
   "file_extension": ".py",
   "mimetype": "text/x-python",
   "name": "python",
   "nbconvert_exporter": "python",
   "pygments_lexer": "ipython3",
   "version": "3.11.7"
  }
 },
 "nbformat": 4,
 "nbformat_minor": 5
}
