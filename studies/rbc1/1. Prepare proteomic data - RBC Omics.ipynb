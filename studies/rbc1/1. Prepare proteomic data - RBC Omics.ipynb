{
 "cells": [
  {
   "cell_type": "markdown",
   "id": "2537d45b-6871-43b9-81f8-e3639df15ac5",
   "metadata": {},
   "source": [
    "# Prepare proteomic data - RBC Omics\n",
    "## Setup\n",
    "### Import packages"
   ]
  },
  {
   "cell_type": "code",
   "execution_count": null,
   "id": "2255cec1-1c92-48cd-b35a-01065975dc9b",
   "metadata": {},
   "outputs": [],
   "source": [
    "from pathlib import Path\n",
    "\n",
    "import pandas as pd\n",
    "from rbc_gem_utils import COBRA_CONFIGURATION, show_versions\n",
    "from rbc_gem_utils.util import AVOGADRO_NUMBER\n",
    "\n",
    "# Show versions of notebook\n",
    "show_versions()"
   ]
  },
  {
   "cell_type": "markdown",
   "id": "4d1f0e62-ca1f-4201-a29d-dc3221be59c1",
   "metadata": {},
   "source": [
    "### Define configuration\n",
    "#### COBRA Configuration"
   ]
  },
  {
   "cell_type": "code",
   "execution_count": null,
   "id": "4c9d9475-8441-4f92-b46e-6257c5a7d843",
   "metadata": {},
   "outputs": [],
   "source": [
    "COBRA_CONFIGURATION.solver = \"gurobi\"\n",
    "COBRA_CONFIGURATION.bounds = (-1e3, 1e3)\n",
    "COBRA_CONFIGURATION"
   ]
  },
  {
   "cell_type": "markdown",
   "id": "50dc6fa4-161e-4511-bf31-0b75d3b93dcb",
   "metadata": {},
   "source": [
    "## Load RBC-GEM model"
   ]
  },
  {
   "cell_type": "code",
   "execution_count": null,
   "id": "b190e52c-6c91-497b-92f5-5df61e5fba68",
   "metadata": {},
   "outputs": [],
   "source": [
    "dataset_name = \"RBComics\"\n",
    "dataset_path = Path(f\"{dataset_name}\").resolve()\n",
    "dataset_path"
   ]
  },
  {
   "cell_type": "markdown",
   "id": "e5a75d58-9789-4c76-a376-2db52ac44c2a",
   "metadata": {},
   "source": [
    "## Load RBC Proteomics"
   ]
  },
  {
   "cell_type": "code",
   "execution_count": null,
   "id": "19c797c7-e28d-4511-a6c2-ff920dd9955e",
   "metadata": {},
   "outputs": [],
   "source": [
    "df_omics = pd.read_csv(dataset_path / f\"{dataset_name}.tsv\", sep=\"\\t\", index_col=False)\n",
    "df_protein_data = pd.read_csv(\n",
    "    dataset_path / f\"{dataset_name}_protein_data.tsv\",\n",
    "    sep=\"\\t\",\n",
    "    index_col=\"Entry\",\n",
    ")\n",
    "df_uniprot_to_mw = df_protein_data[\"Mass\"] / 1000\n",
    "df_metadata = (\n",
    "    df_omics.groupby(\"INDEX ID\")[df_omics.columns[2:30]]\n",
    "    .agg(lambda x: list(x.unique())[0])\n",
    "    .reset_index(drop=False)\n",
    ")\n",
    "\n",
    "# Fill missing data with average\n",
    "df_hb_per_sample = df_metadata.set_index(\"INDEX ID\")[\"CBC.HGB\"] * 2\n",
    "df_hb_per_sample = df_hb_per_sample.fillna(round(df_hb_per_sample.mean(), 1))\n",
    "\n",
    "df_proteomics = df_omics.loc[\n",
    "    :, list(df_omics.columns[:2]) + list(df_omics.columns[30:])\n",
    "].copy()\n",
    "df_proteomics = df_proteomics.loc[\n",
    "    :, [x for x in df_proteomics.columns if not str(x[0]).isnumeric()]\n",
    "]"
   ]
  },
  {
   "cell_type": "markdown",
   "id": "b5bb7c79-6a0b-4779-b622-35e61a31e924",
   "metadata": {},
   "source": [
    "### Transform sample intensities to copy numbers"
   ]
  },
  {
   "cell_type": "code",
   "execution_count": null,
   "id": "5de0cd9d-f734-4f2f-b37e-f74f5de20c38",
   "metadata": {},
   "outputs": [],
   "source": [
    "df_copy_numbers = {}\n",
    "df_conc_per_sample = {}\n",
    "uniprot_ids = set()\n",
    "min_copy_number = 0"
   ]
  },
  {
   "cell_type": "markdown",
   "id": "d9f195fe-5205-48e6-b692-fb0c7f3a420a",
   "metadata": {},
   "source": [
    "#### Day 10"
   ]
  },
  {
   "cell_type": "code",
   "execution_count": null,
   "id": "dfad0f2b-65fd-4045-9134-4296635cd778",
   "metadata": {},
   "outputs": [],
   "source": [
    "# Day is 10, 23, or 42\n",
    "day = 10\n",
    "df_proteomics_day = df_proteomics.set_index([\"Day\", \"INDEX ID\"]).loc[day]\n",
    "df_proteomics_day = df_proteomics_day.apply(lambda x: x / x.sum(), axis=1)\n",
    "# pmol / mgDW sample --> nmol / gDW sample\n",
    "df_proteomics_day = (df_proteomics_day * 1e6) / df_uniprot_to_mw\n",
    "df_conc_per_sample[day] = df_proteomics_day.copy()\n",
    "\n",
    "# Normalize using each individuals CBC.HGB\n",
    "df_proteomics_day = (\n",
    "    (df_proteomics_day.T * 1e-9) * (df_hb_per_sample * 1e-12) * AVOGADRO_NUMBER\n",
    ")\n",
    "df_copy_numbers[day] = df_proteomics_day.T\n",
    "df_proteomics_day"
   ]
  },
  {
   "cell_type": "markdown",
   "id": "f7233ad1-a2d4-41fc-b764-83f5538d67d6",
   "metadata": {},
   "source": [
    "#### Day 23"
   ]
  },
  {
   "cell_type": "code",
   "execution_count": null,
   "id": "47c6a7f5-8e46-4b79-bc52-734a79d4d561",
   "metadata": {},
   "outputs": [],
   "source": [
    "# Day is 10, 23, or 42\n",
    "day = 23\n",
    "df_proteomics_day = df_proteomics.set_index([\"Day\", \"INDEX ID\"]).loc[day]\n",
    "df_proteomics_day = df_proteomics_day.apply(lambda x: x / x.sum(), axis=1)\n",
    "# pmol / mgDW sample --> nmol / gDW sample\n",
    "df_proteomics_day = (df_proteomics_day * 1e6) / df_uniprot_to_mw\n",
    "df_conc_per_sample[day] = df_proteomics_day.copy()\n",
    "\n",
    "# Normalize using each individuals CBC.HGB\n",
    "df_proteomics_day = (\n",
    "    (df_proteomics_day.T * 1e-9) * (df_hb_per_sample * 1e-12) * AVOGADRO_NUMBER\n",
    ")\n",
    "df_copy_numbers[day] = df_proteomics_day.T\n",
    "df_proteomics_day"
   ]
  },
  {
   "cell_type": "markdown",
   "id": "981722c9-5646-442b-80a6-36b849aaa77f",
   "metadata": {},
   "source": [
    "#### Day 42"
   ]
  },
  {
   "cell_type": "code",
   "execution_count": null,
   "id": "f337efd1-4178-47dd-9de6-31524d21075d",
   "metadata": {},
   "outputs": [],
   "source": [
    "# Day is 10, 23, or 42\n",
    "day = 42\n",
    "df_proteomics_day = df_proteomics.set_index([\"Day\", \"INDEX ID\"]).loc[day]\n",
    "df_proteomics_day = df_proteomics_day.apply(lambda x: x / x.sum(), axis=1)\n",
    "# pmol / mgDW sample --> nmol / gDW sample\n",
    "df_proteomics_day = (df_proteomics_day * 1e6) / df_uniprot_to_mw\n",
    "df_conc_per_sample[day] = df_proteomics_day.copy()\n",
    "\n",
    "# Normalize using each individuals CBC.HGB\n",
    "df_proteomics_day = (\n",
    "    (df_proteomics_day.T * 1e-9) * (df_hb_per_sample * 1e-12) * AVOGADRO_NUMBER\n",
    ")\n",
    "df_copy_numbers[day] = df_proteomics_day.T\n",
    "df_proteomics_day"
   ]
  },
  {
   "cell_type": "markdown",
   "id": "38a48d59-829a-4340-b5fd-04a51df6ad55",
   "metadata": {},
   "source": [
    "### Export absolute quantitative data"
   ]
  },
  {
   "cell_type": "code",
   "execution_count": null,
   "id": "be4af6b2-3fba-483f-8b47-9b4064012dc9",
   "metadata": {},
   "outputs": [],
   "source": [
    "days = [10, 23, 42]\n",
    "for day in days:\n",
    "    df_conc_per_sample[day][\"Day\"] = day\n",
    "    df_copy_numbers[day][\"Day\"] = day\n",
    "\n",
    "df_concentrations_all = (\n",
    "    pd.concat([df_conc_per_sample[day] for day in days], axis=0)\n",
    "    .reset_index(drop=False)\n",
    "    .set_index([\"INDEX ID\", \"Day\"])\n",
    ")\n",
    "df_concentrations_all.index = [f\"S{x[0]}_D{x[1]}\" for x in df_concentrations_all.index]\n",
    "df_concentrations_all.T.to_csv(\n",
    "    dataset_path / f\"{dataset_name}_Concentrations.tsv\", sep=\"\\t\", index=True\n",
    ")\n",
    "\n",
    "df_copy_number_all = (\n",
    "    pd.concat([df_copy_numbers[day] for day in days], axis=0)\n",
    "    .reset_index(drop=False)\n",
    "    .set_index([\"INDEX ID\", \"Day\"])\n",
    ")\n",
    "df_copy_number_all.index = [f\"S{x[0]}_D{x[1]}\" for x in df_copy_number_all.index]\n",
    "df_copy_number_all.T.to_csv(\n",
    "    dataset_path / f\"{dataset_name}_CopyNumbers.tsv\", sep=\"\\t\", index=True\n",
    ")\n",
    "df_copy_number_all"
   ]
  },
  {
   "cell_type": "markdown",
   "id": "039a2401-f544-448a-a8bc-011d2dd6bffc",
   "metadata": {},
   "source": [
    "### Export metadata"
   ]
  },
  {
   "cell_type": "code",
   "execution_count": null,
   "id": "946c51c4-baac-4137-a95f-3757e965fd07",
   "metadata": {},
   "outputs": [],
   "source": [
    "df_metadata = df_metadata.set_index(\"INDEX ID\")\n",
    "df_metadata.index = [f\"S{x}\" for x in df_metadata.index]\n",
    "df_metadata.to_csv(dataset_path / f\"{dataset_name}_Metadata.tsv\", sep=\"\\t\", index=True)\n",
    "df_metadata"
   ]
  }
 ],
 "metadata": {
  "kernelspec": {
   "display_name": "Python 3 (ipykernel)",
   "language": "python",
   "name": "python3"
  },
  "language_info": {
   "codemirror_mode": {
    "name": "ipython",
    "version": 3
   },
   "file_extension": ".py",
   "mimetype": "text/x-python",
   "name": "python",
   "nbconvert_exporter": "python",
   "pygments_lexer": "ipython3"
  }
 },
 "nbformat": 4,
 "nbformat_minor": 5
}
