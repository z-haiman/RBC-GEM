{
 "cells": [
  {
   "cell_type": "markdown",
   "id": "36f0279a-92b3-4671-98cf-3ac639771f3f",
   "metadata": {},
   "source": [
    "# Visualize network\n",
    "\n",
    "The purpose of this notebook is to help visualize the metabolic network via Escher and ensure that the map and model are synchronized with each other.\n",
    "\n",
    "## Using Escher online:\n",
    "Brief steps on how to load the RBC metabolic network map using Escher online. \n",
    "1. Go to https://escher.github.io/#/ and set both the map and model options to *None*. \n",
    "2. Click the *Load map* button to open a blank canvas.\n",
    "3. Use *(Ctrl+M or Cmd+M)* to load a COBRA model from a `json` file. Alternatively, click on the *Model* tab, then the *Load COBRA model JSON* option to load a new model.\n",
    "    * Load the model file **\"RBC-GEM.json\"** from the `/model` directory.\n",
    "4. Use *(Ctrl+O or Cmd+O)* to load an Escher map from a `json` file. Alternatively, click on the *Map* tab, then the *Load map JSON* option to load a new map.\n",
    "    * Load the map file **\"RBC-GEM.full.map.json\"** from the `/map` directory.\n",
    "\n",
    "## Using Escher via python API (Not recommended currently):\n",
    "It is currently not recommend to utilize the python API as the current Escher dependencies conflict with recent versions of jupyter. It is therefore up to the user to manage package dependencies to utilize the Python API for Escher. \n",
    "\n",
    "The best way to do this is to utilize a seperate virtual environment into prevent dependency conflicts and install Escher. \n",
    "1. Install Python 3.9\n",
    "2. Run the following lines to install packages (order matters!):\n",
    "\n",
    "    ```\n",
    "    cd /code # Navigate to code directory where the pyproject.toml file is located.\n",
    "    pip install markupsafe==2.0.1\n",
    "    pip install notebook==6.5.6\n",
    "    pip install escher # Don't worry about any other dependency conflicts\n",
    "    pip install \".\" # or \".[all]\" for all optional dependencies\n",
    "    ```\n",
    "\n",
    "Once dependency conflicts are worked out, this will be updated :) \n",
    "\n",
    "## Additional information\n",
    "See the [documentation for Escher](https://escher.readthedocs.io/en/latest/) for additional details on how to use Escher.\n",
    "\n",
    "\n",
    "King ZA, Dräger A, Ebrahim A, Sonnenschein N, Lewis NE, Palsson BO. Escher: A Web Application for Building, Sharing, and Embedding Data-Rich Visualizations of Biological Pathways. PLoS Comput Biol. 2015 Aug 27;11(8):e1004321. doi: 10.1371/journal.pcbi.1004321. PMID: 26313928; PMCID: PMC4552468.\n",
    "## Setup\n",
    "### Import packages"
   ]
  },
  {
   "cell_type": "code",
   "execution_count": 1,
   "id": "cda886b1-b190-4a8f-a5b2-c76343ad9562",
   "metadata": {},
   "outputs": [
    {
     "name": "stderr",
     "output_type": "stream",
     "text": [
      "/var/folders/5t/hk8m3g6d1jn25x5rssjgsrmm0000gn/T/ipykernel_8858/376138202.py:2: DeprecationWarning: \n",
      "Pyarrow will become a required dependency of pandas in the next major release of pandas (pandas 3.0),\n",
      "(to allow more performant data types, such as the Arrow string type, and better interoperability with other libraries)\n",
      "but was not found to be installed on your system.\n",
      "If this would cause problems for you,\n",
      "please provide us feedback at https://github.com/pandas-dev/pandas/issues/54466\n",
      "        \n",
      "  import pandas as pd\n"
     ]
    },
    {
     "name": "stdout",
     "output_type": "stream",
     "text": [
      "\n",
      "Package Information\n",
      "-------------------\n",
      "rbc-gem-utils 0.0.1\n",
      "\n",
      "Dependency Information\n",
      "----------------------\n",
      "beautifulsoup4                       4.12.3\n",
      "bio                                   1.6.2\n",
      "cobra                                0.29.0\n",
      "depinfo                               2.2.0\n",
      "kaleido                               0.2.1\n",
      "matplotlib                            3.8.2\n",
      "memote                               0.17.0\n",
      "networkx                              3.2.1\n",
      "notebook                              6.5.6\n",
      "openpyxl                              3.1.2\n",
      "pandas                                2.2.0\n",
      "pre-commit                            3.6.0\n",
      "pyvis                                 0.3.2\n",
      "rbc-gem-utils[database,network,vis] missing\n",
      "requests                             2.31.0\n",
      "scipy                                1.12.0\n",
      "seaborn                              0.13.2\n",
      "\n",
      "Build Tools Information\n",
      "-----------------------\n",
      "pip        23.3.1\n",
      "setuptools 68.2.2\n",
      "wheel      0.41.2\n",
      "\n",
      "Platform Information\n",
      "--------------------\n",
      "Darwin  22.6.0-x86_64\n",
      "CPython        3.9.18\n"
     ]
    }
   ],
   "source": [
    "from collections import defaultdict\n",
    "import pandas as pd\n",
    "import matplotlib as mpl\n",
    "import datetime\n",
    "import json\n",
    "\n",
    "from rbc_gem_utils import (\n",
    "    ROOT_PATH,\n",
    "    EXTERNAL_PATH,\n",
    "    ANNOTATION_PATH,\n",
    "    RESULTS_PATH,\n",
    "    CURATION_PATH,\n",
    "    MAP_PATH,\n",
    "    MODEL_PATH,\n",
    "    GEM_NAME,\n",
    "    MAP_NAMES,\n",
    "    read_rbc_model,\n",
    "    build_string,\n",
    "    split_string,\n",
    "    get_annotation_df,\n",
    "    show_versions,\n",
    "    explode_column,\n",
    ")\n",
    "from rbc_gem_utils.util import ensure_iterable\n",
    "\n",
    "show_versions()"
   ]
  },
  {
   "cell_type": "markdown",
   "id": "9364b024-35ee-4d6d-ae45-2c3e715d9e03",
   "metadata": {},
   "source": [
    "## Load RBC-GEM model\n",
    "* Load the XML model to utilize annotations in any data mapping and visualization (guarunteed to have annotations).\n",
    "* Use the JSON model to check against the model file that gets loaded into Escher."
   ]
  },
  {
   "cell_type": "code",
   "execution_count": 2,
   "id": "58d4c46b-235e-475c-b174-9c18c0026e6f",
   "metadata": {
    "scrolled": true
   },
   "outputs": [
    {
     "data": {
      "text/html": [
       "\n",
       "        <table>\n",
       "            <tr>\n",
       "                <td><strong>Name</strong></td>\n",
       "                <td>RBC_GEM</td>\n",
       "            </tr><tr>\n",
       "                <td><strong>Memory address</strong></td>\n",
       "                <td>7ff308145430</td>\n",
       "            </tr><tr>\n",
       "                <td><strong>Number of metabolites</strong></td>\n",
       "                <td>1967</td>\n",
       "            </tr><tr>\n",
       "                <td><strong>Number of reactions</strong></td>\n",
       "                <td>2790</td>\n",
       "            </tr><tr>\n",
       "                <td><strong>Number of genes</strong></td>\n",
       "                <td>653</td>\n",
       "            </tr><tr>\n",
       "                <td><strong>Number of groups</strong></td>\n",
       "                <td>74</td>\n",
       "            </tr><tr>\n",
       "                <td><strong>Objective expression</strong></td>\n",
       "                <td>1.0*NaKt - 1.0*NaKt_reverse_db47e</td>\n",
       "            </tr><tr>\n",
       "                <td><strong>Compartments</strong></td>\n",
       "                <td>cytosol, extracellular space</td>\n",
       "            </tr>\n",
       "          </table>"
      ],
      "text/plain": [
       "<Model RBC_GEM at 0x7ff308145430>"
      ]
     },
     "execution_count": 2,
     "metadata": {},
     "output_type": "execute_result"
    }
   ],
   "source": [
    "model = read_rbc_model(filetype=\"xml\")\n",
    "model"
   ]
  },
  {
   "cell_type": "markdown",
   "id": "fd4d872b-0514-4b5f-9e2d-64d65432a819",
   "metadata": {},
   "source": [
    "## Load map JSON"
   ]
  },
  {
   "cell_type": "code",
   "execution_count": 3,
   "id": "e9f5573c-279d-4ea4-8f33-70eae91f473a",
   "metadata": {
    "scrolled": true
   },
   "outputs": [
    {
     "name": "stdout",
     "output_type": "stream",
     "text": [
      "{'RBC-GEM.full.map'}\n"
     ]
    }
   ],
   "source": [
    "save_figures = True\n",
    "\n",
    "print(MAP_NAMES)\n",
    "map_name = \"RBC-GEM.full.map\"\n",
    "convert_to = \"Escher\"\n",
    "log_level = \"OFF\"\n",
    "\n",
    "map_json_filepath = f\"{ROOT_PATH}{MAP_PATH}/{map_name}.json\""
   ]
  },
  {
   "cell_type": "markdown",
   "id": "6a255e44-950e-4cf1-ac28-946219bc5266",
   "metadata": {},
   "source": [
    "### Format data for viewing on map"
   ]
  },
  {
   "cell_type": "code",
   "execution_count": 4,
   "id": "42792696",
   "metadata": {},
   "outputs": [],
   "source": [
    "import escher\n",
    "\n",
    "escher.rc[\"never_ask_before_quit\"] = True"
   ]
  },
  {
   "cell_type": "code",
   "execution_count": 5,
   "id": "7ca6ea09-94aa-4e0e-9d4e-556f913fcfe6",
   "metadata": {},
   "outputs": [],
   "source": [
    "reaction_data = {}\n",
    "metabolite_data = {}\n",
    "gene_data = {}\n",
    "reaction_scale = []\n",
    "metabolite_scale = []"
   ]
  },
  {
   "cell_type": "markdown",
   "id": "f531a30f-b960-4003-a87c-3c4ec13978b8",
   "metadata": {},
   "source": [
    "#### Example: categorized by subsystems\n",
    "Nodes are provided a "
   ]
  },
  {
   "cell_type": "code",
   "execution_count": 6,
   "id": "8ac271d5-56c0-47db-92da-62b7c4dee593",
   "metadata": {},
   "outputs": [],
   "source": [
    "df_pathways = pd.read_csv(\n",
    "    f\"{ROOT_PATH}{CURATION_PATH}/subsystems.tsv\", sep=\"\\t\", dtype=str\n",
    ")\n",
    "df_pathways[\"category\"] = df_pathways[\"category\"].replace(\n",
    "    \"Metabolism of other amino acids\", \"Amino acid metabolism\"\n",
    ")\n",
    "\n",
    "categories_to_exclude = {\"Pseudoreactions\", \"Model total\"}\n",
    "\n",
    "cmax = 0.8\n",
    "colors = {\n",
    "    \"Amino acid metabolism\": mpl.colors.to_hex(mpl.cm.spring(cmax)),\n",
    "    \"Carbohydrate metabolism\": mpl.colors.to_hex(mpl.cm.Greens(cmax)),\n",
    "    \"Lipid metabolism\": mpl.colors.to_hex(mpl.cm.Blues(cmax)),\n",
    "    \"Metabolism of cofactors and vitamins\": mpl.colors.to_hex(mpl.cm.summer(cmax)),\n",
    "    \"Nucleotide metabolism\": mpl.colors.to_hex(mpl.cm.winter(cmax)),\n",
    "    \"Reactive species\": mpl.colors.to_hex(mpl.cm.Reds(cmax)),\n",
    "    \"Transport reactions\": mpl.colors.to_hex(mpl.cm.Purples(cmax)),\n",
    "    \"Other\": mpl.colors.to_hex(mpl.cm.gray_r(cmax)),\n",
    "}\n",
    "\n",
    "reaction_scales_mapping = {\n",
    "    subsystem: {\"type\": \"value\", \"value\": f\"{val}\", \"color\": f\"{color}\"}\n",
    "    for val, (subsystem, color) in enumerate(colors.items())\n",
    "}\n",
    "\n",
    "\n",
    "reaction_data = {}\n",
    "df_cat_subsystems = df_pathways.groupby(\"category\")[\"name\"].agg(lambda x: list(x))\n",
    "for category, subsystem_list in df_cat_subsystems.items():\n",
    "    if category in categories_to_exclude:\n",
    "        continue\n",
    "    if (\n",
    "        category not in reaction_scales_mapping\n",
    "        and category not in categories_to_exclude\n",
    "    ):\n",
    "        category = \"Other\"\n",
    "\n",
    "    reaction_data.update(\n",
    "        {\n",
    "            reaction.id: reaction_scales_mapping[category][\"value\"]\n",
    "            for group in model.groups.get_by_any(subsystem_list)\n",
    "            for reaction in group.members\n",
    "        }\n",
    "    )\n",
    "\n",
    "reaction_scale = list(reaction_scales_mapping.values())\n",
    "builder = escher.Builder(\n",
    "    map_json=map_json_filepath,\n",
    "    # model=model,\n",
    "    model_json=f\"{ROOT_PATH}{MODEL_PATH}/{GEM_NAME}.json\",\n",
    ")\n",
    "\n",
    "for attr, value in dict(\n",
    "    reaction_data=reaction_data,\n",
    "    metabolite_data=metabolite_data,\n",
    "    gene_data=gene_data,\n",
    "    reaction_scale=reaction_scale,\n",
    "    metabolite_scale=metabolite_scale,\n",
    ").items():\n",
    "    if value:\n",
    "        setattr(builder, attr, value)\n",
    "if save_figures:\n",
    "    builder.save_html(\n",
    "        f\"{ROOT_PATH}{RESULTS_PATH}/network/html/{GEM_NAME}_categorized_subsystems.html\"\n",
    "    )"
   ]
  },
  {
   "cell_type": "markdown",
   "id": "86f4bfb7-b46e-4cd7-91da-1d5b112a5c27",
   "metadata": {},
   "source": [
    "### Export data for web browser"
   ]
  },
  {
   "cell_type": "code",
   "execution_count": 7,
   "id": "ab27c085-a6bf-4817-9956-a8dde0c1610b",
   "metadata": {},
   "outputs": [],
   "source": [
    "# with open(f\"{ROOT_PATH}{INTERIM_PATH}/reaction_map_data.json\", \"w\") as map_datafile:\n",
    "#     json.dump(reaction_data, map_datafile)\n",
    "\n",
    "# with open(f\"{ROOT_PATH}{INTERIM_PATH}/metabolite_map_data.json\", \"w\") as map_datafile:\n",
    "#     json.dump(metabolite_data, map_datafile)"
   ]
  },
  {
   "cell_type": "markdown",
   "id": "f6ccd66c-34af-431f-9a9f-b45342596f48",
   "metadata": {},
   "source": [
    "## Ensure model and map are synchronized"
   ]
  },
  {
   "cell_type": "code",
   "execution_count": 8,
   "id": "bcaa8cd1-00a7-425c-8f90-86ff2e326bc0",
   "metadata": {
    "scrolled": true
   },
   "outputs": [
    {
     "name": "stdout",
     "output_type": "stream",
     "text": [
      "Loaded map as JSON object: RBC-GEM.full.map\n",
      "\n",
      "map_name                                            RBC-GEM.full.map\n",
      "map_id                                                  ieNthsfByp9v\n",
      "map_description                      \\nLast Modified Mon Feb 12 2024\n",
      "homepage                                    https://escher.github.io\n",
      "schema             https://escher.github.io/escher/jsonschema/1-0-0#\n",
      "dtype: object\n"
     ]
    }
   ],
   "source": [
    "with open(f\"{map_json_filepath}\", \"r\") as mapfile:\n",
    "    map_json = json.load(mapfile)\n",
    "    print(f\"Loaded map as JSON object: {map_name}\\n\")\n",
    "\n",
    "metadata_json = map_json[0]\n",
    "print(pd.Series(metadata_json))\n",
    "model_json = map_json[1]"
   ]
  },
  {
   "cell_type": "markdown",
   "id": "d1e7ee30-ab20-442a-a41a-119b45b4774a",
   "metadata": {},
   "source": [
    "### Check reactions\n",
    "Use this code to find which reactions are missing from the map. Helpful for identifying any ID conversions or new additions that need to be made."
   ]
  },
  {
   "cell_type": "code",
   "execution_count": 9,
   "id": "a642a1be-c242-4ad1-8ffb-126d2f46e1bf",
   "metadata": {},
   "outputs": [
    {
     "name": "stdout",
     "output_type": "stream",
     "text": [
      "Number of biochemical reactions in model: 1715\n",
      "Number of reactions not in map: 2\n",
      "\n"
     ]
    },
    {
     "data": {
      "text/plain": [
       "{'POOL_FA', 'POOL_FACOA'}"
      ]
     },
     "execution_count": 9,
     "metadata": {},
     "output_type": "execute_result"
    }
   ],
   "source": [
    "include_pseudoreactions = False\n",
    "include_transports = False\n",
    "map_rxns = {\n",
    "    reaction_dict[\"bigg_id\"] for reaction_dict in model_json[\"reactions\"].values()\n",
    "}\n",
    "model_reactions = model.reactions\n",
    "if not include_pseudoreactions:\n",
    "    model_reactions = model_reactions.query(lambda x: not x.boundary)\n",
    "\n",
    "if not include_transports:\n",
    "    model_reactions = model_reactions.query(lambda x: len(x.compartments) == 1)\n",
    "\n",
    "model_reactions = set(model_reactions.list_attr(\"id\"))\n",
    "\n",
    "found_in_map = model_reactions.intersection(map_rxns)\n",
    "missing_rxns_from_map = model_reactions.difference(map_rxns)\n",
    "\n",
    "print(f\"Number of biochemical reactions in model: {len(model_reactions)}\")\n",
    "if include_transports:\n",
    "    print(\n",
    "        f\"Number of transport reactions in map: {len(model_reactions.query(lambda x: len(x.compartments) != 1))}\"\n",
    "    )\n",
    "print(f\"Number of reactions not in map: {len(missing_rxns_from_map)}\\n\")\n",
    "missing_rxns_from_map"
   ]
  },
  {
   "cell_type": "markdown",
   "id": "312f2d5c-cbb0-4b23-92f2-1d17598237ab",
   "metadata": {},
   "source": [
    "### Check metabolites\n",
    "Use this code to find which metabolites are missing from the map. Helpful for identifying any ID conversions or new additions that need to be made."
   ]
  },
  {
   "cell_type": "code",
   "execution_count": 10,
   "id": "9d7f27f0-f348-4a71-8c9f-1e60b95e0717",
   "metadata": {},
   "outputs": [
    {
     "name": "stdout",
     "output_type": "stream",
     "text": [
      "Number of metabolites in model (cytosol): 1560\n",
      "Number of metabolites in map (cytosol): 1541\n",
      "Number of metabolites not in map (cytosol): 19\n",
      "\n"
     ]
    },
    {
     "data": {
      "text/plain": [
       "{'23cgamp_c',\n",
       " '5mthf_c',\n",
       " 'admarg__L_c',\n",
       " 'ag1_c',\n",
       " 'ca2_c',\n",
       " 'cl_c',\n",
       " 'cobalt2_c',\n",
       " 'ergoth_c',\n",
       " 'inds_c',\n",
       " 'k_c',\n",
       " 'li1_c',\n",
       " 'mg2_c',\n",
       " 'mma_c',\n",
       " 'mmarg__L_c',\n",
       " 'na1_c',\n",
       " 'ppp9_c',\n",
       " 'tetiodthy__L_c',\n",
       " 'triiodthy__L_c',\n",
       " 'zn2_c'}"
      ]
     },
     "execution_count": 10,
     "metadata": {},
     "output_type": "execute_result"
    }
   ],
   "source": [
    "compartments = [\"c\"]\n",
    "\n",
    "map_mets = set(\n",
    "    [\n",
    "        node_dict[\"bigg_id\"]\n",
    "        for node_dict in model_json[\"nodes\"].values()\n",
    "        if node_dict[\"node_type\"] == \"metabolite\"\n",
    "    ]\n",
    ")\n",
    "\n",
    "# missing_from_model = map_mets.difference(model_mets) # Not always accurate due to\n",
    "if not compartments:\n",
    "    compartments = model.compartments\n",
    "compartments = ensure_iterable(compartments)\n",
    "\n",
    "for comp in compartments:\n",
    "    model_mets = set(\n",
    "        model.metabolites.query(lambda x: x.compartment == comp).list_attr(\"id\")\n",
    "    )\n",
    "    found_in_map = model_mets.intersection(map_mets)\n",
    "    missing_mets_from_map = model_mets.difference(map_mets)\n",
    "\n",
    "    print(\n",
    "        f\"Number of metabolites in model ({model.compartments[comp]}): {len(model_mets)}\"\n",
    "    )\n",
    "    print(\n",
    "        f\"Number of metabolites in map ({model.compartments[comp]}): {len(found_in_map)}\"\n",
    "    )\n",
    "    print(\n",
    "        f\"Number of metabolites not in map ({model.compartments[comp]}): {len(missing_mets_from_map)}\\n\"\n",
    "    )\n",
    "missing_mets_from_map"
   ]
  },
  {
   "cell_type": "markdown",
   "id": "5214ac95-548f-43b5-b11f-925d61e6a42f",
   "metadata": {},
   "source": [
    "### Update Map\n",
    "#### Metadata"
   ]
  },
  {
   "cell_type": "code",
   "execution_count": 11,
   "id": "f330bf97-a6d3-4741-9316-849d4651e54d",
   "metadata": {},
   "outputs": [
    {
     "name": "stdout",
     "output_type": "stream",
     "text": [
      "map_name                                            RBC-GEM.full.map\n",
      "map_id                                                  ieNthsfByp9v\n",
      "map_description                      \\nLast Modified Mon Feb 12 2024\n",
      "homepage                                    https://escher.github.io\n",
      "schema             https://escher.github.io/escher/jsonschema/1-0-0#\n",
      "dtype: object\n"
     ]
    }
   ],
   "source": [
    "metadata_json[\"map_name\"] = map_name\n",
    "metadata_json[\"map_description\"] = datetime.datetime.strftime(\n",
    "    datetime.date.today(), \"\\nLast Modified %a %b %d %Y\"\n",
    ")\n",
    "print(pd.Series(metadata_json))"
   ]
  },
  {
   "cell_type": "markdown",
   "id": "9caf9b43-8261-4d8f-86d8-859d3d5eea1f",
   "metadata": {},
   "source": [
    "#### Map identifier replacement"
   ]
  },
  {
   "cell_type": "code",
   "execution_count": 12,
   "id": "37e3e040-34a1-4fa7-b1b9-e5b9e5566720",
   "metadata": {},
   "outputs": [],
   "source": [
    "rxns_id_replacements = {\n",
    "    # Old ID on Map: New ID for Map\n",
    "}\n",
    "mets_id_replacements = {\n",
    "    # Old ID on Map: New ID for Map\n",
    "}\n",
    "\n",
    "# Update identifiers\n",
    "for reaction_dict in model_json[\"reactions\"].values():\n",
    "    reaction_dict[\"bigg_id\"] = rxns_id_replacements.get(\n",
    "        reaction_dict[\"bigg_id\"], reaction_dict[\"bigg_id\"]\n",
    "    )\n",
    "    for node_dict in reaction_dict[\"metabolites\"]:\n",
    "        node_dict[\"bigg_id\"] = mets_id_replacements.get(\n",
    "            node_dict[\"bigg_id\"], node_dict[\"bigg_id\"]\n",
    "        )\n",
    "\n",
    "for node_dict in model_json[\"nodes\"].values():\n",
    "    if node_dict[\"node_type\"] != \"metabolite\":\n",
    "        continue\n",
    "    node_dict[\"bigg_id\"] = mets_id_replacements.get(\n",
    "        node_dict[\"bigg_id\"], node_dict[\"bigg_id\"]\n",
    "    )"
   ]
  },
  {
   "cell_type": "code",
   "execution_count": 13,
   "id": "5f688663-2fc6-4419-b74b-50e2fef5391e",
   "metadata": {},
   "outputs": [
    {
     "name": "stdout",
     "output_type": "stream",
     "text": [
      "Saved map as JSON object: RBC-GEM.full.map\n",
      "\n"
     ]
    }
   ],
   "source": [
    "with open(f\"{map_json_filepath}\", \"w\") as mapfile:\n",
    "    json.dump(obj=[metadata_json, model_json], fp=mapfile)\n",
    "    print(f\"Saved map as JSON object: {map_name}\\n\")"
   ]
  },
  {
   "cell_type": "markdown",
   "id": "6d581c52-926a-42f5-a16e-ce2d8484dccc",
   "metadata": {},
   "source": [
    "### Utilize EscherConverter to convert map to a standard format\n",
    "* GitHub Page: https://github.com/draeger-lab/EscherConverter\n",
    "* Instructions for the Escher converter: https://escher.readthedocs.io/en/stable/escherconverter.html"
   ]
  },
  {
   "cell_type": "code",
   "execution_count": 14,
   "id": "6069a8e9-dd65-48ae-9ec0-fea123ae3642",
   "metadata": {
    "scrolled": true
   },
   "outputs": [
    {
     "name": "stdout",
     "output_type": "stream",
     "text": [
      "objc[8881]: Class SheetSupport is implemented in both /Users/zhaiman/opt/github/RBC-GEM/code/notebooks/libquaqua64.jnilib (0x13a9c9258) and /Users/zhaiman/opt/github/RBC-GEM/code/notebooks/libquaqua64.dylib (0x13c458258). One of the two will be used. Which one is undefined.\n",
      "------------------------------------------------------------\n",
      "EscherConverter version 1.2.1\n",
      "Copyright © 2015-2019 University of Tübingen\n",
      "    Systems Biology Research Group.\n",
      "This program comes with ABSOLUTELY NO WARRANTY.\n",
      "This is free software, and you are welcome\n",
      "to redistribute it under certain conditions.\n",
      "See http://www.opensource.org/licenses/mit-license.php.\n",
      "------------------------------------------------------------\n"
     ]
    }
   ],
   "source": [
    "converter_path = f\"{ROOT_PATH}{EXTERNAL_PATH}/EscherConverter-1.2.1.jar\"\n",
    "converted_output_filepath = {\n",
    "    \"SBGN\": f\"{ROOT_PATH}{MAP_PATH}/{map_name}.converted.sbgn\",\n",
    "    \"SBML\": f\"{ROOT_PATH}{MAP_PATH}/{map_name}.converted.sbml\",\n",
    "    \"Escher\": f\"{ROOT_PATH}{MAP_PATH}/{map_name}.converted.json\",\n",
    "}[convert_to]\n",
    "!java -jar -Xms8G -Xmx8G -Duser.language=en \"$converter_path\" --input=\"$map_json_filepath\" --output=\"$converted_output_filepath\" --gui=false --log-level=\"$log_level\""
   ]
  }
 ],
 "metadata": {
  "kernelspec": {
   "display_name": "Python 3 (ipykernel)",
   "language": "python",
   "name": "python3"
  },
  "language_info": {
   "codemirror_mode": {
    "name": "ipython",
    "version": 3
   },
   "file_extension": ".py",
   "mimetype": "text/x-python",
   "name": "python",
   "nbconvert_exporter": "python",
   "pygments_lexer": "ipython3",
   "version": "3.11.7"
  }
 },
 "nbformat": 4,
 "nbformat_minor": 5
}
