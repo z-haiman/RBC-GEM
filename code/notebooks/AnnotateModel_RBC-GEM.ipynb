{
 "cells": [
  {
   "cell_type": "markdown",
   "id": "61031c7c-b64e-4aec-b2e5-f9c656ee3c89",
   "metadata": {},
   "source": [
    "# Annotate RBC-GEM\n",
    "\n",
    "## Setup\n",
    "### Import packages"
   ]
  },
  {
   "cell_type": "code",
   "execution_count": null,
   "id": "63c47b2a-cb9f-40f8-a2fb-de78ac00d860",
   "metadata": {},
   "outputs": [],
   "source": [
    "import pandas as pd\n",
    "import matplotlib.pyplot as plt\n",
    "\n",
    "from rbc_gem_utils import (\n",
    "    COBRA_CONFIGURATION,\n",
    "    ROOT_PATH,\n",
    "    MODEL_PATH,\n",
    "    get_annotation_df,\n",
    "    compare_tables,\n",
    "    visualize_comparison,\n",
    "    read_rbc_model,\n",
    "    write_rbc_model,\n",
    "    show_versions,\n",
    ")\n",
    "\n",
    "from rbc_gem_utils.util import split_string\n",
    "# Display versions of last time notebook ran and worked\n",
    "show_versions()"
   ]
  },
  {
   "cell_type": "markdown",
   "id": "a6466129-da91-4a11-ae95-c53c8f811713",
   "metadata": {},
   "source": [
    "### Define configuration\n",
    "#### COBRA Configuration"
   ]
  },
  {
   "cell_type": "code",
   "execution_count": null,
   "id": "24b3bea0-9f2d-4f14-949d-8ee60ee08365",
   "metadata": {},
   "outputs": [],
   "source": [
    "COBRA_CONFIGURATION"
   ]
  },
  {
   "cell_type": "markdown",
   "id": "313b5dab-bde3-48f1-9103-4f53736fe132",
   "metadata": {},
   "source": [
    "## Load RBC-GEM model\n",
    "### Current Version: 0.2.0"
   ]
  },
  {
   "cell_type": "code",
   "execution_count": null,
   "id": "81a721a7-dd3a-427b-8759-99a0320ebce3",
   "metadata": {},
   "outputs": [],
   "source": [
    "old_model = read_rbc_model(filetype=\"xml\")\n",
    "old_model"
   ]
  },
  {
   "cell_type": "markdown",
   "id": "56e992a9-fe5d-4ee1-b315-b55bbaaf305b",
   "metadata": {},
   "source": [
    "## Set annotations on model"
   ]
  },
  {
   "cell_type": "code",
   "execution_count": null,
   "id": "175db332-eb8d-4761-af60-334780f60ce3",
   "metadata": {},
   "outputs": [],
   "source": [
    "replace_annotations = True\n",
    "annotation_types = [\"reactions\", \"metabolites\", \"genes\"]\n",
    "model = old_model.copy()\n",
    "\n",
    "for annotation_type in annotation_types:\n",
    "    df_annotation = pd.read_csv(\n",
    "        f\"{ROOT_PATH}{MODEL_PATH}/{annotation_type}.tsv\", \n",
    "        sep=\"\\t\", \n",
    "        index_col=0,\n",
    "        dtype=str,\n",
    "    )\n",
    "    for idx, row in df_annotation.set_index(annotation_type).iterrows():\n",
    "        item = getattr(model, annotation_type).get_by_id(idx)\n",
    "        values = {k: split_string(v) for k, v in row.dropna().to_dict().items()}\n",
    "        values.update({k: v[0] for k, v in values.items() if len(v) == 1})\n",
    "        if replace_annotations:\n",
    "            item.annotation = values\n",
    "        else:\n",
    "            item.annotation.update(values)\n",
    "df_annotation"
   ]
  },
  {
   "cell_type": "markdown",
   "id": "41a35dd0-8a68-47a6-b433-f2a6c154add1",
   "metadata": {},
   "source": [
    "### Compare before overwriting"
   ]
  },
  {
   "cell_type": "code",
   "execution_count": null,
   "id": "34a58e05-3b17-430e-8ba6-6114e5bd1e77",
   "metadata": {},
   "outputs": [],
   "source": [
    "df_old_model = {}\n",
    "for annotation_type in annotation_types:\n",
    "    all_annotation_keys = set()\n",
    "    for annotation in getattr(old_model, annotation_type).list_attr(\"annotation\"):\n",
    "        all_annotation_keys.update(list(annotation.keys()))\n",
    "    # Get annotation df is agnostic to object type, swap ID column with the `annotation_type`\n",
    "    df_old_model[annotation_type] = get_annotation_df(\n",
    "        getattr(old_model, annotation_type), \n",
    "        sorted(list(all_annotation_keys))\n",
    "    ).rename({\"id\": annotation_type}, axis=1)\n",
    "\n",
    "df_new_model = {}\n",
    "for annotation_type in annotation_types:\n",
    "    all_annotation_keys = set()\n",
    "    for annotation in getattr(model, annotation_type).list_attr(\"annotation\"):\n",
    "        all_annotation_keys.update(list(annotation.keys()))\n",
    "    # Get annotation df is agnostic to object type, swap ID column with the `annotation_type`\n",
    "    df_new_model[annotation_type] = get_annotation_df(\n",
    "        getattr(model, annotation_type), \n",
    "        sorted(list(all_annotation_keys))\n",
    "    ).rename({\"id\": annotation_type}, axis=1)"
   ]
  },
  {
   "cell_type": "code",
   "execution_count": null,
   "id": "87dbae83-5fdc-41aa-8e54-bea3e6792241",
   "metadata": {},
   "outputs": [],
   "source": [
    "annotation_type = \"reactions\"\n",
    "df_comparision = compare_tables(\n",
    "    df_old_model[annotation_type].set_index(annotation_type),\n",
    "    df_new_model[annotation_type].set_index(annotation_type),\n",
    ")\n",
    "visualize_comparison(df_comparision)"
   ]
  },
  {
   "cell_type": "code",
   "execution_count": null,
   "id": "e7bcdbe9-d4be-41f5-9c9c-e35ef2202165",
   "metadata": {},
   "outputs": [],
   "source": [
    "annotation_type = \"metabolites\"\n",
    "df_comparision = compare_tables(\n",
    "    df_old_model[annotation_type].set_index(annotation_type),\n",
    "    df_new_model[annotation_type].set_index(annotation_type),\n",
    ")\n",
    "visualize_comparison(df_comparision)"
   ]
  },
  {
   "cell_type": "code",
   "execution_count": null,
   "id": "906e15e1-9316-46c8-ad5f-ef1295bbfbe8",
   "metadata": {},
   "outputs": [],
   "source": [
    "annotation_type = \"genes\"\n",
    "df_comparision = compare_tables(\n",
    "    df_old_model[annotation_type].set_index(annotation_type),\n",
    "    df_new_model[annotation_type].set_index(annotation_type),\n",
    ")\n",
    "visualize_comparison(df_comparision)"
   ]
  },
  {
   "cell_type": "markdown",
   "id": "34c6c7ff-9d46-4ce1-a1b3-d5c3fd3ce5e4",
   "metadata": {},
   "source": [
    "## Export model"
   ]
  },
  {
   "cell_type": "code",
   "execution_count": null,
   "id": "3fb1bdd9-b7cb-421e-8cd6-51b75fdd422c",
   "metadata": {},
   "outputs": [],
   "source": [
    "write_rbc_model(model, filetype=\"all\")"
   ]
  }
 ],
 "metadata": {
  "kernelspec": {
   "display_name": "Python 3 (ipykernel)",
   "language": "python",
   "name": "python3"
  },
  "language_info": {
   "codemirror_mode": {
    "name": "ipython",
    "version": 3
   },
   "file_extension": ".py",
   "mimetype": "text/x-python",
   "name": "python",
   "nbconvert_exporter": "python",
   "pygments_lexer": "ipython3",
   "version": "3.12.0"
  }
 },
 "nbformat": 4,
 "nbformat_minor": 5
}
