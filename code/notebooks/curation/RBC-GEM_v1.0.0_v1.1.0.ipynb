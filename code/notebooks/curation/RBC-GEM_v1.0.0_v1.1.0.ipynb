{
 "cells": [
  {
   "cell_type": "markdown",
   "id": "ba9c3d2c-72da-416c-8612-8a3f91eee20a",
   "metadata": {},
   "source": [
    "# RBC-GEM 1.1.0 Updates\n",
    "## Setup\n",
    "### Import packages"
   ]
  },
  {
   "cell_type": "code",
   "execution_count": null,
   "id": "194c1f88-6d9b-40d5-b468-86da5bc66f1c",
   "metadata": {},
   "outputs": [],
   "source": [
    "import pandas as pd\n",
    "from cobra.core import Gene, Group, Metabolite, Reaction\n",
    "from rbc_gem_utils import (\n",
    "    COBRA_CONFIGURATION,\n",
    "    build_string,\n",
    "    get_dirpath,\n",
    "    read_cobra_model,\n",
    "    write_cobra_model,\n",
    ")\n",
    "from rbc_gem_utils.qc import standardardize_metabolite_formulas"
   ]
  },
  {
   "cell_type": "markdown",
   "id": "945a5ce1-932d-4622-a823-c54b76b48d99",
   "metadata": {},
   "source": [
    "### Define configuration\n",
    "#### COBRA Configuration"
   ]
  },
  {
   "cell_type": "code",
   "execution_count": null,
   "id": "0c9d3e47-f2f1-44e6-9333-4adec35ef021",
   "metadata": {},
   "outputs": [],
   "source": [
    "COBRA_CONFIGURATION"
   ]
  },
  {
   "cell_type": "markdown",
   "id": "f967b496-7302-49a9-a474-45b13dc70980",
   "metadata": {},
   "source": [
    "## Load RBC-GEM model\n",
    "### Version: 1.0.0"
   ]
  },
  {
   "cell_type": "code",
   "execution_count": null,
   "id": "787d69b8-f885-4cda-9598-505f2b72b8c5",
   "metadata": {},
   "outputs": [],
   "source": [
    "model_dirpath = get_dirpath(\"model\")\n",
    "model = read_cobra_model(filename=model_dirpath / f\"{GEM_NAME}.yml\")\n",
    "model"
   ]
  },
  {
   "cell_type": "markdown",
   "id": "6a1c443b-d26f-41e6-a674-30a1c91900db",
   "metadata": {},
   "source": [
    "### Deprecate identifiers"
   ]
  },
  {
   "cell_type": "code",
   "execution_count": null,
   "id": "91e9978b-8421-45e9-8260-35b86b855dfc",
   "metadata": {},
   "outputs": [],
   "source": [
    "id_mapping_dicts = {\"metabolites\": {}, \"genes\": {}, \"reactions\": {\"ARD\": \"ARDFE2\"}}"
   ]
  },
  {
   "cell_type": "markdown",
   "id": "624e20c3-db6d-4ec6-96fc-9600cc998e1f",
   "metadata": {},
   "source": [
    "### Update model based on curation and proteomic evidence\n",
    "* Add metabolites first, then genes and lastly, reactions\n",
    "* Add metabolites with mass and charge balanced formulas (ChemAxon)"
   ]
  },
  {
   "cell_type": "code",
   "execution_count": null,
   "id": "03deaf1e-18e7-4ce7-ae1b-597650a70cd3",
   "metadata": {},
   "outputs": [],
   "source": [
    "dataframes_updated = {}\n",
    "dataframes_evidence = {}\n",
    "overwrite = False"
   ]
  },
  {
   "cell_type": "code",
   "execution_count": null,
   "id": "4a06785a-c2fb-400b-b4ab-b8d0c42ea9ac",
   "metadata": {},
   "outputs": [],
   "source": [
    "attribute_type = \"reactions\"\n",
    "id_mapping_dict = id_mapping_dicts[attribute_type]\n",
    "\n",
    "\n",
    "id_mapping_df = pd.DataFrame.from_dict(id_mapping_dict, orient=\"index\")\n",
    "id_mapping_df = id_mapping_df.reset_index(drop=False)\n",
    "id_mapping_df.columns = [\"rxnRetired\", \"rxns\"]\n",
    "id_mapping_df = id_mapping_df.loc[:, id_mapping_df.columns[::-1]]\n",
    "\n",
    "previous_id_mapping_df = pd.read_csv(\n",
    "    get_dirpath(\"deprecatedIdentifiers\")\n",
    "    / f\"{attribute_type}_deprecatedIdentifiers.tsv\",\n",
    "    sep=\"\\t\",\n",
    "    index_col=None,\n",
    ")\n",
    "\n",
    "for idx, row in id_mapping_df.iterrows():\n",
    "    new_id, retiring = row[[\"rxns\", \"rxnRetired\"]]\n",
    "    previously_retired = previous_id_mapping_df[\n",
    "        previous_id_mapping_df[\"rxns\"] == retiring\n",
    "    ]\n",
    "    retired_set_of_ids = {retiring}\n",
    "    if not previously_retired.empty:\n",
    "        # Get all previously retired IDs\n",
    "        retired_set_of_ids.update(\n",
    "            previously_retired[\"rxnRetired\"].apply(split_string).item()\n",
    "        )\n",
    "        # Pulling the ID out of retirement\n",
    "        if new_id in retired_set_of_ids:\n",
    "            retired_set_of_ids.remove(new_id)\n",
    "        retired_set_of_ids.add(retiring)\n",
    "    id_mapping_df.loc[idx, \"rxnRetired\"] = build_string(retired_set_of_ids, sep=\";\")\n",
    "\n",
    "for old, new in id_mapping_dict.items():\n",
    "    try:\n",
    "        reaction = model.reactions.get_by_id(old)\n",
    "    except KeyError:\n",
    "        print(f\"Could not map {old} to new ID.\")\n",
    "    else:\n",
    "        reaction.id = id_mapping_dict[reaction.id]\n",
    "\n",
    "model.repair()\n",
    "\n",
    "id_mapping_df = pd.concat((id_mapping_df, previous_id_mapping_df), axis=0)\n",
    "id_mapping_df = id_mapping_df.drop_duplicates().reset_index(drop=True)\n",
    "if overwrite:\n",
    "    id_mapping_df.to_csv(\n",
    "        get_dirpath(\"deprecatedIdentifiers\")\n",
    "        / f\"{attribute_type}_deprecatedIdentifiers.tsv\",\n",
    "        sep=\"\\t\",\n",
    "    )\n",
    "id_mapping_df"
   ]
  },
  {
   "cell_type": "markdown",
   "id": "33b32955-a0d5-45c6-81e4-183760ce44d0",
   "metadata": {},
   "source": [
    "#### Metabolites"
   ]
  },
  {
   "cell_type": "code",
   "execution_count": null,
   "id": "e073dc66-8abb-48e3-9c70-7dc447806c2d",
   "metadata": {},
   "outputs": [],
   "source": [
    "attribute_type = \"metabolites\"\n",
    "\n",
    "df_updated = pd.read_csv(\n",
    "    get_dirpath(\"curated\") / f\"{attribute_type}_updated_1.1.0.tsv\",\n",
    "    sep=\"\\t\",\n",
    "    index_col=0,\n",
    "    dtype=str,\n",
    ").fillna(\"\")\n",
    "\n",
    "attr_cols = [\"metabolites\", \"name\", \"formula\", \"charge\", \"compartment\"]\n",
    "for idx, row in df_updated.iterrows():\n",
    "    mid, name, formula, charge, compartment = row[attr_cols]\n",
    "    if not model.metabolites.has_id(mid):\n",
    "        # Add reaction to model\n",
    "        model.add_metabolites([Metabolite(mid)])\n",
    "        # print(mid)\n",
    "\n",
    "    metabolite = model.metabolites.get_by_id(mid)\n",
    "    metabolite.name = name\n",
    "    metabolite.formula = formula\n",
    "    metabolite.charge = int(charge)\n",
    "    metabolite.compartment = compartment\n",
    "\n",
    "    annotations_dict = row[~row.index.isin(attr_cols)].to_dict()\n",
    "    notes = annotations_dict.pop(\"notes\")\n",
    "    if notes:\n",
    "        metabolite.notes.update({\"notes\": notes})\n",
    "    annotations_dict = {\n",
    "        k: v\n",
    "        for k, v in annotations_dict.items()\n",
    "        if not k.startswith(\"metabolomic\") and v\n",
    "    }\n",
    "    metabolite.annotation.update(annotations_dict)\n",
    "\n",
    "met_formulas = standardardize_metabolite_formulas(\n",
    "    dict(zip(model.metabolites.list_attr(\"id\"), model.metabolites.list_attr(\"formula\")))\n",
    ")\n",
    "for mid, formula in met_formulas.items():\n",
    "    model.metabolites.get_by_id(mid).formula = formula\n",
    "\n",
    "dataframes_updated[attribute_type] = df_updated\n",
    "\n",
    "try:\n",
    "    df_previous_evidence = pd.read_csv(\n",
    "        get_dirpath(\"curated\") / f\"{attribute_type}_evidence.tsv\",\n",
    "        sep=\"\\t\",\n",
    "        index_col=None,\n",
    "        dtype=str,\n",
    "    )\n",
    "except FileNotFoundError:\n",
    "    df_previous_evidence = pd.DataFrame([], columns=[attribute_type], dtype=str)\n",
    "\n",
    "\n",
    "df_evidence = pd.concat((df_updated, df_previous_evidence), axis=0)\n",
    "df_evidence = df_evidence.drop_duplicates(subset=[attribute_type]).reset_index(\n",
    "    drop=True\n",
    ")\n",
    "if overwrite:\n",
    "    df_evidence.to_csv(\n",
    "        get_dirpath(\"curated\") / f\"{attribute_type}_evidence.tsv\", sep=\"\\t\"\n",
    "    )\n",
    "\n",
    "dataframes_evidence[attribute_type] = df_evidence\n",
    "dataframes_updated[attribute_type]"
   ]
  },
  {
   "cell_type": "markdown",
   "id": "142935ef-76b4-4ccb-8ba6-2a3f999c2f2b",
   "metadata": {},
   "source": [
    "#### Genes"
   ]
  },
  {
   "cell_type": "code",
   "execution_count": null,
   "id": "852b2f5f-4195-464b-b880-63ada6769a84",
   "metadata": {},
   "outputs": [],
   "source": [
    "attribute_type = \"genes\"\n",
    "\n",
    "df_updated = (\n",
    "    pd.read_csv(\n",
    "        get_dirpath(\"curated\") / f\"{attribute_type}_updated_1.1.0.tsv\",\n",
    "        sep=\"\t\",\n",
    "        index_col=None,\n",
    "        dtype=str,\n",
    "    )\n",
    "    .fillna(\"\")\n",
    "    .reset_index(drop=True)\n",
    ")\n",
    "\n",
    "attr_cols = [\"genes\"]\n",
    "for idx, row in df_updated.iterrows():\n",
    "    # Between these three annotation fields, should be likely that the rest can get extracted from UniProt.\n",
    "    gid = row[attr_cols[0]]\n",
    "    if not model.genes.has_id(gid):\n",
    "        gene = Gene(gid)\n",
    "        model.genes.extend([gene])\n",
    "        # print(gene.id)\n",
    "    gene = model.genes.get_by_id(gid)\n",
    "    annotations_dict = row[~row.index.isin(attr_cols)].to_dict()\n",
    "    annotations_dict = {\n",
    "        k: v for k, v in annotations_dict.items() if not k.startswith(\"proteomic\") and v\n",
    "    }\n",
    "    gene.annotation.update(annotations_dict)\n",
    "\n",
    "dataframes_updated[attribute_type] = df_updated\n",
    "\n",
    "try:\n",
    "    df_previous_evidence = pd.read_csv(\n",
    "        get_dirpath(\"curated\") / f\"{attribute_type}_evidence.tsv\",\n",
    "        sep=\"\t\",\n",
    "        index_col=None,\n",
    "        dtype=str,\n",
    "    )\n",
    "except FileNotFoundError:\n",
    "    df_previous_evidence = pd.DataFrame([], columns=[attribute_type], dtype=str)\n",
    "\n",
    "\n",
    "df_evidence = pd.concat((df_updated, df_previous_evidence), axis=0).reset_index(\n",
    "    drop=True\n",
    ")\n",
    "df_evidence = df_evidence.drop_duplicates(subset=[attribute_type]).reset_index(\n",
    "    drop=True\n",
    ")\n",
    "\n",
    "if overwrite:\n",
    "    df_evidence.to_csv(\n",
    "        get_dirpath(\"curated\")H / f\"{attribute_type}_evidence.tsv\", sep=\"\t\"\n",
    "    )\n",
    "\n",
    "dataframes_evidence[attribute_type] = df_evidence\n",
    "dataframes_updated[attribute_type]"
   ]
  },
  {
   "cell_type": "markdown",
   "id": "3b1b3476-7c28-4164-a425-87ea22f92085",
   "metadata": {},
   "source": [
    "#### Reactions"
   ]
  },
  {
   "cell_type": "code",
   "execution_count": null,
   "id": "ff19985d-2a62-4283-8da0-6b8177927b92",
   "metadata": {},
   "outputs": [],
   "source": [
    "attribute_type = \"reactions\"\n",
    "\n",
    "df_updated = pd.read_csv(\n",
    "    get_dirpath(\"curated\") / f\"{attribute_type}_updated_1.1.0.tsv\",\n",
    "    sep=\"\\t\",\n",
    "    index_col=None,\n",
    "    dtype=str,\n",
    ").fillna(\"\")\n",
    "\n",
    "attr_cols = [\"reactions\", \"name\", \"reaction\", \"gene reaction rule\", \"subsystem\"]\n",
    "for idx, row in df_updated.iterrows():\n",
    "    rid, name, reaction_str, gpr, subsystem = row[attr_cols]\n",
    "    if not model.reactions.has_id(rid):\n",
    "        # Add reaction to model\n",
    "        model.add_reactions([Reaction(rid)])\n",
    "\n",
    "    reaction = model.reactions.get_by_id(rid)\n",
    "    reaction.build_reaction_from_string(reaction_str)\n",
    "    reaction.name = name\n",
    "    reaction.gene_reaction_rule = gpr\n",
    "    reaction.subsystem = subsystem\n",
    "\n",
    "    annotations_dict = row[~row.index.isin(attr_cols)].to_dict()\n",
    "    notes = annotations_dict.pop(\"notes\")\n",
    "    if notes:\n",
    "        reaction.notes.update({\"notes\": notes})\n",
    "    if \"proteomic evidence (#studies)\" in annotations_dict:\n",
    "        annotations_dict.pop(\"proteomic evidence (#studies)\")\n",
    "    annotations_dict = {\n",
    "        k: v for k, v in annotations_dict.items() if not k.startswith(\"proteomic\") and v\n",
    "    }\n",
    "    reaction.annotation.update(annotations_dict)\n",
    "\n",
    "\n",
    "dataframes_updated[attribute_type] = df_updated\n",
    "\n",
    "try:\n",
    "    df_previous_evidence = pd.read_csv(\n",
    "        get_dirpath(\"curated\") / f\"{attribute_type}_evidence.tsv\",\n",
    "        sep=\"\\t\",\n",
    "        index_col=None,\n",
    "        dtype=str,\n",
    "    )\n",
    "except FileNotFoundError:\n",
    "    df_previous_evidence = pd.DataFrame([], columns=[attribute_type], dtype=str)\n",
    "\n",
    "df_evidence = pd.concat((df_updated, df_previous_evidence), axis=0)\n",
    "df_evidence[attribute_type] = df_evidence[attribute_type].replace(\n",
    "    id_mapping_dicts[attribute_type]\n",
    ")\n",
    "df_evidence = df_evidence.drop_duplicates(subset=[attribute_type]).reset_index(\n",
    "    drop=True\n",
    ")\n",
    "if overwrite:\n",
    "    df_evidence.to_csv(\n",
    "        get_dirpath(\"curated\") / f\"{attribute_type}_evidence.tsv\", sep=\"\\t\"\n",
    "    )\n",
    "\n",
    "dataframes_evidence[attribute_type] = df_evidence\n",
    "dataframes_updated[attribute_type]"
   ]
  },
  {
   "cell_type": "markdown",
   "id": "886da88c-00c0-4638-974f-2766333f4d7b",
   "metadata": {},
   "source": [
    "### Ensure all metabolites, genes, and reactions exist"
   ]
  },
  {
   "cell_type": "code",
   "execution_count": null,
   "id": "c56939d1-4a0c-4f68-b200-b84d7da345d9",
   "metadata": {},
   "outputs": [],
   "source": [
    "missing_metabolites = set(model.metabolites.list_attr(\"id\")).symmetric_difference(\n",
    "    dataframes_evidence[\"metabolites\"][\"metabolites\"].values\n",
    ")\n",
    "\n",
    "missing_genes = set(model.genes.list_attr(\"id\")).symmetric_difference(\n",
    "    dataframes_evidence[\"genes\"][\"genes\"].values\n",
    ")\n",
    "\n",
    "missing_reactions = set(\n",
    "    model.reactions.query(lambda x: not x.subsystem == \"Pseudoreactions\").list_attr(\n",
    "        \"id\"\n",
    "    )\n",
    ").symmetric_difference(dataframes_evidence[\"reactions\"][\"reactions\"].values)\n",
    "\n",
    "print(len(missing_genes))\n",
    "print(len(missing_metabolites))\n",
    "print(len(missing_reactions))"
   ]
  },
  {
   "cell_type": "code",
   "execution_count": null,
   "id": "0b599fc1-7603-4bb5-a8c3-1efc01f1aa54",
   "metadata": {},
   "outputs": [],
   "source": [
    "missing_genes, missing_metabolites, missing_reactions"
   ]
  },
  {
   "cell_type": "code",
   "execution_count": null,
   "id": "382efe39-c1a3-43b8-a129-853ad91020b9",
   "metadata": {},
   "outputs": [],
   "source": [
    "for x in missing_genes:\n",
    "    print(x)"
   ]
  },
  {
   "cell_type": "markdown",
   "id": "5ac24451-ec72-4565-8cb8-8fc57c6ee2d9",
   "metadata": {},
   "source": [
    "#### Add exchanges"
   ]
  },
  {
   "cell_type": "code",
   "execution_count": null,
   "id": "b424c4c7-dd7d-4473-b9e4-f0b69b9278b5",
   "metadata": {},
   "outputs": [],
   "source": [
    "boundaries = {\n",
    "    # \"adprbp_c\": \"demand\"\n",
    "}\n",
    "for met, btype in boundaries.items():\n",
    "    met = model.metabolites.get_by_id(met)\n",
    "    try:\n",
    "        model.add_boundary(met, type=btype)\n",
    "    except ValueError:\n",
    "        pass\n",
    "\n",
    "\n",
    "for met in model.metabolites.query(lambda x: x.compartment == \"e\"):\n",
    "    try:\n",
    "        model.add_boundary(met, type=\"exchange\")\n",
    "    except ValueError:\n",
    "        pass\n",
    "\n",
    "for reaction in model.boundary:\n",
    "    reaction.subsystem = \"Pseudoreactions\""
   ]
  },
  {
   "cell_type": "markdown",
   "id": "ff186a49-66a1-444c-92dc-0f1eca0464d9",
   "metadata": {},
   "source": [
    "#### Reset subsystem groups"
   ]
  },
  {
   "cell_type": "code",
   "execution_count": null,
   "id": "5037b248-ee81-442e-aa81-dd8acd25380f",
   "metadata": {},
   "outputs": [],
   "source": [
    "model.remove_groups(model.groups)\n",
    "for subsystem in sorted(set(model.reactions.list_attr(\"subsystem\"))):\n",
    "    reaction_list = model.reactions.query(lambda x: x.subsystem == subsystem)\n",
    "    if subsystem not in model.groups:\n",
    "        group = Group(id=subsystem, name=subsystem, members=reaction_list)\n",
    "        model.add_groups([group])\n",
    "    else:\n",
    "        group = model.groups.get_by_id(subsystem).add_members(reaction_list)"
   ]
  },
  {
   "cell_type": "markdown",
   "id": "5e2ba5b6-68bb-4160-bcfa-58fe424d8025",
   "metadata": {},
   "source": [
    "### Check mass balancing"
   ]
  },
  {
   "cell_type": "code",
   "execution_count": null,
   "id": "d47506ac-f31a-4730-93dc-95fef5cf1986",
   "metadata": {},
   "outputs": [],
   "source": [
    "for reaction in model.reactions:\n",
    "    if reaction.boundary:\n",
    "        continue\n",
    "    if reaction.check_mass_balance():\n",
    "        print(reaction)\n",
    "        print(reaction.check_mass_balance())\n",
    "        print()"
   ]
  },
  {
   "cell_type": "markdown",
   "id": "731963be-00fb-4b86-bef7-85a6ac5b1561",
   "metadata": {},
   "source": [
    "### Remove duplicated reaction"
   ]
  },
  {
   "cell_type": "code",
   "execution_count": null,
   "id": "26fa138f-cd17-49f4-9298-5c94aa4c22ff",
   "metadata": {},
   "outputs": [],
   "source": [
    "duplicated_reaction = model.reactions.get_by_id(\"GLCt1\")\n",
    "# Fix annotations\n",
    "original_reaction = model.reactions.get_by_id(\"GLC_Dt\")\n",
    "original_reaction.annotation.update(duplicated_reaction.annotation)\n",
    "\n",
    "model.remove_reactions([duplicated_reaction])"
   ]
  },
  {
   "cell_type": "markdown",
   "id": "d77e6dc2-ed20-455b-aadd-8a03db5666f1",
   "metadata": {},
   "source": [
    "### Export model"
   ]
  },
  {
   "cell_type": "code",
   "execution_count": null,
   "id": "742aeb63-f41b-4280-8fc0-9a79e9410e3a",
   "metadata": {},
   "outputs": [],
   "source": [
    "write_cobra_model(\n",
    "    filename=get_dirpath(\"model\", use_temp=\"interim\" if not overwrite else None)\n",
    "    / f\"{model.id}.xml\"\n",
    ")\n",
    "write_cobra_model(\n",
    "    filename=get_dirpath(\"model\", use_temp=\"interim\" if not overwrite else None)\n",
    "    / f\"{model.id}.json\"\n",
    ")\n",
    "model"
   ]
  }
 ],
 "metadata": {
  "kernelspec": {
   "display_name": "Python 3 (ipykernel)",
   "language": "python",
   "name": "python3"
  },
  "language_info": {
   "codemirror_mode": {
    "name": "ipython",
    "version": 3
   },
   "file_extension": ".py",
   "mimetype": "text/x-python",
   "name": "python",
   "nbconvert_exporter": "python",
   "pygments_lexer": "ipython3",
   "version": "3.11.7"
  }
 },
 "nbformat": 4,
 "nbformat_minor": 5
}
