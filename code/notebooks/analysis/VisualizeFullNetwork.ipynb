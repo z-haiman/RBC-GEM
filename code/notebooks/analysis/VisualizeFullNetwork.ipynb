{
 "cells": [
  {
   "cell_type": "markdown",
   "id": "36f0279a-92b3-4671-98cf-3ac639771f3f",
   "metadata": {},
   "source": [
    "# Visualize network\n",
    "\n",
    "The purpose of this notebook is to help visualize the metabolic network via Escher and ensure that the map and model are synchronized with each other.\n",
    "\n",
    "## Using Escher online:\n",
    "Brief steps on how to load the RBC metabolic network map using Escher online. \n",
    "1. Go to https://escher.github.io/#/ and set both the map and model options to *None*. \n",
    "2. Click the *Load map* button to open a blank canvas.\n",
    "3. Use *(Ctrl+M or Cmd+M)* to load a COBRA model from a `json` file. Alternatively, click on the *Model* tab, then the *Load COBRA model JSON* option to load a new model.\n",
    "    * Load the model file **\"RBC-GEM.json\"** from the `/model` directory.\n",
    "4. Use *(Ctrl+O or Cmd+O)* to load an Escher map from a `json` file. Alternatively, click on the *Map* tab, then the *Load map JSON* option to load a new map.\n",
    "    * Load the map file **\"RBC-GEM.full.map.json\"** from the `/map` directory.\n",
    "\n",
    "## Using Escher via python API (Not recommended currently):\n",
    "It is currently not recommend to utilize the python API as the current Escher dependencies conflict with recent versions of jupyter. It is therefore up to the user to manage package dependencies to utilize the Python API for Escher. \n",
    "\n",
    "The best way to do this is to utilize a seperate virtual environment into prevent dependency conflicts and install Escher. \n",
    "1. Install Python 3.9\n",
    "2. Run the following lines to install packages (order matters!):\n",
    "\n",
    "    ```\n",
    "    cd /code # Navigate to code directory where the pyproject.toml file is located.\n",
    "    pip install escher \n",
    "    ```\n",
    "\n",
    "## Additional information\n",
    "See the [documentation for Escher](https://escher.readthedocs.io/en/latest/) for additional details on how to use Escher.\n",
    "\n",
    "\n",
    "King ZA, Dräger A, Ebrahim A, Sonnenschein N, Lewis NE, Palsson BO. Escher: A Web Application for Building, Sharing, and Embedding Data-Rich Visualizations of Biological Pathways. PLoS Comput Biol. 2015 Aug 27;11(8):e1004321. doi: 10.1371/journal.pcbi.1004321. PMID: 26313928; PMCID: PMC4552468.\n",
    "## Setup\n",
    "### Import packages"
   ]
  },
  {
   "cell_type": "code",
   "execution_count": 1,
   "id": "cda886b1-b190-4a8f-a5b2-c76343ad9562",
   "metadata": {},
   "outputs": [
    {
     "name": "stderr",
     "output_type": "stream",
     "text": [
      "/var/folders/5t/hk8m3g6d1jn25x5rssjgsrmm0000gn/T/ipykernel_77579/255983133.py:2: DeprecationWarning: \n",
      "Pyarrow will become a required dependency of pandas in the next major release of pandas (pandas 3.0),\n",
      "(to allow more performant data types, such as the Arrow string type, and better interoperability with other libraries)\n",
      "but was not found to be installed on your system.\n",
      "If this would cause problems for you,\n",
      "please provide us feedback at https://github.com/pandas-dev/pandas/issues/54466\n",
      "        \n",
      "  import pandas as pd\n"
     ]
    },
    {
     "name": "stdout",
     "output_type": "stream",
     "text": [
      "\n",
      "Package Information\n",
      "-------------------\n",
      "rbc-gem-utils 0.0.1\n",
      "\n",
      "Dependency Information\n",
      "----------------------\n",
      "beautifulsoup4                       4.12.3\n",
      "bio                                   1.6.2\n",
      "cobra                                0.29.0\n",
      "depinfo                               2.2.0\n",
      "kaleido                               0.2.1\n",
      "matplotlib                            3.8.2\n",
      "memote                               0.17.0\n",
      "networkx                              3.2.1\n",
      "notebook                              6.5.6\n",
      "openpyxl                              3.1.2\n",
      "pandas                                2.2.0\n",
      "pre-commit                            3.6.0\n",
      "pyvis                                 0.3.2\n",
      "rbc-gem-utils[database,network,vis] missing\n",
      "requests                             2.31.0\n",
      "scipy                                1.12.0\n",
      "seaborn                              0.13.2\n",
      "\n",
      "Build Tools Information\n",
      "-----------------------\n",
      "pip        23.3.1\n",
      "setuptools 68.2.2\n",
      "wheel      0.41.2\n",
      "\n",
      "Platform Information\n",
      "--------------------\n",
      "Darwin  23.6.0-x86_64\n",
      "CPython        3.9.18\n"
     ]
    }
   ],
   "source": [
    "import datetime\n",
    "import json\n",
    "from pathlib import Path\n",
    "\n",
    "import matplotlib as mpl\n",
    "import pandas as pd\n",
    "from rbc_gem_utils import (\n",
    "    GEM_NAME,\n",
    "    MAP_NAMES,\n",
    "    ensure_iterable,\n",
    "    get_dirpath,\n",
    "    read_cobra_model,\n",
    "    show_versions,\n",
    ")\n",
    "\n",
    "show_versions()"
   ]
  },
  {
   "cell_type": "markdown",
   "id": "9364b024-35ee-4d6d-ae45-2c3e715d9e03",
   "metadata": {},
   "source": [
    "## Load RBC-GEM model\n",
    "* Load the XML model to utilize annotations in any data mapping and visualization (guarunteed to have annotations).\n",
    "* Use the JSON model to check against the model file that gets loaded into Escher."
   ]
  },
  {
   "cell_type": "code",
   "execution_count": 2,
   "id": "58d4c46b-235e-475c-b174-9c18c0026e6f",
   "metadata": {
    "scrolled": true
   },
   "outputs": [
    {
     "data": {
      "text/html": [
       "\n",
       "        <table>\n",
       "            <tr>\n",
       "                <td><strong>Name</strong></td>\n",
       "                <td>RBC_GEM</td>\n",
       "            </tr><tr>\n",
       "                <td><strong>Memory address</strong></td>\n",
       "                <td>7fc4a13225b0</td>\n",
       "            </tr><tr>\n",
       "                <td><strong>Number of metabolites</strong></td>\n",
       "                <td>2157</td>\n",
       "            </tr><tr>\n",
       "                <td><strong>Number of reactions</strong></td>\n",
       "                <td>3281</td>\n",
       "            </tr><tr>\n",
       "                <td><strong>Number of genes</strong></td>\n",
       "                <td>820</td>\n",
       "            </tr><tr>\n",
       "                <td><strong>Number of groups</strong></td>\n",
       "                <td>78</td>\n",
       "            </tr><tr>\n",
       "                <td><strong>Objective expression</strong></td>\n",
       "                <td>1.0*NaKt - 1.0*NaKt_reverse_db47e</td>\n",
       "            </tr><tr>\n",
       "                <td><strong>Compartments</strong></td>\n",
       "                <td>cytosol, extracellular space</td>\n",
       "            </tr>\n",
       "          </table>"
      ],
      "text/plain": [
       "<Model RBC_GEM at 0x7fc4a13225b0>"
      ]
     },
     "execution_count": 2,
     "metadata": {},
     "output_type": "execute_result"
    }
   ],
   "source": [
    "model_dirpath = get_dirpath(\"model\")\n",
    "model = read_cobra_model(filename=model_dirpath / f\"{GEM_NAME}.xml\")\n",
    "model"
   ]
  },
  {
   "cell_type": "markdown",
   "id": "fd4d872b-0514-4b5f-9e2d-64d65432a819",
   "metadata": {},
   "source": [
    "## Load map JSON"
   ]
  },
  {
   "cell_type": "code",
   "execution_count": 3,
   "id": "e9f5573c-279d-4ea4-8f33-70eae91f473a",
   "metadata": {
    "scrolled": true
   },
   "outputs": [
    {
     "name": "stdout",
     "output_type": "stream",
     "text": [
      "{'RBC-GEM.full.map'}\n"
     ]
    }
   ],
   "source": [
    "save_figures = True\n",
    "\n",
    "print(MAP_NAMES)\n",
    "map_name = \"RBC-GEM.full.map\"\n",
    "log_level = \"OFF\"\n",
    "\n",
    "map_json_filepath = get_dirpath(\"map\") / f\"{map_name}.json\"\n",
    "results_path = get_dirpath(use_temp=\"processed\") / model.id / \"Maps\"\n",
    "results_path.mkdir(exist_ok=True, parents=True)"
   ]
  },
  {
   "cell_type": "markdown",
   "id": "6a255e44-950e-4cf1-ac28-946219bc5266",
   "metadata": {},
   "source": [
    "### Format data for viewing on map"
   ]
  },
  {
   "cell_type": "code",
   "execution_count": 4,
   "id": "42792696",
   "metadata": {},
   "outputs": [],
   "source": [
    "try:\n",
    "    import escher\n",
    "\n",
    "    escher.rc[\"never_ask_before_quit\"] = True\n",
    "except ImportError:\n",
    "    escher = None"
   ]
  },
  {
   "cell_type": "code",
   "execution_count": 5,
   "id": "7ca6ea09-94aa-4e0e-9d4e-556f913fcfe6",
   "metadata": {},
   "outputs": [],
   "source": [
    "reaction_data = {}\n",
    "metabolite_data = {}\n",
    "gene_data = {}\n",
    "reaction_scale = []\n",
    "metabolite_scale = []"
   ]
  },
  {
   "cell_type": "markdown",
   "id": "f531a30f-b960-4003-a87c-3c4ec13978b8",
   "metadata": {},
   "source": [
    "#### Example: categorized by subsystems"
   ]
  },
  {
   "cell_type": "code",
   "execution_count": 6,
   "id": "8ac271d5-56c0-47db-92da-62b7c4dee593",
   "metadata": {},
   "outputs": [],
   "source": [
    "df_pathways = pd.read_csv(\n",
    "    get_dirpath(\"curation\") / \"subsystems.tsv\", sep=\"\t\", dtype=str\n",
    ")\n",
    "df_pathways[\"category\"] = df_pathways[\"category\"].replace(\n",
    "    \"Metabolism of other amino acids\", \"Amino acid metabolism\"\n",
    ")\n",
    "\n",
    "categories_to_exclude = {\"Pseudoreactions\", \"Model total\"}\n",
    "\n",
    "cmax = 0.8\n",
    "colors = {\n",
    "    \"Amino acid metabolism\": mpl.colors.to_hex(mpl.cm.spring(cmax)),\n",
    "    \"Carbohydrate metabolism\": mpl.colors.to_hex(mpl.cm.Greens(cmax)),\n",
    "    \"Lipid metabolism\": mpl.colors.to_hex(mpl.cm.Blues(cmax)),\n",
    "    \"Metabolism of cofactors and vitamins\": mpl.colors.to_hex(mpl.cm.summer(cmax)),\n",
    "    \"Nucleotide metabolism\": mpl.colors.to_hex(mpl.cm.winter(cmax)),\n",
    "    \"Reactive species\": mpl.colors.to_hex(mpl.cm.Reds(cmax)),\n",
    "    \"Transport reactions\": mpl.colors.to_hex(mpl.cm.Purples(cmax)),\n",
    "    \"Other\": mpl.colors.to_hex(mpl.cm.gray_r(cmax)),\n",
    "}\n",
    "\n",
    "reaction_scales_mapping = {\n",
    "    subsystem: {\"type\": \"value\", \"value\": f\"{val}\", \"color\": f\"{color}\"}\n",
    "    for val, (subsystem, color) in enumerate(colors.items(), start=1)\n",
    "}\n",
    "\n",
    "\n",
    "reaction_data = {}\n",
    "df_cat_subsystems = df_pathways.groupby(\"category\")[\"name\"].agg(lambda x: list(x))\n",
    "for category, subsystem_list in df_cat_subsystems.items():\n",
    "    if category in categories_to_exclude:\n",
    "        continue\n",
    "    if (\n",
    "        category not in reaction_scales_mapping\n",
    "        and category not in categories_to_exclude\n",
    "    ):\n",
    "        category = \"Other\"\n",
    "\n",
    "    reaction_data.update(\n",
    "        {\n",
    "            reaction.id: reaction_scales_mapping[category][\"value\"]\n",
    "            for group in model.groups.get_by_any(subsystem_list)\n",
    "            for reaction in group.members\n",
    "        }\n",
    "    )\n",
    "\n",
    "reaction_scale = list(reaction_scales_mapping.values())\n",
    "if escher is not None:\n",
    "    builder = escher.Builder(\n",
    "        map_json=map_json_filepath,\n",
    "        # model=model,\n",
    "        model_json=get_dirpath(use_temp=\"model\") /{GEM_NAME}.json\",\n",
    "    )\n",
    "\n",
    "    for attr, value in dict(\n",
    "        reaction_data=reaction_data,\n",
    "        metabolite_data=metabolite_data,\n",
    "        gene_data=gene_data,\n",
    "        reaction_scale=reaction_scale,\n",
    "        metabolite_scale=metabolite_scale,\n",
    "    ).items():\n",
    "        if value:\n",
    "            setattr(builder, attr, value)\n",
    "    if save_figures:\n",
    "        builder.save_html(\n",
    "            results_path / \"html\" / f\"{GEM_NAME}_categorized_subsystems.html\"\n",
    "        )"
   ]
  },
  {
   "cell_type": "markdown",
   "id": "86f4bfb7-b46e-4cd7-91da-1d5b112a5c27",
   "metadata": {},
   "source": [
    "### Export data for web browser"
   ]
  },
  {
   "cell_type": "code",
   "execution_count": 32,
   "id": "91836dd8-bf19-49db-b14c-a4505deee83d",
   "metadata": {},
   "outputs": [],
   "source": [
    "# val = 1\n",
    "# color = \"blue\"\n",
    "# reaction_data = {\n",
    "#     'FADRy': 1,\n",
    "#     'FLVRy': 1,\n",
    "#     'FADL': 1,\n",
    "#     'FMNAT': 1,\n",
    "#     'CFMNH': 1,\n",
    "#     'FMNRy': 1,\n",
    "#     'FMNPH': 1,\n",
    "#     'RBFK': 1\n",
    "# }\n",
    "\n",
    "\n",
    "# mets = set()\n",
    "# genes = set()\n",
    "\n",
    "# for met, name in {\n",
    "#     'rblvrd_c': 'Reduced riboflavin',\n",
    "#     'fadh2_c': 'FADH2',\n",
    "#     'nadph_c': 'NADPH',\n",
    "#     'hb_c': 'Deoxyhemoglobin',\n",
    "#     'nadp_c': 'NADP+',\n",
    "#     'amp_c': 'AMP',\n",
    "#     'ribflv_e': 'Riboflavin',\n",
    "#     'h_c': 'H+',\n",
    "#     'fmnh2_c': 'FMNH2',\n",
    "#     'h2o_c': 'H2O',\n",
    "#     'methb_c': 'Methemoglobin',\n",
    "#     'ribflv_c': 'Riboflavin',\n",
    "#     '45cfmn_c': \"Riboflavin cyclic-4',5'-phosphate\",\n",
    "#     'ppi_c': 'Diphosphate',\n",
    "#     'pi_c': 'Orthophosphate',\n",
    "#     'adp_c': 'ADP',\n",
    "#     'fmn_c': 'FMN',\n",
    "#     'fad_c': 'FAD',\n",
    "#     'atp_c': 'ATP',\n",
    "# }.items():\n",
    "#     met = model.metabolites.get_by_id(met)\n",
    "#     met.name = name\n",
    "# for r in model.reactions.get_by_any([\n",
    "#     'FADRy', 'FMNRy', 'FLVRy', 'FADL', 'FMNAT', 'CFMNH', 'FMNPH', 'RBFK', \"RIBFLVABCte\", \"RIBFLVt\", \"METHBFMNR\"\n",
    "# ]):\n",
    "#     mets.update(r.metabolites)\n",
    "#     genes.update(r.genes)\n",
    "\n",
    "# for m in mets:\n",
    "#     print(f\"'{m.id}': '{m.name}',\")\n",
    "\n",
    "# # for g in genes:\n",
    "# #     print(g.annotation.get(\"hgnc.symbol\"))\n",
    "\n",
    "# if escher is not None:\n",
    "#     builder = escher.Builder(\n",
    "#         map_json=\"/Users/zhaiman/Desktop/Riboflavin.json\",\n",
    "#         model=model,\n",
    "#     )\n",
    "#     builder.save_html(\n",
    "#         \"~/Desktop/Riboflavin.html\",\n",
    "#     )"
   ]
  },
  {
   "cell_type": "code",
   "execution_count": null,
   "id": "ab27c085-a6bf-4817-9956-a8dde0c1610b",
   "metadata": {},
   "outputs": [],
   "source": [
    "with open(\n",
    "    get_dirpath(use_temp=\"interim\") / \"reaction_map_data.json\", \"w\"\n",
    ") as map_datafile:\n",
    "    json.dump(reaction_data, map_datafile)\n",
    "\n",
    "with open(\n",
    "    get_dirpath(use_temp=\"interim\") / \"metabolite_map_data.json\", \"w\"\n",
    ") as map_datafile:\n",
    "    json.dump(metabolite_data, map_datafile)"
   ]
  },
  {
   "cell_type": "markdown",
   "id": "f6ccd66c-34af-431f-9a9f-b45342596f48",
   "metadata": {},
   "source": [
    "## Ensure model and map are synchronized"
   ]
  },
  {
   "cell_type": "code",
   "execution_count": null,
   "id": "bcaa8cd1-00a7-425c-8f90-86ff2e326bc0",
   "metadata": {
    "scrolled": true
   },
   "outputs": [],
   "source": [
    "with open(map_json_filepath) as mapfile:\n",
    "    map_json = json.load(mapfile)\n",
    "    print(f\"Loaded map as JSON object: {map_name}\\n\")\n",
    "\n",
    "metadata_json = map_json[0]\n",
    "print(pd.Series(metadata_json))\n",
    "model_json = map_json[1]"
   ]
  },
  {
   "cell_type": "markdown",
   "id": "d1e7ee30-ab20-442a-a41a-119b45b4774a",
   "metadata": {},
   "source": [
    "### Check reactions\n",
    "Use this code to find which reactions are missing from the map. Helpful for identifying any ID conversions or new additions that need to be made."
   ]
  },
  {
   "cell_type": "code",
   "execution_count": null,
   "id": "a642a1be-c242-4ad1-8ffb-126d2f46e1bf",
   "metadata": {},
   "outputs": [],
   "source": [
    "include_pseudoreactions = False\n",
    "include_transports = False\n",
    "map_rxns = {\n",
    "    reaction_dict[\"bigg_id\"] for reaction_dict in model_json[\"reactions\"].values()\n",
    "}\n",
    "model_reactions = model.reactions\n",
    "if not include_pseudoreactions:\n",
    "    model_reactions = model_reactions.query(lambda x: not x.boundary)\n",
    "\n",
    "if not include_transports:\n",
    "    model_reactions = model_reactions.query(lambda x: len(x.compartments) == 1)\n",
    "\n",
    "model_reactions = set(model_reactions.list_attr(\"id\"))\n",
    "\n",
    "\n",
    "previous_id_mapping_df = pd.read_csv(\n",
    "    get_dirpath(\"deprecatedIdentifiers\") / \"reactions_deprecatedIdentifiers.tsv\",\n",
    "    sep=\"\\t\",\n",
    "    index_col=None,\n",
    ")\n",
    "\n",
    "previous_id_mapping_df[\"rxnRetired\"] = previous_id_mapping_df[\"rxnRetired\"].str.split(\n",
    "    \";\"\n",
    ")\n",
    "previous_id_mapping_df = previous_id_mapping_df.explode(\"rxnRetired\")\n",
    "rxns_retired_id_replacements = previous_id_mapping_df[\n",
    "    previous_id_mapping_df[\"rxnRetired\"].isin(map_rxns)\n",
    "]\n",
    "rxns_retired_id_replacements = rxns_retired_id_replacements.set_index(\"rxnRetired\")[\n",
    "    \"rxns\"\n",
    "].to_dict()\n",
    "\n",
    "\n",
    "found_in_map = model_reactions.intersection(map_rxns)\n",
    "missing_rxns_from_map = model_reactions.difference(map_rxns).difference(\n",
    "    rxns_retired_id_replacements\n",
    ")\n",
    "\n",
    "print(f\"Number of biochemical reactions in model: {len(model_reactions)}\")\n",
    "if include_transports:\n",
    "    print(\n",
    "        f\"Number of transport reactions in map: {len(model_reactions.query(lambda x: len(x.compartments) != 1))}\"\n",
    "    )\n",
    "print(\n",
    "    f\"Number of reactions not in map due to ID retirement: {len(rxns_retired_id_replacements)}\\n\"\n",
    ")\n",
    "print(\n",
    "    f\"Number of reactions not in map for alternative reasons: {len(missing_rxns_from_map)}\\n\"\n",
    ")\n",
    "missing_rxns_from_map"
   ]
  },
  {
   "cell_type": "markdown",
   "id": "312f2d5c-cbb0-4b23-92f2-1d17598237ab",
   "metadata": {},
   "source": [
    "### Check metabolites\n",
    "Use this code to find which metabolites are missing from the map. Helpful for identifying any ID conversions or new additions that need to be made."
   ]
  },
  {
   "cell_type": "code",
   "execution_count": null,
   "id": "9d7f27f0-f348-4a71-8c9f-1e60b95e0717",
   "metadata": {},
   "outputs": [],
   "source": [
    "compartments = [\"c\"]\n",
    "\n",
    "map_mets = {\n",
    "    node_dict[\"bigg_id\"]\n",
    "    for node_dict in model_json[\"nodes\"].values()\n",
    "    if node_dict[\"node_type\"] == \"metabolite\"\n",
    "}\n",
    "\n",
    "\n",
    "previous_id_mapping_df = pd.read_csv(\n",
    "    get_dirpath(\"deprecatedIdentifiers\") / \"metabolites_deprecatedIdentifiers.tsv\",\n",
    "    sep=\"\\t\",\n",
    "    index_col=None,\n",
    ")\n",
    "\n",
    "previous_id_mapping_df[\"metRetired\"] = previous_id_mapping_df[\"metRetired\"].str.split(\n",
    "    \";\"\n",
    ")\n",
    "previous_id_mapping_df = previous_id_mapping_df.explode(\"metRetired\")\n",
    "mets_retired_id_replacements = previous_id_mapping_df[\n",
    "    previous_id_mapping_df[\"metRetired\"].isin(map_mets)\n",
    "]\n",
    "mets_retired_id_replacements = mets_retired_id_replacements.set_index(\"metRetired\")[\n",
    "    \"mets\"\n",
    "].to_dict()\n",
    "\n",
    "# missing_from_model = map_mets.difference(model_mets) # Not always accurate due to\n",
    "if not compartments:\n",
    "    compartments = model.compartments\n",
    "compartments = ensure_iterable(compartments)\n",
    "\n",
    "for comp in compartments:\n",
    "    model_mets = set(\n",
    "        model.metabolites.query(lambda x: x.compartment == comp).list_attr(\"id\")\n",
    "    )\n",
    "    found_in_map = model_mets.intersection(map_mets)\n",
    "    missing_mets_from_map = model_mets.difference(map_mets).difference(\n",
    "        mets_retired_id_replacements.values()\n",
    "    )\n",
    "\n",
    "    print(\n",
    "        f\"Number of metabolites in model ({model.compartments[comp]}): {len(model_mets)}\"\n",
    "    )\n",
    "    print(\n",
    "        f\"Number of metabolites in map ({model.compartments[comp]}): {len(found_in_map)}\"\n",
    "    )\n",
    "    print(\n",
    "        f\"Number of metabolites not in map due to ID retirement ({model.compartments[comp]}): {len(mets_retired_id_replacements)}\\n\"\n",
    "    )\n",
    "    print(\n",
    "        f\"Number of metabolites not in map for alternative reasons ({model.compartments[comp]}): {len(missing_mets_from_map)}\\n\"\n",
    "    )\n",
    "\n",
    "\n",
    "missing_mets_from_map"
   ]
  },
  {
   "cell_type": "markdown",
   "id": "5214ac95-548f-43b5-b11f-925d61e6a42f",
   "metadata": {},
   "source": [
    "### Update Map\n",
    "#### Metadata"
   ]
  },
  {
   "cell_type": "code",
   "execution_count": null,
   "id": "f330bf97-a6d3-4741-9316-849d4651e54d",
   "metadata": {},
   "outputs": [],
   "source": [
    "metadata_json[\"map_name\"] = map_name\n",
    "metadata_json[\"map_description\"] = datetime.datetime.strftime(\n",
    "    datetime.date.today(), \"\\nLast Modified %a %b %d %Y\"\n",
    ")\n",
    "print(pd.Series(metadata_json))"
   ]
  },
  {
   "cell_type": "markdown",
   "id": "9caf9b43-8261-4d8f-86d8-859d3d5eea1f",
   "metadata": {},
   "source": [
    "#### Map identifier replacement"
   ]
  },
  {
   "cell_type": "code",
   "execution_count": null,
   "id": "37e3e040-34a1-4fa7-b1b9-e5b9e5566720",
   "metadata": {},
   "outputs": [],
   "source": [
    "rxns_id_replacements = {\n",
    "    # Old ID on Map: New ID for Map\n",
    "}\n",
    "rxns_id_replacements.update(rxns_retired_id_replacements)\n",
    "mets_id_replacements = {\n",
    "    # Old ID on Map: New ID for Map\n",
    "}\n",
    "mets_id_replacements.update(mets_retired_id_replacements)\n",
    "# Update identifiers\n",
    "for reaction_dict in model_json[\"reactions\"].values():\n",
    "    reaction_dict[\"bigg_id\"] = rxns_id_replacements.get(\n",
    "        reaction_dict[\"bigg_id\"], reaction_dict[\"bigg_id\"]\n",
    "    )\n",
    "    for node_dict in reaction_dict[\"metabolites\"]:\n",
    "        node_dict[\"bigg_id\"] = mets_id_replacements.get(\n",
    "            node_dict[\"bigg_id\"], node_dict[\"bigg_id\"]\n",
    "        )\n",
    "\n",
    "for node_dict in model_json[\"nodes\"].values():\n",
    "    if node_dict[\"node_type\"] != \"metabolite\":\n",
    "        continue\n",
    "    node_dict[\"bigg_id\"] = mets_id_replacements.get(\n",
    "        node_dict[\"bigg_id\"], node_dict[\"bigg_id\"]\n",
    "    )"
   ]
  },
  {
   "cell_type": "code",
   "execution_count": null,
   "id": "5f688663-2fc6-4419-b74b-50e2fef5391e",
   "metadata": {},
   "outputs": [],
   "source": [
    "with open(map_json_filepath, \"w\") as mapfile:\n",
    "    json.dump(obj=[metadata_json, model_json], fp=mapfile)\n",
    "    print(f\"Saved map as JSON object: {map_name}\\n\")"
   ]
  },
  {
   "cell_type": "markdown",
   "id": "6d581c52-926a-42f5-a16e-ce2d8484dccc",
   "metadata": {},
   "source": [
    "### Utilize EscherConverter to convert map to a standard format\n",
    "To run the Escher converter, uncomment out the final cell\n",
    "* GitHub Page: https://github.com/draeger-lab/EscherConverter\n",
    "* Instructions for the Escher converter: https://escher.readthedocs.io/en/stable/escherconverter.html"
   ]
  },
  {
   "cell_type": "code",
   "execution_count": null,
   "id": "6069a8e9-dd65-48ae-9ec0-fea123ae3642",
   "metadata": {
    "scrolled": true
   },
   "outputs": [],
   "source": [
    "convert_to = \"Escher\"\n",
    "# convert_to = None\n",
    "\n",
    "if convert_to is not None:\n",
    "    converter_path = get_dirpath(use_temp=\"external\") / \"EscherConverter-1.2.1.jar\"\n",
    "    converted_output_filepath = {\n",
    "        \"SBGN\": get_dirpath(\"map\") / f\"{map_name}.sbgn\",\n",
    "        \"SBML\": get_dirpath(\"map\") / f\"{map_name}.xml\",\n",
    "    }[convert_to]\n",
    "    !java -jar -Xms8G -Xmx8G -Duser.language=en \"$converter_path\" --input=\"$map_json_filepath\" --output=\"$converted_output_filepath\" --gui=false --log-level=\"$log_level\""
   ]
  }
 ],
 "metadata": {
  "kernelspec": {
   "display_name": "Python 3 (ipykernel)",
   "language": "python",
   "name": "python3"
  },
  "language_info": {
   "codemirror_mode": {
    "name": "ipython",
    "version": 3
   },
   "file_extension": ".py",
   "mimetype": "text/x-python",
   "name": "python",
   "nbconvert_exporter": "python",
   "pygments_lexer": "ipython3",
   "version": "3.11.7"
  }
 },
 "nbformat": 4,
 "nbformat_minor": 5
}
