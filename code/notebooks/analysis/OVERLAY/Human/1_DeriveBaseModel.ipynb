{
 "cells": [
  {
   "cell_type": "markdown",
   "id": "a90f71f8-0c36-4a8b-9d71-7f0016d6eb3f",
   "metadata": {},
   "source": [
    "# Derive base model\n",
    "## Setup\n",
    "### Import packages"
   ]
  },
  {
   "cell_type": "code",
   "execution_count": null,
   "id": "3124e748-a6b1-4e97-8c3c-79940ca64902",
   "metadata": {},
   "outputs": [],
   "source": [
    "from warnings import warn\n",
    "\n",
    "import pandas as pd\n",
    "from cobra.core import Group\n",
    "from cobra.flux_analysis import find_blocked_reactions\n",
    "from cobra.manipulation import remove_genes\n",
    "from cobra.util.array import create_stoichiometric_matrix, nullspace\n",
    "from rbc_gem_utils import (\n",
    "    COBRA_CONFIGURATION,\n",
    "    GEM_NAME,\n",
    "    get_annotation_df,\n",
    "    get_dirpath,\n",
    "    read_cobra_model,\n",
    "    show_versions,\n",
    "    split_string,\n",
    "    write_cobra_model,\n",
    ")\n",
    "from rbc_gem_utils.database.mgi import MGI_DB_TAG\n",
    "from rbc_gem_utils.database.uniprot import UNIPROT_DB_TAG\n",
    "\n",
    "pd.set_option(\"display.precision\", 6)\n",
    "\n",
    "import gurobipy as gp\n",
    "\n",
    "gp.setParam(\"OutputFlag\", 0)\n",
    "gp.setParam(\"LogToConsole\", 0)\n",
    "\n",
    "# Show versions of notebook\n",
    "show_versions()"
   ]
  },
  {
   "cell_type": "markdown",
   "id": "08731f57-3237-4300-b9c7-5d77c2563a5b",
   "metadata": {},
   "source": [
    "### Define configuration\n",
    "#### COBRA Configuration"
   ]
  },
  {
   "cell_type": "code",
   "execution_count": null,
   "id": "b3da43e2-fc7b-4871-a285-846fa2314f96",
   "metadata": {},
   "outputs": [],
   "source": [
    "COBRA_CONFIGURATION.solver = \"gurobi\"\n",
    "# Set bound defaults much larger to prevent model loading issues\n",
    "COBRA_CONFIGURATION.bounds = (-1e3, 1e3)\n",
    "COBRA_CONFIGURATION.tolerance = 1e-9\n",
    "COBRA_CONFIGURATION"
   ]
  },
  {
   "cell_type": "markdown",
   "id": "d50f8078-449f-4c41-9a23-2d7fb5d682e0",
   "metadata": {},
   "source": [
    "### Define organism"
   ]
  },
  {
   "cell_type": "code",
   "execution_count": null,
   "id": "11c25d1f-054a-4918-a710-38762a28d62c",
   "metadata": {},
   "outputs": [],
   "source": [
    "organism = \"Human\"\n",
    "reduced_model_id = None\n",
    "remove_blocked_reaction = True"
   ]
  },
  {
   "cell_type": "markdown",
   "id": "f7abab91-7b38-4d52-84b2-eb3965bbd12b",
   "metadata": {},
   "source": [
    "### Set paths"
   ]
  },
  {
   "cell_type": "code",
   "execution_count": null,
   "id": "6f194ec1-be85-41f6-88b2-30dff30d8332",
   "metadata": {},
   "outputs": [],
   "source": [
    "sequence_dirpath = get_dirpath(\"database\", UNIPROT_DB_TAG)\n",
    "model_dirpath = get_dirpath(\"model\")\n",
    "overlay_dirpath = get_dirpath(\"analysis\") / \"OVERLAY\" / organism\n",
    "overlay_dirpath.mkdir(exist_ok=True, parents=True)"
   ]
  },
  {
   "cell_type": "markdown",
   "id": "92ba5fdc-9b1c-4509-b2f1-5880224a1530",
   "metadata": {},
   "source": [
    "## Load RBC-GEM model"
   ]
  },
  {
   "cell_type": "code",
   "execution_count": null,
   "id": "4495660a-ae94-4ce9-80e6-1b1d91374a08",
   "metadata": {},
   "outputs": [],
   "source": [
    "rbc_gem = read_cobra_model(model_dirpath / f\"{GEM_NAME}.xml\")\n",
    "for r in rbc_gem.reactions:\n",
    "    if r.bounds == (0.0, 1000.0):\n",
    "        r.bounds = (0, COBRA_CONFIGURATION.upper_bound)\n",
    "    elif r.bounds == (-1000.0, 0.0):\n",
    "        r.bounds = (COBRA_CONFIGURATION.lower_bound, 0.0)\n",
    "    else:\n",
    "        r.bounds = COBRA_CONFIGURATION.bounds\n",
    "\n",
    "\n",
    "rbc_gem"
   ]
  },
  {
   "cell_type": "markdown",
   "id": "6770523f-bd88-464e-9d2b-ac6a4d912fca",
   "metadata": {},
   "source": [
    "### Extract model\n",
    "Load the full reconstruction or use a pre-defined model for a reduced RBC model."
   ]
  },
  {
   "cell_type": "code",
   "execution_count": null,
   "id": "ba13d12a-9220-4892-91ea-b37db25e9fc8",
   "metadata": {},
   "outputs": [],
   "source": [
    "model = rbc_gem.copy()\n",
    "\n",
    "boundary_types_dict = {\n",
    "    \"exchange\": \"EX_\",\n",
    "    \"sink\": \"SK_\",\n",
    "    \"demand\": \"DM_\",\n",
    "}\n",
    "\n",
    "\n",
    "if reduced_model_id is not None and reduced_model_id != rbc_gem.id:\n",
    "    df_reactions = pd.read_csv(\n",
    "        get_dirpath(\"analysis\")\n",
    "        / organism\n",
    "        / \"reduced_models\"\n",
    "        / f\"model_reactions_{reduced_model_id}.tsv\",\n",
    "        sep=\"\\t\",\n",
    "        index_col=0,\n",
    "        dtype=str,\n",
    "    ).fillna(\"\")\n",
    "\n",
    "    # Determine pseudoreactions if any\n",
    "    pseudoreactions = set()\n",
    "    boundaries = {}\n",
    "    for btype, prefix in boundary_types_dict.items():\n",
    "        boundaries[btype] = {\n",
    "            r: r.replace(prefix, \"\") for r in df_reactions.index if r.startswith(prefix)\n",
    "        }\n",
    "        pseudoreactions.update([r for r in df_reactions.index if r.startswith(prefix)])\n",
    "\n",
    "    # Extract reactions from model that are not pseudoreactions\n",
    "    reactions = sorted(list(df_reactions.index.difference(pseudoreactions)))\n",
    "    reactions = model.reactions.get_by_any(reactions)\n",
    "    # Remove reactions not in list\n",
    "    model.remove_reactions(\n",
    "        [x for x in model.reactions if x not in reactions], remove_orphans=True\n",
    "    )\n",
    "    # Remove orphaned groups not in list\n",
    "    model.remove_groups([x for x in model.groups if not x.members])\n",
    "    # Cleanup gene reaction rules\n",
    "    for reaction in reactions:\n",
    "        reaction.gene_reaction_rule = df_reactions.loc[\n",
    "            reaction.id, \"gene_reaction_rule\"\n",
    "        ]\n",
    "    to_remove = model.genes.query(lambda x: len(x.reactions) < 1)\n",
    "    remove_genes(model, gene_list=to_remove, remove_reactions=False)\n",
    "\n",
    "    # Add pseudoreactions, defining new ones if needed.\n",
    "    for btype, boundary_dict in boundaries.items():\n",
    "        for reaction, met in boundary_dict.items():\n",
    "            try:\n",
    "                met = model.metabolites.get_by_id(met)\n",
    "            except KeyError as e:\n",
    "                warn(f\"{met} not in model\")\n",
    "            else:\n",
    "                try:\n",
    "                    reaction = model.add_boundary(met, type=btype)\n",
    "                except ValueError:\n",
    "                    reaction = model.reactions.get_by_id(reaction)\n",
    "\n",
    "    for reaction in model.boundary:\n",
    "        reaction.subsystem = \"Pseudoreactions\"\n",
    "\n",
    "    model.id = reduced_model_id\n",
    "model"
   ]
  },
  {
   "cell_type": "markdown",
   "id": "3be468f7-961f-4a40-bf6e-61be7667e622",
   "metadata": {},
   "source": [
    "### Remove blocked reactions"
   ]
  },
  {
   "cell_type": "code",
   "execution_count": null,
   "id": "1ca83d3f-f200-4fa2-8cc4-6b1abda44402",
   "metadata": {},
   "outputs": [],
   "source": [
    "if remove_blocked_reaction:\n",
    "    blocked_reactions = find_blocked_reactions(\n",
    "        model=model,\n",
    "        reaction_list=None,\n",
    "        zero_cutoff=COBRA_CONFIGURATION.tolerance,\n",
    "        open_exchanges=True,\n",
    "        processes=min(50, COBRA_CONFIGURATION.processes),\n",
    "    )\n",
    "    blocked_reactions = sorted(blocked_reactions)\n",
    "    model.remove_reactions(blocked_reactions, remove_orphans=True)\n",
    "model"
   ]
  },
  {
   "cell_type": "markdown",
   "id": "a28647fc-63f2-4266-b4ca-c40523e9d1ea",
   "metadata": {},
   "source": [
    "### Set objective(s)"
   ]
  },
  {
   "cell_type": "code",
   "execution_count": null,
   "id": "23c375be-7250-4173-80b0-e97b671a85f3",
   "metadata": {},
   "outputs": [],
   "source": [
    "test_model = model.copy()\n",
    "for r in test_model.boundary:\n",
    "    r.bounds = (0, COBRA_CONFIGURATION.upper_bound)\n",
    "test_model.reactions.get_by_id(\"EX_glc__D_e\").bounds = (-1, 0)\n",
    "\n",
    "\n",
    "sol = test_model.optimize()\n",
    "sol.fluxes[sol.fluxes != 0]\n",
    "objective_rxns = [\"NaKt\"]\n",
    "model.objective = sum(\n",
    "    [test_model.reactions.get_by_id(rid).flux_expression for rid in objective_rxns]\n",
    ")\n",
    "sol = test_model.optimize()\n",
    "print(sol[objective_rxns])\n",
    "sol.fluxes[sol.fluxes != 0]"
   ]
  },
  {
   "cell_type": "markdown",
   "id": "0e9ed7c3-0549-4843-8b82-f68389e15ba7",
   "metadata": {},
   "source": [
    "### Get dimension of nullspace"
   ]
  },
  {
   "cell_type": "code",
   "execution_count": null,
   "id": "f1b2ba38-4611-4f3c-bd8b-c6665ec82fc1",
   "metadata": {},
   "outputs": [],
   "source": [
    "S = create_stoichiometric_matrix(model)\n",
    "ns = nullspace(S)\n",
    "ns.shape"
   ]
  },
  {
   "cell_type": "markdown",
   "id": "a5d69670-e3b3-4c27-8330-64d335274793",
   "metadata": {},
   "source": [
    "### Reset subsystems"
   ]
  },
  {
   "cell_type": "code",
   "execution_count": null,
   "id": "eca7d51f-5571-47db-a85e-c535d6177e4c",
   "metadata": {},
   "outputs": [],
   "source": [
    "model.remove_groups(model.groups)\n",
    "for subsystem in sorted(set(model.reactions.list_attr(\"subsystem\"))):\n",
    "    reaction_list = model.reactions.query(lambda x: x.subsystem == subsystem)\n",
    "    if subsystem not in model.groups:\n",
    "        group = Group(id=subsystem, name=subsystem, members=reaction_list)\n",
    "        model.add_groups([group])\n",
    "    else:\n",
    "        group = model.groups.get_by_id(subsystem).add_members(reaction_list)"
   ]
  },
  {
   "cell_type": "markdown",
   "id": "5f77d68b-aa9e-4596-ac4e-0d3e14d8565d",
   "metadata": {},
   "source": [
    "### Assemble protein data\n",
    "#### Get model mappings"
   ]
  },
  {
   "cell_type": "code",
   "execution_count": null,
   "id": "31cbdf49-984a-4ca9-a1e3-fad3989d7d05",
   "metadata": {},
   "outputs": [],
   "source": [
    "annotation_type = \"genes\"\n",
    "mapping_key = \"uniprot\"\n",
    "annotation_cols = [mapping_key]\n",
    "\n",
    "df_model_mappings = (\n",
    "    get_annotation_df(model.genes, annotation_cols)\n",
    "    .rename({\"id\": annotation_type}, axis=1)\n",
    "    .dropna(subset=[mapping_key])\n",
    ")\n",
    "for col in df_model_mappings.columns:\n",
    "    df_model_mappings[col] = df_model_mappings[col].apply(lambda x: split_string(x))\n",
    "    df_model_mappings = df_model_mappings.explode(col).drop_duplicates().dropna()\n",
    "df_model_mappings = df_model_mappings.sort_values(annotation_type)\n",
    "\n",
    "print(df_model_mappings.nunique(dropna=True))\n",
    "df_model_mappings = df_model_mappings.reset_index(drop=True)\n",
    "df_model_mappings"
   ]
  },
  {
   "cell_type": "markdown",
   "id": "8e8e53ee-d20a-4870-a2b5-4800ec1defb7",
   "metadata": {},
   "source": [
    "#### Load protein amino acid sequences"
   ]
  },
  {
   "cell_type": "code",
   "execution_count": null,
   "id": "58fa4f76-4564-45d9-a6ab-2661f1129c1c",
   "metadata": {},
   "outputs": [],
   "source": [
    "df_isoforms_sequences = pd.read_csv(\n",
    "    sequence_dirpath / f\"{UNIPROT_DB_TAG}_isoforms_sequences.tsv\",\n",
    "    sep=\"\\t\",\n",
    "    index_col=None,\n",
    ").fillna(pd.NA)\n",
    "print(df_isoforms_sequences[df_isoforms_sequences[\"erythroid\"]][\"uniprot\"].unique())\n",
    "\n",
    "\n",
    "df_sequences = df_model_mappings.merge(\n",
    "    df_isoforms_sequences,\n",
    "    left_on=mapping_key,\n",
    "    right_on=mapping_key,\n",
    "    how=\"left\",\n",
    ")\n",
    "df_sequences = df_sequences[[\"genes\", \"sequence.id\", \"sequence\"]].dropna(\n",
    "    subset=[\"sequence\"], axis=0\n",
    ")\n",
    "df_sequences"
   ]
  },
  {
   "cell_type": "markdown",
   "id": "369a05b2-0ec3-43b8-aeef-f2d86c1d5969",
   "metadata": {},
   "source": [
    "### Remove genes without sequence data"
   ]
  },
  {
   "cell_type": "code",
   "execution_count": null,
   "id": "fcc01a80-439a-40ad-88c4-af9b8f1a7ebe",
   "metadata": {},
   "outputs": [],
   "source": [
    "genes_to_remove = model.genes.query(lambda x: x.id not in set(df_sequences[\"genes\"]))\n",
    "remove_genes(model, gene_list=genes_to_remove, remove_reactions=False)"
   ]
  },
  {
   "cell_type": "markdown",
   "id": "65430e68-b39d-46e2-9958-0061c433fc43",
   "metadata": {},
   "source": [
    "### Export model"
   ]
  },
  {
   "cell_type": "code",
   "execution_count": null,
   "id": "b1ede4b5-98fc-498a-b496-0f3bf03a0c5a",
   "metadata": {},
   "outputs": [],
   "source": [
    "new_model_dirpath = overlay_dirpath / model.id\n",
    "new_model_dirpath.mkdir(exist_ok=True)\n",
    "write_cobra_model(model, filename=new_model_dirpath / f\"{model.id}.xml\")\n",
    "model"
   ]
  },
  {
   "cell_type": "code",
   "execution_count": null,
   "id": "6eb5e5d3-2dd4-4a27-b7ba-81706de0cec6",
   "metadata": {},
   "outputs": [],
   "source": []
  }
 ],
 "metadata": {
  "kernelspec": {
   "display_name": "Python 3 (ipykernel)",
   "language": "python",
   "name": "python3"
  },
  "language_info": {
   "codemirror_mode": {
    "name": "ipython",
    "version": 3
   },
   "file_extension": ".py",
   "mimetype": "text/x-python",
   "name": "python",
   "nbconvert_exporter": "python",
   "pygments_lexer": "ipython3"
  }
 },
 "nbformat": 4,
 "nbformat_minor": 5
}
