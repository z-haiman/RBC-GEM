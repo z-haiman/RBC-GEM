{
 "cells": [
  {
   "cell_type": "markdown",
   "id": "2537d45b-6871-43b9-81f8-e3639df15ac5",
   "metadata": {},
   "source": [
    "# Simulate models using pcFVA - Mouse G6PD Variants Omics\n",
    "## Setup\n",
    "### Import packages"
   ]
  },
  {
   "cell_type": "code",
   "execution_count": null,
   "id": "2255cec1-1c92-48cd-b35a-01065975dc9b",
   "metadata": {},
   "outputs": [],
   "source": [
    "import re\n",
    "\n",
    "import gurobipy as gp\n",
    "import pandas as pd\n",
    "from cobra.exceptions import OptimizationError\n",
    "from cobra.flux_analysis.variability import flux_variability_analysis\n",
    "from rbc_gem_utils import (\n",
    "    COBRA_CONFIGURATION,\n",
    "    get_dirpath,\n",
    "    read_cobra_model,\n",
    "    show_versions,\n",
    ")\n",
    "from rbc_gem_utils.analysis.overlay import (\n",
    "    DEFAULT_PREFIX_SUFFIX_VALUES,\n",
    "    DEFAULT_PROTEOME_COMPARTMENT,\n",
    "    BudgetDilution,\n",
    "    ProteinDilution,\n",
    "    add_relaxation_budget,\n",
    "    load_overlay_model,\n",
    ")\n",
    "\n",
    "gp.setParam(\"OutputFlag\", 0)\n",
    "gp.setParam(\"LogToConsole\", 0)\n",
    "\n",
    "# Show versions of notebook\n",
    "show_versions()"
   ]
  },
  {
   "cell_type": "markdown",
   "id": "4d1f0e62-ca1f-4201-a29d-dc3221be59c1",
   "metadata": {},
   "source": [
    "### Define configuration\n",
    "#### COBRA Configuration"
   ]
  },
  {
   "cell_type": "code",
   "execution_count": null,
   "id": "4c9d9475-8441-4f92-b46e-6257c5a7d843",
   "metadata": {},
   "outputs": [],
   "source": [
    "COBRA_CONFIGURATION.solver = \"gurobi\"\n",
    "# Set bound defaults much larger to prevent model loading issues\n",
    "COBRA_CONFIGURATION.bounds = (-1e-8, 1e8)\n",
    "COBRA_CONFIGURATION.tolerance = 1e-7\n",
    "COBRA_CONFIGURATION"
   ]
  },
  {
   "cell_type": "markdown",
   "id": "abae3e11-3327-4a6c-96db-59d70b0d7313",
   "metadata": {},
   "source": [
    "### Define organism, model, and dataset"
   ]
  },
  {
   "cell_type": "code",
   "execution_count": null,
   "id": "c6b691ad-10c0-4081-aa10-8bceceec4d00",
   "metadata": {},
   "outputs": [],
   "source": [
    "model_id = \"RBC_GEM\"\n",
    "organism = \"Mouse\"\n",
    "dataset_name = \"G6PDvariants\""
   ]
  },
  {
   "cell_type": "markdown",
   "id": "17a0dfee-d2ec-4da0-98e4-ee9277432008",
   "metadata": {},
   "source": [
    "### Set variables for sample identification"
   ]
  },
  {
   "cell_type": "code",
   "execution_count": null,
   "id": "4c122056-7d54-4f63-873b-41dff10f0ad4",
   "metadata": {},
   "outputs": [],
   "source": [
    "# For sample IDs\n",
    "timepoints = [\"Pre\", \"Post\", \"TD\"]\n",
    "phenotypes = [\"HumCan\", \"A\", \"MED\"]\n",
    "donor_re = re.compile(rf\"(?P<donor>({'|'.join(phenotypes)})\\d+)\")\n",
    "time_re = re.compile(rf\"(?P<time>{'|'.join(timepoints)})\")\n",
    "phenotype_re = re.compile(rf\"(?P<phenotype>({'|'.join(phenotypes)}))\")\n",
    "\n",
    "operations = \"|\".join([x.capitalize() for x in [\"mean\", \"median\"]])\n",
    "\n",
    "operation_re = re.compile(r\"(?P<op>\" + operations + r\")\\_(?P<group>\\w+)\")\n",
    "sample_id_re = re.compile(\n",
    "    r\"(?!\" + operations + r\")\" + donor_re.pattern + r\"\\_\" + time_re.pattern\n",
    ")"
   ]
  },
  {
   "cell_type": "markdown",
   "id": "01f627bc-4414-4fb6-a7eb-106c7c10fd84",
   "metadata": {},
   "source": [
    "### Set computation options"
   ]
  },
  {
   "cell_type": "code",
   "execution_count": null,
   "id": "2ec77319-ed41-46d3-b22c-0bb35d203e31",
   "metadata": {},
   "outputs": [],
   "source": [
    "verbose = True\n",
    "ftype = \"xml\"  # In our experience, SBML/XML loads faster, but will take up to 4x more space uncompressed as compared to JSON\n",
    "run_computations = True  # Keep off to use previously computed results\n",
    "overwrite = True  # Whether to allow overwriting of previous simulation results\n",
    "objective_reactions = [\"NaKt\"]\n",
    "minimal_relaxation_budget = True\n",
    "use_only_necessary_reactions = False\n",
    "relaxation_proteins_to_restrict = []\n",
    "optimum_percents = [0.00, 0.50, 0.90, 0.99]\n",
    "\n",
    "\n",
    "protein_rxn_prefix = DEFAULT_PREFIX_SUFFIX_VALUES[\"proteins\"][\"prefix.dilution\"]\n",
    "protein_met_prefix = DEFAULT_PREFIX_SUFFIX_VALUES[\"proteins\"][\"prefix.metabolite\"]\n",
    "relaxation_rxn_prefix = DEFAULT_PREFIX_SUFFIX_VALUES[\"proteins\"][\"prefix.relaxation\"]\n",
    "enzyme_met_suffix_total = DEFAULT_PREFIX_SUFFIX_VALUES[\"enzymes\"][\"suffix.total\"]\n",
    "enzyme_rxn_prefix = DEFAULT_PREFIX_SUFFIX_VALUES[\"enzymes\"][\"prefix.dilution\"]\n",
    "enzyme_met_prefix = DEFAULT_PREFIX_SUFFIX_VALUES[\"enzymes\"][\"prefix.metabolite\"]\n",
    "budget_rxn_prefix = DEFAULT_PREFIX_SUFFIX_VALUES[\"budgets\"][\"prefix.dilution\"]\n",
    "budget_met_prefix = DEFAULT_PREFIX_SUFFIX_VALUES[\"budgets\"][\"prefix.metabolite\"]\n",
    "comp_suffix = f\"_{DEFAULT_PROTEOME_COMPARTMENT}\""
   ]
  },
  {
   "cell_type": "markdown",
   "id": "e6e1dacf-75e8-4548-90d6-bb51c9cf1ffa",
   "metadata": {},
   "source": [
    "### Set figure options"
   ]
  },
  {
   "cell_type": "code",
   "execution_count": null,
   "id": "3b6a15e9-9848-4c2e-b78d-8538f0d0dcd7",
   "metadata": {},
   "outputs": [],
   "source": [
    "save_figures = True\n",
    "transparent = False\n",
    "imagetype = \"svg\""
   ]
  },
  {
   "cell_type": "markdown",
   "id": "3fd11ff1-4805-4860-b346-1f5c993b54ac",
   "metadata": {},
   "source": [
    "### Set paths"
   ]
  },
  {
   "cell_type": "code",
   "execution_count": null,
   "id": "ca3a0645-ab37-434d-af5c-d6f3d385b5f2",
   "metadata": {},
   "outputs": [],
   "source": [
    "# Set paths\n",
    "overlay_dirpath = get_dirpath(\"analysis\") / \"OVERLAY\" / organism\n",
    "model_dirpath = overlay_dirpath / model_id\n",
    "results_dirpath = (\n",
    "    get_dirpath(use_temp=\"processed\") / model_id / \"OVERLAY\" / organism / dataset_name\n",
    ")\n",
    "\n",
    "sample_pcmodels_dirpath = results_dirpath / \"sample_pcmodels\"\n",
    "pcfva_results_dirpath = (\n",
    "    results_dirpath / \"pcFVA\" / \"_\".join((\"OBJ\", *objective_reactions))\n",
    ")\n",
    "# Ensure directory  exists\n",
    "pcfva_results_dirpath.mkdir(exist_ok=True, parents=True)"
   ]
  },
  {
   "cell_type": "markdown",
   "id": "50dc6fa4-161e-4511-bf31-0b75d3b93dcb",
   "metadata": {},
   "source": [
    "## Load RBC-GEM model"
   ]
  },
  {
   "cell_type": "code",
   "execution_count": null,
   "id": "6f8349c9-7146-48d4-864a-fd56990c670b",
   "metadata": {},
   "outputs": [],
   "source": [
    "model = read_cobra_model(filename=model_dirpath / f\"{model_id}.xml\")\n",
    "pcmodel = load_overlay_model(filename=model_dirpath / f\"{model_id}_PC.xml\")\n",
    "\n",
    "# Add relaxation budget to initial PC model to get names of relaxation reactions\n",
    "add_relaxation_budget(pcmodel, 0, verbose=False)\n",
    "pcmodel"
   ]
  },
  {
   "cell_type": "markdown",
   "id": "b97e3c2a-a931-48ff-b5ff-0c5e306524f9",
   "metadata": {},
   "source": [
    "### Define list of PC-models to load for simulation"
   ]
  },
  {
   "cell_type": "code",
   "execution_count": null,
   "id": "9e404c61-7c0f-479f-9a34-8a8d4279a1bf",
   "metadata": {
    "scrolled": true
   },
   "outputs": [],
   "source": [
    "pcmodel_names = sorted(\n",
    "    set(\n",
    "        [\n",
    "            fp.parts[-1].replace(fp.suffix, \"\")\n",
    "            for fp in list(sample_pcmodels_dirpath.iterdir())\n",
    "            if fp.parts[-1].startswith(pcmodel.id)\n",
    "        ]\n",
    "    )\n",
    ")\n",
    "all_sample_ids = [x.replace(f\"{pcmodel.id}_\", \"\") for x in pcmodel_names]\n",
    "operation_ids = [x for x in all_sample_ids if operation_re.match(x)]\n",
    "sample_ids = [x for x in all_sample_ids if sample_id_re.match(x)]\n",
    "\n",
    "print(f\"Total number of models: {len(all_sample_ids)}\")\n",
    "print(f\"Number of measured samples: {len(sample_ids)}\")\n",
    "print(f\"Number of operation samples: {len(operation_ids)}\")\n",
    "\n",
    "\n",
    "models_to_simulate = set(pcmodel_names)\n",
    "\n",
    "# Possible differences performed on datasets\n",
    "exclude_donors = []\n",
    "exclude_by_timepoints = []\n",
    "exclude_by_phenotype = []\n",
    "exclude_by_operation = []\n",
    "for to_exclude, to_search_re in zip(\n",
    "    [\n",
    "        exclude_donors,\n",
    "        exclude_by_timepoints,\n",
    "        exclude_by_phenotype,\n",
    "        exclude_by_operation,\n",
    "    ],\n",
    "    [donor_re, time_re, phenotype_re, operation_re],\n",
    "):\n",
    "    if to_exclude:\n",
    "        models_to_simulate = models_to_simulate.difference(\n",
    "            [\n",
    "                x\n",
    "                for item in to_exclude\n",
    "                for x in models_to_simulate\n",
    "                if to_search_re.search(x.replace(f\"{pcmodel.id}_\", \"\"))\n",
    "                and to_search_re.search(x.replace(f\"{pcmodel.id}_\", \"\")).group(1)\n",
    "                == item\n",
    "            ]\n",
    "        )\n",
    "\n",
    "models_to_simulate = sorted(models_to_simulate)\n",
    "print(f\"Number of models to simulate: {len(models_to_simulate)}\")\n",
    "models_to_simulate;"
   ]
  },
  {
   "cell_type": "markdown",
   "id": "dab4e5e8-eac9-4cbe-871a-56a754751001",
   "metadata": {},
   "source": [
    "### Generate results using pcFVA for context specific models\n",
    "Note that this can take a signficiant amount of time depending on the number of models and their sizes. Best to use a targeted approach in generating results. \n",
    "Alternatively, skip result generation and load the previously generated results."
   ]
  },
  {
   "cell_type": "code",
   "execution_count": null,
   "id": "02cc23c8-ffb9-4e1e-bab3-a2765d851180",
   "metadata": {},
   "outputs": [],
   "source": [
    "# Reactions in addition to the minimum for flux-abundance correlations\n",
    "list_of_reactions = []\n",
    "# # Use to get ALL reactions in the original model\n",
    "list_of_reactions += model.reactions.list_attr(\"id\")\n",
    "# # Use to get ALL reactions in the PC model\n",
    "# list_of_reactions += pcmodel.reactions.list_attr(\"id\")"
   ]
  },
  {
   "cell_type": "markdown",
   "id": "f95de14b-afc3-4ab7-9e3c-2474a801459f",
   "metadata": {},
   "source": [
    "#### Generate results for subset of PC model reactions\n",
    "##### Reactions necessary for all flux-abundance correlation computations.\n",
    "To reduce computation time, a subset of reactions can be defined. \n",
    "For flux-abundance correlations, the minimum reaction set are reactions associated with genes associated and the corresponding enzyme dilution reaction for total enzyme."
   ]
  },
  {
   "cell_type": "code",
   "execution_count": null,
   "id": "4e9b8d5b-dcb8-4e49-aba8-290006484ac3",
   "metadata": {
    "scrolled": true
   },
   "outputs": [],
   "source": [
    "min_reaction_list = model.reactions.query(lambda x: x.gene_reaction_rule).list_attr(\n",
    "    \"id\"\n",
    ")\n",
    "# Add protein dilutons to see effective protein concentrations used\n",
    "min_reaction_list += pcmodel.reactions.query(\n",
    "    lambda x: isinstance(x, ProteinDilution)\n",
    ").list_attr(\"id\")\n",
    "min_reaction_list += pcmodel.reactions.query(\n",
    "    lambda x: isinstance(x, BudgetDilution)\n",
    ").list_attr(\"id\")\n",
    "\n",
    "# Already limited to reactions with gene reaction rules\n",
    "enzyme_totals_list = pcmodel.metabolites.query(\n",
    "    lambda x: x.id.startswith(f\"{enzyme_met_prefix}\")\n",
    "    and enzyme_met_suffix_total in x.id\n",
    ")\n",
    "enzyme_reaction_map = {\n",
    "    f\"{enzyme_rxn_prefix}{x}\": x.id.replace(f\"{enzyme_met_prefix}\", \"\").replace(\n",
    "        f\"{enzyme_met_suffix_total}_{x.compartment}\", \"\"\n",
    "    )\n",
    "    for x in enzyme_totals_list\n",
    "}\n",
    "# Combine lists\n",
    "min_reaction_list += list(enzyme_reaction_map)\n",
    "\n",
    "print(\n",
    "    f\"Minimum number of reactions minimize/maximize (minimum): {len(min_reaction_list)} / {len(pcmodel.reactions)}\"\n",
    ")"
   ]
  },
  {
   "cell_type": "markdown",
   "id": "54897e9c-f167-4d4d-84ad-e1d1d340a621",
   "metadata": {},
   "source": [
    "##### Refined set of PC model reactions"
   ]
  },
  {
   "cell_type": "code",
   "execution_count": null,
   "id": "ee1f77e8-fada-451c-876d-fb3af50ee78b",
   "metadata": {},
   "outputs": [],
   "source": [
    "if use_only_necessary_reactions:\n",
    "    reaction_list = min_reaction_list.copy()\n",
    "else:\n",
    "    list_of_reactions = [getattr(rid, \"_id\", rid) for rid in list_of_reactions]\n",
    "    reaction_list = sorted(\n",
    "        [getattr(x, \"_id\", x) for x in set(min_reaction_list).union(list_of_reactions)]\n",
    "    )\n",
    "print(\n",
    "    f\"Number of reactions minimize/maximize (chosen): {len(reaction_list)} / {len(pcmodel.reactions)}\"\n",
    ")"
   ]
  },
  {
   "cell_type": "markdown",
   "id": "b1803779-e5a4-4608-a09d-4c9ad5b27df5",
   "metadata": {},
   "source": [
    "## Run pcFVA\n",
    "### Define functions for running FVA"
   ]
  },
  {
   "cell_type": "code",
   "execution_count": null,
   "id": "459e3692-7ba7-4cfc-89bf-ea59a4a6ad6c",
   "metadata": {},
   "outputs": [],
   "source": [
    "def run_simulations_at_optimums_for_sample(\n",
    "    pcmodel_sample,\n",
    "    objective_reactions,\n",
    "    reaction_list,\n",
    "    optimum_percents,\n",
    "    pcfva_results_dirpath,\n",
    "    processes,\n",
    "    **pcfva_kwargs,\n",
    "):\n",
    "    pcmodel_sample.objective = sum(\n",
    "        [\n",
    "            r.flux_expression\n",
    "            for r in pcmodel_sample.reactions.get_by_any(objective_reactions)\n",
    "        ]\n",
    "    )\n",
    "    if verbose:\n",
    "        print(f\"Starting simulations for {pcmodel_sample}\")\n",
    "    optimum_solutions = [\n",
    "        run_pcfva_at_optimum_for_sample(\n",
    "            pcmodel_sample,\n",
    "            reaction_list=reaction_list,\n",
    "            fraction_of_optimum=fraction_of_optimum,\n",
    "            loopless=pcfva_kwargs.get(\"loopless\", False),\n",
    "            pfba_factor=pcfva_kwargs.get(\"pfba_factor\"),\n",
    "            processes=processes,\n",
    "            error_log=pcfva_results_dirpath / \"pcFVA-errors.log\",\n",
    "            verbose=verbose,\n",
    "        )\n",
    "        for fraction_of_optimum in optimum_percents\n",
    "    ]\n",
    "    pcfva_sols = pd.concat(optimum_solutions, axis=0)\n",
    "    pcfva_sols.to_csv(\n",
    "        pcfva_results_dirpath / f\"{pcmodel_sample}_FVAsol.csv\", index=True\n",
    "    )\n",
    "    return pcfva_sols\n",
    "\n",
    "\n",
    "def run_pcfva_at_optimum_for_sample(\n",
    "    pcmodel_sample,\n",
    "    reaction_list,\n",
    "    fraction_of_optimum,\n",
    "    loopless=False,\n",
    "    pfba_factor=None,\n",
    "    processes=1,\n",
    "    error_log=None,\n",
    "    verbose=False,\n",
    "):\n",
    "    try:\n",
    "        pcfva_sol = flux_variability_analysis(\n",
    "            pcmodel_sample,\n",
    "            reaction_list=reaction_list,\n",
    "            loopless=loopless,\n",
    "            pfba_factor=pfba_factor,\n",
    "            fraction_of_optimum=fraction_of_optimum,\n",
    "            processes=processes,\n",
    "        )\n",
    "    except OptimizationError as e:\n",
    "        msg = f\"{pcmodel_sample.id} failed due to an exception.\"\n",
    "        if verbose:\n",
    "            print(msg)\n",
    "        if error_log is not None:\n",
    "            with open(error_log, \"a\") as file:\n",
    "                file.write(f\"{msg} {str(e)}\\n\")\n",
    "    else:\n",
    "        pcfva_sol.index.name = \"reactions\"\n",
    "        pcfva_sol = pcfva_sol.reset_index(drop=False)\n",
    "        pcfva_sol[\"model\"] = pcmodel_sample.id\n",
    "        pcfva_sol[\"optimum\"] = fraction_of_optimum\n",
    "        pcfva_sol = pcfva_sol.rename({\"minimum\": \"min\", \"maximum\": \"max\"}, axis=1)\n",
    "        if verbose:\n",
    "            print(f\"Finished pcFVA for fraction of optimum: {fraction_of_optimum}.\")\n",
    "\n",
    "        return pcfva_sol"
   ]
  },
  {
   "cell_type": "code",
   "execution_count": null,
   "id": "e4290fcb-e30b-4275-8878-6775f589251d",
   "metadata": {
    "scrolled": true
   },
   "outputs": [],
   "source": [
    "invalid = sorted(\n",
    "    set([x for x in relaxation_proteins_to_restrict if x not in pcmodel.genes])\n",
    ")\n",
    "if invalid:\n",
    "    raise ValueError(f\"Genes/Proteins not found in model: {invalid}\")\n",
    "\n",
    "pcfva_solutions = {}\n",
    "columns = [\"model\", \"reactions\", \"optimum\", \"min\", \"max\"]\n",
    "# models_to_simulate = [x for x in models_to_simulate if \"Mean\" in x and \"Pre\" in x]\n",
    "if run_computations:\n",
    "    for idx, pcmodel_sample_id in enumerate(models_to_simulate, start=1):\n",
    "        pcfva_results_filepath = (\n",
    "            pcfva_results_dirpath / f\"{pcmodel_sample_id}_FVAsol.csv\"\n",
    "        )\n",
    "        if pcfva_results_filepath.exists() and not overwrite:\n",
    "            if verbose:\n",
    "                print(\n",
    "                    f\"{idx}) Already finished {pcmodel_sample_id}, will load results after finishing remaining models.\"\n",
    "                )\n",
    "            continue\n",
    "\n",
    "        if verbose:\n",
    "            print(\"====================================================\")\n",
    "            print(f\"Computing pcFVA results for {pcmodel_sample_id}\")\n",
    "            print(\"====================================================\")\n",
    "            print(f\"Loading PC-model for {pcmodel_sample_id}\")\n",
    "        pcmodel_sample = load_overlay_model(\n",
    "            sample_pcmodels_dirpath / f\"{pcmodel_sample_id}.{ftype}\"\n",
    "        )\n",
    "        if minimal_relaxation_budget:\n",
    "            budget_rxn_relaxation = pcmodel_sample.reactions.get_by_id(\n",
    "                f\"{budget_rxn_prefix}{budget_met_prefix}relaxation\"\n",
    "            )\n",
    "            budget_rxn_relaxation.upper_bound = budget_rxn_relaxation.lower_bound\n",
    "\n",
    "        for protein in relaxation_proteins_to_restrict:\n",
    "            protein_met = pcmodel_sample.metabolites.get_by_id(\n",
    "                f\"{protein_met_prefix}{protein}{comp_suffix}\"\n",
    "            )\n",
    "            relax_prot_rxn = pcmodel_sample.reactions.get_by_id(\n",
    "                f\"{relaxation_rxn_prefix}{protein_met.id}\"\n",
    "            )\n",
    "            relax_prot_rxn.bounds = (0, 0)\n",
    "\n",
    "        pcfva_sols = run_simulations_at_optimums_for_sample(\n",
    "            pcmodel_sample,\n",
    "            objective_reactions=objective_reactions,\n",
    "            reaction_list=reaction_list,\n",
    "            optimum_percents=optimum_percents,\n",
    "            pcfva_results_dirpath=pcfva_results_dirpath,\n",
    "            processes=55,\n",
    "            **{},\n",
    "        )\n",
    "        pcfva_solutions[pcmodel_sample_id] = pcfva_sols\n",
    "# Load missing solutions if interuptions occured\n",
    "for pcmodel_sample_id in models_to_simulate:\n",
    "    if pcmodel_sample_id in pcfva_solutions:\n",
    "        continue\n",
    "    pcfva_solutions[pcmodel_sample_id] = pd.read_csv(\n",
    "        pcfva_results_dirpath / f\"{pcmodel_sample_id}_FVAsol.csv\",\n",
    "        index_col=None,\n",
    "    )\n",
    "\n",
    "pcfva_solutions = {\n",
    "    pcmodel_sample_id: pcfva_solutions[pcmodel_sample_id][columns]\n",
    "    for pcmodel_sample_id in sorted(models_to_simulate)\n",
    "    if pcmodel_sample_id in pcfva_solutions\n",
    "}\n",
    "if pcfva_solutions:\n",
    "    df_pcfva_all = pd.concat(list(pcfva_solutions.values()), axis=0)\n",
    "    # Regroup solutions\n",
    "    df_pcfva_all = (\n",
    "        df_pcfva_all.sort_values(by=columns)[columns].reset_index(drop=True).copy()\n",
    "    )\n",
    "    df_pcfva_all.to_csv(\n",
    "        pcfva_results_dirpath / f\"{pcmodel.id}_All_FVAsols.csv\",\n",
    "        index=False,\n",
    "    )\n",
    "else:\n",
    "    df_pcfva_all = pd.DataFrame()"
   ]
  },
  {
   "cell_type": "markdown",
   "id": "adf7cefd-e3bb-4240-8b90-d69db8635f42",
   "metadata": {},
   "source": [
    "## Load pcFVA generated results"
   ]
  },
  {
   "cell_type": "code",
   "execution_count": null,
   "id": "1b3a12d9-85cb-4ea7-b2a5-5882debb1e1e",
   "metadata": {},
   "outputs": [],
   "source": [
    "# Test to see if results were recently generated in this run, otherwise load DataFrame of generated results\n",
    "try:\n",
    "    assert not df_pcfva_all.empty\n",
    "except (NameError, AssertionError):\n",
    "    df_pcfva_all = pd.read_csv(\n",
    "        pcfva_results_dirpath / f\"{pcmodel.id}_All_FVAsols.csv\",\n",
    "        index_col=None,\n",
    "    )\n",
    "    # Filter out results for models not in the desired model list\n",
    "    df_pcfva_all = df_pcfva_all[df_pcfva_all[\"model\"].isin([models_to_simulate])]\n",
    "\n",
    "df_pcfva_all"
   ]
  }
 ],
 "metadata": {
  "kernelspec": {
   "display_name": "Python 3 (ipykernel)",
   "language": "python",
   "name": "python3"
  },
  "language_info": {
   "codemirror_mode": {
    "name": "ipython",
    "version": 3
   },
   "file_extension": ".py",
   "mimetype": "text/x-python",
   "name": "python",
   "nbconvert_exporter": "python",
   "pygments_lexer": "ipython3",
   "version": "3.13.2"
  }
 },
 "nbformat": 4,
 "nbformat_minor": 5
}
