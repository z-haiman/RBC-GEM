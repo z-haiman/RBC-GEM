{
 "cells": [
  {
   "cell_type": "markdown",
   "id": "a90f71f8-0c36-4a8b-9d71-7f0016d6eb3f",
   "metadata": {},
   "source": [
    "# Derive and constrain model\n",
    "## Setup\n",
    "### Import packages"
   ]
  },
  {
   "cell_type": "code",
   "execution_count": 1,
   "id": "3124e748-a6b1-4e97-8c3c-79940ca64902",
   "metadata": {},
   "outputs": [
    {
     "name": "stdout",
     "output_type": "stream",
     "text": [
      "Set parameter Username\n",
      "\n",
      "Package Information\n",
      "-------------------\n",
      "rbc-gem-utils 0.0.1\n",
      "\n",
      "Dependency Information\n",
      "----------------------\n",
      "beautifulsoup4                       4.12.3\n",
      "bio                                   1.6.2\n",
      "cobra                                0.29.0\n",
      "depinfo                               2.2.0\n",
      "kaleido                               0.2.1\n",
      "matplotlib                            3.8.2\n",
      "memote                               0.17.0\n",
      "networkx                              3.2.1\n",
      "notebook                              7.0.7\n",
      "openpyxl                              3.1.2\n",
      "pandas                                2.2.0\n",
      "pre-commit                            3.6.0\n",
      "pyvis                                 0.3.2\n",
      "rbc-gem-utils[database,network,vis] missing\n",
      "requests                             2.31.0\n",
      "scipy                                1.12.0\n",
      "seaborn                              0.13.2\n",
      "\n",
      "Build Tools Information\n",
      "-----------------------\n",
      "pip        23.3.1\n",
      "setuptools 68.2.2\n",
      "wheel      0.41.2\n",
      "\n",
      "Platform Information\n",
      "--------------------\n",
      "Darwin  24.3.0-x86_64\n",
      "CPython        3.11.7\n"
     ]
    }
   ],
   "source": [
    "from pathlib import Path\n",
    "from warnings import warn\n",
    "\n",
    "import pandas as pd\n",
    "from cobra.core import Group\n",
    "from cobra.manipulation import remove_genes\n",
    "from cobra.util.array import create_stoichiometric_matrix, nullspace\n",
    "from rbc_gem_utils import (\n",
    "    ANALYSIS_PATH,\n",
    "    COBRA_CONFIGURATION,\n",
    "    ROOT_PATH,\n",
    "    read_rbc_model,\n",
    "    show_versions,\n",
    "    write_cobra_model,\n",
    ")\n",
    "\n",
    "pd.set_option(\"display.precision\", 6)\n",
    "\n",
    "import gurobipy as gp\n",
    "\n",
    "gp.setParam(\"OutputFlag\", 0)\n",
    "gp.setParam(\"LogToConsole\", 0)\n",
    "\n",
    "# Show versions of notebook\n",
    "show_versions()"
   ]
  },
  {
   "cell_type": "markdown",
   "id": "08731f57-3237-4300-b9c7-5d77c2563a5b",
   "metadata": {},
   "source": [
    "### Define configuration\n",
    "#### COBRA Configuration"
   ]
  },
  {
   "cell_type": "code",
   "execution_count": 2,
   "id": "b3da43e2-fc7b-4871-a285-846fa2314f96",
   "metadata": {},
   "outputs": [
    {
     "data": {
      "text/html": [
       "\n",
       "<table>\n",
       "  <thead>\n",
       "    <tr>\n",
       "      <td><strong>Attribute</strong></td>\n",
       "      <td><strong>Description</strong></td>\n",
       "      <td><strong>Value</strong></td>\n",
       "    </tr>\n",
       "  </thead>\n",
       "  <tbody>\n",
       "    <tr>\n",
       "      <td><pre>solver</pre></td>\n",
       "      <td>Mathematical optimization solver</td>\n",
       "      <td>gurobi</td>\n",
       "    </tr>\n",
       "    <tr>\n",
       "        <td><pre>tolerance</pre></td>\n",
       "        <td>General solver tolerance (feasibility, integrality, etc.)</td>\n",
       "        <td>1e-07</td>\n",
       "    </tr>\n",
       "    <tr>\n",
       "        <td><pre>lower_bound</pre></td>\n",
       "        <td>Default reaction lower bound</td>\n",
       "        <td>-1000.0</td>\n",
       "    </tr>\n",
       "    <tr>\n",
       "        <td><pre>upper_bound</pre></td>\n",
       "        <td>Default reaction upper bound</td>\n",
       "        <td>1000.0</td>\n",
       "    </tr>\n",
       "    <tr>\n",
       "        <td><pre>processes</pre></td>\n",
       "        <td>Number of parallel processes</td>\n",
       "        <td>15</td>\n",
       "    </tr>\n",
       "    <tr>\n",
       "        <td><pre>cache_directory</pre></td>\n",
       "        <td>Path for the model cache</td>\n",
       "        <td>/Users/zhaiman/Library/Caches/cobrapy</td>\n",
       "    </tr>\n",
       "    <tr>\n",
       "        <td><pre>max_cache_size</pre></td>\n",
       "        <td>Maximum cache size in bytes</td>\n",
       "        <td>104857600</td>\n",
       "    </tr>\n",
       "    <tr>\n",
       "        <td><pre>cache_expiration</pre></td>\n",
       "        <td>Model cache expiration time in seconds (if any)</td>\n",
       "        <td>None</td>\n",
       "    </tr>\n",
       "  </tbody>\n",
       "</table>\n"
      ],
      "text/plain": [
       "\n",
       "solver: gurobi\n",
       "tolerance: 1e-07\n",
       "lower_bound: -1000.0\n",
       "upper_bound: 1000.0\n",
       "processes: 15\n",
       "cache_directory: /Users/zhaiman/Library/Caches/cobrapy\n",
       "max_cache_size: 104857600\n",
       "cache_expiration: None"
      ]
     },
     "execution_count": 2,
     "metadata": {},
     "output_type": "execute_result"
    }
   ],
   "source": [
    "COBRA_CONFIGURATION.solver = \"gurobi\"\n",
    "COBRA_CONFIGURATION.bounds = (-1e3, 1e3)\n",
    "COBRA_CONFIGURATION"
   ]
  },
  {
   "cell_type": "markdown",
   "id": "92ba5fdc-9b1c-4509-b2f1-5880224a1530",
   "metadata": {},
   "source": [
    "## Load RBC-GEM model"
   ]
  },
  {
   "cell_type": "code",
   "execution_count": 3,
   "id": "4495660a-ae94-4ce9-80e6-1b1d91374a08",
   "metadata": {},
   "outputs": [
    {
     "name": "stdout",
     "output_type": "stream",
     "text": [
      "/Users/zhaiman/opt/github/RBC-GEM/data/analysis/OVERLAY\n"
     ]
    },
    {
     "data": {
      "text/html": [
       "\n",
       "        <table>\n",
       "            <tr>\n",
       "                <td><strong>Name</strong></td>\n",
       "                <td>RBC_GEM</td>\n",
       "            </tr><tr>\n",
       "                <td><strong>Memory address</strong></td>\n",
       "                <td>1526636d0</td>\n",
       "            </tr><tr>\n",
       "                <td><strong>Number of metabolites</strong></td>\n",
       "                <td>2157</td>\n",
       "            </tr><tr>\n",
       "                <td><strong>Number of reactions</strong></td>\n",
       "                <td>3275</td>\n",
       "            </tr><tr>\n",
       "                <td><strong>Number of genes</strong></td>\n",
       "                <td>820</td>\n",
       "            </tr><tr>\n",
       "                <td><strong>Number of groups</strong></td>\n",
       "                <td>78</td>\n",
       "            </tr><tr>\n",
       "                <td><strong>Objective expression</strong></td>\n",
       "                <td>1.0*NaKt - 1.0*NaKt_reverse_db47e</td>\n",
       "            </tr><tr>\n",
       "                <td><strong>Compartments</strong></td>\n",
       "                <td>cytosol, extracellular space</td>\n",
       "            </tr>\n",
       "          </table>"
      ],
      "text/plain": [
       "<Model RBC_GEM at 0x1526636d0>"
      ]
     },
     "execution_count": 3,
     "metadata": {},
     "output_type": "execute_result"
    }
   ],
   "source": [
    "rbc_gem = read_rbc_model(filetype=\"xml\")\n",
    "for r in rbc_gem.reactions:\n",
    "    if r.bounds == (0.0, 1000.0):\n",
    "        r.bounds = (0, COBRA_CONFIGURATION.upper_bound)\n",
    "    elif r.bounds == (-1000.0, 0.0):\n",
    "        r.bounds = (COBRA_CONFIGURATION.lower_bound, 0.0)\n",
    "    else:\n",
    "        r.bounds = COBRA_CONFIGURATION.bounds\n",
    "\n",
    "data_path = (ROOT_PATH / ANALYSIS_PATH / \"OVERLAY\").resolve()\n",
    "print(data_path)\n",
    "overwrite = True\n",
    "rbc_gem"
   ]
  },
  {
   "cell_type": "markdown",
   "id": "6770523f-bd88-464e-9d2b-ac6a4d912fca",
   "metadata": {},
   "source": [
    "### Extract model\n",
    "Load the full reconstruction or use a pre-defined model for a reduced RBC model."
   ]
  },
  {
   "cell_type": "code",
   "execution_count": 4,
   "id": "ba13d12a-9220-4892-91ea-b37db25e9fc8",
   "metadata": {},
   "outputs": [
    {
     "data": {
      "text/html": [
       "\n",
       "        <table>\n",
       "            <tr>\n",
       "                <td><strong>Name</strong></td>\n",
       "                <td>RBC_GEM</td>\n",
       "            </tr><tr>\n",
       "                <td><strong>Memory address</strong></td>\n",
       "                <td>1543f9f50</td>\n",
       "            </tr><tr>\n",
       "                <td><strong>Number of metabolites</strong></td>\n",
       "                <td>2157</td>\n",
       "            </tr><tr>\n",
       "                <td><strong>Number of reactions</strong></td>\n",
       "                <td>3275</td>\n",
       "            </tr><tr>\n",
       "                <td><strong>Number of genes</strong></td>\n",
       "                <td>820</td>\n",
       "            </tr><tr>\n",
       "                <td><strong>Number of groups</strong></td>\n",
       "                <td>78</td>\n",
       "            </tr><tr>\n",
       "                <td><strong>Objective expression</strong></td>\n",
       "                <td>1.0*NaKt - 1.0*NaKt_reverse_db47e</td>\n",
       "            </tr><tr>\n",
       "                <td><strong>Compartments</strong></td>\n",
       "                <td>cytosol, extracellular space</td>\n",
       "            </tr>\n",
       "          </table>"
      ],
      "text/plain": [
       "<Model RBC_GEM at 0x1543f9f50>"
      ]
     },
     "execution_count": 4,
     "metadata": {},
     "output_type": "execute_result"
    }
   ],
   "source": [
    "reduced_model_id = None\n",
    "model = rbc_gem.copy()\n",
    "\n",
    "boundary_types_dict = {\n",
    "    \"exchange\": \"EX_\",\n",
    "    \"sink\": \"SK_\",\n",
    "    \"demand\": \"DM_\",\n",
    "}\n",
    "\n",
    "\n",
    "if reduced_model_id is not None and reduced_model_id != rbc_gem.id:\n",
    "    df_reactions = pd.read_csv(\n",
    "        ROOT_PATH\n",
    "        / ANALYSIS_PATH\n",
    "        / \"reduced_models\"\n",
    "        / f\"model_reactions_{reduced_model_id}.tsv\",\n",
    "        sep=\"\\t\",\n",
    "        index_col=0,\n",
    "        dtype=str,\n",
    "    ).fillna(\"\")\n",
    "\n",
    "    # Determine pseudoreactions if any\n",
    "    pseudoreactions = set()\n",
    "    boundaries = {}\n",
    "    for btype, prefix in boundary_types_dict.items():\n",
    "        boundaries[btype] = {\n",
    "            r: r.replace(prefix, \"\") for r in df_reactions.index if r.startswith(prefix)\n",
    "        }\n",
    "        pseudoreactions.update([r for r in df_reactions.index if r.startswith(prefix)])\n",
    "\n",
    "    # Extract reactions from model that are not pseudoreactions\n",
    "    reactions = sorted(list(df_reactions.index.difference(pseudoreactions)))\n",
    "    reactions = model.reactions.get_by_any(reactions)\n",
    "    # Remove reactions not in list\n",
    "    model.remove_reactions(\n",
    "        [x for x in model.reactions if x not in reactions], remove_orphans=True\n",
    "    )\n",
    "    # Remove orphaned groups not in list\n",
    "    model.remove_groups([x for x in model.groups if not x.members])\n",
    "    # Cleanup gene reaction rules\n",
    "    for reaction in reactions:\n",
    "        reaction.gene_reaction_rule = df_reactions.loc[\n",
    "            reaction.id, \"gene_reaction_rule\"\n",
    "        ]\n",
    "    to_remove = model.genes.query(lambda x: len(x.reactions) < 1)\n",
    "    remove_genes(model, gene_list=to_remove, remove_reactions=False)\n",
    "\n",
    "    # Add pseudoreactions, defining new ones if needed.\n",
    "    for btype, boundary_dict in boundaries.items():\n",
    "        for reaction, met in boundary_dict.items():\n",
    "            try:\n",
    "                met = model.metabolites.get_by_id(met)\n",
    "            except KeyError as e:\n",
    "                warn(f\"{met} not in model\")\n",
    "            else:\n",
    "                try:\n",
    "                    reaction = model.add_boundary(met, type=btype)\n",
    "                except ValueError:\n",
    "                    reaction = model.reactions.get_by_id(reaction)\n",
    "\n",
    "    for reaction in model.boundary:\n",
    "        reaction.subsystem = \"Pseudoreactions\"\n",
    "\n",
    "    model.id = reduced_model_id\n",
    "model"
   ]
  },
  {
   "cell_type": "markdown",
   "id": "3be468f7-961f-4a40-bf6e-61be7667e622",
   "metadata": {},
   "source": [
    "### Check blocked reactions"
   ]
  },
  {
   "cell_type": "code",
   "execution_count": 5,
   "id": "1ca83d3f-f200-4fa2-8cc4-6b1abda44402",
   "metadata": {},
   "outputs": [],
   "source": [
    "# blocked_reactions = find_blocked_reactions(model, open_exchanges=False);\n",
    "# blocked_reactions = sorted([str(r) for r in model.reactions.get_by_any(blocked_reactions) if r.subsystem not in {\"Pseudoreactions\", \"Transport, extracellular\"}])\n",
    "# blocked_reactions"
   ]
  },
  {
   "cell_type": "markdown",
   "id": "a28647fc-63f2-4266-b4ca-c40523e9d1ea",
   "metadata": {},
   "source": [
    "### Set objective(s)"
   ]
  },
  {
   "cell_type": "code",
   "execution_count": 6,
   "id": "23c375be-7250-4173-80b0-e97b671a85f3",
   "metadata": {},
   "outputs": [
    {
     "name": "stdout",
     "output_type": "stream",
     "text": [
      "NaKt    2.0\n",
      "Name: fluxes, dtype: float64\n"
     ]
    },
    {
     "data": {
      "text/plain": [
       "ACt2           2.0\n",
       "EX_glc__D_e   -1.0\n",
       "EX_h_e         2.0\n",
       "EX_lac__L_e    2.0\n",
       "ENO            2.0\n",
       "FBA            1.0\n",
       "GAPD           2.0\n",
       "LDH_L          2.0\n",
       "NaKt           2.0\n",
       "PFK            1.0\n",
       "PGI            1.0\n",
       "PGK            2.0\n",
       "PGM            2.0\n",
       "PYK            2.0\n",
       "TPI            1.0\n",
       "ADPGK          1.0\n",
       "DADK4          1.0\n",
       "NDPK9          1.0\n",
       "ADK7           1.0\n",
       "DADK7         -1.0\n",
       "CYSTHRNaEx     3.0\n",
       "GLC_Dt        -1.0\n",
       "Kt1            4.0\n",
       "PYR_ACtex      2.0\n",
       "PYR_LLACtex   -2.0\n",
       "THRCYSNaEx     3.0\n",
       "Name: fluxes, dtype: float64"
      ]
     },
     "execution_count": 6,
     "metadata": {},
     "output_type": "execute_result"
    }
   ],
   "source": [
    "test_model = model.copy()\n",
    "for r in test_model.boundary:\n",
    "    r.bounds = (0, COBRA_CONFIGURATION.upper_bound)\n",
    "test_model.reactions.get_by_id(\"EX_glc__D_e\").bounds = (-1, 0)\n",
    "\n",
    "\n",
    "sol = test_model.optimize()\n",
    "sol.fluxes[sol.fluxes != 0]\n",
    "objective_rxns = [\"NaKt\"]\n",
    "model.objective = sum(\n",
    "    [test_model.reactions.get_by_id(rid).flux_expression for rid in objective_rxns]\n",
    ")\n",
    "sol = test_model.optimize()\n",
    "print(sol[objective_rxns])\n",
    "sol.fluxes[sol.fluxes != 0]"
   ]
  },
  {
   "cell_type": "markdown",
   "id": "0e9ed7c3-0549-4843-8b82-f68389e15ba7",
   "metadata": {},
   "source": [
    "### Get dimension of nullspace"
   ]
  },
  {
   "cell_type": "code",
   "execution_count": 7,
   "id": "f1b2ba38-4611-4f3c-bd8b-c6665ec82fc1",
   "metadata": {},
   "outputs": [
    {
     "data": {
      "text/plain": [
       "(3275, 1258)"
      ]
     },
     "execution_count": 7,
     "metadata": {},
     "output_type": "execute_result"
    }
   ],
   "source": [
    "S = create_stoichiometric_matrix(model)\n",
    "ns = nullspace(S)\n",
    "ns.shape"
   ]
  },
  {
   "cell_type": "markdown",
   "id": "dcf569c9-9f6f-4962-ba23-a85aa2040fd0",
   "metadata": {},
   "source": [
    "### Set reaction bounds"
   ]
  },
  {
   "cell_type": "code",
   "execution_count": 8,
   "id": "bbad02a8-30b5-4f52-809e-eb7d740ffd7e",
   "metadata": {},
   "outputs": [],
   "source": [
    "# constraints_bounds_filepath = data_path / \"constraints_reactions.tsv\"\n",
    "# df_constraints_bounds = pd.read_csv(\n",
    "#     constraints_bounds_filepath,\n",
    "#     sep=\"\\t\",\n",
    "#     index_col=\"reactions\"\n",
    "# ).replace(\"\", pd.NA)\n",
    "\n",
    "# df_constraints_bounds[\"lower_bound\"] = df_constraints_bounds[\"lower_bound\"].replace(\"DEFAULT\", COBRA_CONFIGURATION.lower_bound).astype(float)\n",
    "# df_constraints_bounds[\"upper_bound\"] = df_constraints_bounds[\"upper_bound\"].replace(\"DEFAULT\", COBRA_CONFIGURATION.upper_bound).astype(float)\n",
    "# bound_cols = [\"lower_bound\", \"upper_bound\"]\n",
    "\n",
    "# not_found = set()\n",
    "# for rid, row in df_constraints_bounds.iterrows():\n",
    "#     try:\n",
    "#         reaction = model.reactions.get_by_id(rid)\n",
    "#     except KeyError as e:\n",
    "#         not_found.add(rid)\n",
    "#         # warn(f\"Could not find {rid} in model {model.id}.\")\n",
    "#         continue\n",
    "#     # Convert bounds from mmol / hr / L cell --> mmol / hr / gDW\n",
    "#     reaction.bounds = convert_L_to_gDW(row[bound_cols].values)\n",
    "# if len(not_found):\n",
    "#     warn(f\"Could not find {len(not_found)} reactions in model {model.id}.\")\n",
    "\n",
    "# df_constraints_bounds = df_constraints_bounds.loc[~df_constraints_bounds.index.isin(not_found)]\n",
    "# # df_constraints_bounds.to_csv(model_dirpath / \"constraints_reactions.tsv\", sep=\"\\t\", index=False)\n",
    "# df_constraints_bounds.head()"
   ]
  },
  {
   "cell_type": "markdown",
   "id": "5e88a201-e113-424b-be74-15e965f0e2b9",
   "metadata": {},
   "source": [
    "### Set additional constraints\n",
    "#### Ratio constraints"
   ]
  },
  {
   "cell_type": "code",
   "execution_count": 9,
   "id": "1066b9a6-3869-4dc3-8fba-98bae3740875",
   "metadata": {},
   "outputs": [],
   "source": [
    "# constraints_ratios_filepath =  data_path / \"constraints_additional.tsv\"\n",
    "# df_constraints_additional = pd.read_csv(\n",
    "#     constraints_ratios_filepath,\n",
    "#     sep=\"\\t\",\n",
    "#     index_col=\"constraints\",\n",
    "# )\n",
    "\n",
    "# ratio_ids = set()\n",
    "# skipped_constraints = set()\n",
    "# not_found = set()\n",
    "# for constraint_id, row in df_constraints_additional.iterrows():\n",
    "#     subs_dict = {}\n",
    "#     lhs = parse_expr(row[\"lhs\"])\n",
    "#     rhs = parse_expr(row[\"rhs\"])\n",
    "\n",
    "#     csense = row[\"csense\"]\n",
    "#     lb=None if csense == \"<\" else 0\n",
    "#     ub=None if csense == \">\" else 0\n",
    "#     reactions = row[\"reactions\"].split(\";\")\n",
    "#     for reaction in reactions:\n",
    "#         try:\n",
    "#             reaction = model.reactions.get_by_id(reaction)\n",
    "#         except Exception:\n",
    "#             if reaction == str(rhs) or reaction == str(lhs):\n",
    "#                 skipped_constraints.add(constraint_id)\n",
    "#                 continue\n",
    "#             else:\n",
    "#                 not_found.add(reaction)\n",
    "#                 subs_dict[reaction] = 0\n",
    "#         else:\n",
    "#             subs_dict[reaction.id] = reaction.flux_expression\n",
    "#     if (str(rhs) == \"0\" or str(lhs) == \"0\") and len([r for r in reactions if r not in not_found]) <= 1:\n",
    "#         skipped_constraints.add(constraint_id)\n",
    "#     if constraint_id in skipped_constraints:\n",
    "#         continue\n",
    "#     abundance = lhs - rhs\n",
    "#     abundance = abundance.subs(subs_dict)\n",
    "#     if str(abundance) == \"0\":\n",
    "#         print(f\"{constraint_id} is always equal to 0, not including.\")\n",
    "#         skipped_constraints.add(constraint_id)\n",
    "#         continue\n",
    "#     try:\n",
    "#         constraint = model.constraints[constraint_id]\n",
    "#     except Exception:\n",
    "#         pass\n",
    "#     else:\n",
    "#         model.remove_cons_vars(constraint)\n",
    "#     constraint = model.problem.Constraint(\n",
    "#         abundance=abundance,\n",
    "#         name=constraint_id,\n",
    "#         lb=float(lb) if lb is not None else lb,\n",
    "#         ub=float(ub) if ub is not None else ub,\n",
    "#     )\n",
    "#     model.add_cons_vars(constraint)\n",
    "#     # Convert units\n",
    "#     if constraint.lb is not None:\n",
    "#         constraint.lb = convert_L_to_gDW(float(constraint.lb))\n",
    "#     if constraint.ub is not None:\n",
    "#         constraint.ub = convert_L_to_gDW(float(constraint.ub))\n",
    "#     df_constraints_additional.loc[constraint_id, \"reactions\"] = \";\".join([r for r in reactions if r not in not_found])\n",
    "#     print(constraint)\n",
    "#     df_constraints_additional.loc[constraint_id, \"lhs\"] = str(lhs)\n",
    "#     df_constraints_additional.loc[constraint_id, \"rhs\"] = str(rhs)\n",
    "\n",
    "\n",
    "# df_constraints_additional = df_constraints_additional.loc[~df_constraints_additional.index.isin(not_found.union(skipped_constraints))]\n",
    "# df_constraints_additional.to_csv(model_dirpath / \"constraints_additional.tsv\", sep=\"\\t\", index=False)\n",
    "# df_constraints_additional"
   ]
  },
  {
   "cell_type": "markdown",
   "id": "a5d69670-e3b3-4c27-8330-64d335274793",
   "metadata": {},
   "source": [
    "### Reset subsystems"
   ]
  },
  {
   "cell_type": "code",
   "execution_count": 10,
   "id": "eca7d51f-5571-47db-a85e-c535d6177e4c",
   "metadata": {},
   "outputs": [],
   "source": [
    "model.remove_groups(model.groups)\n",
    "for subsystem in sorted(set(model.reactions.list_attr(\"subsystem\"))):\n",
    "    reaction_list = model.reactions.query(lambda x: x.subsystem == subsystem)\n",
    "    if subsystem not in model.groups:\n",
    "        group = Group(id=subsystem, name=subsystem, members=reaction_list)\n",
    "        model.add_groups([group])\n",
    "    else:\n",
    "        group = model.groups.get_by_id(subsystem).add_members(reaction_list)"
   ]
  },
  {
   "cell_type": "markdown",
   "id": "65430e68-b39d-46e2-9958-0061c433fc43",
   "metadata": {},
   "source": [
    "### Export model"
   ]
  },
  {
   "cell_type": "code",
   "execution_count": 11,
   "id": "b1ede4b5-98fc-498a-b496-0f3bf03a0c5a",
   "metadata": {},
   "outputs": [
    {
     "data": {
      "text/html": [
       "\n",
       "        <table>\n",
       "            <tr>\n",
       "                <td><strong>Name</strong></td>\n",
       "                <td>RBC_GEM</td>\n",
       "            </tr><tr>\n",
       "                <td><strong>Memory address</strong></td>\n",
       "                <td>1543f9f50</td>\n",
       "            </tr><tr>\n",
       "                <td><strong>Number of metabolites</strong></td>\n",
       "                <td>2157</td>\n",
       "            </tr><tr>\n",
       "                <td><strong>Number of reactions</strong></td>\n",
       "                <td>3275</td>\n",
       "            </tr><tr>\n",
       "                <td><strong>Number of genes</strong></td>\n",
       "                <td>820</td>\n",
       "            </tr><tr>\n",
       "                <td><strong>Number of groups</strong></td>\n",
       "                <td>78</td>\n",
       "            </tr><tr>\n",
       "                <td><strong>Objective expression</strong></td>\n",
       "                <td>1.0*NaKt - 1.0*NaKt_reverse_db47e</td>\n",
       "            </tr><tr>\n",
       "                <td><strong>Compartments</strong></td>\n",
       "                <td>cytosol, extracellular space</td>\n",
       "            </tr>\n",
       "          </table>"
      ],
      "text/plain": [
       "<Model RBC_GEM at 0x1543f9f50>"
      ]
     },
     "execution_count": 11,
     "metadata": {},
     "output_type": "execute_result"
    }
   ],
   "source": [
    "model_dirpath = data_path / model.id\n",
    "model_dirpath.mkdir(exist_ok=True)\n",
    "write_cobra_model(model, filename=model_dirpath / f\"{model.id}.xml\")\n",
    "model"
   ]
  },
  {
   "cell_type": "markdown",
   "id": "2de21002-7557-4672-9f71-c2b80f2f3531",
   "metadata": {},
   "source": [
    "### Check bounds"
   ]
  },
  {
   "cell_type": "code",
   "execution_count": 12,
   "id": "c921a7ec-8324-4133-b582-4589fdb8940c",
   "metadata": {},
   "outputs": [],
   "source": [
    "from cobra import flux_analysis"
   ]
  },
  {
   "cell_type": "code",
   "execution_count": 13,
   "id": "b72a7708-60eb-4b9b-9159-6db40c6e6fe1",
   "metadata": {},
   "outputs": [
    {
     "name": "stdout",
     "output_type": "stream",
     "text": [
      "Set parameter Username\n",
      "Set parameter Username\n",
      "Set parameter Username\n",
      "Set parameter Username\n",
      "Set parameter Username\n",
      "Set parameter Username\n",
      "Set parameter Username\n",
      "Set parameter Username\n",
      "Set parameter Username\n",
      "Set parameter Username\n",
      "Set parameter Username\n",
      "Set parameter Username\n",
      "Set parameter Username\n",
      "Set parameter Username\n",
      "Set parameter Username\n",
      "Set parameter Username\n",
      "Set parameter Username\n",
      "Set parameter Username\n",
      "Set parameter Username\n",
      "Set parameter Username\n",
      "Set parameter Username\n",
      "Set parameter Username\n",
      "Set parameter Username\n",
      "Set parameter Username\n",
      "Set parameter Username\n",
      "Set parameter Username\n",
      "Set parameter Username\n",
      "Set parameter Username\n",
      "Set parameter Username\n",
      "Set parameter Username\n"
     ]
    }
   ],
   "source": [
    "fva_sol = flux_analysis.flux_variability_analysis(\n",
    "    model,\n",
    "    loopless=False,\n",
    "    fraction_of_optimum=0.0,\n",
    ")"
   ]
  },
  {
   "cell_type": "code",
   "execution_count": 14,
   "id": "101b1fc3-dda0-4bc2-8107-df93a119abc8",
   "metadata": {},
   "outputs": [
    {
     "name": "stdout",
     "output_type": "stream",
     "text": [
      "Set parameter Username\n",
      "Set parameter Username\n",
      "Set parameter Username\n",
      "Set parameter Username\n",
      "Set parameter Username\n",
      "Set parameter Username\n",
      "Set parameter Username\n",
      "Set parameter Username\n",
      "Set parameter Username\n",
      "Set parameter Username\n",
      "Set parameter Username\n",
      "Set parameter Username\n",
      "Set parameter Username\n",
      "Set parameter Username\n",
      "Set parameter Username\n",
      "Set parameter Username\n",
      "Set parameter Username\n",
      "Set parameter Username\n",
      "Set parameter Username\n",
      "Set parameter Username\n",
      "Set parameter Username\n",
      "Set parameter Username\n",
      "Set parameter Username\n",
      "Set parameter Username\n",
      "Set parameter Username\n",
      "Set parameter Username\n",
      "Set parameter Username\n",
      "Set parameter Username\n",
      "Set parameter Username\n",
      "Set parameter Username\n"
     ]
    },
    {
     "data": {
      "text/html": [
       "<div>\n",
       "<style scoped>\n",
       "    .dataframe tbody tr th:only-of-type {\n",
       "        vertical-align: middle;\n",
       "    }\n",
       "\n",
       "    .dataframe tbody tr th {\n",
       "        vertical-align: top;\n",
       "    }\n",
       "\n",
       "    .dataframe thead th {\n",
       "        text-align: right;\n",
       "    }\n",
       "</style>\n",
       "<table border=\"1\" class=\"dataframe\">\n",
       "  <thead>\n",
       "    <tr style=\"text-align: right;\">\n",
       "      <th></th>\n",
       "      <th>minimum</th>\n",
       "      <th>maximum</th>\n",
       "    </tr>\n",
       "  </thead>\n",
       "  <tbody>\n",
       "    <tr>\n",
       "      <th>UNK3</th>\n",
       "      <td>0.0</td>\n",
       "      <td>0.0</td>\n",
       "    </tr>\n",
       "    <tr>\n",
       "      <th>4PYRDXABCte</th>\n",
       "      <td>0.0</td>\n",
       "      <td>0.0</td>\n",
       "    </tr>\n",
       "    <tr>\n",
       "      <th>5AOPt2</th>\n",
       "      <td>0.0</td>\n",
       "      <td>0.0</td>\n",
       "    </tr>\n",
       "    <tr>\n",
       "      <th>EX_ade_e</th>\n",
       "      <td>0.0</td>\n",
       "      <td>0.0</td>\n",
       "    </tr>\n",
       "    <tr>\n",
       "      <th>EX_adn_e</th>\n",
       "      <td>0.0</td>\n",
       "      <td>0.0</td>\n",
       "    </tr>\n",
       "    <tr>\n",
       "      <th>...</th>\n",
       "      <td>...</td>\n",
       "      <td>...</td>\n",
       "    </tr>\n",
       "    <tr>\n",
       "      <th>SK_avite1qn_c</th>\n",
       "      <td>0.0</td>\n",
       "      <td>0.0</td>\n",
       "    </tr>\n",
       "    <tr>\n",
       "      <th>SK_prdx2crd_c</th>\n",
       "      <td>0.0</td>\n",
       "      <td>0.0</td>\n",
       "    </tr>\n",
       "    <tr>\n",
       "      <th>SK_prdx2cso3_c</th>\n",
       "      <td>0.0</td>\n",
       "      <td>0.0</td>\n",
       "    </tr>\n",
       "    <tr>\n",
       "      <th>SK_grdx2crd_c</th>\n",
       "      <td>0.0</td>\n",
       "      <td>0.0</td>\n",
       "    </tr>\n",
       "    <tr>\n",
       "      <th>SK_grdx2cox_c</th>\n",
       "      <td>0.0</td>\n",
       "      <td>0.0</td>\n",
       "    </tr>\n",
       "  </tbody>\n",
       "</table>\n",
       "<p>3275 rows × 2 columns</p>\n",
       "</div>"
      ],
      "text/plain": [
       "                minimum  maximum\n",
       "UNK3                0.0      0.0\n",
       "4PYRDXABCte         0.0      0.0\n",
       "5AOPt2              0.0      0.0\n",
       "EX_ade_e            0.0      0.0\n",
       "EX_adn_e            0.0      0.0\n",
       "...                 ...      ...\n",
       "SK_avite1qn_c       0.0      0.0\n",
       "SK_prdx2crd_c       0.0      0.0\n",
       "SK_prdx2cso3_c      0.0      0.0\n",
       "SK_grdx2crd_c       0.0      0.0\n",
       "SK_grdx2cox_c       0.0      0.0\n",
       "\n",
       "[3275 rows x 2 columns]"
      ]
     },
     "execution_count": 14,
     "metadata": {},
     "output_type": "execute_result"
    }
   ],
   "source": [
    "test_model = model.copy()\n",
    "for r in test_model.boundary:\n",
    "    r.bounds = (0, COBRA_CONFIGURATION.upper_bound)\n",
    "test_model.reactions.get_by_id(\"EX_glc__D_e\").bounds = (-1, 0)\n",
    "\n",
    "\n",
    "test_fva_sol = flux_analysis.flux_variability_analysis(\n",
    "    test_model,\n",
    "    loopless=False,\n",
    "    fraction_of_optimum=0.0,\n",
    ")\n",
    "test_fva_sol"
   ]
  }
 ],
 "metadata": {
  "kernelspec": {
   "display_name": "Python 3 (ipykernel)",
   "language": "python",
   "name": "python3"
  },
  "language_info": {
   "codemirror_mode": {
    "name": "ipython",
    "version": 3
   },
   "file_extension": ".py",
   "mimetype": "text/x-python",
   "name": "python",
   "nbconvert_exporter": "python",
   "pygments_lexer": "ipython3",
   "version": "3.11.7"
  }
 },
 "nbformat": 4,
 "nbformat_minor": 5
}
