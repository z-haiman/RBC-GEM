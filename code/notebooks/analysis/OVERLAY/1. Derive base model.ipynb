{
 "cells": [
  {
   "cell_type": "markdown",
   "id": "a90f71f8-0c36-4a8b-9d71-7f0016d6eb3f",
   "metadata": {},
   "source": [
    "# Derive base model\n",
    "## Setup\n",
    "### Import packages"
   ]
  },
  {
   "cell_type": "code",
   "execution_count": null,
   "id": "3124e748-a6b1-4e97-8c3c-79940ca64902",
   "metadata": {},
   "outputs": [
    {
     "name": "stdout",
     "output_type": "stream",
     "text": [
      "Set parameter Username\n",
      "Academic license - for non-commercial use only - expires 2025-11-21\n",
      "\n",
      "Package Information\n",
      "-------------------\n",
      "rbc-gem-utils 0.0.1\n",
      "\n",
      "Dependency Information\n",
      "----------------------\n",
      "beautifulsoup4                       4.12.3\n",
      "bio                                   1.6.2\n",
      "cobra                                0.29.0\n",
      "depinfo                               2.2.0\n",
      "kaleido                               0.2.1\n",
      "matplotlib                            3.8.2\n",
      "memote                               0.17.0\n",
      "networkx                              3.2.1\n",
      "notebook                              7.0.7\n",
      "openpyxl                              3.1.2\n",
      "pandas                                2.2.0\n",
      "pre-commit                            3.6.0\n",
      "pyvis                                 0.3.2\n",
      "rbc-gem-utils[database,network,vis] missing\n",
      "requests                             2.31.0\n",
      "scipy                                1.12.0\n",
      "seaborn                              0.13.2\n",
      "\n",
      "Build Tools Information\n",
      "-----------------------\n",
      "pip        23.3.1\n",
      "setuptools 68.2.2\n",
      "wheel      0.41.2\n",
      "\n",
      "Platform Information\n",
      "--------------------\n",
      "Darwin  24.4.0-x86_64\n",
      "CPython        3.11.7\n"
     ]
    }
   ],
   "source": [
    "from warnings import warn\n",
    "\n",
    "import pandas as pd\n",
    "from cobra.core import Group\n",
    "from cobra.manipulation import remove_genes\n",
    "from cobra.util.array import create_stoichiometric_matrix, nullspace\n",
    "from rbc_gem_utils import (\n",
    "    COBRA_CONFIGURATION,\n",
    "    GEM_NAME,\n",
    "    get_annotation_df,\n",
    "    get_dirpath,\n",
    "    read_cobra_model,\n",
    "    show_versions,\n",
    "    split_string,\n",
    "    write_cobra_model,\n",
    ")\n",
    "from rbc_gem_utils.database.mgi import MGI_DB_TAG\n",
    "from rbc_gem_utils.database.uniprot import UNIPROT_DB_TAG\n",
    "\n",
    "pd.set_option(\"display.precision\", 6)\n",
    "\n",
    "import gurobipy as gp\n",
    "\n",
    "gp.setParam(\"OutputFlag\", 0)\n",
    "gp.setParam(\"LogToConsole\", 0)\n",
    "\n",
    "# Show versions of notebook\n",
    "show_versions()"
   ]
  },
  {
   "cell_type": "markdown",
   "id": "08731f57-3237-4300-b9c7-5d77c2563a5b",
   "metadata": {},
   "source": [
    "### Define configuration\n",
    "#### COBRA Configuration"
   ]
  },
  {
   "cell_type": "code",
   "execution_count": 2,
   "id": "b3da43e2-fc7b-4871-a285-846fa2314f96",
   "metadata": {},
   "outputs": [
    {
     "data": {
      "text/html": [
       "\n",
       "<table>\n",
       "  <thead>\n",
       "    <tr>\n",
       "      <td><strong>Attribute</strong></td>\n",
       "      <td><strong>Description</strong></td>\n",
       "      <td><strong>Value</strong></td>\n",
       "    </tr>\n",
       "  </thead>\n",
       "  <tbody>\n",
       "    <tr>\n",
       "      <td><pre>solver</pre></td>\n",
       "      <td>Mathematical optimization solver</td>\n",
       "      <td>gurobi</td>\n",
       "    </tr>\n",
       "    <tr>\n",
       "        <td><pre>tolerance</pre></td>\n",
       "        <td>General solver tolerance (feasibility, integrality, etc.)</td>\n",
       "        <td>1e-07</td>\n",
       "    </tr>\n",
       "    <tr>\n",
       "        <td><pre>lower_bound</pre></td>\n",
       "        <td>Default reaction lower bound</td>\n",
       "        <td>-1000.0</td>\n",
       "    </tr>\n",
       "    <tr>\n",
       "        <td><pre>upper_bound</pre></td>\n",
       "        <td>Default reaction upper bound</td>\n",
       "        <td>1000.0</td>\n",
       "    </tr>\n",
       "    <tr>\n",
       "        <td><pre>processes</pre></td>\n",
       "        <td>Number of parallel processes</td>\n",
       "        <td>15</td>\n",
       "    </tr>\n",
       "    <tr>\n",
       "        <td><pre>cache_directory</pre></td>\n",
       "        <td>Path for the model cache</td>\n",
       "        <td>/Users/zhaiman/Library/Caches/cobrapy</td>\n",
       "    </tr>\n",
       "    <tr>\n",
       "        <td><pre>max_cache_size</pre></td>\n",
       "        <td>Maximum cache size in bytes</td>\n",
       "        <td>104857600</td>\n",
       "    </tr>\n",
       "    <tr>\n",
       "        <td><pre>cache_expiration</pre></td>\n",
       "        <td>Model cache expiration time in seconds (if any)</td>\n",
       "        <td>None</td>\n",
       "    </tr>\n",
       "  </tbody>\n",
       "</table>\n"
      ],
      "text/plain": [
       "\n",
       "solver: gurobi\n",
       "tolerance: 1e-07\n",
       "lower_bound: -1000.0\n",
       "upper_bound: 1000.0\n",
       "processes: 15\n",
       "cache_directory: /Users/zhaiman/Library/Caches/cobrapy\n",
       "max_cache_size: 104857600\n",
       "cache_expiration: None"
      ]
     },
     "execution_count": 2,
     "metadata": {},
     "output_type": "execute_result"
    }
   ],
   "source": [
    "COBRA_CONFIGURATION.solver = \"gurobi\"\n",
    "COBRA_CONFIGURATION.bounds = (-1e3, 1e3)\n",
    "COBRA_CONFIGURATION"
   ]
  },
  {
   "cell_type": "markdown",
   "id": "d50f8078-449f-4c41-9a23-2d7fb5d682e0",
   "metadata": {},
   "source": [
    "## Define organism"
   ]
  },
  {
   "cell_type": "code",
   "execution_count": 3,
   "id": "11c25d1f-054a-4918-a710-38762a28d62c",
   "metadata": {},
   "outputs": [],
   "source": [
    "organism = \"Human\""
   ]
  },
  {
   "cell_type": "markdown",
   "id": "92ba5fdc-9b1c-4509-b2f1-5880224a1530",
   "metadata": {},
   "source": [
    "## Load RBC-GEM model"
   ]
  },
  {
   "cell_type": "code",
   "execution_count": 4,
   "id": "4495660a-ae94-4ce9-80e6-1b1d91374a08",
   "metadata": {},
   "outputs": [
    {
     "name": "stdout",
     "output_type": "stream",
     "text": [
      "/Users/zhaiman/opt/github/RBC-GEM/data/analysis/OVERLAY/Human\n"
     ]
    },
    {
     "data": {
      "text/html": [
       "\n",
       "        <table>\n",
       "            <tr>\n",
       "                <td><strong>Name</strong></td>\n",
       "                <td>RBC_GEM</td>\n",
       "            </tr><tr>\n",
       "                <td><strong>Memory address</strong></td>\n",
       "                <td>147116950</td>\n",
       "            </tr><tr>\n",
       "                <td><strong>Number of metabolites</strong></td>\n",
       "                <td>2157</td>\n",
       "            </tr><tr>\n",
       "                <td><strong>Number of reactions</strong></td>\n",
       "                <td>3275</td>\n",
       "            </tr><tr>\n",
       "                <td><strong>Number of genes</strong></td>\n",
       "                <td>820</td>\n",
       "            </tr><tr>\n",
       "                <td><strong>Number of groups</strong></td>\n",
       "                <td>78</td>\n",
       "            </tr><tr>\n",
       "                <td><strong>Objective expression</strong></td>\n",
       "                <td>1.0*NaKt - 1.0*NaKt_reverse_db47e</td>\n",
       "            </tr><tr>\n",
       "                <td><strong>Compartments</strong></td>\n",
       "                <td>cytosol, extracellular space</td>\n",
       "            </tr>\n",
       "          </table>"
      ],
      "text/plain": [
       "<Model RBC_GEM at 0x147116950>"
      ]
     },
     "execution_count": 4,
     "metadata": {},
     "output_type": "execute_result"
    }
   ],
   "source": [
    "valid_organisms = {\"Human\", \"Mouse\"}\n",
    "if organism not in valid_organisms:\n",
    "    raise ValueError(f\"Organism must be one of the following: {valid_organisms}\")\n",
    "\n",
    "if organism == \"Mouse\":\n",
    "    # Load mouse GEM\n",
    "    sequence_dirpath = get_dirpath(\"database\", MGI_DB_TAG)\n",
    "    rbc_gem = read_cobra_model(sequence_dirpath / f\"{GEM_NAME}.xml\")\n",
    "else:\n",
    "    # Load human GEM\n",
    "    sequence_dirpath = get_dirpath(\"database\", UNIPROT_DB_TAG)\n",
    "    rbc_gem = read_cobra_model(get_dirpath(\"model\") / f\"{GEM_NAME}.xml\")\n",
    "\n",
    "\n",
    "for r in rbc_gem.reactions:\n",
    "    if r.bounds == (0.0, 1000.0):\n",
    "        r.bounds = (0, COBRA_CONFIGURATION.upper_bound)\n",
    "    elif r.bounds == (-1000.0, 0.0):\n",
    "        r.bounds = (COBRA_CONFIGURATION.lower_bound, 0.0)\n",
    "    else:\n",
    "        r.bounds = COBRA_CONFIGURATION.bounds\n",
    "\n",
    "overlay_dirpath = (get_dirpath(\"analysis\") / \"OVERLAY\" / organism).resolve()\n",
    "overlay_dirpath.mkdir(exist_ok=True, parents=True)\n",
    "print(overlay_dirpath)\n",
    "overwrite = True\n",
    "rbc_gem"
   ]
  },
  {
   "cell_type": "markdown",
   "id": "6770523f-bd88-464e-9d2b-ac6a4d912fca",
   "metadata": {},
   "source": [
    "### Extract model\n",
    "Load the full reconstruction or use a pre-defined model for a reduced RBC model."
   ]
  },
  {
   "cell_type": "code",
   "execution_count": 5,
   "id": "ba13d12a-9220-4892-91ea-b37db25e9fc8",
   "metadata": {},
   "outputs": [
    {
     "data": {
      "text/html": [
       "\n",
       "        <table>\n",
       "            <tr>\n",
       "                <td><strong>Name</strong></td>\n",
       "                <td>RBC_GEM</td>\n",
       "            </tr><tr>\n",
       "                <td><strong>Memory address</strong></td>\n",
       "                <td>149d52650</td>\n",
       "            </tr><tr>\n",
       "                <td><strong>Number of metabolites</strong></td>\n",
       "                <td>2157</td>\n",
       "            </tr><tr>\n",
       "                <td><strong>Number of reactions</strong></td>\n",
       "                <td>3275</td>\n",
       "            </tr><tr>\n",
       "                <td><strong>Number of genes</strong></td>\n",
       "                <td>820</td>\n",
       "            </tr><tr>\n",
       "                <td><strong>Number of groups</strong></td>\n",
       "                <td>78</td>\n",
       "            </tr><tr>\n",
       "                <td><strong>Objective expression</strong></td>\n",
       "                <td>1.0*NaKt - 1.0*NaKt_reverse_db47e</td>\n",
       "            </tr><tr>\n",
       "                <td><strong>Compartments</strong></td>\n",
       "                <td>cytosol, extracellular space</td>\n",
       "            </tr>\n",
       "          </table>"
      ],
      "text/plain": [
       "<Model RBC_GEM at 0x149d52650>"
      ]
     },
     "execution_count": 5,
     "metadata": {},
     "output_type": "execute_result"
    }
   ],
   "source": [
    "reduced_model_id = None\n",
    "model = rbc_gem.copy()\n",
    "\n",
    "boundary_types_dict = {\n",
    "    \"exchange\": \"EX_\",\n",
    "    \"sink\": \"SK_\",\n",
    "    \"demand\": \"DM_\",\n",
    "}\n",
    "\n",
    "\n",
    "if reduced_model_id is not None and reduced_model_id != rbc_gem.id:\n",
    "    df_reactions = pd.read_csv(\n",
    "        get_dirpath(\"analysis\")\n",
    "        / organism\n",
    "        / \"reduced_models\"\n",
    "        / f\"model_reactions_{reduced_model_id}.tsv\",\n",
    "        sep=\"\\t\",\n",
    "        index_col=0,\n",
    "        dtype=str,\n",
    "    ).fillna(\"\")\n",
    "\n",
    "    # Determine pseudoreactions if any\n",
    "    pseudoreactions = set()\n",
    "    boundaries = {}\n",
    "    for btype, prefix in boundary_types_dict.items():\n",
    "        boundaries[btype] = {\n",
    "            r: r.replace(prefix, \"\") for r in df_reactions.index if r.startswith(prefix)\n",
    "        }\n",
    "        pseudoreactions.update([r for r in df_reactions.index if r.startswith(prefix)])\n",
    "\n",
    "    # Extract reactions from model that are not pseudoreactions\n",
    "    reactions = sorted(list(df_reactions.index.difference(pseudoreactions)))\n",
    "    reactions = model.reactions.get_by_any(reactions)\n",
    "    # Remove reactions not in list\n",
    "    model.remove_reactions(\n",
    "        [x for x in model.reactions if x not in reactions], remove_orphans=True\n",
    "    )\n",
    "    # Remove orphaned groups not in list\n",
    "    model.remove_groups([x for x in model.groups if not x.members])\n",
    "    # Cleanup gene reaction rules\n",
    "    for reaction in reactions:\n",
    "        reaction.gene_reaction_rule = df_reactions.loc[\n",
    "            reaction.id, \"gene_reaction_rule\"\n",
    "        ]\n",
    "    to_remove = model.genes.query(lambda x: len(x.reactions) < 1)\n",
    "    remove_genes(model, gene_list=to_remove, remove_reactions=False)\n",
    "\n",
    "    # Add pseudoreactions, defining new ones if needed.\n",
    "    for btype, boundary_dict in boundaries.items():\n",
    "        for reaction, met in boundary_dict.items():\n",
    "            try:\n",
    "                met = model.metabolites.get_by_id(met)\n",
    "            except KeyError as e:\n",
    "                warn(f\"{met} not in model\")\n",
    "            else:\n",
    "                try:\n",
    "                    reaction = model.add_boundary(met, type=btype)\n",
    "                except ValueError:\n",
    "                    reaction = model.reactions.get_by_id(reaction)\n",
    "\n",
    "    for reaction in model.boundary:\n",
    "        reaction.subsystem = \"Pseudoreactions\"\n",
    "\n",
    "    model.id = reduced_model_id\n",
    "model"
   ]
  },
  {
   "cell_type": "markdown",
   "id": "3be468f7-961f-4a40-bf6e-61be7667e622",
   "metadata": {},
   "source": [
    "### Check blocked reactions"
   ]
  },
  {
   "cell_type": "code",
   "execution_count": 6,
   "id": "1ca83d3f-f200-4fa2-8cc4-6b1abda44402",
   "metadata": {},
   "outputs": [],
   "source": [
    "# blocked_reactions = find_blocked_reactions(model, open_exchanges=False);\n",
    "# blocked_reactions = sorted([str(r) for r in model.reactions.get_by_any(blocked_reactions) if r.subsystem not in {\"Pseudoreactions\", \"Transport, extracellular\"}])\n",
    "# blocked_reactions"
   ]
  },
  {
   "cell_type": "markdown",
   "id": "a28647fc-63f2-4266-b4ca-c40523e9d1ea",
   "metadata": {},
   "source": [
    "### Set objective(s)"
   ]
  },
  {
   "cell_type": "code",
   "execution_count": 7,
   "id": "23c375be-7250-4173-80b0-e97b671a85f3",
   "metadata": {},
   "outputs": [
    {
     "name": "stdout",
     "output_type": "stream",
     "text": [
      "NaKt    2.0\n",
      "Name: fluxes, dtype: float64\n"
     ]
    },
    {
     "data": {
      "text/plain": [
       "ACt2           2.0\n",
       "EX_glc__D_e   -1.0\n",
       "EX_h_e         2.0\n",
       "EX_lac__L_e    2.0\n",
       "ENO            2.0\n",
       "FBA            1.0\n",
       "GAPD           2.0\n",
       "LDH_L          2.0\n",
       "NaKt           2.0\n",
       "PFK            1.0\n",
       "PGI            1.0\n",
       "PGK            2.0\n",
       "PGM            2.0\n",
       "PYK            2.0\n",
       "TPI            1.0\n",
       "ADPGK          1.0\n",
       "DADK4          1.0\n",
       "NDPK9          1.0\n",
       "ADK7           1.0\n",
       "DADK7         -1.0\n",
       "CYSTHRNaEx     3.0\n",
       "GLC_Dt        -1.0\n",
       "Kt1            4.0\n",
       "PYR_ACtex      2.0\n",
       "PYR_LLACtex   -2.0\n",
       "THRCYSNaEx     3.0\n",
       "Name: fluxes, dtype: float64"
      ]
     },
     "execution_count": 7,
     "metadata": {},
     "output_type": "execute_result"
    }
   ],
   "source": [
    "test_model = model.copy()\n",
    "for r in test_model.boundary:\n",
    "    r.bounds = (0, COBRA_CONFIGURATION.upper_bound)\n",
    "test_model.reactions.get_by_id(\"EX_glc__D_e\").bounds = (-1, 0)\n",
    "\n",
    "\n",
    "sol = test_model.optimize()\n",
    "sol.fluxes[sol.fluxes != 0]\n",
    "objective_rxns = [\"NaKt\"]\n",
    "model.objective = sum(\n",
    "    [test_model.reactions.get_by_id(rid).flux_expression for rid in objective_rxns]\n",
    ")\n",
    "sol = test_model.optimize()\n",
    "print(sol[objective_rxns])\n",
    "sol.fluxes[sol.fluxes != 0]"
   ]
  },
  {
   "cell_type": "markdown",
   "id": "0e9ed7c3-0549-4843-8b82-f68389e15ba7",
   "metadata": {},
   "source": [
    "### Get dimension of nullspace"
   ]
  },
  {
   "cell_type": "code",
   "execution_count": 8,
   "id": "f1b2ba38-4611-4f3c-bd8b-c6665ec82fc1",
   "metadata": {},
   "outputs": [
    {
     "data": {
      "text/plain": [
       "(3275, 1258)"
      ]
     },
     "execution_count": 8,
     "metadata": {},
     "output_type": "execute_result"
    }
   ],
   "source": [
    "S = create_stoichiometric_matrix(model)\n",
    "ns = nullspace(S)\n",
    "ns.shape"
   ]
  },
  {
   "cell_type": "markdown",
   "id": "a5d69670-e3b3-4c27-8330-64d335274793",
   "metadata": {},
   "source": [
    "### Reset subsystems"
   ]
  },
  {
   "cell_type": "code",
   "execution_count": 9,
   "id": "eca7d51f-5571-47db-a85e-c535d6177e4c",
   "metadata": {},
   "outputs": [],
   "source": [
    "model.remove_groups(model.groups)\n",
    "for subsystem in sorted(set(model.reactions.list_attr(\"subsystem\"))):\n",
    "    reaction_list = model.reactions.query(lambda x: x.subsystem == subsystem)\n",
    "    if subsystem not in model.groups:\n",
    "        group = Group(id=subsystem, name=subsystem, members=reaction_list)\n",
    "        model.add_groups([group])\n",
    "    else:\n",
    "        group = model.groups.get_by_id(subsystem).add_members(reaction_list)"
   ]
  },
  {
   "cell_type": "markdown",
   "id": "5f77d68b-aa9e-4596-ac4e-0d3e14d8565d",
   "metadata": {},
   "source": [
    "### Assemble protein data\n",
    "#### Get model mappings"
   ]
  },
  {
   "cell_type": "code",
   "execution_count": 10,
   "id": "31cbdf49-984a-4ca9-a1e3-fad3989d7d05",
   "metadata": {},
   "outputs": [
    {
     "name": "stdout",
     "output_type": "stream",
     "text": [
      "genes      820\n",
      "uniprot    820\n",
      "dtype: int64\n"
     ]
    },
    {
     "data": {
      "text/html": [
       "<div>\n",
       "<style scoped>\n",
       "    .dataframe tbody tr th:only-of-type {\n",
       "        vertical-align: middle;\n",
       "    }\n",
       "\n",
       "    .dataframe tbody tr th {\n",
       "        vertical-align: top;\n",
       "    }\n",
       "\n",
       "    .dataframe thead th {\n",
       "        text-align: right;\n",
       "    }\n",
       "</style>\n",
       "<table border=\"1\" class=\"dataframe\">\n",
       "  <thead>\n",
       "    <tr style=\"text-align: right;\">\n",
       "      <th></th>\n",
       "      <th>genes</th>\n",
       "      <th>uniprot</th>\n",
       "    </tr>\n",
       "  </thead>\n",
       "  <tbody>\n",
       "    <tr>\n",
       "      <th>0</th>\n",
       "      <td>A4GALT</td>\n",
       "      <td>Q9NPC4</td>\n",
       "    </tr>\n",
       "    <tr>\n",
       "      <th>1</th>\n",
       "      <td>AARS1</td>\n",
       "      <td>P49588</td>\n",
       "    </tr>\n",
       "    <tr>\n",
       "      <th>2</th>\n",
       "      <td>AASDHPPT</td>\n",
       "      <td>Q9NRN7</td>\n",
       "    </tr>\n",
       "    <tr>\n",
       "      <th>3</th>\n",
       "      <td>ABCA1</td>\n",
       "      <td>O95477</td>\n",
       "    </tr>\n",
       "    <tr>\n",
       "      <th>4</th>\n",
       "      <td>ABCA7</td>\n",
       "      <td>Q8IZY2</td>\n",
       "    </tr>\n",
       "    <tr>\n",
       "      <th>...</th>\n",
       "      <td>...</td>\n",
       "      <td>...</td>\n",
       "    </tr>\n",
       "    <tr>\n",
       "      <th>815</th>\n",
       "      <td>YES1</td>\n",
       "      <td>P07947</td>\n",
       "    </tr>\n",
       "    <tr>\n",
       "      <th>816</th>\n",
       "      <td>ZDHHC2</td>\n",
       "      <td>Q9UIJ5</td>\n",
       "    </tr>\n",
       "    <tr>\n",
       "      <th>817</th>\n",
       "      <td>ZDHHC20</td>\n",
       "      <td>Q5W0Z9</td>\n",
       "    </tr>\n",
       "    <tr>\n",
       "      <th>818</th>\n",
       "      <td>ZDHHC3</td>\n",
       "      <td>Q9NYG2</td>\n",
       "    </tr>\n",
       "    <tr>\n",
       "      <th>819</th>\n",
       "      <td>ZDHHC5</td>\n",
       "      <td>Q9C0B5</td>\n",
       "    </tr>\n",
       "  </tbody>\n",
       "</table>\n",
       "<p>820 rows × 2 columns</p>\n",
       "</div>"
      ],
      "text/plain": [
       "        genes uniprot\n",
       "0      A4GALT  Q9NPC4\n",
       "1       AARS1  P49588\n",
       "2    AASDHPPT  Q9NRN7\n",
       "3       ABCA1  O95477\n",
       "4       ABCA7  Q8IZY2\n",
       "..        ...     ...\n",
       "815      YES1  P07947\n",
       "816    ZDHHC2  Q9UIJ5\n",
       "817   ZDHHC20  Q5W0Z9\n",
       "818    ZDHHC3  Q9NYG2\n",
       "819    ZDHHC5  Q9C0B5\n",
       "\n",
       "[820 rows x 2 columns]"
      ]
     },
     "execution_count": 10,
     "metadata": {},
     "output_type": "execute_result"
    }
   ],
   "source": [
    "annotation_type = \"genes\"\n",
    "mapping_key = \"uniprot\"\n",
    "annotation_cols = [mapping_key]\n",
    "\n",
    "df_model_mappings = (\n",
    "    get_annotation_df(model.genes, annotation_cols)\n",
    "    .rename({\"id\": annotation_type}, axis=1)\n",
    "    .dropna(subset=[mapping_key])\n",
    ")\n",
    "for col in df_model_mappings.columns:\n",
    "    df_model_mappings[col] = df_model_mappings[col].apply(lambda x: split_string(x))\n",
    "    df_model_mappings = df_model_mappings.explode(col).drop_duplicates().dropna()\n",
    "df_model_mappings = df_model_mappings.sort_values(annotation_type)\n",
    "\n",
    "print(df_model_mappings.nunique(dropna=True))\n",
    "df_model_mappings = df_model_mappings.reset_index(drop=True)\n",
    "df_model_mappings"
   ]
  },
  {
   "cell_type": "markdown",
   "id": "8e8e53ee-d20a-4870-a2b5-4800ec1defb7",
   "metadata": {},
   "source": [
    "#### Load protein amino acid sequences"
   ]
  },
  {
   "cell_type": "code",
   "execution_count": 11,
   "id": "58fa4f76-4564-45d9-a6ab-2661f1129c1c",
   "metadata": {},
   "outputs": [
    {
     "name": "stdout",
     "output_type": "stream",
     "text": [
      "['P00167' 'P00387' 'P02730' 'P05089' 'P08397' 'P19367' 'P22303' 'P30613'\n",
      " 'Q8N0V5' 'Q9H0P0']\n"
     ]
    },
    {
     "data": {
      "text/html": [
       "<div>\n",
       "<style scoped>\n",
       "    .dataframe tbody tr th:only-of-type {\n",
       "        vertical-align: middle;\n",
       "    }\n",
       "\n",
       "    .dataframe tbody tr th {\n",
       "        vertical-align: top;\n",
       "    }\n",
       "\n",
       "    .dataframe thead th {\n",
       "        text-align: right;\n",
       "    }\n",
       "</style>\n",
       "<table border=\"1\" class=\"dataframe\">\n",
       "  <thead>\n",
       "    <tr style=\"text-align: right;\">\n",
       "      <th></th>\n",
       "      <th>genes</th>\n",
       "      <th>sequence.id</th>\n",
       "      <th>sequence</th>\n",
       "    </tr>\n",
       "  </thead>\n",
       "  <tbody>\n",
       "    <tr>\n",
       "      <th>0</th>\n",
       "      <td>A4GALT</td>\n",
       "      <td>Q9NPC4</td>\n",
       "      <td>MSKPPDLLLRLLRGAPRQRVCTLFIIGFKFTFFVSIMIYWHVVGEP...</td>\n",
       "    </tr>\n",
       "    <tr>\n",
       "      <th>1</th>\n",
       "      <td>AARS1</td>\n",
       "      <td>P49588-1</td>\n",
       "      <td>MDSTLTASEIRQRFIDFFKRNEHTYVHSSATIPLDDPTLLFANAGM...</td>\n",
       "    </tr>\n",
       "    <tr>\n",
       "      <th>2</th>\n",
       "      <td>AARS1</td>\n",
       "      <td>P49588-2</td>\n",
       "      <td>MDSTLTASEIRQRFIDFFKRNEHTYVHSSATIPLDDPTLLFANAGM...</td>\n",
       "    </tr>\n",
       "    <tr>\n",
       "      <th>3</th>\n",
       "      <td>AASDHPPT</td>\n",
       "      <td>Q9NRN7-1</td>\n",
       "      <td>MVFPAKRFCLVPSMEGVRWAFSCGTWLPSRAEWLLAVRSIQPEEKE...</td>\n",
       "    </tr>\n",
       "    <tr>\n",
       "      <th>4</th>\n",
       "      <td>AASDHPPT</td>\n",
       "      <td>Q9NRN7-2</td>\n",
       "      <td>MVFPAKRFCLVPSMEGVRWAFSCGTWLPSRAEWLLAVRSIQPEEKE...</td>\n",
       "    </tr>\n",
       "    <tr>\n",
       "      <th>...</th>\n",
       "      <td>...</td>\n",
       "      <td>...</td>\n",
       "      <td>...</td>\n",
       "    </tr>\n",
       "    <tr>\n",
       "      <th>1851</th>\n",
       "      <td>ZDHHC20</td>\n",
       "      <td>Q5W0Z9-4</td>\n",
       "      <td>MAPWTLWRCCQRVVGWVPVLFITFVVVWSYYAYVVELCVFTIFGNE...</td>\n",
       "    </tr>\n",
       "    <tr>\n",
       "      <th>1852</th>\n",
       "      <td>ZDHHC3</td>\n",
       "      <td>Q9NYG2-1</td>\n",
       "      <td>MMLIPTHHFRNIERKPEYLQPEKCVPPPYPGPVGTMWFIRDGCGIA...</td>\n",
       "    </tr>\n",
       "    <tr>\n",
       "      <th>1853</th>\n",
       "      <td>ZDHHC3</td>\n",
       "      <td>Q9NYG2-2</td>\n",
       "      <td>MMLIPTHHFRNIERKPEYLQPEKCVPPPYPGPVGTMWFIRDGCGIA...</td>\n",
       "    </tr>\n",
       "    <tr>\n",
       "      <th>1854</th>\n",
       "      <td>ZDHHC5</td>\n",
       "      <td>Q9C0B5-1</td>\n",
       "      <td>MPAESGKRFKPSKYVPVSAAAIFLVGATTLFFAFTCPGLSLYVSPA...</td>\n",
       "    </tr>\n",
       "    <tr>\n",
       "      <th>1855</th>\n",
       "      <td>ZDHHC5</td>\n",
       "      <td>Q9C0B5-2</td>\n",
       "      <td>MFLFVLANFSMATFMDPGIFPRAEEDEDKEDDFRAPLYKTVEIKGI...</td>\n",
       "    </tr>\n",
       "  </tbody>\n",
       "</table>\n",
       "<p>1856 rows × 3 columns</p>\n",
       "</div>"
      ],
      "text/plain": [
       "         genes sequence.id                                           sequence\n",
       "0       A4GALT      Q9NPC4  MSKPPDLLLRLLRGAPRQRVCTLFIIGFKFTFFVSIMIYWHVVGEP...\n",
       "1        AARS1    P49588-1  MDSTLTASEIRQRFIDFFKRNEHTYVHSSATIPLDDPTLLFANAGM...\n",
       "2        AARS1    P49588-2  MDSTLTASEIRQRFIDFFKRNEHTYVHSSATIPLDDPTLLFANAGM...\n",
       "3     AASDHPPT    Q9NRN7-1  MVFPAKRFCLVPSMEGVRWAFSCGTWLPSRAEWLLAVRSIQPEEKE...\n",
       "4     AASDHPPT    Q9NRN7-2  MVFPAKRFCLVPSMEGVRWAFSCGTWLPSRAEWLLAVRSIQPEEKE...\n",
       "...        ...         ...                                                ...\n",
       "1851   ZDHHC20    Q5W0Z9-4  MAPWTLWRCCQRVVGWVPVLFITFVVVWSYYAYVVELCVFTIFGNE...\n",
       "1852    ZDHHC3    Q9NYG2-1  MMLIPTHHFRNIERKPEYLQPEKCVPPPYPGPVGTMWFIRDGCGIA...\n",
       "1853    ZDHHC3    Q9NYG2-2  MMLIPTHHFRNIERKPEYLQPEKCVPPPYPGPVGTMWFIRDGCGIA...\n",
       "1854    ZDHHC5    Q9C0B5-1  MPAESGKRFKPSKYVPVSAAAIFLVGATTLFFAFTCPGLSLYVSPA...\n",
       "1855    ZDHHC5    Q9C0B5-2  MFLFVLANFSMATFMDPGIFPRAEEDEDKEDDFRAPLYKTVEIKGI...\n",
       "\n",
       "[1856 rows x 3 columns]"
      ]
     },
     "execution_count": 11,
     "metadata": {},
     "output_type": "execute_result"
    }
   ],
   "source": [
    "df_isoforms_sequences = pd.read_csv(\n",
    "    sequence_dirpath / f\"{UNIPROT_DB_TAG}_isoforms_sequences.tsv\",\n",
    "    sep=\"\\t\",\n",
    "    index_col=None,\n",
    ").fillna(pd.NA)\n",
    "print(df_isoforms_sequences[df_isoforms_sequences[\"erythroid\"]][\"uniprot\"].unique())\n",
    "\n",
    "\n",
    "df_sequences = df_model_mappings.merge(\n",
    "    df_isoforms_sequences,\n",
    "    left_on=mapping_key,\n",
    "    right_on=mapping_key,\n",
    "    how=\"left\",\n",
    ")\n",
    "df_sequences = df_sequences[[\"genes\", \"sequence.id\", \"sequence\"]].dropna(\n",
    "    subset=[\"sequence\"], axis=0\n",
    ")\n",
    "df_sequences"
   ]
  },
  {
   "cell_type": "markdown",
   "id": "369a05b2-0ec3-43b8-aeef-f2d86c1d5969",
   "metadata": {},
   "source": [
    "### Remove genes without sequence data"
   ]
  },
  {
   "cell_type": "code",
   "execution_count": 12,
   "id": "fcc01a80-439a-40ad-88c4-af9b8f1a7ebe",
   "metadata": {},
   "outputs": [],
   "source": [
    "genes_to_remove = model.genes.query(lambda x: x.id not in set(df_sequences[\"genes\"]))\n",
    "remove_genes(model, gene_list=genes_to_remove, remove_reactions=False)"
   ]
  },
  {
   "cell_type": "markdown",
   "id": "65430e68-b39d-46e2-9958-0061c433fc43",
   "metadata": {},
   "source": [
    "### Export model"
   ]
  },
  {
   "cell_type": "code",
   "execution_count": 13,
   "id": "b1ede4b5-98fc-498a-b496-0f3bf03a0c5a",
   "metadata": {},
   "outputs": [
    {
     "data": {
      "text/html": [
       "\n",
       "        <table>\n",
       "            <tr>\n",
       "                <td><strong>Name</strong></td>\n",
       "                <td>RBC_GEM</td>\n",
       "            </tr><tr>\n",
       "                <td><strong>Memory address</strong></td>\n",
       "                <td>149d52650</td>\n",
       "            </tr><tr>\n",
       "                <td><strong>Number of metabolites</strong></td>\n",
       "                <td>2157</td>\n",
       "            </tr><tr>\n",
       "                <td><strong>Number of reactions</strong></td>\n",
       "                <td>3275</td>\n",
       "            </tr><tr>\n",
       "                <td><strong>Number of genes</strong></td>\n",
       "                <td>820</td>\n",
       "            </tr><tr>\n",
       "                <td><strong>Number of groups</strong></td>\n",
       "                <td>78</td>\n",
       "            </tr><tr>\n",
       "                <td><strong>Objective expression</strong></td>\n",
       "                <td>1.0*NaKt - 1.0*NaKt_reverse_db47e</td>\n",
       "            </tr><tr>\n",
       "                <td><strong>Compartments</strong></td>\n",
       "                <td>cytosol, extracellular space</td>\n",
       "            </tr>\n",
       "          </table>"
      ],
      "text/plain": [
       "<Model RBC_GEM at 0x149d52650>"
      ]
     },
     "execution_count": 13,
     "metadata": {},
     "output_type": "execute_result"
    }
   ],
   "source": [
    "model_dirpath = overlay_dirpath / model.id\n",
    "model_dirpath.mkdir(exist_ok=True)\n",
    "write_cobra_model(model, filename=model_dirpath / f\"{model.id}.xml\")\n",
    "model"
   ]
  }
 ],
 "metadata": {
  "kernelspec": {
   "display_name": "memote-rbc-gem",
   "language": "python",
   "name": "python3"
  },
  "language_info": {
   "codemirror_mode": {
    "name": "ipython",
    "version": 3
   },
   "file_extension": ".py",
   "mimetype": "text/x-python",
   "name": "python",
   "nbconvert_exporter": "python",
   "pygments_lexer": "ipython3",
   "version": "3.11.7"
  }
 },
 "nbformat": 4,
 "nbformat_minor": 5
}
