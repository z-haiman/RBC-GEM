{
 "cells": [
  {
   "cell_type": "markdown",
   "id": "61031c7c-b64e-4aec-b2e5-f9c656ee3c89",
   "metadata": {},
   "source": [
    "# Annotate RBC-GEM\n",
    "\n",
    "## Setup\n",
    "### Import packages"
   ]
  },
  {
   "cell_type": "code",
   "execution_count": 1,
   "id": "63c47b2a-cb9f-40f8-a2fb-de78ac00d860",
   "metadata": {},
   "outputs": [
    {
     "name": "stdout",
     "output_type": "stream",
     "text": [
      "\n",
      "Package Information\n",
      "-------------------\n",
      "rbc-gem-utils 0.0.1\n",
      "\n",
      "Dependency Information\n",
      "----------------------\n",
      "cobra      0.29.0\n",
      "depinfo     2.2.0\n",
      "matplotlib  3.8.2\n",
      "memote     0.16.1\n",
      "notebook    7.0.6\n",
      "requests   2.31.0\n",
      "scipy      1.11.4\n",
      "seaborn    0.13.0\n",
      "\n",
      "Build Tools Information\n",
      "-----------------------\n",
      "pip        23.3.1\n",
      "setuptools 68.2.2\n",
      "wheel      0.41.2\n",
      "\n",
      "Platform Information\n",
      "--------------------\n",
      "Darwin  22.6.0-x86_64\n",
      "CPython        3.12.0\n"
     ]
    }
   ],
   "source": [
    "import pandas as pd\n",
    "import matplotlib.pyplot as plt\n",
    "\n",
    "from rbc_gem_utils import (\n",
    "    COBRA_CONFIGURATION,\n",
    "    ROOT_PATH,\n",
    "    MODEL_PATH,\n",
    "    get_annotation_df,\n",
    "    compare_tables,\n",
    "    visualize_comparison,\n",
    "    read_rbc_model,\n",
    "    write_rbc_model,\n",
    "    split_string,\n",
    "    show_versions,\n",
    ")\n",
    "\n",
    "from rbc_gem_utils.annotation import set_sbo_default_annotations\n",
    "# Display versions of last time notebook ran and worked\n",
    "show_versions()"
   ]
  },
  {
   "cell_type": "markdown",
   "id": "a6466129-da91-4a11-ae95-c53c8f811713",
   "metadata": {},
   "source": [
    "### Define configuration\n",
    "#### COBRA Configuration"
   ]
  },
  {
   "cell_type": "code",
   "execution_count": 2,
   "id": "24b3bea0-9f2d-4f14-949d-8ee60ee08365",
   "metadata": {},
   "outputs": [
    {
     "data": {
      "text/html": [
       "\n",
       "<table>\n",
       "  <thead>\n",
       "    <tr>\n",
       "      <td><strong>Attribute</strong></td>\n",
       "      <td><strong>Description</strong></td>\n",
       "      <td><strong>Value</strong></td>\n",
       "    </tr>\n",
       "  </thead>\n",
       "  <tbody>\n",
       "    <tr>\n",
       "      <td><pre>solver</pre></td>\n",
       "      <td>Mathematical optimization solver</td>\n",
       "      <td>gurobi</td>\n",
       "    </tr>\n",
       "    <tr>\n",
       "        <td><pre>tolerance</pre></td>\n",
       "        <td>General solver tolerance (feasibility, integrality, etc.)</td>\n",
       "        <td>1e-07</td>\n",
       "    </tr>\n",
       "    <tr>\n",
       "        <td><pre>lower_bound</pre></td>\n",
       "        <td>Default reaction lower bound</td>\n",
       "        <td>-1000.0</td>\n",
       "    </tr>\n",
       "    <tr>\n",
       "        <td><pre>upper_bound</pre></td>\n",
       "        <td>Default reaction upper bound</td>\n",
       "        <td>1000.0</td>\n",
       "    </tr>\n",
       "    <tr>\n",
       "        <td><pre>processes</pre></td>\n",
       "        <td>Number of parallel processes</td>\n",
       "        <td>15</td>\n",
       "    </tr>\n",
       "    <tr>\n",
       "        <td><pre>cache_directory</pre></td>\n",
       "        <td>Path for the model cache</td>\n",
       "        <td>/Users/zhaiman/Library/Caches/cobrapy</td>\n",
       "    </tr>\n",
       "    <tr>\n",
       "        <td><pre>max_cache_size</pre></td>\n",
       "        <td>Maximum cache size in bytes</td>\n",
       "        <td>104857600</td>\n",
       "    </tr>\n",
       "    <tr>\n",
       "        <td><pre>cache_expiration</pre></td>\n",
       "        <td>Model cache expiration time in seconds (if any)</td>\n",
       "        <td>None</td>\n",
       "    </tr>\n",
       "  </tbody>\n",
       "</table>\n"
      ],
      "text/plain": [
       "\n",
       "solver: gurobi\n",
       "tolerance: 1e-07\n",
       "lower_bound: -1000.0\n",
       "upper_bound: 1000.0\n",
       "processes: 15\n",
       "cache_directory: /Users/zhaiman/Library/Caches/cobrapy\n",
       "max_cache_size: 104857600\n",
       "cache_expiration: None"
      ]
     },
     "execution_count": 2,
     "metadata": {},
     "output_type": "execute_result"
    }
   ],
   "source": [
    "COBRA_CONFIGURATION"
   ]
  },
  {
   "cell_type": "markdown",
   "id": "313b5dab-bde3-48f1-9103-4f53736fe132",
   "metadata": {},
   "source": [
    "## Load RBC-GEM model\n",
    "### Current Version: 0.3.0"
   ]
  },
  {
   "cell_type": "code",
   "execution_count": 3,
   "id": "81a721a7-dd3a-427b-8759-99a0320ebce3",
   "metadata": {},
   "outputs": [
    {
     "name": "stdout",
     "output_type": "stream",
     "text": [
      "Set parameter Username\n",
      "Academic license - for non-commercial use only - expires 2024-11-28\n"
     ]
    },
    {
     "data": {
      "text/html": [
       "\n",
       "        <table>\n",
       "            <tr>\n",
       "                <td><strong>Name</strong></td>\n",
       "                <td>RBC_GEM</td>\n",
       "            </tr><tr>\n",
       "                <td><strong>Memory address</strong></td>\n",
       "                <td>146b30920</td>\n",
       "            </tr><tr>\n",
       "                <td><strong>Number of metabolites</strong></td>\n",
       "                <td>292</td>\n",
       "            </tr><tr>\n",
       "                <td><strong>Number of reactions</strong></td>\n",
       "                <td>348</td>\n",
       "            </tr><tr>\n",
       "                <td><strong>Number of genes</strong></td>\n",
       "                <td>283</td>\n",
       "            </tr><tr>\n",
       "                <td><strong>Number of groups</strong></td>\n",
       "                <td>33</td>\n",
       "            </tr><tr>\n",
       "                <td><strong>Objective expression</strong></td>\n",
       "                <td>1.0*NaKt - 1.0*NaKt_reverse_db47e</td>\n",
       "            </tr><tr>\n",
       "                <td><strong>Compartments</strong></td>\n",
       "                <td>cytosol, extracellular space</td>\n",
       "            </tr>\n",
       "          </table>"
      ],
      "text/plain": [
       "<Model RBC_GEM at 0x146b30920>"
      ]
     },
     "execution_count": 3,
     "metadata": {},
     "output_type": "execute_result"
    }
   ],
   "source": [
    "old_model = read_rbc_model(filetype=\"xml\")\n",
    "old_model"
   ]
  },
  {
   "cell_type": "markdown",
   "id": "56e992a9-fe5d-4ee1-b315-b55bbaaf305b",
   "metadata": {},
   "source": [
    "## Set annotations on model"
   ]
  },
  {
   "cell_type": "code",
   "execution_count": 4,
   "id": "175db332-eb8d-4761-af60-334780f60ce3",
   "metadata": {},
   "outputs": [
    {
     "name": "stdout",
     "output_type": "stream",
     "text": [
      "Read LP format model from file /var/folders/5t/hk8m3g6d1jn25x5rssjgsrmm0000gn/T/tmp0i_qvfh1.lp\n",
      "Reading time = 0.00 seconds\n",
      ": 292 rows, 696 columns, 2378 nonzeros\n"
     ]
    },
    {
     "data": {
      "text/html": [
       "<div>\n",
       "<style scoped>\n",
       "    .dataframe tbody tr th:only-of-type {\n",
       "        vertical-align: middle;\n",
       "    }\n",
       "\n",
       "    .dataframe tbody tr th {\n",
       "        vertical-align: top;\n",
       "    }\n",
       "\n",
       "    .dataframe thead th {\n",
       "        text-align: right;\n",
       "    }\n",
       "</style>\n",
       "<table border=\"1\" class=\"dataframe\">\n",
       "  <thead>\n",
       "    <tr style=\"text-align: right;\">\n",
       "      <th></th>\n",
       "      <th>genes</th>\n",
       "      <th>hprd</th>\n",
       "      <th>ncbigi</th>\n",
       "      <th>sbo</th>\n",
       "      <th>uniprot.chain</th>\n",
       "      <th>dbsnp</th>\n",
       "      <th>uniprot</th>\n",
       "      <th>uniprot.isoform</th>\n",
       "      <th>refseq</th>\n",
       "      <th>ncbigene</th>\n",
       "      <th>hgnc.symbol</th>\n",
       "      <th>drugbank</th>\n",
       "      <th>ccds</th>\n",
       "      <th>ensembl</th>\n",
       "      <th>mgi</th>\n",
       "      <th>mim</th>\n",
       "    </tr>\n",
       "  </thead>\n",
       "  <tbody>\n",
       "    <tr>\n",
       "      <th>0</th>\n",
       "      <td>ABCC4</td>\n",
       "      <td>NaN</td>\n",
       "      <td>NaN</td>\n",
       "      <td>SBO:0000243</td>\n",
       "      <td>PRO_0000093362</td>\n",
       "      <td>rs11568681</td>\n",
       "      <td>O15439</td>\n",
       "      <td>O15439-1</td>\n",
       "      <td>NP_001098985.1;NP_001288758.1;NP_001288759.1;N...</td>\n",
       "      <td>10257</td>\n",
       "      <td>ABCC4</td>\n",
       "      <td>DB00718;DB00770;DB01076;DB00171;DB01327;DB0048...</td>\n",
       "      <td>CCDS45061.1;CCDS76643.1;CCDS86356.1;CCDS9474.1</td>\n",
       "      <td>ENSG00000125257</td>\n",
       "      <td>MGI:2443111</td>\n",
       "      <td>605250</td>\n",
       "    </tr>\n",
       "    <tr>\n",
       "      <th>1</th>\n",
       "      <td>ABCG2</td>\n",
       "      <td>NaN</td>\n",
       "      <td>NaN</td>\n",
       "      <td>SBO:0000243</td>\n",
       "      <td>PRO_0000093386</td>\n",
       "      <td>rs2231137</td>\n",
       "      <td>Q9UNQ0</td>\n",
       "      <td>Q9UNQ0-1</td>\n",
       "      <td>NP_001244315.1;NP_004818.2;XP_005263412.1;XP_0...</td>\n",
       "      <td>9429</td>\n",
       "      <td>ABCG2</td>\n",
       "      <td>DB12001;DB08916;DB11363;DB00437;DB12015;DB0349...</td>\n",
       "      <td>CCDS3628.1;CCDS58910.1</td>\n",
       "      <td>ENSG00000118777</td>\n",
       "      <td>MGI:1347061;MGI:1351624</td>\n",
       "      <td>138900;603756;614490</td>\n",
       "    </tr>\n",
       "    <tr>\n",
       "      <th>2</th>\n",
       "      <td>ACP1</td>\n",
       "      <td>NaN</td>\n",
       "      <td>NaN</td>\n",
       "      <td>SBO:0000243</td>\n",
       "      <td>PRO_0000046558</td>\n",
       "      <td>rs11691572</td>\n",
       "      <td>P24666</td>\n",
       "      <td>P24666-1</td>\n",
       "      <td>NP_004291.1;NP_009030.1</td>\n",
       "      <td>52</td>\n",
       "      <td>ACP1</td>\n",
       "      <td>DB04214;DB00173</td>\n",
       "      <td>CCDS1639.1;CCDS1640.1;CCDS46217.1</td>\n",
       "      <td>NaN</td>\n",
       "      <td>MGI:87881</td>\n",
       "      <td>171500</td>\n",
       "    </tr>\n",
       "    <tr>\n",
       "      <th>3</th>\n",
       "      <td>ACSL1</td>\n",
       "      <td>NaN</td>\n",
       "      <td>NaN</td>\n",
       "      <td>SBO:0000243</td>\n",
       "      <td>PRO_0000193104</td>\n",
       "      <td>NaN</td>\n",
       "      <td>P33121</td>\n",
       "      <td>P33121-1</td>\n",
       "      <td>NP_001273637.1;NP_001273639.1;NP_001273640.1;N...</td>\n",
       "      <td>2180</td>\n",
       "      <td>ACSL1</td>\n",
       "      <td>DB00131;DB00171</td>\n",
       "      <td>CCDS3839.1;CCDS68826.1</td>\n",
       "      <td>ENSG00000151726</td>\n",
       "      <td>MGI:102797</td>\n",
       "      <td>152425</td>\n",
       "    </tr>\n",
       "    <tr>\n",
       "      <th>4</th>\n",
       "      <td>ADA</td>\n",
       "      <td>NaN</td>\n",
       "      <td>NaN</td>\n",
       "      <td>SBO:0000243</td>\n",
       "      <td>PRO_0000194352</td>\n",
       "      <td>rs73598374</td>\n",
       "      <td>P00813</td>\n",
       "      <td>P00813-1</td>\n",
       "      <td>NP_000013.2</td>\n",
       "      <td>100</td>\n",
       "      <td>ADA</td>\n",
       "      <td>DB07711;DB07783;DB07786;DB04218;DB07785;DB0301...</td>\n",
       "      <td>CCDS13335.1</td>\n",
       "      <td>ENSG00000196839</td>\n",
       "      <td>MGI:87916</td>\n",
       "      <td>102700;608958</td>\n",
       "    </tr>\n",
       "    <tr>\n",
       "      <th>...</th>\n",
       "      <td>...</td>\n",
       "      <td>...</td>\n",
       "      <td>...</td>\n",
       "      <td>...</td>\n",
       "      <td>...</td>\n",
       "      <td>...</td>\n",
       "      <td>...</td>\n",
       "      <td>...</td>\n",
       "      <td>...</td>\n",
       "      <td>...</td>\n",
       "      <td>...</td>\n",
       "      <td>...</td>\n",
       "      <td>...</td>\n",
       "      <td>...</td>\n",
       "      <td>...</td>\n",
       "      <td>...</td>\n",
       "    </tr>\n",
       "    <tr>\n",
       "      <th>278</th>\n",
       "      <td>UMPS</td>\n",
       "      <td>02022</td>\n",
       "      <td>NaN</td>\n",
       "      <td>SBO:0000243</td>\n",
       "      <td>PRO_0000139649</td>\n",
       "      <td>rs17843776</td>\n",
       "      <td>P11172</td>\n",
       "      <td>P11172-1</td>\n",
       "      <td>NP_000364.1</td>\n",
       "      <td>7372</td>\n",
       "      <td>UMPS</td>\n",
       "      <td>DB02890;DB00544</td>\n",
       "      <td>CCDS3029.1</td>\n",
       "      <td>ENSG00000114491</td>\n",
       "      <td>MGI:1298388</td>\n",
       "      <td>258900;613891</td>\n",
       "    </tr>\n",
       "    <tr>\n",
       "      <th>279</th>\n",
       "      <td>UROD</td>\n",
       "      <td>NaN</td>\n",
       "      <td>NaN</td>\n",
       "      <td>SBO:0000243</td>\n",
       "      <td>PRO_0000187569</td>\n",
       "      <td>rs11541959</td>\n",
       "      <td>P06132</td>\n",
       "      <td>P06132-1</td>\n",
       "      <td>NP_000365.3</td>\n",
       "      <td>7389</td>\n",
       "      <td>UROD</td>\n",
       "      <td>DB03727;DB04461</td>\n",
       "      <td>CCDS518.1</td>\n",
       "      <td>ENSG00000126088</td>\n",
       "      <td>MGI:98916</td>\n",
       "      <td>176100;613521</td>\n",
       "    </tr>\n",
       "    <tr>\n",
       "      <th>280</th>\n",
       "      <td>UROS</td>\n",
       "      <td>NaN</td>\n",
       "      <td>NaN</td>\n",
       "      <td>SBO:0000243</td>\n",
       "      <td>PRO_0000135251</td>\n",
       "      <td>rs773301339</td>\n",
       "      <td>P10746</td>\n",
       "      <td>P10746-1</td>\n",
       "      <td>NP_000366.1</td>\n",
       "      <td>7390</td>\n",
       "      <td>UROS</td>\n",
       "      <td>NaN</td>\n",
       "      <td>CCDS7648.1</td>\n",
       "      <td>ENSG00000188690</td>\n",
       "      <td>MGI:98917</td>\n",
       "      <td>263700;606938</td>\n",
       "    </tr>\n",
       "    <tr>\n",
       "      <th>281</th>\n",
       "      <td>XYLB</td>\n",
       "      <td>06812</td>\n",
       "      <td>NaN</td>\n",
       "      <td>SBO:0000243</td>\n",
       "      <td>PRO_0000230985</td>\n",
       "      <td>rs17118</td>\n",
       "      <td>O75191</td>\n",
       "      <td>O75191-1</td>\n",
       "      <td>NP_005099.2</td>\n",
       "      <td>9942</td>\n",
       "      <td>XYLB</td>\n",
       "      <td>NaN</td>\n",
       "      <td>CCDS2678.1</td>\n",
       "      <td>ENSG00000093217</td>\n",
       "      <td>MGI:2142985</td>\n",
       "      <td>604049</td>\n",
       "    </tr>\n",
       "    <tr>\n",
       "      <th>282</th>\n",
       "      <td>ZNF384</td>\n",
       "      <td>NaN</td>\n",
       "      <td>NaN</td>\n",
       "      <td>SBO:0000243</td>\n",
       "      <td>PRO_0000047552</td>\n",
       "      <td>NaN</td>\n",
       "      <td>Q8TF68</td>\n",
       "      <td>Q8TF68-1</td>\n",
       "      <td>NP_001035009.1;NP_001129206.1;NP_597733.2;XP_0...</td>\n",
       "      <td>171017</td>\n",
       "      <td>ZNF384</td>\n",
       "      <td>NaN</td>\n",
       "      <td>CCDS31732.1;CCDS44817.1;CCDS8557.1</td>\n",
       "      <td>NaN</td>\n",
       "      <td>MGI:2443203</td>\n",
       "      <td>609951</td>\n",
       "    </tr>\n",
       "  </tbody>\n",
       "</table>\n",
       "<p>283 rows × 16 columns</p>\n",
       "</div>"
      ],
      "text/plain": [
       "      genes   hprd ncbigi          sbo   uniprot.chain        dbsnp uniprot  \\\n",
       "0     ABCC4    NaN    NaN  SBO:0000243  PRO_0000093362   rs11568681  O15439   \n",
       "1     ABCG2    NaN    NaN  SBO:0000243  PRO_0000093386    rs2231137  Q9UNQ0   \n",
       "2      ACP1    NaN    NaN  SBO:0000243  PRO_0000046558   rs11691572  P24666   \n",
       "3     ACSL1    NaN    NaN  SBO:0000243  PRO_0000193104          NaN  P33121   \n",
       "4       ADA    NaN    NaN  SBO:0000243  PRO_0000194352   rs73598374  P00813   \n",
       "..      ...    ...    ...          ...             ...          ...     ...   \n",
       "278    UMPS  02022    NaN  SBO:0000243  PRO_0000139649   rs17843776  P11172   \n",
       "279    UROD    NaN    NaN  SBO:0000243  PRO_0000187569   rs11541959  P06132   \n",
       "280    UROS    NaN    NaN  SBO:0000243  PRO_0000135251  rs773301339  P10746   \n",
       "281    XYLB  06812    NaN  SBO:0000243  PRO_0000230985      rs17118  O75191   \n",
       "282  ZNF384    NaN    NaN  SBO:0000243  PRO_0000047552          NaN  Q8TF68   \n",
       "\n",
       "    uniprot.isoform                                             refseq  \\\n",
       "0          O15439-1  NP_001098985.1;NP_001288758.1;NP_001288759.1;N...   \n",
       "1          Q9UNQ0-1  NP_001244315.1;NP_004818.2;XP_005263412.1;XP_0...   \n",
       "2          P24666-1                            NP_004291.1;NP_009030.1   \n",
       "3          P33121-1  NP_001273637.1;NP_001273639.1;NP_001273640.1;N...   \n",
       "4          P00813-1                                        NP_000013.2   \n",
       "..              ...                                                ...   \n",
       "278        P11172-1                                        NP_000364.1   \n",
       "279        P06132-1                                        NP_000365.3   \n",
       "280        P10746-1                                        NP_000366.1   \n",
       "281        O75191-1                                        NP_005099.2   \n",
       "282        Q8TF68-1  NP_001035009.1;NP_001129206.1;NP_597733.2;XP_0...   \n",
       "\n",
       "    ncbigene hgnc.symbol                                           drugbank  \\\n",
       "0      10257       ABCC4  DB00718;DB00770;DB01076;DB00171;DB01327;DB0048...   \n",
       "1       9429       ABCG2  DB12001;DB08916;DB11363;DB00437;DB12015;DB0349...   \n",
       "2         52        ACP1                                    DB04214;DB00173   \n",
       "3       2180       ACSL1                                    DB00131;DB00171   \n",
       "4        100         ADA  DB07711;DB07783;DB07786;DB04218;DB07785;DB0301...   \n",
       "..       ...         ...                                                ...   \n",
       "278     7372        UMPS                                    DB02890;DB00544   \n",
       "279     7389        UROD                                    DB03727;DB04461   \n",
       "280     7390        UROS                                                NaN   \n",
       "281     9942        XYLB                                                NaN   \n",
       "282   171017      ZNF384                                                NaN   \n",
       "\n",
       "                                               ccds          ensembl  \\\n",
       "0    CCDS45061.1;CCDS76643.1;CCDS86356.1;CCDS9474.1  ENSG00000125257   \n",
       "1                            CCDS3628.1;CCDS58910.1  ENSG00000118777   \n",
       "2                 CCDS1639.1;CCDS1640.1;CCDS46217.1              NaN   \n",
       "3                            CCDS3839.1;CCDS68826.1  ENSG00000151726   \n",
       "4                                       CCDS13335.1  ENSG00000196839   \n",
       "..                                              ...              ...   \n",
       "278                                      CCDS3029.1  ENSG00000114491   \n",
       "279                                       CCDS518.1  ENSG00000126088   \n",
       "280                                      CCDS7648.1  ENSG00000188690   \n",
       "281                                      CCDS2678.1  ENSG00000093217   \n",
       "282              CCDS31732.1;CCDS44817.1;CCDS8557.1              NaN   \n",
       "\n",
       "                         mgi                   mim  \n",
       "0                MGI:2443111                605250  \n",
       "1    MGI:1347061;MGI:1351624  138900;603756;614490  \n",
       "2                  MGI:87881                171500  \n",
       "3                 MGI:102797                152425  \n",
       "4                  MGI:87916         102700;608958  \n",
       "..                       ...                   ...  \n",
       "278              MGI:1298388         258900;613891  \n",
       "279                MGI:98916         176100;613521  \n",
       "280                MGI:98917         263700;606938  \n",
       "281              MGI:2142985                604049  \n",
       "282              MGI:2443203                609951  \n",
       "\n",
       "[283 rows x 16 columns]"
      ]
     },
     "execution_count": 4,
     "metadata": {},
     "output_type": "execute_result"
    }
   ],
   "source": [
    "replace_annotations = True\n",
    "annotation_types = [\"reactions\", \"metabolites\", \"genes\"]\n",
    "model = old_model.copy()\n",
    "\n",
    "for annotation_type in annotation_types:\n",
    "    df_annotation = pd.read_csv(\n",
    "        f\"{ROOT_PATH}{MODEL_PATH}/{annotation_type}.tsv\", \n",
    "        sep=\"\\t\", \n",
    "        index_col=0,\n",
    "        dtype=str,\n",
    "    )\n",
    "    for idx, row in df_annotation.set_index(annotation_type).iterrows():\n",
    "        try:\n",
    "            item = getattr(model, annotation_type).get_by_id(idx)\n",
    "        except KeyError:\n",
    "            continue\n",
    "        values = {k: split_string(v) for k, v in row.dropna().to_dict().items()}\n",
    "        values.update({k: v[0] for k, v in values.items() if len(v) == 1})\n",
    "        if replace_annotations:\n",
    "            item.annotation = values\n",
    "        else:\n",
    "            item.annotation.update(values)\n",
    "df_annotation"
   ]
  },
  {
   "cell_type": "markdown",
   "id": "17e67881-8eed-4979-a907-c6f7807fcbab",
   "metadata": {},
   "source": [
    "### Add/reset SBO annotations"
   ]
  },
  {
   "cell_type": "code",
   "execution_count": 5,
   "id": "ebfbb984-d71a-4da0-b55a-3fe4fbfb4271",
   "metadata": {},
   "outputs": [
    {
     "name": "stdout",
     "output_type": "stream",
     "text": [
      "SBO term set for CDIPT\n",
      "SBO term set for CDS\n",
      "SBO term set for CEPTC\n",
      "SBO term set for CEPTE\n",
      "SBO term set for DAGK\n",
      "SBO term set for GPAT\n",
      "SBO term set for LPAAT\n",
      "SBO term set for LPCLPLB\n",
      "SBO term set for PCPLA2\n",
      "SBO term set for PI45P5P\n",
      "SBO term set for PI45PLC\n",
      "SBO term set for PI4PLC\n",
      "SBO term set for PIPLC\n",
      "SBO term set for PI4K\n",
      "SBO term set for PI4P5K\n",
      "SBO term set for PI4PP\n",
      "SBO term set for PAPP\n",
      "SBO term set for cdpdag_hs_c\n",
      "SBO term set for pail_hs_c\n",
      "SBO term set for pa_hs_c\n",
      "SBO term set for dag_hs_c\n",
      "SBO term set for pc_hs_c\n",
      "SBO term set for pe_hs_c\n",
      "SBO term set for FAcoa_hs_c\n",
      "SBO term set for lpa_hs_c\n",
      "SBO term set for lpc_hs_c\n",
      "SBO term set for FA_hs_c\n",
      "SBO term set for pail45p_hs_c\n",
      "SBO term set for pail4p_hs_c\n"
     ]
    },
    {
     "data": {
      "text/html": [
       "\n",
       "        <table>\n",
       "            <tr>\n",
       "                <td><strong>Name</strong></td>\n",
       "                <td>RBC_GEM</td>\n",
       "            </tr><tr>\n",
       "                <td><strong>Memory address</strong></td>\n",
       "                <td>147660c50</td>\n",
       "            </tr><tr>\n",
       "                <td><strong>Number of metabolites</strong></td>\n",
       "                <td>292</td>\n",
       "            </tr><tr>\n",
       "                <td><strong>Number of reactions</strong></td>\n",
       "                <td>348</td>\n",
       "            </tr><tr>\n",
       "                <td><strong>Number of genes</strong></td>\n",
       "                <td>283</td>\n",
       "            </tr><tr>\n",
       "                <td><strong>Number of groups</strong></td>\n",
       "                <td>33</td>\n",
       "            </tr><tr>\n",
       "                <td><strong>Objective expression</strong></td>\n",
       "                <td>1.0*NaKt - 1.0*NaKt_reverse_db47e</td>\n",
       "            </tr><tr>\n",
       "                <td><strong>Compartments</strong></td>\n",
       "                <td>cytosol, extracellular space</td>\n",
       "            </tr>\n",
       "          </table>"
      ],
      "text/plain": [
       "<Model RBC_GEM at 0x147660c50>"
      ]
     },
     "execution_count": 5,
     "metadata": {},
     "output_type": "execute_result"
    }
   ],
   "source": [
    "model = set_sbo_default_annotations(model, [\"reactions\", \"metabolites\", \"genes\"], verbose=True)\n",
    "model"
   ]
  },
  {
   "cell_type": "markdown",
   "id": "41a35dd0-8a68-47a6-b433-f2a6c154add1",
   "metadata": {},
   "source": [
    "### Compare before overwriting"
   ]
  },
  {
   "cell_type": "code",
   "execution_count": 6,
   "id": "34a58e05-3b17-430e-8ba6-6114e5bd1e77",
   "metadata": {},
   "outputs": [],
   "source": [
    "df_old_model = {}\n",
    "for annotation_type in annotation_types:\n",
    "    all_annotation_keys = set()\n",
    "    for annotation in getattr(old_model, annotation_type).list_attr(\"annotation\"):\n",
    "        all_annotation_keys.update(list(annotation.keys()))\n",
    "    # Get annotation df is agnostic to object type, swap ID column with the `annotation_type`\n",
    "    df_old_model[annotation_type] = get_annotation_df(\n",
    "        getattr(old_model, annotation_type), \n",
    "        sorted(list(all_annotation_keys))\n",
    "    ).rename({\"id\": annotation_type}, axis=1)\n",
    "\n",
    "df_new_model = {}\n",
    "for annotation_type in annotation_types:\n",
    "    all_annotation_keys = set()\n",
    "    for annotation in getattr(model, annotation_type).list_attr(\"annotation\"):\n",
    "        all_annotation_keys.update(list(annotation.keys()))\n",
    "    # Get annotation df is agnostic to object type, swap ID column with the `annotation_type`\n",
    "    df_new_model[annotation_type] = get_annotation_df(\n",
    "        getattr(model, annotation_type), \n",
    "        sorted(list(all_annotation_keys))\n",
    "    ).rename({\"id\": annotation_type}, axis=1)"
   ]
  },
  {
   "cell_type": "code",
   "execution_count": 7,
   "id": "87dbae83-5fdc-41aa-8e54-bea3e6792241",
   "metadata": {},
   "outputs": [
    {
     "data": {
      "text/plain": [
       "<Axes: xlabel='reactions'>"
      ]
     },
     "execution_count": 7,
     "metadata": {},
     "output_type": "execute_result"
    },
    {
     "data": {
      "image/png": "[encoded data removed]",
      "text/plain": [
       "<Figure size 640x480 with 2 Axes>"
      ]
     },
     "metadata": {},
     "output_type": "display_data"
    }
   ],
   "source": [
    "annotation_type = \"reactions\"\n",
    "df_comparision = compare_tables(\n",
    "    df_old_model[annotation_type].set_index(annotation_type),\n",
    "    df_new_model[annotation_type].set_index(annotation_type),\n",
    ")\n",
    "visualize_comparison(df_comparision)"
   ]
  },
  {
   "cell_type": "code",
   "execution_count": 8,
   "id": "e7bcdbe9-d4be-41f5-9c9c-e35ef2202165",
   "metadata": {},
   "outputs": [
    {
     "data": {
      "text/plain": [
       "<Axes: xlabel='metabolites'>"
      ]
     },
     "execution_count": 8,
     "metadata": {},
     "output_type": "execute_result"
    },
    {
     "data": {
      "image/png": "[encoded data removed]",
      "text/plain": [
       "<Figure size 640x480 with 2 Axes>"
      ]
     },
     "metadata": {},
     "output_type": "display_data"
    }
   ],
   "source": [
    "annotation_type = \"metabolites\"\n",
    "df_comparision = compare_tables(\n",
    "    df_old_model[annotation_type].set_index(annotation_type),\n",
    "    df_new_model[annotation_type].set_index(annotation_type),\n",
    ")\n",
    "visualize_comparison(df_comparision)"
   ]
  },
  {
   "cell_type": "code",
   "execution_count": 9,
   "id": "906e15e1-9316-46c8-ad5f-ef1295bbfbe8",
   "metadata": {},
   "outputs": [
    {
     "data": {
      "text/plain": [
       "<Axes: xlabel='genes'>"
      ]
     },
     "execution_count": 9,
     "metadata": {},
     "output_type": "execute_result"
    },
    {
     "data": {
      "image/png": "[encoded data removed]",
      "text/plain": [
       "<Figure size 640x480 with 2 Axes>"
      ]
     },
     "metadata": {},
     "output_type": "display_data"
    }
   ],
   "source": [
    "annotation_type = \"genes\"\n",
    "df_comparision = compare_tables(\n",
    "    df_old_model[annotation_type].set_index(annotation_type),\n",
    "    df_new_model[annotation_type].set_index(annotation_type),\n",
    ")\n",
    "visualize_comparison(df_comparision)"
   ]
  },
  {
   "cell_type": "markdown",
   "id": "34c6c7ff-9d46-4ce1-a1b3-d5c3fd3ce5e4",
   "metadata": {},
   "source": [
    "## Export model"
   ]
  },
  {
   "cell_type": "code",
   "execution_count": 10,
   "id": "3fb1bdd9-b7cb-421e-8cd6-51b75fdd422c",
   "metadata": {},
   "outputs": [],
   "source": [
    "# write_rbc_model(model, filetype=\"all\")"
   ]
  }
 ],
 "metadata": {
  "kernelspec": {
   "display_name": "Python 3 (ipykernel)",
   "language": "python",
   "name": "python3"
  },
  "language_info": {
   "codemirror_mode": {
    "name": "ipython",
    "version": 3
   },
   "file_extension": ".py",
   "mimetype": "text/x-python",
   "name": "python",
   "nbconvert_exporter": "python",
   "pygments_lexer": "ipython3",
   "version": "3.12.0"
  }
 },
 "nbformat": 4,
 "nbformat_minor": 5
}
