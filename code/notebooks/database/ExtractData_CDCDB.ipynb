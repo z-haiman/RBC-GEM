{
 "cells": [
  {
   "cell_type": "markdown",
   "id": "c40cd303-4808-4c71-a9e4-a7c24d3dcb58",
   "metadata": {},
   "source": [
    "# Extract data from Continuous-Drug Combination DataBase\n",
    "\n",
    "The purpose of this notebook is to extract and format drug combination data\n",
    "Additionally, the purpose of this notebook is to reconcile DrugBank and PubChem IDs that are found in the data.\n",
    "\n",
    "\n",
    "## Notebook Requirements:\n",
    "*  Model genes **must** have the at least one of following annotations stored in the `object.annotation`. Values are expected to be seperated by semicolons. Accepted keys currently include:\n",
    "    * `\"drugbank\"`\n",
    "* Note: Requires internet connection to download information from the [C-DCDB](https://icc.ise.bgu.ac.il/medical_ai/CDCDB/).\n",
    "\n",
    "### Citations\n",
    "Shtar G, Azulay L, Nizri O, Rokach L, Shapira B. CDCDB: A large and continuously updated drug combination database. Sci Data. 2022 Jun 2;9(1):263. doi: 10.1038/s41597-022-01360-z. PMID: 35654801; PMCID: PMC9163158.\n",
    "\n",
    "## Setup\n",
    "### Import packages"
   ]
  },
  {
   "cell_type": "code",
   "execution_count": null,
   "id": "02c67e1f-0e7c-40ee-8298-2299775a58ac",
   "metadata": {},
   "outputs": [],
   "source": [
    "from collections import defaultdict\n",
    "from itertools import combinations\n",
    "\n",
    "import matplotlib.pyplot as plt\n",
    "import pandas as pd\n",
    "from rbc_gem_utils import (\n",
    "    GEM_NAME,\n",
    "    build_string,\n",
    "    compare_tables,\n",
    "    get_annotation_df,\n",
    "    get_dirpath,\n",
    "    read_cobra_model,\n",
    "    show_versions,\n",
    "    split_string,\n",
    "    visualize_comparison,\n",
    ")\n",
    "from rbc_gem_utils.database import CDCDB_DB_TAG\n",
    "from rbc_gem_utils.util import explode_column\n",
    "\n",
    "# Display versions of last time notebook ran and worked\n",
    "show_versions()"
   ]
  },
  {
   "cell_type": "markdown",
   "id": "abd02575-7543-4434-94bc-904aca401bd5",
   "metadata": {},
   "source": [
    "## Set notebook options"
   ]
  },
  {
   "cell_type": "code",
   "execution_count": null,
   "id": "eae2e1bd-d8e0-4e73-8e4e-e9930a767e42",
   "metadata": {},
   "outputs": [],
   "source": [
    "db_tag = CDCDB_DB_TAG\n",
    "\n",
    "compare_figsize = (5, 5)\n",
    "compare = True\n",
    "display_nunique = True\n",
    "overwrite = True"
   ]
  },
  {
   "cell_type": "markdown",
   "id": "59b9f959-a2c3-4393-8bac-6372c68c82b7",
   "metadata": {},
   "source": [
    "## Load RBC-GEM model"
   ]
  },
  {
   "cell_type": "code",
   "execution_count": null,
   "id": "03c121d2-bc96-4863-8a07-6b73e6498f49",
   "metadata": {},
   "outputs": [],
   "source": [
    "model_dirpath = get_dirpath(\"model\")\n",
    "model = read_cobra_model(filename=model_dirpath / f\"{GEM_NAME}.xml\")\n",
    "model"
   ]
  },
  {
   "cell_type": "markdown",
   "id": "8c1e57ae-947e-488c-a2a9-4165d49a70dc",
   "metadata": {},
   "source": [
    "#### Load annotations"
   ]
  },
  {
   "cell_type": "code",
   "execution_count": null,
   "id": "6e49c59e-b172-4573-abb5-1ce27523ec07",
   "metadata": {},
   "outputs": [],
   "source": [
    "annotation_type = \"genes\"\n",
    "df_model_mappings = get_annotation_df(\n",
    "    getattr(model, annotation_type), [\"drugbank\", \"pubchem.compound\"]\n",
    ").rename({\"id\": annotation_type}, axis=1)\n",
    "for col in df_model_mappings.columns:\n",
    "    df = (\n",
    "        df_model_mappings[col]\n",
    "        .apply(lambda x: split_string(x))\n",
    "        .explode(col)\n",
    "        .drop_duplicates()\n",
    "    )\n",
    "    print(f\"{df.name}: {df.nunique()}\")\n",
    "\n",
    "drugbank_ids = (\n",
    "    explode_column(df_model_mappings, \"drugbank\")[\"drugbank\"].dropna().unique()\n",
    ")\n",
    "pubchem_ids = (\n",
    "    explode_column(df_model_mappings, \"pubchem.compound\")[\"pubchem.compound\"]\n",
    "    .dropna()\n",
    "    .unique()\n",
    ")\n",
    "df_model_mappings"
   ]
  },
  {
   "cell_type": "markdown",
   "id": "906d5587-76d2-43be-b8d0-f51ecc8fdb2b",
   "metadata": {},
   "source": [
    "## Load C-DCDB data and identify combinations"
   ]
  },
  {
   "cell_type": "code",
   "execution_count": null,
   "id": "327eb9e0-676a-40f6-ad70-cf296ac64dc8",
   "metadata": {},
   "outputs": [],
   "source": [
    "use_interim = False\n",
    "\n",
    "database_dirpath = get_dirpath(\n",
    "    \"database\", db_tag, use_temp=\"interim\" if use_interim else None\n",
    ")\n",
    "annotation_dirpath = get_dirpath(\n",
    "    \"annotation\", use_temp=\"interim\" if use_interim else None\n",
    ")\n",
    "\n",
    "# Ensure directories exist\n",
    "database_dirpath.mkdir(exist_ok=True, parents=True)\n",
    "annotation_dirpath.mkdir(exist_ok=True, parents=True)\n",
    "\n",
    "df_database_simplified = pd.read_csv(\n",
    "    database_dirpath / \"web_preview.csv\", index_col=0, dtype=str\n",
    ")"
   ]
  },
  {
   "cell_type": "markdown",
   "id": "0e8cd86b-aa90-4c73-9b2b-5137afd982fa",
   "metadata": {},
   "source": [
    "### Format data"
   ]
  },
  {
   "cell_type": "code",
   "execution_count": null,
   "id": "c660efe7-a336-4cd0-b6ab-ecd7cf0aa0a2",
   "metadata": {},
   "outputs": [],
   "source": [
    "df_database_simplified = df_database_simplified.reset_index(drop=False)\n",
    "# Space left here if additional metadata needs to be added\n",
    "\n",
    "df_combinations = df_database_simplified.copy().fillna(\"\")\n",
    "df_combinations[\"drugs\"] = df_combinations[\"drugs\"].apply(\n",
    "    lambda x: sorted(x.split(\",\"))\n",
    ")\n",
    "df_combinations[\"drugbank_identifiers\"] = df_combinations[\"drugbank_identifiers\"].apply(\n",
    "    lambda x: x.split(\";\")\n",
    ")\n",
    "df_combinations[\"pubchem_identifiers\"] = df_combinations[\"pubchem_identifiers\"].apply(\n",
    "    lambda x: [s.lstrip(\"CID\") for s in x.split(\";\")]\n",
    ")\n",
    "df_combinations"
   ]
  },
  {
   "cell_type": "code",
   "execution_count": null,
   "id": "b4b94c97-831a-464e-a433-55a522d5c89d",
   "metadata": {},
   "outputs": [],
   "source": [
    "df_alias_mapping = df_combinations.loc[\n",
    "    :, [\"drugbank_identifiers\", \"pubchem_identifiers\"]\n",
    "].explode([\"drugbank_identifiers\", \"pubchem_identifiers\"])\n",
    "df_alias_mapping = (\n",
    "    df_alias_mapping.replace(\"NA\", float(\"nan\"))\n",
    "    .drop_duplicates()\n",
    "    .reset_index(drop=True)\n",
    ")\n",
    "df_alias_mapping = (\n",
    "    df_alias_mapping.rename(\n",
    "        {\"drugbank_identifiers\": \"drugbank\", \"pubchem_identifiers\": \"pubchem.compound\"},\n",
    "        axis=1,\n",
    "    )\n",
    "    .dropna()\n",
    "    .reset_index(drop=True)\n",
    ")\n",
    "if overwrite:\n",
    "    df_alias_mapping.to_csv(database_dirpath / \"aliases.tsv\", sep=\"\\t\")\n",
    "df_alias_mapping"
   ]
  },
  {
   "cell_type": "markdown",
   "id": "487a2e18-1b7e-40cf-8d4d-bedf5e162f32",
   "metadata": {},
   "source": [
    "#### Extract as model annotations"
   ]
  },
  {
   "cell_type": "code",
   "execution_count": null,
   "id": "b2a9ae39-4fee-4642-b817-405375508826",
   "metadata": {},
   "outputs": [],
   "source": [
    "annotation_type = \"genes\"\n",
    "# Format as model annotations\n",
    "df_model_drugs = (\n",
    "    df_model_mappings.set_index(annotation_type)[\"drugbank\"]\n",
    "    .apply(split_string)\n",
    "    .explode()\n",
    "    .dropna()\n",
    "    .reset_index()\n",
    ")\n",
    "df_annotations = df_model_drugs.merge(\n",
    "    df_alias_mapping, left_on=\"drugbank\", right_on=\"drugbank\", how=\"left\"\n",
    ")\n",
    "df_model_drugs = (\n",
    "    df_model_mappings.set_index(annotation_type)[\"pubchem.compound\"]\n",
    "    .apply(split_string)\n",
    "    .explode()\n",
    "    .dropna()\n",
    "    .reset_index()\n",
    ")\n",
    "\n",
    "df_annotations = pd.concat(\n",
    "    (\n",
    "        df_annotations,\n",
    "        df_model_drugs.merge(\n",
    "            df_alias_mapping,\n",
    "            left_on=\"pubchem.compound\",\n",
    "            right_on=\"pubchem.compound\",\n",
    "            how=\"left\",\n",
    "        ),\n",
    "    ),\n",
    "    axis=0,\n",
    ")\n",
    "df_annotations[\"pubchem.compound\"] = df_annotations[\"pubchem.compound\"].str.lstrip(\n",
    "    \"CID\"\n",
    ")\n",
    "df_annotations = df_annotations.groupby(annotation_type, as_index=False).agg(\n",
    "    lambda x: build_string(sorted(x.dropna().unique()))\n",
    ")\n",
    "\n",
    "\n",
    "if compare:\n",
    "    try:\n",
    "        df_previous = pd.read_csv(\n",
    "            annotation_dirpath / f\"{annotation_type}_{CDCDB_DB_TAG}.tsv\",\n",
    "            sep=\"\\t\",\n",
    "            index_col=0,\n",
    "            dtype=str,\n",
    "        )\n",
    "    except FileNotFoundError:\n",
    "        df_previous = pd.DataFrame([], columns=[annotation_type])\n",
    "    fig, ax = plt.subplots(1, 1, figsize=(5, 5))\n",
    "    df_comparision = compare_tables(\n",
    "        df_previous.set_index(annotation_type),\n",
    "        df_annotations.set_index(annotation_type),\n",
    "    )\n",
    "    ax.yaxis.set_tick_params(labelsize=8)\n",
    "    ax = visualize_comparison(df_comparision)\n",
    "\n",
    "\n",
    "if display_nunique:\n",
    "    for col in df_annotations.columns:\n",
    "        df = (\n",
    "            df_annotations[col]\n",
    "            .apply(lambda x: split_string(x))\n",
    "            .explode(col)\n",
    "            .drop_duplicates()\n",
    "        )\n",
    "        print(f\"{df.name}: {df.nunique()}\")\n",
    "\n",
    "if overwrite:\n",
    "    df_annotations.to_csv(\n",
    "        annotation_dirpath / f\"{annotation_type}_{CDCDB_DB_TAG}.tsv\", sep=\"\\t\"\n",
    "    )\n",
    "\n",
    "df_annotations"
   ]
  },
  {
   "cell_type": "markdown",
   "id": "44b5c113-1bf9-4469-96dc-5445d390bce6",
   "metadata": {},
   "source": [
    "### Map against model"
   ]
  },
  {
   "cell_type": "code",
   "execution_count": null,
   "id": "eaacbe61-d2c5-4c3a-9cf7-6f95b0068045",
   "metadata": {},
   "outputs": [],
   "source": [
    "# TODO deal with combinations that have NA in the identifier\n",
    "# TODO deal with PubChem compounds\n",
    "indicies_to_keep = sorted(\n",
    "    {\n",
    "        idx\n",
    "        for idx, row in df_combinations[\"drugbank_identifiers\"].dropna().items()\n",
    "        if not set(row).difference(set(drugbank_ids))\n",
    "    }\n",
    "    # .union([\n",
    "    #     idx\n",
    "    #     for idx, row in df_combinations[\"pubchem_identifiers\"].dropna().items()\n",
    "    #     if not set(row).difference(set(pubchem_ids))\n",
    ")\n",
    "\n",
    "df_model_combinations = df_combinations.loc[indicies_to_keep].reset_index(drop=True)\n",
    "df_model_combinations"
   ]
  },
  {
   "cell_type": "markdown",
   "id": "6dd99628-f861-42a0-a20f-efaee06c7f42",
   "metadata": {},
   "source": [
    "### Keep only pairwise combinations\n",
    "* Combinations with more than two drug components are split into combination pairs"
   ]
  },
  {
   "cell_type": "code",
   "execution_count": null,
   "id": "98b1030c-63e9-4921-ab33-5ac96e7471e6",
   "metadata": {},
   "outputs": [],
   "source": [
    "idx = 0\n",
    "all_data = defaultdict(dict)\n",
    "for i, row in df_model_combinations.iterrows():\n",
    "    for identifiers in row[[\"drugbank_identifiers\", \"pubchem_identifiers\"]].values:\n",
    "        if \"NA\" in set(identifiers):\n",
    "            continue\n",
    "        values = row.to_dict()\n",
    "        for combo in combinations(identifiers, 2):\n",
    "            values.update({\"node_A\": combo[0], \"node_B\": combo[1]})\n",
    "            all_data[idx] = values\n",
    "            idx += 1\n",
    "df_interactions = pd.DataFrame.from_dict(all_data, orient=\"index\")\n",
    "df_interactions[\"edge_type\"] = \"drug-drug\"\n",
    "df_interactions[\"edge_subtype\"] = \"effective-combination\"\n",
    "df_interactions[\"edge_source\"] = df_interactions[\"source\"].apply(\n",
    "    lambda x: build_string([CDCDB_DB_TAG, x])\n",
    ")\n",
    "# Use the join method instead of the build_string to avoid losing drugs that interact with themselves for being \"duplicate\" values\n",
    "df_interactions[\"drugs\"] = df_interactions[\"drugs\"].apply(lambda x: \";\".join(x))\n",
    "df_interactions[\"drugbank_identifiers\"] = df_interactions[\"drugbank_identifiers\"].apply(\n",
    "    lambda x: \";\".join(x)\n",
    ")\n",
    "df_interactions[\"pubchem_identifiers\"] = df_interactions[\"pubchem_identifiers\"].apply(\n",
    "    lambda x: \";\".join(x)\n",
    ")\n",
    "df_interactions = df_interactions.drop_duplicates(\n",
    "    [\"node_A\", \"node_B\", \"drugs\", \"drugbank_identifiers\", \"pubchem_identifiers\"]\n",
    ")\n",
    "df_interactions = df_interactions.reset_index(drop=True)\n",
    "df_interactions.to_csv(\n",
    "    database_dirpath / f\"EffectiveCombos_{CDCDB_DB_TAG}.tsv\",\n",
    "    sep=\"\\t\",\n",
    ")\n",
    "df_interactions"
   ]
  }
 ],
 "metadata": {
  "kernelspec": {
   "display_name": "Python 3 (ipykernel)",
   "language": "python",
   "name": "python3"
  },
  "language_info": {
   "codemirror_mode": {
    "name": "ipython",
    "version": 3
   },
   "file_extension": ".py",
   "mimetype": "text/x-python",
   "name": "python",
   "nbconvert_exporter": "python",
   "pygments_lexer": "ipython3"
  }
 },
 "nbformat": 4,
 "nbformat_minor": 5
}
