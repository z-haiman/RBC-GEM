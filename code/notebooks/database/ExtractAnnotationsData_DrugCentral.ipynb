{
 "cells": [
  {
   "cell_type": "markdown",
   "id": "0c4054eb-e13a-45bc-9668-36315b7ed669",
   "metadata": {},
   "source": [
    "# Extract annotations and data from DrugCentral\n",
    "\n",
    "Purpose of this notebook is to extract and format drug data for subsequent model annotation.\n",
    "\n",
    "## Notebook Requirements:\n",
    "*  Model genes **must** have the at least one of following annotations stored in the `object.annotation`. Values are expected to be seperated by semicolons. Accepted keys currently include:\n",
    "    * `\"drugcentral\"`\n",
    "    * `\"uniprot\"`\n",
    "* Currently uses the 2021 TSV file download.\n",
    "\n",
    "### Citations\n",
    "Avram S, Wilson TB, Curpan R, Halip L, Borota A, Bora A, Bologa CG, Holmes J, Knockel J, Yang JJ, Oprea TI. DrugCentral 2023 extends human clinical data and integrates veterinary drugs. Nucleic Acids Res. 2023 Jan 6;51(D1):D1276-D1287. doi: 10.1093/nar/gkac1085. PMID: 36484092; PMCID: PMC9825566.\n",
    "\n",
    "## Setup\n",
    "### Import packages"
   ]
  },
  {
   "cell_type": "code",
   "execution_count": null,
   "id": "5a781b35-d941-4207-b6e1-4bf491f5600e",
   "metadata": {},
   "outputs": [],
   "source": [
    "import matplotlib.pyplot as plt\n",
    "import pandas as pd\n",
    "from rbc_gem_utils import (\n",
    "    GEM_NAME,\n",
    "    build_string,\n",
    "    compare_tables,\n",
    "    explode_column,\n",
    "    get_annotation_df,\n",
    "    get_dirpath,\n",
    "    read_cobra_model,\n",
    "    visualize_comparison,\n",
    ")\n",
    "from rbc_gem_utils.database import DRUGCENTRAL_DB_TAG"
   ]
  },
  {
   "cell_type": "markdown",
   "id": "6856ae0a-8a6f-42f1-bd3e-af857ef3cf3c",
   "metadata": {},
   "source": [
    "## Set notebook options"
   ]
  },
  {
   "cell_type": "code",
   "execution_count": null,
   "id": "4df01b37-9506-4341-a67e-d2de795860b7",
   "metadata": {},
   "outputs": [],
   "source": [
    "compare_figsize = (5, 5)\n",
    "compare = True\n",
    "display_nunique = True\n",
    "overwrite = True\n",
    "download_database = True\n",
    "db_tag = DRUGCENTRAL_DB_TAG\n",
    "\n",
    "\n",
    "use_interim = False\n",
    "database_dirpath = get_dirpath(\n",
    "    \"database\", db_tag, use_temp=\"interim\" if use_interim else None\n",
    ")\n",
    "annotation_dirpath = get_dirpath(\n",
    "    \"annotation\", use_temp=\"interim\" if use_interim else None\n",
    ")\n",
    "\n",
    "# Ensure directories exist\n",
    "database_dirpath.mkdir(exist_ok=True, parents=True)\n",
    "annotation_dirpath.mkdir(exist_ok=True, parents=True)\n",
    "\n",
    "mapping_key = \"uniprot\""
   ]
  },
  {
   "cell_type": "markdown",
   "id": "c09e7e9e-f833-4b0b-ade8-4ad862baf1fa",
   "metadata": {},
   "source": [
    "## Load DrugCentral data"
   ]
  },
  {
   "cell_type": "code",
   "execution_count": null,
   "id": "9cc95c78-c2c3-478f-92d0-7a50e88a49f3",
   "metadata": {},
   "outputs": [],
   "source": [
    "df_drugcentral = pd.read_csv(\n",
    "    database_dirpath / \"drug.target.interaction.tsv\",\n",
    "    sep=\"\\t\",\n",
    "    dtype=str,\n",
    ")\n",
    "# Filter out non-human entries\n",
    "df_drugcentral = df_drugcentral[\n",
    "    df_drugcentral[\"ORGANISM\"].str.find(\"Homo sapiens\") != -1\n",
    "]\n",
    "df_drugcentral"
   ]
  },
  {
   "cell_type": "markdown",
   "id": "72c4d100-3dcb-42bd-9b0e-066d3b5aac46",
   "metadata": {},
   "source": [
    "## Load RBC-GEM model"
   ]
  },
  {
   "cell_type": "code",
   "execution_count": null,
   "id": "6c8479a5-9552-48f2-8add-00b5986f263f",
   "metadata": {},
   "outputs": [],
   "source": [
    "model_dirpath = get_dirpath(\"model\")\n",
    "model = read_cobra_model(filename=model_dirpath / f\"{GEM_NAME}.xml\")\n",
    "model"
   ]
  },
  {
   "cell_type": "markdown",
   "id": "a9722076-7656-47fb-9e88-1364d58d2b15",
   "metadata": {},
   "source": [
    "### Extract current annotations from model"
   ]
  },
  {
   "cell_type": "code",
   "execution_count": null,
   "id": "fdb0a110-1995-408d-b35d-b6e502076eff",
   "metadata": {},
   "outputs": [],
   "source": [
    "annotation_type = \"genes\"\n",
    "annotation_cols = [\"uniprot\", \"drugbank\", \"drugcentral\", \"hgnc.symbol\"]\n",
    "\n",
    "df_model_mappings = (\n",
    "    get_annotation_df(model.genes, annotation_cols)\n",
    "    .rename({\"id\": annotation_type}, axis=1)\n",
    "    .dropna(subset=[mapping_key])\n",
    ")\n",
    "for col in df_model_mappings.columns:\n",
    "    df_model_mappings = explode_column(df_model_mappings, name=col, sep=\";\")\n",
    "df_model_mappings = df_model_mappings.sort_values(annotation_type)\n",
    "\n",
    "print(df_model_mappings.nunique(dropna=True))\n",
    "df_model_mappings = df_model_mappings.reset_index(drop=True)\n",
    "\n",
    "df_model_mappings"
   ]
  },
  {
   "cell_type": "markdown",
   "id": "b68596ed-04cc-4d2c-8d9e-38e8e809eea9",
   "metadata": {},
   "source": [
    "### Map data to model"
   ]
  },
  {
   "cell_type": "code",
   "execution_count": null,
   "id": "22da2083-01f4-4d61-9f04-302ef8ba9ed1",
   "metadata": {},
   "outputs": [],
   "source": [
    "rename_mapping = {col: col.lower() for col in df_drugcentral.columns}\n",
    "rename_mapping.update(\n",
    "    {\n",
    "        \"ACCESSION\": \"uniprot\",\n",
    "        \"GENE\": \"hgnc.symbol\",\n",
    "        \"STRUCT_ID\": \"drugcentral\",\n",
    "        \"drug_name\": \"name\",\n",
    "    }\n",
    ")\n",
    "df_model_drugcentral = pd.merge(\n",
    "    df_model_mappings.loc[:, [annotation_type, mapping_key]],\n",
    "    df_drugcentral.rename(rename_mapping, axis=1),\n",
    "    left_on=mapping_key,\n",
    "    right_on=mapping_key,\n",
    "    how=\"left\",\n",
    ")\n",
    "\n",
    "df_model_drugcentral = df_model_drugcentral[df_model_drugcentral[\"drugcentral\"].notna()]\n",
    "# df_model_drugcentral = df_model_drugcentral.groupby(annotation_type, as_index=False).agg(lambda x:  build_string(list(x.dropna().unique())))\n",
    "df_model_drugcentral = df_model_drugcentral.loc[\n",
    "    :,\n",
    "    [\n",
    "        \"genes\",\n",
    "        \"uniprot\",\n",
    "        \"hgnc.symbol\",\n",
    "        \"drugcentral\",\n",
    "        \"drug_name\",\n",
    "        \"target_class\",\n",
    "        \"action_type\",\n",
    "    ],\n",
    "]\n",
    "df_model_drugcentral = df_model_drugcentral.drop_duplicates().reset_index(drop=True)\n",
    "\n",
    "if display_nunique:\n",
    "    for col in df_model_drugcentral.columns:\n",
    "        df = explode_column(df_model_drugcentral, name=col, sep=\";\")\n",
    "        df = df[col].drop_duplicates()\n",
    "        print(f\"{df.name}: {df.nunique()}\")\n",
    "\n",
    "df_model_drugcentral = df_model_drugcentral.reset_index(drop=True)\n",
    "\n",
    "\n",
    "if overwrite:\n",
    "    df_model_drugcentral.to_csv(\n",
    "        database_dirpath / f\"{db_tag}_{GEM_NAME}.tsv\", sep=\"\\t\", index=False\n",
    "    )\n",
    "\n",
    "df_model_drugcentral"
   ]
  },
  {
   "cell_type": "code",
   "execution_count": null,
   "id": "6ae132d2-c236-4aab-b9a4-389ca0d24432",
   "metadata": {},
   "outputs": [],
   "source": [
    "rename_mapping = {\n",
    "    \"ACCESSION\": \"uniprot\",\n",
    "    \"GENE\": \"hgnc.symbol\",\n",
    "    \"STRUCT_ID\": \"drugcentral\",\n",
    "}\n",
    "\n",
    "df_annotations = pd.merge(\n",
    "    df_model_mappings.loc[:, [annotation_type, mapping_key]],\n",
    "    df_drugcentral.loc[:, list(rename_mapping)].rename(rename_mapping, axis=1),\n",
    "    left_on=mapping_key,\n",
    "    right_on=mapping_key,\n",
    "    how=\"left\",\n",
    ")\n",
    "df_annotations = df_annotations.dropna().drop_duplicates()\n",
    "df_annotations = df_annotations.groupby(annotation_type).agg(\n",
    "    lambda x: build_string(list(x.dropna().unique()))\n",
    ")\n",
    "df_annotations = df_annotations.reset_index(drop=False).dropna().drop_duplicates()\n",
    "df_annotations = df_annotations.replace(float(\"nan\"), pd.NA).replace(\"\", pd.NA)\n",
    "if compare:\n",
    "    compare_on_index = [annotation_type]\n",
    "    try:\n",
    "        df_previous = pd.read_csv(\n",
    "            f\"{annotation_dirpath}/{annotation_type}_{db_tag}.tsv\",\n",
    "            sep=\"\\t\",\n",
    "            index_col=None,\n",
    "            dtype=str,\n",
    "        )\n",
    "        df_previous = df_previous.replace(float(\"nan\"), pd.NA).replace(\"\", pd.NA)\n",
    "    except FileNotFoundError:\n",
    "        df_previous = pd.DataFrame([], columns=compare_on_index)\n",
    "    df_comparision = compare_tables(\n",
    "        df_previous.set_index(compare_on_index),\n",
    "        df_annotations.set_index(compare_on_index),\n",
    "    )\n",
    "\n",
    "    fig, ax = plt.subplots(1, 1, figsize=compare_figsize)\n",
    "    ax.yaxis.set_tick_params(labelsize=8)\n",
    "    ax = visualize_comparison(df_comparision)\n",
    "\n",
    "if display_nunique:\n",
    "    for col in df_annotations.columns:\n",
    "        df = explode_column(df_annotations, name=col, sep=\";\")\n",
    "        df = df[col].drop_duplicates()\n",
    "        print(f\"{df.name}: {df.nunique()}\")\n",
    "\n",
    "if overwrite:\n",
    "    df_annotations.to_csv(\n",
    "        annotation_dirpath / f\"{annotation_type}_{db_tag}.tsv\", sep=\"\\t\", index=False\n",
    "    )\n",
    "\n",
    "df_annotations"
   ]
  }
 ],
 "metadata": {
  "kernelspec": {
   "display_name": "Python 3 (ipykernel)",
   "language": "python",
   "name": "python3"
  },
  "language_info": {
   "codemirror_mode": {
    "name": "ipython",
    "version": 3
   },
   "file_extension": ".py",
   "mimetype": "text/x-python",
   "name": "python",
   "nbconvert_exporter": "python",
   "pygments_lexer": "ipython3"
  }
 },
 "nbformat": 4,
 "nbformat_minor": 5
}
