{
 "cells": [
  {
   "cell_type": "markdown",
   "id": "13bddfd6-19f9-44de-9062-5462c031dfb5",
   "metadata": {},
   "source": [
    "# Extract relevant data from dbSNP\n",
    "\n",
    "The purpose of this notebook is to extract relevant data about SNPs from the database.\n",
    "\n",
    "## Notebook Requirements:\n",
    "*  Model genes **must** have at least one of the following annotations stored in the `object.annotation`. Values are expected to be seperated by semicolons. Accepted keys currently include:\n",
    "    * `\"dbsnp\"`\n",
    "*  Note: Requires internet connection to download information from [dbSNP](https://www.ncbi.nlm.nih.gov/snp/).\n",
    "*  Utilizes the [Bio.Entrez package](https://biopython.org/docs/latest/api/Bio.Entrez.html).\n",
    "\n",
    "### Citations\n",
    "Phan L, Zhang H, Wang Q, Villamarin R, Hefferon T, Ramanathan A, Kattman B. The evolution of dbSNP: 25 years of impact in genomic research. Nucleic Acids Res. 2025 Jan 6;53(D1):D925-D931. doi: 10.1093/nar/gkae977. PMID: 39530225; PMCID: PMC11701571.\n",
    "\n",
    "## Setup\n",
    "### Import packages"
   ]
  },
  {
   "cell_type": "code",
   "execution_count": 1,
   "id": "49fed61a-e9eb-47f9-b97e-8edeff408452",
   "metadata": {},
   "outputs": [
    {
     "name": "stdout",
     "output_type": "stream",
     "text": [
      "\n",
      "Package Information\n",
      "-------------------\n",
      "rbc-gem-utils 0.0.2\n",
      "\n",
      "Dependency Information\n",
      "----------------------\n",
      "beautifulsoup4                       4.13.4\n",
      "bio                                   1.8.0\n",
      "cobra                                0.29.1\n",
      "depinfo                               2.2.0\n",
      "gurobipy                             12.0.2\n",
      "matplotlib                           3.10.3\n",
      "matplotlib-venn                       1.1.2\n",
      "memote                               0.17.0\n",
      "networkx                              3.4.2\n",
      "notebook                              7.4.2\n",
      "openpyxl                              3.1.5\n",
      "pandas                                2.2.3\n",
      "pre-commit                            4.2.0\n",
      "rbc-gem-utils[database,network,vis] missing\n",
      "requests                             2.32.3\n",
      "scipy                                1.15.3\n",
      "seaborn                              0.13.2\n",
      "\n",
      "Build Tools Information\n",
      "-----------------------\n",
      "pip          25.1\n",
      "setuptools 78.1.1\n",
      "wheel      0.45.1\n",
      "\n",
      "Platform Information\n",
      "--------------------\n",
      "Windows 10-AMD64\n",
      "CPython  3.11.11\n"
     ]
    }
   ],
   "source": [
    "from collections import defaultdict\n",
    "from xml.etree import ElementTree\n",
    "\n",
    "import numpy as np\n",
    "import pandas as pd\n",
    "from Bio import Entrez\n",
    "from rbc_gem_utils import (\n",
    "    GEM_NAME,\n",
    "    build_string,\n",
    "    get_annotation_df,\n",
    "    get_dirpath,\n",
    "    read_cobra_model,\n",
    "    show_versions,\n",
    "    split_string,\n",
    ")\n",
    "from rbc_gem_utils.util import has_value_type\n",
    "\n",
    "show_versions()"
   ]
  },
  {
   "cell_type": "markdown",
   "id": "c8477f24-711b-4c58-a5eb-bb1f0fc7c460",
   "metadata": {},
   "source": [
    "## Set notebook options"
   ]
  },
  {
   "cell_type": "code",
   "execution_count": 2,
   "id": "d646579b-539a-4f70-a93d-72107d6f3d81",
   "metadata": {},
   "outputs": [],
   "source": [
    "overwrite = True\n",
    "\n",
    "# Make sure to use your own email!\n",
    "email = \"EMAILADDRESS\""
   ]
  },
  {
   "cell_type": "markdown",
   "id": "6da6a907-3339-4f93-868a-01622f9e6de6",
   "metadata": {},
   "source": [
    "## Load RBC-GEM model"
   ]
  },
  {
   "cell_type": "code",
   "execution_count": 3,
   "id": "13d4753e-2d6d-44d9-bad0-7a477220b3a6",
   "metadata": {},
   "outputs": [
    {
     "name": "stdout",
     "output_type": "stream",
     "text": [
      "Set parameter Username\n",
      "Set parameter LicenseID to value 2664191\n",
      "Academic license - for non-commercial use only - expires 2026-05-12\n"
     ]
    },
    {
     "data": {
      "text/html": [
       "\n",
       "        <table>\n",
       "            <tr>\n",
       "                <td><strong>Name</strong></td>\n",
       "                <td>RBC_GEM</td>\n",
       "            </tr><tr>\n",
       "                <td><strong>Memory address</strong></td>\n",
       "                <td>223acaf42d0</td>\n",
       "            </tr><tr>\n",
       "                <td><strong>Number of metabolites</strong></td>\n",
       "                <td>2157</td>\n",
       "            </tr><tr>\n",
       "                <td><strong>Number of reactions</strong></td>\n",
       "                <td>3275</td>\n",
       "            </tr><tr>\n",
       "                <td><strong>Number of genes</strong></td>\n",
       "                <td>820</td>\n",
       "            </tr><tr>\n",
       "                <td><strong>Number of groups</strong></td>\n",
       "                <td>78</td>\n",
       "            </tr><tr>\n",
       "                <td><strong>Objective expression</strong></td>\n",
       "                <td>1.0*NaKt - 1.0*NaKt_reverse_db47e</td>\n",
       "            </tr><tr>\n",
       "                <td><strong>Compartments</strong></td>\n",
       "                <td>cytosol, extracellular space</td>\n",
       "            </tr>\n",
       "          </table>"
      ],
      "text/plain": [
       "<Model RBC_GEM at 0x223acaf42d0>"
      ]
     },
     "execution_count": 3,
     "metadata": {},
     "output_type": "execute_result"
    }
   ],
   "source": [
    "model_dirpath = get_dirpath(\"model\")\n",
    "model = read_cobra_model(filename=model_dirpath / f\"{GEM_NAME}.xml\")\n",
    "model"
   ]
  },
  {
   "cell_type": "code",
   "execution_count": 4,
   "id": "a1a26d35-de9c-4390-aca2-a6c8481eac4a",
   "metadata": {},
   "outputs": [
    {
     "name": "stdout",
     "output_type": "stream",
     "text": [
      "genes: 820\n",
      "dbsnp: 5070\n"
     ]
    },
    {
     "data": {
      "text/html": [
       "<div>\n",
       "<style scoped>\n",
       "    .dataframe tbody tr th:only-of-type {\n",
       "        vertical-align: middle;\n",
       "    }\n",
       "\n",
       "    .dataframe tbody tr th {\n",
       "        vertical-align: top;\n",
       "    }\n",
       "\n",
       "    .dataframe thead th {\n",
       "        text-align: right;\n",
       "    }\n",
       "</style>\n",
       "<table border=\"1\" class=\"dataframe\">\n",
       "  <thead>\n",
       "    <tr style=\"text-align: right;\">\n",
       "      <th></th>\n",
       "      <th>genes</th>\n",
       "      <th>dbsnp</th>\n",
       "    </tr>\n",
       "  </thead>\n",
       "  <tbody>\n",
       "    <tr>\n",
       "      <th>0</th>\n",
       "      <td>RPE</td>\n",
       "      <td>&lt;NA&gt;</td>\n",
       "    </tr>\n",
       "    <tr>\n",
       "      <th>1</th>\n",
       "      <td>RPIA</td>\n",
       "      <td>rs121918591</td>\n",
       "    </tr>\n",
       "    <tr>\n",
       "      <th>2</th>\n",
       "      <td>SORD</td>\n",
       "      <td>rs145813597;rs1042079;rs930337;rs149975952</td>\n",
       "    </tr>\n",
       "    <tr>\n",
       "      <th>3</th>\n",
       "      <td>AKR7A2</td>\n",
       "      <td>rs6670759;rs1043657;rs859208;rs859210;rs223120...</td>\n",
       "    </tr>\n",
       "    <tr>\n",
       "      <th>4</th>\n",
       "      <td>SRM</td>\n",
       "      <td>rs1049932</td>\n",
       "    </tr>\n",
       "    <tr>\n",
       "      <th>...</th>\n",
       "      <td>...</td>\n",
       "      <td>...</td>\n",
       "    </tr>\n",
       "    <tr>\n",
       "      <th>815</th>\n",
       "      <td>USP5</td>\n",
       "      <td>&lt;NA&gt;</td>\n",
       "    </tr>\n",
       "    <tr>\n",
       "      <th>816</th>\n",
       "      <td>VCPIP1</td>\n",
       "      <td>&lt;NA&gt;</td>\n",
       "    </tr>\n",
       "    <tr>\n",
       "      <th>817</th>\n",
       "      <td>VPS4B</td>\n",
       "      <td>rs17688948</td>\n",
       "    </tr>\n",
       "    <tr>\n",
       "      <th>818</th>\n",
       "      <td>WDR77</td>\n",
       "      <td>rs7416672</td>\n",
       "    </tr>\n",
       "    <tr>\n",
       "      <th>819</th>\n",
       "      <td>YES1</td>\n",
       "      <td>rs34580680;rs35126906</td>\n",
       "    </tr>\n",
       "  </tbody>\n",
       "</table>\n",
       "<p>820 rows × 2 columns</p>\n",
       "</div>"
      ],
      "text/plain": [
       "      genes                                              dbsnp\n",
       "0       RPE                                               <NA>\n",
       "1      RPIA                                        rs121918591\n",
       "2      SORD         rs145813597;rs1042079;rs930337;rs149975952\n",
       "3    AKR7A2  rs6670759;rs1043657;rs859208;rs859210;rs223120...\n",
       "4       SRM                                          rs1049932\n",
       "..      ...                                                ...\n",
       "815    USP5                                               <NA>\n",
       "816  VCPIP1                                               <NA>\n",
       "817   VPS4B                                         rs17688948\n",
       "818   WDR77                                          rs7416672\n",
       "819    YES1                              rs34580680;rs35126906\n",
       "\n",
       "[820 rows x 2 columns]"
      ]
     },
     "execution_count": 4,
     "metadata": {},
     "output_type": "execute_result"
    }
   ],
   "source": [
    "annotation_type = \"genes\"\n",
    "df_model_mappings = get_annotation_df(\n",
    "    getattr(model, annotation_type), [\"dbsnp\"]\n",
    ").rename({\"id\": annotation_type}, axis=1)\n",
    "for col in df_model_mappings.columns:\n",
    "    df = (\n",
    "        df_model_mappings[col]\n",
    "        .apply(lambda x: split_string(x))\n",
    "        .explode(col)\n",
    "        .drop_duplicates()\n",
    "    )\n",
    "    print(f\"{df.name}: {df.nunique()}\")\n",
    "\n",
    "df_model_mappings"
   ]
  },
  {
   "cell_type": "markdown",
   "id": "21905f9a-fb31-466a-84c5-cf9ee6681287",
   "metadata": {},
   "source": [
    "### Get IDs for query from model"
   ]
  },
  {
   "cell_type": "code",
   "execution_count": 5,
   "id": "ae646a47-2606-4d32-bb97-bafb1413a2ee",
   "metadata": {},
   "outputs": [
    {
     "data": {
      "text/html": [
       "<div>\n",
       "<style scoped>\n",
       "    .dataframe tbody tr th:only-of-type {\n",
       "        vertical-align: middle;\n",
       "    }\n",
       "\n",
       "    .dataframe tbody tr th {\n",
       "        vertical-align: top;\n",
       "    }\n",
       "\n",
       "    .dataframe thead th {\n",
       "        text-align: right;\n",
       "    }\n",
       "</style>\n",
       "<table border=\"1\" class=\"dataframe\">\n",
       "  <thead>\n",
       "    <tr style=\"text-align: right;\">\n",
       "      <th></th>\n",
       "      <th>genes</th>\n",
       "      <th>dbsnp</th>\n",
       "    </tr>\n",
       "  </thead>\n",
       "  <tbody>\n",
       "    <tr>\n",
       "      <th>1</th>\n",
       "      <td>RPIA</td>\n",
       "      <td>rs121918591</td>\n",
       "    </tr>\n",
       "    <tr>\n",
       "      <th>2</th>\n",
       "      <td>SORD</td>\n",
       "      <td>rs145813597</td>\n",
       "    </tr>\n",
       "    <tr>\n",
       "      <th>2</th>\n",
       "      <td>SORD</td>\n",
       "      <td>rs1042079</td>\n",
       "    </tr>\n",
       "    <tr>\n",
       "      <th>2</th>\n",
       "      <td>SORD</td>\n",
       "      <td>rs930337</td>\n",
       "    </tr>\n",
       "    <tr>\n",
       "      <th>2</th>\n",
       "      <td>SORD</td>\n",
       "      <td>rs149975952</td>\n",
       "    </tr>\n",
       "    <tr>\n",
       "      <th>...</th>\n",
       "      <td>...</td>\n",
       "      <td>...</td>\n",
       "    </tr>\n",
       "    <tr>\n",
       "      <th>814</th>\n",
       "      <td>UFD1</td>\n",
       "      <td>rs17744624</td>\n",
       "    </tr>\n",
       "    <tr>\n",
       "      <th>817</th>\n",
       "      <td>VPS4B</td>\n",
       "      <td>rs17688948</td>\n",
       "    </tr>\n",
       "    <tr>\n",
       "      <th>818</th>\n",
       "      <td>WDR77</td>\n",
       "      <td>rs7416672</td>\n",
       "    </tr>\n",
       "    <tr>\n",
       "      <th>819</th>\n",
       "      <td>YES1</td>\n",
       "      <td>rs34580680</td>\n",
       "    </tr>\n",
       "    <tr>\n",
       "      <th>819</th>\n",
       "      <td>YES1</td>\n",
       "      <td>rs35126906</td>\n",
       "    </tr>\n",
       "  </tbody>\n",
       "</table>\n",
       "<p>5070 rows × 2 columns</p>\n",
       "</div>"
      ],
      "text/plain": [
       "     genes        dbsnp\n",
       "1     RPIA  rs121918591\n",
       "2     SORD  rs145813597\n",
       "2     SORD    rs1042079\n",
       "2     SORD     rs930337\n",
       "2     SORD  rs149975952\n",
       "..     ...          ...\n",
       "814   UFD1   rs17744624\n",
       "817  VPS4B   rs17688948\n",
       "818  WDR77    rs7416672\n",
       "819   YES1   rs34580680\n",
       "819   YES1   rs35126906\n",
       "\n",
       "[5070 rows x 2 columns]"
      ]
     },
     "execution_count": 5,
     "metadata": {},
     "output_type": "execute_result"
    }
   ],
   "source": [
    "df_model_snps = df_model_mappings.loc[:, [\"genes\", \"dbsnp\"]].copy()\n",
    "df_model_snps[\"dbsnp\"] = df_model_mappings[\"dbsnp\"].apply(split_string)\n",
    "df_model_snps = df_model_snps.explode(\"dbsnp\")\n",
    "df_model_snps = df_model_snps.dropna().drop_duplicates()\n",
    "rs_ids = df_model_snps[\"dbsnp\"].unique()\n",
    "df_model_snps"
   ]
  },
  {
   "cell_type": "code",
   "execution_count": 6,
   "id": "cdc8c330-2057-4c12-820d-4aa9cdf72b9f",
   "metadata": {},
   "outputs": [],
   "source": [
    "def fetch_results_dbSNP(email, rs_ids):\n",
    "    Entrez.email = email\n",
    "    search = Entrez.efetch(db=\"snp\", retmode=\"text\", id=rs_ids)\n",
    "    all_lines = search.readlines()\n",
    "    search.close()\n",
    "    return all_lines"
   ]
  },
  {
   "cell_type": "markdown",
   "id": "e996f2bd-5293-4f6d-99b5-345a172f0840",
   "metadata": {},
   "source": [
    "### Get results from SNP as a DataFrame"
   ]
  },
  {
   "cell_type": "code",
   "execution_count": null,
   "id": "2e253df0-8aee-48f6-87a2-6f9198e5ad18",
   "metadata": {},
   "outputs": [
    {
     "name": "stdout",
     "output_type": "stream",
     "text": [
      "Fetching results for batch 1  (500/5070)\n",
      "Fetching results for batch 2  (1000/5070)\n",
      "Fetching results for batch 3  (1500/5070)\n",
      "Fetching results for batch 4  (2000/5070)\n",
      "Fetching results for batch 5  (2500/5070)\n"
     ]
    }
   ],
   "source": [
    "data = defaultdict(dict)\n",
    "batch_size = 500\n",
    "for batch_idx, batch in enumerate(np.arange(0, len(rs_ids), batch_size), start=0):\n",
    "    query_ids = rs_ids[batch : batch + batch_size]\n",
    "    print(\n",
    "        f\"Fetching results for batch {batch_idx + 1}  ({batch + len(query_ids)}/{len(rs_ids)})\"\n",
    "    )\n",
    "    all_lines = fetch_results_dbSNP(email=email, rs_ids=query_ids)\n",
    "    for entry_idx, xml_str in enumerate(all_lines, start=batch_idx * batch_size):\n",
    "        entry = ElementTree.fromstring(xml_str)\n",
    "        data[rs_ids[entry_idx]].update(\n",
    "            {e.tag: e.text for e in entry if has_value_type(e)}\n",
    "        )\n",
    "\n",
    "# Make into DataFrame\n",
    "df_snps_all = pd.DataFrame.from_dict(data, orient=\"index\")\n",
    "failed_ids = list(df_snps_all[\"error\"].dropna().index)\n",
    "print(f\"\\nNumber of failed IDs: {len(failed_ids)}\")\n",
    "df_snps_all.index.name = \"dbsnp\"\n",
    "df_snps_all = df_snps_all[~df_snps_all[\"error\"].notna()]\n",
    "df_snps_all"
   ]
  },
  {
   "cell_type": "markdown",
   "id": "901fb1a6-0667-4b1b-a90a-657395466b5b",
   "metadata": {},
   "source": [
    "### Parse and reformat results"
   ]
  },
  {
   "cell_type": "code",
   "execution_count": null,
   "id": "be8c543e-c172-4d1c-bd42-8bbdf88d8ff8",
   "metadata": {},
   "outputs": [],
   "source": [
    "df_model_snps = df_model_mappings.loc[:, [\"genes\", \"dbsnp\"]].copy()\n",
    "df_model_snps[\"dbsnp\"] = df_model_mappings[\"dbsnp\"].apply(split_string)\n",
    "df_model_snps = df_model_snps.explode(\"dbsnp\")\n",
    "df_model_snps = df_model_snps.dropna().drop_duplicates()\n",
    "rs_ids = df_model_snps[\"dbsnp\"].unique()\n",
    "df_model_snps\n",
    "\n",
    "rename_mapping = {\n",
    "    key: key.lower()\n",
    "    for key in df_snps_all.columns\n",
    "    if key not in {\"error\", \"GLOBAL_SAMPLESIZE\"}\n",
    "}\n",
    "\n",
    "df_model_snps = df_model_snps.merge(\n",
    "    df_snps_all.loc[:, list(rename_mapping)].rename(rename_mapping, axis=1),\n",
    "    left_on=\"dbsnp\",\n",
    "    right_on=\"dbsnp\",\n",
    "    how=\"inner\",\n",
    ")\n",
    "for col in df_model_snps.columns:\n",
    "    df_model_snps[col] = df_model_snps[col].str.split(\",\")\n",
    "    # Switch to default seperator (currently semicolon)\n",
    "    df_model_snps[col] = df_model_snps[col].apply(lambda x: build_string(x))\n",
    "df_model_snps = df_model_snps.sort_values([\"snp_id_sort\"]).reset_index(drop=True)\n",
    "df_model_snps[\"sequence_change\"] = (\n",
    "    df_model_snps[\"spdi\"]\n",
    "    .dropna()\n",
    "    .apply(lambda value: [s.split(\":\", 2)[-1] for s in split_string(value)])\n",
    ")\n",
    "\n",
    "if overwrite:\n",
    "    df_model_snps.to_csv(get_dirpath(\"database\") / f\"snps_{GEM_NAME}.tsv\", sep=\"\\t\")\n",
    "df_model_snps"
   ]
  }
 ],
 "metadata": {
  "kernelspec": {
   "display_name": "Python 3 (ipykernel)",
   "language": "python",
   "name": "python3"
  },
  "language_info": {
   "codemirror_mode": {
    "name": "ipython",
    "version": 3
   },
   "file_extension": ".py",
   "mimetype": "text/x-python",
   "name": "python",
   "nbconvert_exporter": "python",
   "pygments_lexer": "ipython3",
   "version": "3.11.11"
  }
 },
 "nbformat": 4,
 "nbformat_minor": 5
}
