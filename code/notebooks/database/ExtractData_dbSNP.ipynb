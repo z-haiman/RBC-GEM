{
 "cells": [
  {
   "cell_type": "markdown",
   "id": "13bddfd6-19f9-44de-9062-5462c031dfb5",
   "metadata": {},
   "source": [
    "# Extract relevant data from dbSNP\n",
    "\n",
    "The purpose of this notebook is to extract relevant data about SNPs from the database.\n",
    "\n",
    "## Notebook Requirements:\n",
    "*  Model genes **must** have at least one of the following annotations stored in the `object.annotation`. Values are expected to be seperated by semicolons. Accepted keys currently include:\n",
    "    * `\"dbsnp\"`\n",
    "*  Note: Requires internet connection to download information from [dbSNP](https://www.ncbi.nlm.nih.gov/snp/).\n",
    "*  Utilizes the [Bio.Entrez package](https://biopython.org/docs/latest/api/Bio.Entrez.html).\n",
    "\n",
    "### Citations\n",
    "Phan L, Zhang H, Wang Q, Villamarin R, Hefferon T, Ramanathan A, Kattman B. The evolution of dbSNP: 25 years of impact in genomic research. Nucleic Acids Res. 2025 Jan 6;53(D1):D925-D931. doi: 10.1093/nar/gkae977. PMID: 39530225; PMCID: PMC11701571.\n",
    "\n",
    "## Setup\n",
    "### Import packages"
   ]
  },
  {
   "cell_type": "code",
   "execution_count": null,
   "id": "49fed61a-e9eb-47f9-b97e-8edeff408452",
   "metadata": {},
   "outputs": [],
   "source": [
    "from collections import defaultdict\n",
    "from xml.etree import ElementTree\n",
    "\n",
    "import numpy as np\n",
    "import pandas as pd\n",
    "from Bio import Entrez\n",
    "from rbc_gem_utils import (\n",
    "    GEM_NAME,\n",
    "    build_string,\n",
    "    get_annotation_df,\n",
    "    get_dirpath,\n",
    "    read_cobra_model,\n",
    "    show_versions,\n",
    "    split_string,\n",
    ")\n",
    "from rbc_gem_utils.util import has_value_type\n",
    "\n",
    "show_versions()"
   ]
  },
  {
   "cell_type": "markdown",
   "id": "c8477f24-711b-4c58-a5eb-bb1f0fc7c460",
   "metadata": {},
   "source": [
    "## Set notebook options"
   ]
  },
  {
   "cell_type": "code",
   "execution_count": null,
   "id": "d646579b-539a-4f70-a93d-72107d6f3d81",
   "metadata": {},
   "outputs": [],
   "source": [
    "overwrite = True\n",
    "\n",
    "# Make sure to use your own email!\n",
    "email = \"EMAILADDRESS\""
   ]
  },
  {
   "cell_type": "markdown",
   "id": "6da6a907-3339-4f93-868a-01622f9e6de6",
   "metadata": {},
   "source": [
    "## Load RBC-GEM model"
   ]
  },
  {
   "cell_type": "code",
   "execution_count": null,
   "id": "13d4753e-2d6d-44d9-bad0-7a477220b3a6",
   "metadata": {},
   "outputs": [],
   "source": [
    "model_dirpath = get_dirpath(\"model\")\n",
    "model = read_cobra_model(filename=model_dirpath / f\"{GEM_NAME}.xml\")\n",
    "model"
   ]
  },
  {
   "cell_type": "code",
   "execution_count": null,
   "id": "a1a26d35-de9c-4390-aca2-a6c8481eac4a",
   "metadata": {},
   "outputs": [],
   "source": [
    "annotation_type = \"genes\"\n",
    "df_model_mappings = get_annotation_df(\n",
    "    getattr(model, annotation_type), [\"dbsnp\"]\n",
    ").rename({\"id\": annotation_type}, axis=1)\n",
    "for col in df_model_mappings.columns:\n",
    "    df = (\n",
    "        df_model_mappings[col]\n",
    "        .apply(lambda x: split_string(x))\n",
    "        .explode(col)\n",
    "        .drop_duplicates()\n",
    "    )\n",
    "    print(f\"{df.name}: {df.nunique()}\")\n",
    "\n",
    "df_model_mappings"
   ]
  },
  {
   "cell_type": "markdown",
   "id": "21905f9a-fb31-466a-84c5-cf9ee6681287",
   "metadata": {},
   "source": [
    "### Get IDs for query from model"
   ]
  },
  {
   "cell_type": "code",
   "execution_count": null,
   "id": "ae646a47-2606-4d32-bb97-bafb1413a2ee",
   "metadata": {},
   "outputs": [],
   "source": [
    "df_model_snps = df_model_mappings.loc[:, [\"genes\", \"dbsnp\"]].copy()\n",
    "df_model_snps[\"dbsnp\"] = df_model_mappings[\"dbsnp\"].apply(split_string)\n",
    "df_model_snps = df_model_snps.explode(\"dbsnp\")\n",
    "df_model_snps = df_model_snps.dropna().drop_duplicates()\n",
    "rs_ids = df_model_snps[\"dbsnp\"].unique()\n",
    "df_model_snps"
   ]
  },
  {
   "cell_type": "code",
   "execution_count": null,
   "id": "cdc8c330-2057-4c12-820d-4aa9cdf72b9f",
   "metadata": {},
   "outputs": [],
   "source": [
    "def fetch_results_dbSNP(email, rs_ids):\n",
    "    Entrez.email = email\n",
    "    search = Entrez.efetch(db=\"snp\", retmode=\"text\", id=rs_ids)\n",
    "    all_lines = search.readlines()\n",
    "    search.close()\n",
    "    return all_lines"
   ]
  },
  {
   "cell_type": "markdown",
   "id": "e996f2bd-5293-4f6d-99b5-345a172f0840",
   "metadata": {},
   "source": [
    "### Get results from SNP as a DataFrame"
   ]
  },
  {
   "cell_type": "code",
   "execution_count": null,
   "id": "2e253df0-8aee-48f6-87a2-6f9198e5ad18",
   "metadata": {},
   "outputs": [],
   "source": [
    "data = defaultdict(dict)\n",
    "batch_size = 500\n",
    "for batch_idx, batch in enumerate(np.arange(0, len(rs_ids), batch_size), start=0):\n",
    "    query_ids = rs_ids[batch : batch + batch_size]\n",
    "    print(\n",
    "        f\"Fetching results for batch {batch_idx + 1}  ({batch + len(query_ids)}/{len(rs_ids)})\"\n",
    "    )\n",
    "    all_lines = fetch_results_dbSNP(email=email, rs_ids=query_ids)\n",
    "    for entry_idx, xml_str in enumerate(all_lines, start=batch_idx * batch_size):\n",
    "        entry = ElementTree.fromstring(xml_str)\n",
    "        data[rs_ids[entry_idx]].update(\n",
    "            {e.tag: e.text for e in entry if has_value_type(e)}\n",
    "        )\n",
    "\n",
    "# Make into DataFrame\n",
    "df_snps_all = pd.DataFrame.from_dict(data, orient=\"index\")\n",
    "failed_ids = list(df_snps_all[\"error\"].dropna().index)\n",
    "print(f\"\\nNumber of failed IDs: {len(failed_ids)}\")\n",
    "df_snps_all.index.name = \"dbsnp\"\n",
    "df_snps_all = df_snps_all[~df_snps_all[\"error\"].notna()]\n",
    "df_snps_all"
   ]
  },
  {
   "cell_type": "markdown",
   "id": "901fb1a6-0667-4b1b-a90a-657395466b5b",
   "metadata": {},
   "source": [
    "### Parse and reformat results"
   ]
  },
  {
   "cell_type": "code",
   "execution_count": null,
   "id": "be8c543e-c172-4d1c-bd42-8bbdf88d8ff8",
   "metadata": {},
   "outputs": [],
   "source": [
    "df_model_snps = df_model_mappings.loc[:, [\"genes\", \"dbsnp\"]].copy()\n",
    "df_model_snps[\"dbsnp\"] = df_model_mappings[\"dbsnp\"].apply(split_string)\n",
    "df_model_snps = df_model_snps.explode(\"dbsnp\")\n",
    "df_model_snps = df_model_snps.dropna().drop_duplicates()\n",
    "rs_ids = df_model_snps[\"dbsnp\"].unique()\n",
    "df_model_snps\n",
    "\n",
    "rename_mapping = {\n",
    "    key: key.lower()\n",
    "    for key in df_snps_all.columns\n",
    "    if key not in {\"error\", \"GLOBAL_SAMPLESIZE\"}\n",
    "}\n",
    "\n",
    "df_model_snps = df_model_snps.merge(\n",
    "    df_snps_all.loc[:, list(rename_mapping)].rename(rename_mapping, axis=1),\n",
    "    left_on=\"dbsnp\",\n",
    "    right_on=\"dbsnp\",\n",
    "    how=\"inner\",\n",
    ")\n",
    "for col in df_model_snps.columns:\n",
    "    df_model_snps[col] = df_model_snps[col].str.split(\",\")\n",
    "    # Switch to default seperator (currently semicolon)\n",
    "    df_model_snps[col] = df_model_snps[col].apply(lambda x: build_string(x))\n",
    "df_model_snps = df_model_snps.sort_values([\"snp_id_sort\"]).reset_index(drop=True)\n",
    "df_model_snps[\"sequence_change\"] = (\n",
    "    df_model_snps[\"spdi\"]\n",
    "    .dropna()\n",
    "    .apply(lambda value: [s.split(\":\", 2)[-1] for s in split_string(value)])\n",
    ")\n",
    "\n",
    "if overwrite:\n",
    "    df_model_snps.to_csv(get_dirpath(\"database\") / f\"snps_{GEM_NAME}.tsv\", sep=\"\\t\")\n",
    "df_model_snps"
   ]
  }
 ],
 "metadata": {
  "kernelspec": {
   "display_name": "Python 3 (ipykernel)",
   "language": "python",
   "name": "python3"
  },
  "language_info": {
   "codemirror_mode": {
    "name": "ipython",
    "version": 3
   },
   "file_extension": ".py",
   "mimetype": "text/x-python",
   "name": "python",
   "nbconvert_exporter": "python",
   "pygments_lexer": "ipython3"
  }
 },
 "nbformat": 4,
 "nbformat_minor": 5
}
