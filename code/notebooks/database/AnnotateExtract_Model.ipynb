{
 "cells": [
  {
   "cell_type": "markdown",
   "id": "61031c7c-b64e-4aec-b2e5-f9c656ee3c89",
   "metadata": {},
   "source": [
    "# Annotate RBC-GEM\n",
    "Read annotation tables and annotate the model \n",
    "## Setup\n",
    "### Import packages"
   ]
  },
  {
   "cell_type": "code",
   "execution_count": null,
   "id": "63c47b2a-cb9f-40f8-a2fb-de78ac00d860",
   "metadata": {},
   "outputs": [],
   "source": [
    "import matplotlib.pyplot as plt\n",
    "import pandas as pd\n",
    "from rbc_gem_utils import (\n",
    "    GEM_NAME,\n",
    "    compare_tables,\n",
    "    explode_column,\n",
    "    get_annotation_df,\n",
    "    get_dirpath,\n",
    "    read_cobra_model,\n",
    "    show_versions,\n",
    "    split_string,\n",
    "    visualize_comparison,\n",
    "    write_cobra_model,\n",
    ")\n",
    "from rbc_gem_utils.annotation import set_sbo_default_annotations\n",
    "\n",
    "# Display versions of last time notebook ran and worked\n",
    "show_versions()"
   ]
  },
  {
   "cell_type": "markdown",
   "id": "313b5dab-bde3-48f1-9103-4f53736fe132",
   "metadata": {},
   "source": [
    "## Load RBC-GEM model"
   ]
  },
  {
   "cell_type": "code",
   "execution_count": null,
   "id": "81a721a7-dd3a-427b-8759-99a0320ebce3",
   "metadata": {},
   "outputs": [],
   "source": [
    "model_dirpath = get_dirpath(\"model\")\n",
    "\n",
    "old_model = read_cobra_model(filename=model_dirpath / f\"{GEM_NAME}.xml\")\n",
    "new_model = read_cobra_model(filename=model_dirpath / f\"{GEM_NAME}.xml\")"
   ]
  },
  {
   "cell_type": "markdown",
   "id": "56e992a9-fe5d-4ee1-b315-b55bbaaf305b",
   "metadata": {},
   "source": [
    "## Set annotations on model"
   ]
  },
  {
   "cell_type": "code",
   "execution_count": null,
   "id": "175db332-eb8d-4761-af60-334780f60ce3",
   "metadata": {},
   "outputs": [],
   "source": [
    "# Whether to update dictionaries or replace dictionaries entirely\n",
    "reset_and_replace_annotation_dict = True\n",
    "reset_sbo = True  # Using this option resets the model SBO terms to default values\n",
    "annotation_types = [\"reactions\", \"metabolites\", \"genes\"]\n",
    "\n",
    "for annotation_type in annotation_types:\n",
    "    df_annotation = pd.read_csv(\n",
    "        model_dirpath / f\"{annotation_type}.tsv\",\n",
    "        sep=\"\\t\",\n",
    "        index_col=None,\n",
    "        dtype=str,\n",
    "    )\n",
    "    previous_id_mapping_df = pd.read_csv(\n",
    "        get_dirpath(\"deprecatedIdentifiers\")\n",
    "        / f\"{annotation_type}_deprecatedIdentifiers.tsv\",\n",
    "        sep=\"\\t\",\n",
    "        index_col=None,\n",
    "    )\n",
    "    retired_col = [c for c in previous_id_mapping_df.columns if c.endswith(\"Retired\")][\n",
    "        0\n",
    "    ]\n",
    "\n",
    "    for idx, row in df_annotation.set_index(annotation_type).iterrows():\n",
    "        try:\n",
    "            item = getattr(new_model, annotation_type).get_by_id(idx)\n",
    "        except KeyError:\n",
    "            # Check if ID was retired for another name\n",
    "            df_retired = previous_id_mapping_df[\n",
    "                previous_id_mapping_df[retired_col].apply(\n",
    "                    lambda x: idx in split_string(x)\n",
    "                )\n",
    "            ]\n",
    "            if not df_retired.empty:\n",
    "                print(\n",
    "                    f\"{idx} was renamed to {df_retired.iloc[:, 0].item()}, making ID correction\"\n",
    "                )\n",
    "                idx = df_retired.iloc[:, 0].item()\n",
    "                item = getattr(new_model, annotation_type).get_by_id(idx)\n",
    "            else:\n",
    "                print(f\"Not found, was this removed? {annotation_type}, {idx}\")\n",
    "                continue\n",
    "        values = {k: split_string(v) for k, v in row.dropna().to_dict().items()}\n",
    "        values.update({k: v[0] for k, v in values.items() if len(v) == 1})\n",
    "        if reset_and_replace_annotation_dict:\n",
    "            item.annotation = values\n",
    "        else:\n",
    "            item.annotation.update(values)\n",
    "\n",
    "if reset_sbo:\n",
    "    set_sbo_default_annotations(new_model, annotation_types, verbose=False)"
   ]
  },
  {
   "cell_type": "markdown",
   "id": "41a35dd0-8a68-47a6-b433-f2a6c154add1",
   "metadata": {},
   "source": [
    "### Compare before overwriting"
   ]
  },
  {
   "cell_type": "code",
   "execution_count": null,
   "id": "34a58e05-3b17-430e-8ba6-6114e5bd1e77",
   "metadata": {},
   "outputs": [],
   "source": [
    "df_old_model = {}\n",
    "for annotation_type in annotation_types:\n",
    "    all_annotation_keys = set()\n",
    "    for annotation in getattr(old_model, annotation_type).list_attr(\"annotation\"):\n",
    "        all_annotation_keys.update(list(annotation.keys()))\n",
    "    # Get annotation df is agnostic to object type, swap ID column with the `annotation_type`\n",
    "    df_old_model[annotation_type] = get_annotation_df(\n",
    "        getattr(old_model, annotation_type), sorted(list(all_annotation_keys))\n",
    "    ).rename({\"id\": annotation_type}, axis=1)\n",
    "    df_old_model[annotation_type] = df_old_model[annotation_type].sort_values(\n",
    "        annotation_type\n",
    "    )\n",
    "\n",
    "df_new_model = {}\n",
    "for annotation_type in annotation_types:\n",
    "    all_annotation_keys = set()\n",
    "    for annotation in getattr(new_model, annotation_type).list_attr(\"annotation\"):\n",
    "        all_annotation_keys.update(list(annotation.keys()))\n",
    "    # Get annotation df is agnostic to object type, swap ID column with the `annotation_type`\n",
    "    df_new_model[annotation_type] = get_annotation_df(\n",
    "        getattr(new_model, annotation_type), sorted(list(all_annotation_keys))\n",
    "    ).rename({\"id\": annotation_type}, axis=1)\n",
    "    df_new_model[annotation_type] = df_new_model[annotation_type].sort_values(\n",
    "        annotation_type\n",
    "    )"
   ]
  },
  {
   "cell_type": "code",
   "execution_count": null,
   "id": "87dbae83-5fdc-41aa-8e54-bea3e6792241",
   "metadata": {},
   "outputs": [],
   "source": [
    "annotation_type = \"reactions\"\n",
    "fig, ax = plt.subplots(1, 1, figsize=(5, 5))\n",
    "\n",
    "df_comparision = compare_tables(\n",
    "    df_old_model[annotation_type].set_index(annotation_type),\n",
    "    df_new_model[annotation_type].set_index(annotation_type),\n",
    ")\n",
    "visualize_comparison(df_comparision)"
   ]
  },
  {
   "cell_type": "code",
   "execution_count": null,
   "id": "e7bcdbe9-d4be-41f5-9c9c-e35ef2202165",
   "metadata": {},
   "outputs": [],
   "source": [
    "annotation_type = \"metabolites\"\n",
    "fig, ax = plt.subplots(1, 1, figsize=(5, 5))\n",
    "df_comparision = compare_tables(\n",
    "    df_old_model[annotation_type].set_index(annotation_type),\n",
    "    df_new_model[annotation_type].set_index(annotation_type),\n",
    ")\n",
    "visualize_comparison(df_comparision)"
   ]
  },
  {
   "cell_type": "code",
   "execution_count": null,
   "id": "906e15e1-9316-46c8-ad5f-ef1295bbfbe8",
   "metadata": {},
   "outputs": [],
   "source": [
    "annotation_type = \"genes\"\n",
    "fig, ax = plt.subplots(1, 1, figsize=(5, 20))\n",
    "\n",
    "df_comparision = compare_tables(\n",
    "    df_old_model[annotation_type].set_index(annotation_type),\n",
    "    df_new_model[annotation_type].set_index(annotation_type),\n",
    ")\n",
    "visualize_comparison(df_comparision)"
   ]
  },
  {
   "cell_type": "markdown",
   "id": "34c6c7ff-9d46-4ce1-a1b3-d5c3fd3ce5e4",
   "metadata": {},
   "source": [
    "## Export model for all filetypes"
   ]
  },
  {
   "cell_type": "code",
   "execution_count": null,
   "id": "557502f8-f7ea-4138-9a9a-2a9da491d42a",
   "metadata": {},
   "outputs": [],
   "source": [
    "for ftype in [\"xml\", \"mat\", \"json\", \"yml\"]:\n",
    "    write_cobra_model(new_model, model_dirpath / f\"{GEM_NAME}.{ftype}\")"
   ]
  },
  {
   "cell_type": "markdown",
   "id": "203a51a1-b1d3-4793-a035-36f146a4e640",
   "metadata": {},
   "source": [
    "## Extract annotations from model"
   ]
  },
  {
   "cell_type": "code",
   "execution_count": null,
   "id": "1db5882d-d2fb-4637-ac49-0a51f62c139d",
   "metadata": {},
   "outputs": [],
   "source": [
    "compare_figsize = (10, 5)\n",
    "compare = True\n",
    "display_nunique = True\n",
    "overwrite = True"
   ]
  },
  {
   "cell_type": "markdown",
   "id": "bcb516a1-2d95-4f24-9de3-e4ef8a7c793c",
   "metadata": {},
   "source": [
    "### Reactions"
   ]
  },
  {
   "cell_type": "code",
   "execution_count": null,
   "id": "a5b25301-a03e-45f3-9667-b8f53416df21",
   "metadata": {},
   "outputs": [],
   "source": [
    "annotation_type = \"reactions\"\n",
    "all_annotation_keys = set()\n",
    "for annotation in getattr(new_model, annotation_type).list_attr(\"annotation\"):\n",
    "    all_annotation_keys.update(list(annotation.keys()))\n",
    "# Get annotation df is agnostic to object type, swap ID column with the `annotation_type`\n",
    "df_annotations = get_annotation_df(\n",
    "    getattr(new_model, annotation_type), sorted(list(all_annotation_keys))\n",
    ").rename({\"id\": annotation_type}, axis=1)\n",
    "\n",
    "\n",
    "df_annotations = df_annotations.replace(float(\"nan\"), pd.NA).replace(\"\", pd.NA)\n",
    "if compare:\n",
    "    compare_on_index = [annotation_type]\n",
    "    try:\n",
    "        df_previous = pd.read_csv(\n",
    "            model_dirpath / f\"{annotation_type}.tsv\", sep=\"\\t\", index_col=None\n",
    "        )\n",
    "        df_previous = df_previous.replace(float(\"nan\"), pd.NA).replace(\"\", pd.NA)\n",
    "    except FileNotFoundError:\n",
    "        df_previous = pd.DataFrame([], columns=compare_on_index)\n",
    "    df_comparision = compare_tables(\n",
    "        df_previous.set_index(compare_on_index),\n",
    "        df_annotations.set_index(compare_on_index),\n",
    "    )\n",
    "\n",
    "    fig, ax = plt.subplots(1, 1, figsize=compare_figsize)\n",
    "    ax.yaxis.set_tick_params(labelsize=8)\n",
    "    ax = visualize_comparison(df_comparision)\n",
    "\n",
    "if display_nunique:\n",
    "    for col in df_annotations.columns:\n",
    "        df = explode_column(df_annotations, name=col, sep=\";\")\n",
    "        df = df[col].drop_duplicates()\n",
    "        print(f\"{df.name}: {df.nunique()}\")\n",
    "\n",
    "if overwrite:\n",
    "    df_annotations.to_csv(\n",
    "        model_dirpath / f\"{annotation_type}.tsv\", sep=\"\\t\", index=False\n",
    "    )\n",
    "\n",
    "df_annotations"
   ]
  },
  {
   "cell_type": "markdown",
   "id": "ee96f42d-16d2-430a-8c3a-774803926d4e",
   "metadata": {},
   "source": [
    "### Metabolites"
   ]
  },
  {
   "cell_type": "code",
   "execution_count": null,
   "id": "bdad858d-0168-49f2-a6a1-c830fa188023",
   "metadata": {},
   "outputs": [],
   "source": [
    "annotation_type = \"metabolites\"\n",
    "all_annotation_keys = set()\n",
    "for annotation in getattr(new_model, annotation_type).list_attr(\"annotation\"):\n",
    "    all_annotation_keys.update(list(annotation.keys()))\n",
    "# Get annotation df is agnostic to object type, swap ID column with the `annotation_type`\n",
    "df_annotations = get_annotation_df(\n",
    "    getattr(new_model, annotation_type), sorted(list(all_annotation_keys))\n",
    ").rename({\"id\": annotation_type}, axis=1)\n",
    "\n",
    "df_annotations = df_annotations.replace(float(\"nan\"), pd.NA).replace(\"\", pd.NA)\n",
    "if compare:\n",
    "    compare_on_index = [annotation_type]\n",
    "    try:\n",
    "        df_previous = pd.read_csv(\n",
    "            model_dirpath / f\"{annotation_type}.tsv\", sep=\"\\t\", index_col=None\n",
    "        )\n",
    "        df_previous = df_previous.replace(float(\"nan\"), pd.NA).replace(\"\", pd.NA)\n",
    "    except FileNotFoundError:\n",
    "        df_previous = pd.DataFrame([], columns=compare_on_index)\n",
    "    df_comparision = compare_tables(\n",
    "        df_previous.set_index(compare_on_index),\n",
    "        df_annotations.set_index(compare_on_index),\n",
    "    )\n",
    "\n",
    "    fig, ax = plt.subplots(1, 1, figsize=compare_figsize)\n",
    "    ax.yaxis.set_tick_params(labelsize=8)\n",
    "    ax = visualize_comparison(df_comparision)\n",
    "\n",
    "if display_nunique:\n",
    "    for col in df_annotations.columns:\n",
    "        df = explode_column(df_annotations, name=col, sep=\";\")\n",
    "        df = df[col].drop_duplicates()\n",
    "        print(f\"{df.name}: {df.nunique()}\")\n",
    "\n",
    "if overwrite:\n",
    "    df_annotations.to_csv(\n",
    "        model_dirpath / f\"{annotation_type}.tsv\", sep=\"\\t\", index=False\n",
    "    )\n",
    "\n",
    "df_annotations"
   ]
  },
  {
   "cell_type": "markdown",
   "id": "3ac7228c-c54d-47e8-9ed0-13f39fc2bc27",
   "metadata": {},
   "source": [
    "### Genes"
   ]
  },
  {
   "cell_type": "code",
   "execution_count": null,
   "id": "557ea3be-87ef-469d-8066-a5365b56ea4c",
   "metadata": {},
   "outputs": [],
   "source": [
    "annotation_type = \"genes\"\n",
    "all_annotation_keys = set()\n",
    "for annotation in getattr(new_model, annotation_type).list_attr(\"annotation\"):\n",
    "    all_annotation_keys.update(list(annotation.keys()))\n",
    "# Get annotation df is agnostic to object type, swap ID column with the `annotation_type`\n",
    "df_annotations = get_annotation_df(\n",
    "    getattr(new_model, annotation_type), sorted(list(all_annotation_keys))\n",
    ").rename({\"id\": annotation_type}, axis=1)\n",
    "\n",
    "df_annotations = df_annotations.replace(float(\"nan\"), pd.NA).replace(\"\", pd.NA)\n",
    "if compare:\n",
    "    compare_on_index = [annotation_type]\n",
    "    try:\n",
    "        df_previous = pd.read_csv(\n",
    "            model_dirpath / f\"{annotation_type}.tsv\", sep=\"\\t\", index_col=None\n",
    "        )\n",
    "        df_previous = df_previous.replace(float(\"nan\"), pd.NA).replace(\"\", pd.NA)\n",
    "    except FileNotFoundError:\n",
    "        df_previous = pd.DataFrame([], columns=compare_on_index)\n",
    "    df_comparision = compare_tables(\n",
    "        df_previous.set_index(compare_on_index),\n",
    "        df_annotations.set_index(compare_on_index),\n",
    "    )\n",
    "\n",
    "    fig, ax = plt.subplots(1, 1, figsize=(10, 20))\n",
    "    ax.yaxis.set_tick_params(labelsize=8)\n",
    "    ax = visualize_comparison(df_comparision)\n",
    "\n",
    "if display_nunique:\n",
    "    for col in df_annotations.columns:\n",
    "        df = explode_column(df_annotations, name=col, sep=\";\")\n",
    "        df = df[col].drop_duplicates()\n",
    "        print(f\"{df.name}: {df.nunique()}\")\n",
    "\n",
    "if overwrite:\n",
    "    df_annotations.to_csv(\n",
    "        model_dirpath / f\"{annotation_type}.tsv\", sep=\"\\t\", index=False\n",
    "    )\n",
    "\n",
    "df_annotations"
   ]
  }
 ],
 "metadata": {
  "kernelspec": {
   "display_name": "Python 3 (ipykernel)",
   "language": "python",
   "name": "python3"
  },
  "language_info": {
   "codemirror_mode": {
    "name": "ipython",
    "version": 3
   },
   "file_extension": ".py",
   "mimetype": "text/x-python",
   "name": "python",
   "nbconvert_exporter": "python",
   "pygments_lexer": "ipython3"
  }
 },
 "nbformat": 4,
 "nbformat_minor": 5
}
