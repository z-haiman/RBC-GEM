{
 "cells": [
  {
   "cell_type": "markdown",
   "id": "daef98f1-79d3-458f-93c9-8592ab2a443a",
   "metadata": {},
   "source": [
    "# Extract metadata information from PubMed\n",
    "\n",
    "Utilize the [Bio.Entrez package](https://biopython.org/docs/latest/api/Bio.Entrez.html) to get metadata for PubMed articles.\n",
    "\n",
    "### Import packages"
   ]
  },
  {
   "cell_type": "code",
   "execution_count": null,
   "id": "89cf0dbb-2ee6-4a09-acf7-05ac2c374d72",
   "metadata": {},
   "outputs": [],
   "source": [
    "from collections import defaultdict\n",
    "\n",
    "import pandas as pd\n",
    "from rbc_gem_utils import (\n",
    "    GEM_NAME,\n",
    "    explode_column,\n",
    "    get_annotation_df,\n",
    "    get_dirpath,\n",
    "    read_cobra_model,\n",
    "    show_versions,\n",
    ")\n",
    "from rbc_gem_utils.database.pubmed import (\n",
    "    PUBMED_ERYTHROCYTE_KEYWORDS,\n",
    "    fetch_batch_results_PubMed,\n",
    "    get_mesh_terms,\n",
    "    get_value_PubMed,\n",
    "    search_erythrocyte_keywords_PubMed,\n",
    ")\n",
    "from rbc_gem_utils.util import build_string\n",
    "\n",
    "show_versions()"
   ]
  },
  {
   "cell_type": "markdown",
   "id": "d56578e8-e61a-4714-b06a-afc764de56e8",
   "metadata": {},
   "source": [
    "## Load RBC-GEM model"
   ]
  },
  {
   "cell_type": "code",
   "execution_count": null,
   "id": "61d7ff9d-b487-4e73-a557-f71628766930",
   "metadata": {},
   "outputs": [],
   "source": [
    "model_dirpath = get_dirpath(\"model\")\n",
    "model = read_cobra_model(filename=model_dirpath / f\"{GEM_NAME}.xml\")\n",
    "model"
   ]
  },
  {
   "cell_type": "markdown",
   "id": "4aa95c5b-c846-433d-afc3-e6a1002afa3a",
   "metadata": {},
   "source": [
    "## Download meta data from PubMed\n",
    "### Get IDs for query from model"
   ]
  },
  {
   "cell_type": "code",
   "execution_count": null,
   "id": "de94af2d-93ae-43d8-8e09-c53e9025e540",
   "metadata": {},
   "outputs": [],
   "source": [
    "model_pmids = set()\n",
    "model_dois = set()\n",
    "model_other = set()\n",
    "annotation_key = \"references\"\n",
    "\n",
    "for attribute_type in [\"reactions\", \"genes\", \"metabolites\"]:\n",
    "    df = get_annotation_df(getattr(model, attribute_type), annotation_key)\n",
    "    df = explode_column(df, annotation_key, sep=\";\").dropna().drop_duplicates()\n",
    "    references = df[\"references\"].unique()\n",
    "    pmids = {x.replace(\"pubmed:\", \"\") for x in references if x.startswith(\"pubmed\")}\n",
    "    dois = {x for x in references if x.startswith(\"doi\")}\n",
    "    other = {\n",
    "        x for x in references if not (x.startswith(\"pubmed\") or x.startswith(\"doi\"))\n",
    "    }\n",
    "    print(f\"From model {attribute_type}\\n\" + len(f\"From model {attribute_type}\") * \"-\")\n",
    "    print(f\"Number of PubMed IDs: {len(pmids)}\")\n",
    "    print(f\"Number of DOI links: {len(dois)}\")\n",
    "    print(f\"Number of other IDs: {len(other)}\")\n",
    "    print()\n",
    "    model_pmids.update(pmids)\n",
    "    model_dois.update(dois)\n",
    "    model_other.update(other)\n",
    "print(f\"Number of unique PubMed IDs from model in total: {len(model_pmids)}\")\n",
    "print(f\"Number of unique DOIs from model in total: {len(model_dois)}\")\n",
    "print(f\"Number of unique IDs, other sources, from model in total: {len(model_other)}\")"
   ]
  },
  {
   "cell_type": "markdown",
   "id": "965b62bf-a23e-4cb5-ba8b-388b93e0551c",
   "metadata": {},
   "source": [
    "### Get IDs for query from omic data"
   ]
  },
  {
   "cell_type": "code",
   "execution_count": null,
   "id": "1c19d389-be0d-4dae-b5c9-6189db3e43b3",
   "metadata": {},
   "outputs": [],
   "source": [
    "proteomic_pmids = set()"
   ]
  },
  {
   "cell_type": "code",
   "execution_count": null,
   "id": "5976b470-e5da-4b2c-ab3c-ae83d98eea06",
   "metadata": {},
   "outputs": [],
   "source": [
    "df_proteomic_evidence = pd.read_csv(\n",
    "    get_dirpath(\"proteomics\", use_temp=\"external\") / \"proteomic_evidence_table.tsv\",\n",
    "    sep=\"\\t\",\n",
    "    index_col=0,\n",
    ")\n",
    "proteomic_pmids = {\n",
    "    x.replace(\"pubmed:\", \"\") if x.startswith(\"pubmed\") else x\n",
    "    for x in set(df_proteomic_evidence.columns)\n",
    "}\n",
    "print(f\"Number of unique PubMed IDs from proteomics: {len(proteomic_pmids)}\")\n",
    "proteomic_pmids;"
   ]
  },
  {
   "cell_type": "markdown",
   "id": "3b8709b7-ba46-4eb2-aacb-23ceaf3aaaaa",
   "metadata": {},
   "source": [
    "#### Combine PubMed IDs from all sources for query"
   ]
  },
  {
   "cell_type": "code",
   "execution_count": null,
   "id": "01502991-3801-4ce6-8a97-aa2b222fd77a",
   "metadata": {},
   "outputs": [],
   "source": [
    "query_ids = set()\n",
    "print(f\"Number of unique PubMed IDs\\n===========================\")\n",
    "print(f\"Extracted from model: {len(model_pmids)}\")\n",
    "print(f\"Proteomic data: {len(proteomic_pmids)}\")\n",
    "\n",
    "for pmids in [model_pmids, proteomic_pmids]:\n",
    "    query_ids.update(pmids)\n",
    "query_ids = sorted(query_ids)\n",
    "\n",
    "print(f\"\\nTotal number of unique PubMed IDs (additional): {len(query_ids)}\")"
   ]
  },
  {
   "cell_type": "markdown",
   "id": "738fecb1-66ba-438d-b2df-c28c6483415a",
   "metadata": {},
   "source": [
    "### Get results from pubmed"
   ]
  },
  {
   "cell_type": "code",
   "execution_count": null,
   "id": "459db40b-1627-4ea7-8474-829f1b903a77",
   "metadata": {},
   "outputs": [],
   "source": [
    "only_major = True  # Refers to mesh headings\n",
    "overwrite = True\n",
    "\n",
    "# Make sure to use your email\n",
    "email = \"EMAILADDRESS\""
   ]
  },
  {
   "cell_type": "code",
   "execution_count": null,
   "id": "6c994c21-40bf-4060-874c-a37e70551f7c",
   "metadata": {},
   "outputs": [],
   "source": [
    "all_results, failed_ids = fetch_batch_results_PubMed(\n",
    "    email=email,\n",
    "    pubmed_ids=query_ids,\n",
    "    batch_size=500,\n",
    "    return_failed=True,\n",
    ")\n",
    "if failed_ids:\n",
    "    print(failed_ids)"
   ]
  },
  {
   "cell_type": "markdown",
   "id": "1d586ac3-c06a-481f-a0f0-0f955faa0e43",
   "metadata": {},
   "source": [
    "### Create DataFrame from results"
   ]
  },
  {
   "cell_type": "code",
   "execution_count": null,
   "id": "0a67a5a6-6da4-4496-9ab1-16ec88033dbb",
   "metadata": {},
   "outputs": [],
   "source": [
    "data = defaultdict(dict)\n",
    "for idx, result in enumerate(all_results):\n",
    "    medline_citation = result[\"MedlineCitation\"]\n",
    "\n",
    "    article = medline_citation[\"Article\"]\n",
    "    data[idx][\"#\"] = idx\n",
    "    data[idx][\"PubMed ID\"] = get_value_PubMed(medline_citation, \"PMID\")\n",
    "\n",
    "    data[idx][\"Article/Section Title\"] = get_value_PubMed(article, \"ArticleTitle\")\n",
    "    data[idx][\"Abstract\"] = get_value_PubMed(article, \"Abstract\", \"AbstractText\")\n",
    "    data[idx][\"Language\"] = get_value_PubMed(article, \"Language\", 0)\n",
    "    data[idx][\"Start Page\"] = get_value_PubMed(article, \"Pagination\", \"StartPage\")\n",
    "    data[idx][\"End Page\"] = get_value_PubMed(article, \"Pagination\", \"EndPage\")\n",
    "\n",
    "    journal = article[\"Journal\"]\n",
    "    data[idx][\"Journal\"] = get_value_PubMed(journal, \"Title\")\n",
    "\n",
    "    journal_issue = journal[\"JournalIssue\"]\n",
    "    data[idx][\"Volume\"] = get_value_PubMed(journal_issue, \"Volume\")\n",
    "    data[idx][\"Issue\"] = get_value_PubMed(journal_issue, \"Issue\")\n",
    "    data[idx][\"Year\"] = get_value_PubMed(journal_issue, \"PubDate\", \"Year\")\n",
    "    data[idx][\"Month\"] = get_value_PubMed(journal_issue, \"PubDate\", \"Month\")\n",
    "    data[idx][\"Day\"] = get_value_PubMed(journal_issue, \"PubDate\", \"Day\")\n",
    "\n",
    "    if medline_citation.get(\"MeshHeadingList\", []):\n",
    "        mesh_values = ([], [])\n",
    "        for mesh_heading in medline_citation[\"MeshHeadingList\"]:\n",
    "            mesh_values[0].extend(\n",
    "                get_mesh_terms(mesh_heading, only_major=False, use_ids=True)\n",
    "            )\n",
    "            mesh_values[1].extend(\n",
    "                get_mesh_terms(mesh_heading, only_major=False, use_ids=False)\n",
    "            )\n",
    "        data[idx][\"Mesh IDs\"] = build_string(mesh_values[0])\n",
    "        data[idx][\"Mesh terms\"] = build_string(mesh_values[1])\n",
    "\n",
    "    if medline_citation.get(\"KeywordList\", []):\n",
    "        data[idx][\"Keywords\"] = build_string(\n",
    "            [\n",
    "                str(keyword)\n",
    "                for keyword in medline_citation[\"KeywordList\"][0]\n",
    "                if (only_major and keyword.attributes.get(\"MajorTopicYN\") == \"Y\")\n",
    "                or not only_major\n",
    "            ]\n",
    "        )\n",
    "    # Author list\n",
    "    data[idx][\"Authors\"] = build_string(\n",
    "        [\n",
    "            f\"{author.get('LastName')} {author.get('Initials')}\"\n",
    "            for author in article[\"AuthorList\"]\n",
    "        ]\n",
    "    )\n",
    "\n",
    "    # DOI\n",
    "    value = article[\"ELocationID\"]\n",
    "    if value and value[0].attributes.get(\"EIdType\") == \"doi\":\n",
    "        data[idx][\"DOI\"] = str(value[0])\n",
    "\n",
    "    # Keep track of citation type\n",
    "    data[idx][\"Reference type\"] = \"Journal, Articles\"\n",
    "    data[idx][\"Editors\"] = \"\"\n",
    "    data[idx][\"Book\"] = \"\"\n",
    "    data[idx][\"Publisher\"] = \"\"\n",
    "    data[idx][\"IBSN\"] = \"\"\n",
    "\n",
    "df_pubmed = pd.DataFrame.from_dict(data, orient=\"index\", dtype=str).fillna(\"\")\n",
    "df_pubmed"
   ]
  },
  {
   "cell_type": "markdown",
   "id": "acda0a10-0b4d-4eeb-91b4-5e54b206582c",
   "metadata": {},
   "source": [
    "### Add additional references not found on PubMed\n",
    "* Some references do not have an associated PubMed ID, and require manual addition.\n",
    "* Some updates about erythrocyte specificity need to be made manually as they could not be detected automatically.\n",
    "* Updates to PubMed references that could not be automatically be found.\n",
    "* All manual additions should be formatted in the `additional_references.tsv` file to get added to the final reference table"
   ]
  },
  {
   "cell_type": "code",
   "execution_count": null,
   "id": "9b7467e7-18ed-492c-a0a2-0deec68e1e97",
   "metadata": {},
   "outputs": [],
   "source": [
    "df_additional = pd.read_csv(\n",
    "    get_dirpath(\"database\") / \"additional_references_manual.tsv\",\n",
    "    sep=\"\\t\",\n",
    "    index_col=0,\n",
    "    dtype=str,\n",
    ").fillna(\"\")\n",
    "assert len(df_additional) == len(model_dois) + len(model_other)\n",
    "df_erythrocyte = pd.concat((df_pubmed, df_additional))\n",
    "\n",
    "column_name = \"RBC Keywords\"\n",
    "rbc_specific_key = \"RBC Specific\"\n",
    "df_erythrocyte[column_name] = search_erythrocyte_keywords_PubMed(\n",
    "    df=df_erythrocyte,\n",
    "    text_columns=[\n",
    "        \"Article/Section Title\",\n",
    "        \"Abstract\",\n",
    "        \"Mesh terms\",\n",
    "        \"Keywords\",\n",
    "        \"Book\",\n",
    "    ],\n",
    "    search_keywords=PUBMED_ERYTHROCYTE_KEYWORDS,\n",
    "    column_name=column_name,\n",
    ")[column_name]\n",
    "df_erythrocyte[rbc_specific_key] = df_erythrocyte[column_name] != \"\"\n",
    "df_erythrocyte = df_erythrocyte.reset_index(drop=True)\n",
    "df_erythrocyte"
   ]
  },
  {
   "cell_type": "code",
   "execution_count": null,
   "id": "a67a0444-e5fe-45ff-af38-814a33b065b0",
   "metadata": {},
   "outputs": [],
   "source": [
    "model_dois"
   ]
  },
  {
   "cell_type": "code",
   "execution_count": null,
   "id": "3407b373-7370-45f3-b997-173f5c3753cb",
   "metadata": {},
   "outputs": [],
   "source": [
    "indicies = df_erythrocyte[\n",
    "    df_erythrocyte[\"PubMed ID\"].isin(\n",
    "        [\n",
    "            # Uses human erythrocytes\n",
    "            \"13416279\",\n",
    "            \"13654516\",\n",
    "            \"13563527\",\n",
    "            \"13654516\",\n",
    "            \"13800264\",\n",
    "            \"5643703\",\n",
    "            \"8043935\",\n",
    "            \"9328029\",\n",
    "            \"10477269\",\n",
    "            \"11428554\",\n",
    "            \"15987364\",\n",
    "        ]\n",
    "    )\n",
    "].index\n",
    "df_erythrocyte.loc[indicies, \"RBC Specific\"] = True\n",
    "df_erythrocyte"
   ]
  },
  {
   "cell_type": "code",
   "execution_count": null,
   "id": "33e63b7d-1f7c-4f03-9109-884f3eba104a",
   "metadata": {},
   "outputs": [],
   "source": [
    "rbc_count = df_erythrocyte[rbc_specific_key].sum()\n",
    "print(\n",
    "    f\"RBC specific: {rbc_count} / {len(df_erythrocyte)} ({round(rbc_count/len(df_erythrocyte), 5) * 100}%)\"\n",
    ")\n",
    "\n",
    "df_erythrocyte = df_erythrocyte.sort_values(\n",
    "    [rbc_specific_key, \"Year\", \"Month\", \"Day\"],\n",
    "    ascending=[False, True, True, True],\n",
    ").reset_index(drop=True)\n",
    "df_erythrocyte = df_erythrocyte.drop([\"#\"], axis=1)\n",
    "df_erythrocyte.index.name = \"#\"\n",
    "df_erythrocyte"
   ]
  },
  {
   "cell_type": "markdown",
   "id": "03040293-8090-431e-b616-92b370e928bb",
   "metadata": {},
   "source": [
    "### Export references"
   ]
  },
  {
   "cell_type": "code",
   "execution_count": null,
   "id": "5e7ff84a-39ce-4e32-ac19-29fc257cf3db",
   "metadata": {},
   "outputs": [],
   "source": [
    "if overwrite:\n",
    "    df_erythrocyte.to_csv(\n",
    "        get_dirpath(\"database\") / f\"{annotation_key}_{GEM_NAME}.tsv\", sep=\"\\t\"\n",
    "    )\n",
    "df_erythrocyte"
   ]
  },
  {
   "cell_type": "markdown",
   "id": "efbc4e68-ec53-4f3a-af0d-2bab7e8070d4",
   "metadata": {},
   "source": [
    "#### Visualize histogram of references"
   ]
  },
  {
   "cell_type": "code",
   "execution_count": null,
   "id": "691b3170-e0f7-4e68-ace9-9c92b4694f8b",
   "metadata": {},
   "outputs": [],
   "source": [
    "import matplotlib as mpl\n",
    "import matplotlib.pyplot as plt\n",
    "import numpy as np\n",
    "import seaborn as sns"
   ]
  },
  {
   "cell_type": "code",
   "execution_count": null,
   "id": "b9fa1e37-f804-4df3-bd71-b23a149dd7f5",
   "metadata": {},
   "outputs": [],
   "source": [
    "imagetype = \"svg\"\n",
    "transparent = False\n",
    "\n",
    "interval, shift = 4, 0  # years\n",
    "fix_range = True\n",
    "rbc_color = \"xkcd:red\"\n",
    "\n",
    "df_years = df_erythrocyte[\"Year\"].astype(int)\n",
    "year_bounds = (df_years.min(), df_years.max())\n",
    "year_bounds = (\n",
    "    df_erythrocyte[\"Year\"].astype(int).min(),\n",
    "    df_erythrocyte[\"Year\"].astype(int).max(),\n",
    ")\n",
    "print(f\"Year range:\\t {year_bounds}\")\n",
    "if fix_range:\n",
    "    year_bounds = (\n",
    "        np.floor_divide(year_bounds[0], interval) * interval + shift,\n",
    "        np.floor_divide(year_bounds[-1], interval) * interval + shift,\n",
    "    )\n",
    "    print(f\"Via intervals:\\t {year_bounds}\")\n",
    "\n",
    "# Plot histogram\n",
    "fig, ax = plt.subplots(1, 1, figsize=(5, 2.5))\n",
    "sns.despine(fig)\n",
    "# RBC specific\n",
    "years_rbc = df_erythrocyte[df_erythrocyte[rbc_specific_key]][\"Year\"].values.astype(int)\n",
    "\n",
    "# Not RBC specific\n",
    "years_other = df_erythrocyte[~df_erythrocyte[rbc_specific_key]][\"Year\"].values.astype(\n",
    "    int\n",
    ")\n",
    "nbins = int((year_bounds[-1] - year_bounds[0]) / interval)\n",
    "rects = ax.hist(\n",
    "    [years_rbc, years_other],\n",
    "    bins=nbins,\n",
    "    range=year_bounds,\n",
    "    stacked=True,\n",
    "    color=[rbc_color, \"xkcd:light gray\"],\n",
    "    edgecolor=\"black\",\n",
    ")\n",
    "\n",
    "xticks = np.linspace(year_bounds[0], year_bounds[1], int(nbins / 2) + 1)\n",
    "ax.set_xticks(\n",
    "    xticks,\n",
    "    labels=[str(int(x)) for x in xticks],\n",
    "    rotation=45,\n",
    "    ha=\"right\",\n",
    ")\n",
    "ax.yaxis.set_label_coords(0.05, 1.05)\n",
    "ax.legend(\n",
    "    handles=[mpl.patches.Patch(edgecolor=\"black\", facecolor=rbc_color)],\n",
    "    labels=[rbc_specific_key],\n",
    "    frameon=False,\n",
    "    handleheight=1,\n",
    "    handlelength=1,\n",
    "    fontsize=\"large\",\n",
    "    loc=\"upper left\",\n",
    ")\n",
    "ax.set_yticks([0, 50, 100], minor=False)\n",
    "ax.set_yticks([25, 75], minor=True)\n",
    "ax.xaxis.set_tick_params(labelsize=\"large\")\n",
    "ax.yaxis.set_tick_params(labelsize=\"large\")\n",
    "ax.set_xlabel(\"Year published\", fontdict={\"size\": \"x-large\"})\n",
    "ax.set_ylabel(\"Count\", fontdict={\"size\": \"x-large\"}, loc=\"top\", rotation=0)\n",
    "ax.set_title(\"Curated References\", fontdict={\"size\": \"x-large\"})\n",
    "fig.tight_layout()\n",
    "\n",
    "dirpath = get_dirpath(use_temp=\"processed\") / model.id\n",
    "dirpath.mkdir(exist_ok=True, parents=True)\n",
    "if overwrite:\n",
    "    fig.savefig(\n",
    "        dirpath / f\"{annotation_key}_Histogram.{imagetype}\",\n",
    "        transparent=transparent,\n",
    "    )\n",
    "fig;"
   ]
  },
  {
   "cell_type": "code",
   "execution_count": null,
   "id": "d3277099-fdfc-421d-9778-94eb95fc33d9",
   "metadata": {},
   "outputs": [],
   "source": []
  }
 ],
 "metadata": {
  "kernelspec": {
   "display_name": "Python 3 (ipykernel)",
   "language": "python",
   "name": "python3"
  },
  "language_info": {
   "codemirror_mode": {
    "name": "ipython",
    "version": 3
   },
   "file_extension": ".py",
   "mimetype": "text/x-python",
   "name": "python",
   "nbconvert_exporter": "python",
   "pygments_lexer": "ipython3"
  }
 },
 "nbformat": 4,
 "nbformat_minor": 5
}
