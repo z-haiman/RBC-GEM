{
 "cells": [
  {
   "cell_type": "markdown",
   "id": "2537d45b-6871-43b9-81f8-e3639df15ac5",
   "metadata": {},
   "source": [
    "# Prepare proteomic data - DeepRed\n",
    "## Setup\n",
    "### Import packages"
   ]
  },
  {
   "cell_type": "code",
   "execution_count": null,
   "id": "2255cec1-1c92-48cd-b35a-01065975dc9b",
   "metadata": {},
   "outputs": [],
   "source": [
    "from pathlib import Path\n",
    "\n",
    "import pandas as pd\n",
    "from rbc_gem_utils import COBRA_CONFIGURATION, ROOT_PATH, show_versions\n",
    "from rbc_gem_utils.util import AVOGADRO_NUMBER\n",
    "\n",
    "# Show versions of notebook\n",
    "show_versions()"
   ]
  },
  {
   "cell_type": "markdown",
   "id": "4d1f0e62-ca1f-4201-a29d-dc3221be59c1",
   "metadata": {},
   "source": [
    "### Define configuration\n",
    "#### COBRA Configuration"
   ]
  },
  {
   "cell_type": "code",
   "execution_count": null,
   "id": "4c9d9475-8441-4f92-b46e-6257c5a7d843",
   "metadata": {},
   "outputs": [],
   "source": [
    "COBRA_CONFIGURATION.solver = \"gurobi\"\n",
    "COBRA_CONFIGURATION.bounds = (-1e3, 1e3)\n",
    "COBRA_CONFIGURATION"
   ]
  },
  {
   "cell_type": "markdown",
   "id": "50dc6fa4-161e-4511-bf31-0b75d3b93dcb",
   "metadata": {},
   "source": [
    "## Load RBC Proteomics\n",
    "### Set paths"
   ]
  },
  {
   "cell_type": "code",
   "execution_count": null,
   "id": "b190e52c-6c91-497b-92f5-5df61e5fba68",
   "metadata": {},
   "outputs": [],
   "source": [
    "data_path = Path(ROOT_PATH, \"data\", \"analysis\", \"proteomics\").resolve()\n",
    "dataset_name = \"DeepRedOmics\"\n",
    "data_path"
   ]
  },
  {
   "cell_type": "markdown",
   "id": "b622d107-98ee-4830-b0b0-2d1b940fcbff",
   "metadata": {},
   "source": [
    "### Load protein data"
   ]
  },
  {
   "cell_type": "code",
   "execution_count": null,
   "id": "6d114818-45ff-467b-8cfd-b89ac9c37070",
   "metadata": {},
   "outputs": [],
   "source": [
    "df_protein_data = pd.read_csv(\n",
    "    data_path / dataset_name / f\"{dataset_name}_ProteinData.tsv\",\n",
    "    sep=\"\\t\",\n",
    "    index_col=None,\n",
    ")\n",
    "# Check to see if expected columns are included. If so, then order columns as listed.\n",
    "df_protein_data = df_protein_data.loc[\n",
    "    :,\n",
    "    [\n",
    "        \"Entry\",\n",
    "        \"Entry Name\",\n",
    "        \"Protein\",\n",
    "        \"Protein names\",\n",
    "        \"Gene Names (primary)\",\n",
    "        \"Length\",\n",
    "        \"Mass\",  # Should be in DA\n",
    "    ],\n",
    "]\n",
    "# Sort the data via alphabetical order of protein IDs for consistency\n",
    "df_protein_data = df_protein_data.sort_values(by=\"Entry\")\n",
    "\n",
    "df_protein_data.head()"
   ]
  },
  {
   "cell_type": "markdown",
   "id": "be71f4f3-156b-44cf-bfa8-46442cc8e431",
   "metadata": {},
   "source": [
    "### Set variables for columns keys and protein values type"
   ]
  },
  {
   "cell_type": "code",
   "execution_count": null,
   "id": "c38d08b8-d03e-4b39-99e5-0bc50e99287e",
   "metadata": {},
   "outputs": [],
   "source": [
    "protein_quantity_dtype = \"CopyNumbers\""
   ]
  },
  {
   "cell_type": "markdown",
   "id": "06ac809c-5107-4707-b0da-b5b5b8e4aae3",
   "metadata": {},
   "source": [
    "### Load proteomic data - copy numbers per cell"
   ]
  },
  {
   "cell_type": "code",
   "execution_count": null,
   "id": "20265813-ee5d-4eff-a64b-ffc7d0785729",
   "metadata": {},
   "outputs": [],
   "source": [
    "df_copy_numbers = pd.read_csv(\n",
    "    data_path / dataset_name / f\"{dataset_name}_{protein_quantity_dtype}Data.tsv\",\n",
    "    sep=\"\\t\",\n",
    "    index_col=None,\n",
    ")\n",
    "df_copy_numbers = df_copy_numbers.sort_index()\n",
    "# Transform data to expected format\n",
    "df_per_sample = df_copy_numbers.set_index(\"Entry\")[[\"Copy Numbers / Cell\"]].T\n",
    "df_per_sample.index = [dataset_name]\n",
    "df_per_sample.head()"
   ]
  },
  {
   "cell_type": "markdown",
   "id": "4300ea11-0dea-4d63-8cb0-9382ff826582",
   "metadata": {},
   "source": [
    "### Export absolute quantitative data"
   ]
  },
  {
   "cell_type": "code",
   "execution_count": null,
   "id": "1bd1f002-ee68-4b9f-b24a-43c6b8df2c2a",
   "metadata": {},
   "outputs": [],
   "source": [
    "df_per_sample.to_csv(\n",
    "    data_path / dataset_name / f\"{dataset_name}_CopyNumbers.tsv\", sep=\"\\t\", index=True\n",
    ")\n",
    "df_per_sample"
   ]
  },
  {
   "cell_type": "code",
   "execution_count": null,
   "id": "cff9475b-0352-463d-9e8b-6ddebad93044",
   "metadata": {},
   "outputs": [],
   "source": []
  }
 ],
 "metadata": {
  "kernelspec": {
   "display_name": "Python 3 (ipykernel)",
   "language": "python",
   "name": "python3"
  },
  "language_info": {
   "codemirror_mode": {
    "name": "ipython",
    "version": 3
   },
   "file_extension": ".py",
   "mimetype": "text/x-python",
   "name": "python",
   "nbconvert_exporter": "python",
   "pygments_lexer": "ipython3",
   "version": "3.11.7"
  }
 },
 "nbformat": 4,
 "nbformat_minor": 5
}
