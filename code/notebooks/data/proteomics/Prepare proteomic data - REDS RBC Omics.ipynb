{
 "cells": [
  {
   "cell_type": "markdown",
   "id": "2537d45b-6871-43b9-81f8-e3639df15ac5",
   "metadata": {},
   "source": [
    "# Prepare proteomic data - REDS RBC Omics\n",
    "1. Nemkov T, Stephenson D, Earley EJ, Keele GR, Hay A, Key A, Haiman ZB, Erickson C, Dzieciatkowska M, Reisz JA, Moore A, Stone M, Deng X, Kleinman S, Spitalnik SL, Hod EA, Hudson KE, Hansen KC, Palsson BO, Churchill GA, Roubinian N, Norris PJ, Busch MP, Zimring JC, Page GP, D'Alessandro A. Biological and genetic determinants of glycolysis: Phosphofructokinase isoforms boost energy status of stored red blood cells and transfusion outcomes. Cell Metab. 2024 Sep 3;36(9):1979-1997.e13. doi: 10.1016/j.cmet.2024.06.007. Epub 2024 Jul 3. PMID: 38964323; PMCID: PMC11374506.\n",
    "\n",
    "2. D'Alessandro A, Culp-Hill R, Reisz JA, Anderson M, Fu X, Nemkov T, Gehrke S, Zheng C, Kanias T, Guo Y, Page G, Gladwin MT, Kleinman S, Lanteri M, Stone M, Busch M, Zimring JC; Recipient Epidemiology and Donor Evaluation Study-III (REDS-III). Heterogeneity of blood processing and storage additives in different centers impacts stored red blood cell metabolism as much as storage time: lessons from REDS-III-Omics. Transfusion. 2019 Jan;59(1):89-100. doi: 10.1111/trf.14979. Epub 2018 Oct 24. PMID: 30353560; PMCID: PMC6322946.\n",
    "\n",
    "3. Josephson CD, Glynn S, Mathew S, Birch R, Bakkour S, Baumann Kreuziger L, Busch MP, Chapman K, Dinardo C, Hendrickson J, Hod EA, Kelly S, Luban N, Mast A, Norris P, Custer B, Sabino E, Sachais B, Spencer BR, Stone M, Kleinman S; National Heart, Lung, and Blood Institute (NHLBI) Recipient Epidemiology and Donor Evaluation Study-IV-Pediatric (REDS-IV-P). The Recipient Epidemiology and Donor Evaluation Study-IV-Pediatric (REDS-IV-P): A research program striving to improve blood donor safety and optimize transfusion outcomes across the lifespan. Transfusion. 2022 May;62(5):982-999. doi: 10.1111/trf.16869. Epub 2022 Apr 19. PMID: 35441384; PMCID: PMC9353062.\n",
    "\n",
    "## Setup\n",
    "### Import packages"
   ]
  },
  {
   "cell_type": "code",
   "execution_count": null,
   "id": "2255cec1-1c92-48cd-b35a-01065975dc9b",
   "metadata": {},
   "outputs": [],
   "source": [
    "from pathlib import Path\n",
    "\n",
    "import pandas as pd\n",
    "from rbc_gem_utils import (\n",
    "    COBRA_CONFIGURATION,\n",
    "    EXTERNAL_PATH,\n",
    "    ROOT_PATH,\n",
    "    get_annotation_df,\n",
    "    show_versions,\n",
    ")\n",
    "from rbc_gem_utils.util import AVOGADRO_NUMBER\n",
    "\n",
    "# Show versions of notebook\n",
    "show_versions()"
   ]
  },
  {
   "cell_type": "markdown",
   "id": "4d1f0e62-ca1f-4201-a29d-dc3221be59c1",
   "metadata": {},
   "source": [
    "### Define configuration\n",
    "#### COBRA Configuration"
   ]
  },
  {
   "cell_type": "code",
   "execution_count": null,
   "id": "4c9d9475-8441-4f92-b46e-6257c5a7d843",
   "metadata": {},
   "outputs": [],
   "source": [
    "COBRA_CONFIGURATION.solver = \"gurobi\"\n",
    "COBRA_CONFIGURATION.bounds = (-1e3, 1e3)\n",
    "COBRA_CONFIGURATION"
   ]
  },
  {
   "cell_type": "markdown",
   "id": "7cc4b793-86d1-4ecf-9e1a-9f91c54815c6",
   "metadata": {},
   "source": [
    "## Load RBC Proteomics\n",
    "### Set paths"
   ]
  },
  {
   "cell_type": "code",
   "execution_count": null,
   "id": "b190e52c-6c91-497b-92f5-5df61e5fba68",
   "metadata": {},
   "outputs": [],
   "source": [
    "dataset_name = \"REDS_RBCOmics\"\n",
    "proteomics_dirpath = (\n",
    "    ROOT_PATH / EXTERNAL_PATH / \"proteomics\" / \"datasets\" / \"HumanData\" / dataset_name\n",
    ").resolve()\n",
    "proteomics_dirpath.mkdir(exist_ok=True, parents=True)"
   ]
  },
  {
   "cell_type": "markdown",
   "id": "437a004c-c2a0-47f8-97c1-b507e3e3d176",
   "metadata": {},
   "source": [
    "### Load protein data"
   ]
  },
  {
   "cell_type": "code",
   "execution_count": null,
   "id": "787503ec-3da3-4dae-82c8-0b4ea76dee18",
   "metadata": {},
   "outputs": [],
   "source": [
    "df_protein_data = pd.read_csv(\n",
    "    proteomics_dirpath / f\"{dataset_name}_ProteinData.tsv\",\n",
    "    sep=\"\\t\",\n",
    "    index_col=None,\n",
    ")\n",
    "# Check to see if expected columns are included. If so, then order columns as listed.\n",
    "df_protein_data = df_protein_data.loc[\n",
    "    :,\n",
    "    [\n",
    "        \"Entry\",\n",
    "        \"Entry Name\",\n",
    "        \"Protein\",\n",
    "        \"Protein names\",\n",
    "        \"Gene Names (primary)\",\n",
    "        \"Length\",\n",
    "        \"Mass\",  # Should be in DA\n",
    "    ],\n",
    "]\n",
    "# Sort the data via alphabetical order of protein IDs for consistency\n",
    "df_protein_data = df_protein_data.sort_values(by=\"Entry\")\n",
    "\n",
    "df_protein_data.head()"
   ]
  },
  {
   "cell_type": "markdown",
   "id": "930f9aaf-d46c-4192-a3b4-97b3c08683bc",
   "metadata": {},
   "source": [
    "### Load proteomics\n",
    "#### Set variables for columns keys and protein values type"
   ]
  },
  {
   "cell_type": "code",
   "execution_count": null,
   "id": "7a609d61-7ff9-4096-937f-a252f2c5469c",
   "metadata": {},
   "outputs": [],
   "source": [
    "protein_values_dtype = \"Intensity\"\n",
    "sample_key = \"PUBLIC DONOR ID\"\n",
    "\n",
    "time_key = None\n",
    "time_abbrev = None\n",
    "time_ordered = None\n",
    "\n",
    "time_key = \"DAY\"\n",
    "time_abbrev = time_key[0]\n",
    "time_ordered = None"
   ]
  },
  {
   "cell_type": "markdown",
   "id": "4cd728b8-8a7a-4c2f-910f-0d80fc8f9dca",
   "metadata": {},
   "source": [
    "#### Load data and map to UniProt"
   ]
  },
  {
   "cell_type": "code",
   "execution_count": null,
   "id": "95d03f2e-8337-47d7-bd37-da1a12048889",
   "metadata": {},
   "outputs": [],
   "source": [
    "df_proteomics = pd.read_csv(\n",
    "    proteomics_dirpath / f\"{dataset_name}_{protein_values_dtype}Data.tsv\",\n",
    "    sep=\"\\t\",\n",
    "    index_col=None,\n",
    ")\n",
    "# Transform Protein IDs to UniProt IDs\n",
    "if any(df_proteomics.columns.isin(df_protein_data[\"Protein\"])):\n",
    "    df_proteomics = df_proteomics.rename(\n",
    "        df_protein_data.set_index(\"Protein\")[\"Entry\"].to_dict(), axis=1\n",
    "    )\n",
    "df_proteomics"
   ]
  },
  {
   "cell_type": "markdown",
   "id": "8e979435-c472-436e-a511-d83c8d142c25",
   "metadata": {},
   "source": [
    "#### Sort data by samples and time for consistency"
   ]
  },
  {
   "cell_type": "code",
   "execution_count": null,
   "id": "5a2d48d3-ed09-485c-bebd-ec45dacf2165",
   "metadata": {},
   "outputs": [],
   "source": [
    "if time_key:\n",
    "    index_keys = [sample_key, time_key]\n",
    "    time_points = df_proteomics[time_key].unique()\n",
    "else:\n",
    "    index_keys = [sample_key]\n",
    "    time_points = []\n",
    "df_proteomics = df_proteomics.set_index(index_keys)\n",
    "# Sort the column data via alphabetical order of protein IDs for consistency\n",
    "df_proteomics = df_proteomics.sort_index(axis=1).reset_index(drop=False)\n",
    "# Sort the rows by Sample IDs and time points\n",
    "if time_ordered:\n",
    "    # Map values to numbers before sorting\n",
    "    time_mapping = dict(zip(time_ordered, range(len(time_ordered))))\n",
    "    df_proteomics[time_key] = df_proteomics[time_key].apply(lambda x: time_mapping[x])\n",
    "    # Sort\n",
    "    df_proteomics = df_proteomics.sort_values(by=index_keys, axis=0)\n",
    "    # Revert numbers to values after sorting\n",
    "    time_mapping = {v: k for k, v in time_mapping.items()}\n",
    "    df_proteomics[time_key] = df_proteomics[time_key].apply(lambda x: time_mapping[x])\n",
    "else:\n",
    "    df_proteomics = df_proteomics.sort_values(by=index_keys, axis=0)\n",
    "\n",
    "print(f\"Number of time points per sample: {len(time_points)}\")\n",
    "df_proteomics.head()"
   ]
  },
  {
   "cell_type": "markdown",
   "id": "d63fec6f-5d4b-4165-a368-1dcb5d5ae527",
   "metadata": {},
   "source": [
    "## Transform intensities to copy numbers\n",
    "If copy numbers are provided, skip this section."
   ]
  },
  {
   "cell_type": "code",
   "execution_count": null,
   "id": "9d43525a-b6a7-4582-a7da-3109118a109c",
   "metadata": {},
   "outputs": [],
   "source": [
    "# Provide in picograms. Set as None to use metadata if provided\n",
    "mch_sample_value = None"
   ]
  },
  {
   "cell_type": "markdown",
   "id": "1f2a5b53-79c1-437b-8d4c-ce77570c000b",
   "metadata": {},
   "source": [
    "### Get MCH per sample\n",
    "#### Load metadata corresponding to samples (optional)"
   ]
  },
  {
   "cell_type": "code",
   "execution_count": null,
   "id": "38c1c5f7-77de-4f5d-974f-a0ca2c1f9b81",
   "metadata": {},
   "outputs": [],
   "source": [
    "try:\n",
    "    df_metadata = pd.read_csv(\n",
    "        proteomics_dirpath / f\"{dataset_name}_MetaData.tsv\",\n",
    "        sep=\"\\t\",\n",
    "        index_col=None,\n",
    "    )\n",
    "except FileNotFoundError:\n",
    "    df_metadata = pd.DataFrame()\n",
    "else:\n",
    "    # Ensure only metadata corresponds to the available omics data\n",
    "    if set(df_proteomics[sample_key].unique()) != set(df_metadata[sample_key].unique()):\n",
    "        df_metadata = df_metadata[\n",
    "            df_metadata[sample_key].isin(df_proteomics[sample_key])\n",
    "        ]\n",
    "\n",
    "df_metadata.head()"
   ]
  },
  {
   "cell_type": "markdown",
   "id": "f14abda2-bddd-4401-8915-dad21132918c",
   "metadata": {},
   "source": [
    "#### Get approximate dry weight for each donor"
   ]
  },
  {
   "cell_type": "code",
   "execution_count": null,
   "id": "1172b296-a9be-4629-bf8b-c46885469cfc",
   "metadata": {},
   "outputs": [],
   "source": [
    "# Provide in picograms. Set as None to use metadata if provided\n",
    "if not df_metadata.empty and mch_sample_value is None:\n",
    "    try:\n",
    "        MCH_per_sample = df_metadata.set_index(index_keys)\n",
    "    except KeyError:\n",
    "        MCH_per_sample = df_metadata.set_index(sample_key)\n",
    "\n",
    "    MCH_per_sample = MCH_per_sample[[\"CBC.HGB\", \"CBC.RBC\"]]\n",
    "    MCH_per_sample = pd.Series(\n",
    "        # Calculate MCH in pg using CBC.HGB and CBC.RBC measurements\n",
    "        MCH_per_sample[\"CBC.HGB\"] / MCH_per_sample[\"CBC.RBC\"] * 10,\n",
    "        name=\"MCH\",\n",
    "    )\n",
    "    n_missing = len(MCH_per_sample[MCH_per_sample.isna()])\n",
    "    print(\n",
    "        f\"Mean MCH in pg (n={len(MCH_per_sample) - n_missing}):\\t{MCH_per_sample.mean():.2f}\"\n",
    "    )\n",
    "    print(f\"Missing values:\\t\\t{n_missing}\")\n",
    "    MCH_per_sample = MCH_per_sample.fillna(MCH_per_sample.mean())\n",
    "\n",
    "elif mch_sample_value is not None:\n",
    "    MCH_per_sample = pd.Series(\n",
    "        [mch_sample_value] * len(df_proteomics[sample_key].unique()),\n",
    "        index=df_proteomics[sample_key].unique(),\n",
    "        name=\"MCH\",\n",
    "    )\n",
    "    MCH_per_sample.index.name = sample_key\n",
    "    print(f\"Mean MCH in pg:\\t{mch_sample_value:.2f}\")\n",
    "else:\n",
    "    raise ValueError(\n",
    "        \"Must provide metadata containing the \"\n",
    "        \"Mean Corpuscular Hemoglobin (MCH), or provide the value directly in picograms.\"\n",
    "    )\n",
    "\n",
    "\n",
    "# If time was not included in metadata, add as a part of index\n",
    "if time_key and time_key not in MCH_per_sample.index.names:\n",
    "    MCH_per_sample = (\n",
    "        pd.concat(\n",
    "            (\n",
    "                MCH_per_sample,\n",
    "                pd.Series(\n",
    "                    [time_points] * len(MCH_per_sample.index),\n",
    "                    index=MCH_per_sample.index,\n",
    "                    name=time_key,\n",
    "                ),\n",
    "            ),\n",
    "            axis=1,\n",
    "        )\n",
    "        .explode(time_key)\n",
    "        .reset_index(drop=False)\n",
    "    )\n",
    "    MCH_per_sample = MCH_per_sample.set_index(index_keys).squeeze()\n",
    "MCH_per_sample.head()"
   ]
  },
  {
   "cell_type": "markdown",
   "id": "d9f195fe-5205-48e6-b692-fb0c7f3a420a",
   "metadata": {},
   "source": [
    "#### Transform intensities to copy numbers and expected format"
   ]
  },
  {
   "cell_type": "code",
   "execution_count": null,
   "id": "3598cbb8-c8f5-416e-bc2a-07cb21be0ec9",
   "metadata": {},
   "outputs": [],
   "source": [
    "# Convert Da to kDa\n",
    "df_uniprot_to_mw = df_protein_data.set_index(\"Entry\")[\"Mass\"] / 1000\n",
    "\n",
    "df_concentrations = df_proteomics.set_index(index_keys)\n",
    "# Sum intensities and convert to pmol / mgDW sample\n",
    "df_concentrations = (\n",
    "    df_concentrations.apply(lambda x: x / x.sum(), axis=1) / df_uniprot_to_mw\n",
    ")\n",
    "# pmol / mgDW sample --> nmol / gDW sample\n",
    "df_concentrations = df_concentrations * 1e6\n",
    "# # Conversion to copy numbers\n",
    "# df_copy_numbers = (df_concentrations * 1e-9).mul(MCH_per_sample * 1e-12, axis=0) * AVOGADRO_NUMBER\n",
    "# df_copy_numbers\n",
    "df_concentrations[df_concentrations.index.duplicated()]"
   ]
  },
  {
   "cell_type": "markdown",
   "id": "38a48d59-829a-4340-b5fd-04a51df6ad55",
   "metadata": {},
   "source": [
    "### Export absolute quantitative data per sample"
   ]
  },
  {
   "cell_type": "code",
   "execution_count": null,
   "id": "b2222cdc-6342-4f00-b9a6-0bb998135933",
   "metadata": {},
   "outputs": [],
   "source": [
    "for data_type, df in zip(\n",
    "    [\"Concentrations\", \"CopyNumbers\"], [df_concentrations, df_copy_numbers]\n",
    "):\n",
    "    df = df.sort_index(level=0, sort_remaining=False)\n",
    "    df.index = [f\"{ind[0]}_{time_abbrev}{ind[1]}\" for ind in df.index]\n",
    "    df.to_csv(\n",
    "        proteomics_dirpath / f\"{dataset_name}_{data_type}.tsv\", sep=\"\\t\", index=True\n",
    "    )\n",
    "    print(f\"Saved data for {data_type}\")"
   ]
  }
 ],
 "metadata": {
  "kernelspec": {
   "display_name": "Python 3 (ipykernel)",
   "language": "python",
   "name": "python3"
  },
  "language_info": {
   "codemirror_mode": {
    "name": "ipython",
    "version": 3
   },
   "file_extension": ".py",
   "mimetype": "text/x-python",
   "name": "python",
   "nbconvert_exporter": "python",
   "pygments_lexer": "ipython3",
   "version": "3.11.7"
  }
 },
 "nbformat": 4,
 "nbformat_minor": 5
}
