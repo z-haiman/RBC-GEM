{
 "cells": [
  {
   "cell_type": "markdown",
   "id": "2537d45b-6871-43b9-81f8-e3639df15ac5",
   "metadata": {},
   "source": [
    "# Prepare Proteomic Data - Copy Numbers, DeepRed\n",
    "## Setup\n",
    "### Import packages"
   ]
  },
  {
   "cell_type": "code",
   "execution_count": null,
   "id": "2255cec1-1c92-48cd-b35a-01065975dc9b",
   "metadata": {},
   "outputs": [],
   "source": [
    "import pandas as pd\n",
    "from rbc_gem_utils import get_dirpath, show_versions\n",
    "\n",
    "# Show versions of notebook\n",
    "show_versions()"
   ]
  },
  {
   "cell_type": "markdown",
   "id": "50dc6fa4-161e-4511-bf31-0b75d3b93dcb",
   "metadata": {},
   "source": [
    "## Set organism, dataset, and paths"
   ]
  },
  {
   "cell_type": "code",
   "execution_count": null,
   "id": "b190e52c-6c91-497b-92f5-5df61e5fba68",
   "metadata": {},
   "outputs": [],
   "source": [
    "organism = \"Human\"\n",
    "dataset_name = \"DeepRed\"\n",
    "raw_data_dirpath = get_dirpath(use_temp=\"raw\") / organism / dataset_name\n",
    "\n",
    "# Ensure directory exists\n",
    "processed_data_dirpath = get_dirpath(use_temp=\"processed\") / organism / dataset_name\n",
    "processed_data_dirpath.mkdir(exist_ok=True, parents=True)"
   ]
  },
  {
   "cell_type": "markdown",
   "id": "1f11237a-023b-43cf-a617-38ab34c1293f",
   "metadata": {},
   "source": [
    "## Set data value type and variables for columns keys "
   ]
  },
  {
   "cell_type": "code",
   "execution_count": null,
   "id": "ebc3dbf2-a42c-4067-81d0-98aa933d27ad",
   "metadata": {},
   "outputs": [],
   "source": [
    "protein_values_dtype = \"CopyNumbers\"\n",
    "sample_key = \"SAMPLE ID\""
   ]
  },
  {
   "cell_type": "markdown",
   "id": "b622d107-98ee-4830-b0b0-2d1b940fcbff",
   "metadata": {},
   "source": [
    "### Load protein data"
   ]
  },
  {
   "cell_type": "code",
   "execution_count": null,
   "id": "6d114818-45ff-467b-8cfd-b89ac9c37070",
   "metadata": {},
   "outputs": [],
   "source": [
    "df_protein_data = pd.read_csv(\n",
    "    raw_data_dirpath / \"ProteinData.csv\",\n",
    "    index_col=None,\n",
    ")\n",
    "# Check to see if expected columns are included. If so, then order columns as listed.\n",
    "# Comes directly from UniProt if possible\n",
    "df_protein_data = df_protein_data.loc[\n",
    "    :,\n",
    "    [\n",
    "        \"Entry\",\n",
    "        \"Entry Name\",\n",
    "        \"Protein\",\n",
    "        \"Protein Names\",\n",
    "        \"Gene Names (Primary)\",\n",
    "        \"Length\",\n",
    "        \"Mass\",  # Should be in DA\n",
    "    ],\n",
    "]\n",
    "# Sort the data via alphabetical order of protein IDs for consistency\n",
    "df_protein_data = df_protein_data.set_index(\"Entry\").sort_index()\n",
    "df_protein_data.head()"
   ]
  },
  {
   "cell_type": "markdown",
   "id": "62c0f34f-8f69-4a3e-8fd1-a29bfffb357f",
   "metadata": {},
   "source": [
    "#### Load proteomics and map to UniProt if necessary"
   ]
  },
  {
   "cell_type": "code",
   "execution_count": null,
   "id": "fbb97c5b-2e30-4164-be03-ec42977fd299",
   "metadata": {},
   "outputs": [],
   "source": [
    "df_proteomics = pd.read_csv(\n",
    "    raw_data_dirpath / f\"Protein{protein_values_dtype}.csv\",\n",
    "    index_col=None,\n",
    ")\n",
    "original_ids_type = \"uniprot\"\n",
    "\n",
    "# Transform Protein IDs to UniProt IDs\n",
    "if original_ids_type != \"uniprot\" and any(\n",
    "    df_proteomics.columns.isin(df_protein_data[original_ids_type])\n",
    "):\n",
    "    mapping_dict = df_protein_data.reset_index(drop=False)\n",
    "    mapping_dict = mapping_dict.set_index(original_ids_type)[df_protein_data.index.name]\n",
    "    mapping_dict = mapping_dict.to_dict()\n",
    "    df_proteomics = df_proteomics.rename(mapping_dict, axis=1)\n",
    "\n",
    "# For one sample, set using datapoint\n",
    "df_proteomics_final = df_proteomics.set_index(sample_key)\n",
    "# Sort for consistency\n",
    "df_proteomics_final = df_proteomics_final.sort_index(axis=0)[df_protein_data.index]\n",
    "print(f\"Number of actual samples: {len(df_proteomics_final)}\")\n",
    "df_proteomics_final"
   ]
  },
  {
   "cell_type": "markdown",
   "id": "4300ea11-0dea-4d63-8cb0-9382ff826582",
   "metadata": {},
   "source": [
    "## Export absolute quantitative data per sample"
   ]
  },
  {
   "cell_type": "code",
   "execution_count": null,
   "id": "1bd1f002-ee68-4b9f-b24a-43c6b8df2c2a",
   "metadata": {},
   "outputs": [],
   "source": [
    "dataframes_dict = {\n",
    "    \"ProteinData\": df_protein_data,\n",
    "    \"ProteinCopyNumbers\": df_proteomics_final,\n",
    "}\n",
    "for data_type, df in dataframes_dict.items():\n",
    "    # df.to_csv(\n",
    "    #     processed_data_dirpath / f\"{data_type}.tsv\", sep=\"\\t\", index=True\n",
    "    # )\n",
    "    df.to_csv(processed_data_dirpath / f\"{data_type}.csv\", index=True)\n",
    "    print(f\"Saved data for {data_type}\")"
   ]
  }
 ],
 "metadata": {
  "kernelspec": {
   "display_name": "Python 3 (ipykernel)",
   "language": "python",
   "name": "python3"
  },
  "language_info": {
   "codemirror_mode": {
    "name": "ipython",
    "version": 3
   },
   "file_extension": ".py",
   "mimetype": "text/x-python",
   "name": "python",
   "nbconvert_exporter": "python",
   "pygments_lexer": "ipython3"
  }
 },
 "nbformat": 4,
 "nbformat_minor": 5
}
