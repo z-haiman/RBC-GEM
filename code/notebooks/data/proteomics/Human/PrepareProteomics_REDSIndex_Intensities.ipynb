{
 "cells": [
  {
   "cell_type": "markdown",
   "id": "5f788b3e-44bb-4bf8-9713-83df8ca1b901",
   "metadata": {},
   "source": [
    "# Prepare Proteomic Data - Intensities, REDS Index\n",
    "\n",
    "1. Nemkov T, Stephenson D, Earley EJ, Keele GR, Hay A, Key A, Haiman ZB, Erickson C, Dzieciatkowska M, Reisz JA, Moore A, Stone M, Deng X, Kleinman S, Spitalnik SL, Hod EA, Hudson KE, Hansen KC, Palsson BO, Churchill GA, Roubinian N, Norris PJ, Busch MP, Zimring JC, Page GP, D'Alessandro A. Biological and genetic determinants of glycolysis: Phosphofructokinase isoforms boost energy status of stored red blood cells and transfusion outcomes. Cell Metab. 2024 Sep 3;36(9):1979-1997.e13. doi: 10.1016/j.cmet.2024.06.007. Epub 2024 Jul 3. PMID: 38964323; PMCID: PMC11374506.\n",
    "\n",
    "2. D'Alessandro A, Culp-Hill R, Reisz JA, Anderson M, Fu X, Nemkov T, Gehrke S, Zheng C, Kanias T, Guo Y, Page G, Gladwin MT, Kleinman S, Lanteri M, Stone M, Busch M, Zimring JC; Recipient Epidemiology and Donor Evaluation Study-III (REDS-III). Heterogeneity of blood processing and storage additives in different centers impacts stored red blood cell metabolism as much as storage time: lessons from REDS-III-Omics. Transfusion. 2019 Jan;59(1):89-100. doi: 10.1111/trf.14979. Epub 2018 Oct 24. PMID: 30353560; PMCID: PMC6322946.\n",
    "\n",
    "3. Josephson CD, Glynn S, Mathew S, Birch R, Bakkour S, Baumann Kreuziger L, Busch MP, Chapman K, Dinardo C, Hendrickson J, Hod EA, Kelly S, Luban N, Mast A, Norris P, Custer B, Sabino E, Sachais B, Spencer BR, Stone M, Kleinman S; National Heart, Lung, and Blood Institute (NHLBI) Recipient Epidemiology and Donor Evaluation Study-IV-Pediatric (REDS-IV-P). The Recipient Epidemiology and Donor Evaluation Study-IV-Pediatric (REDS-IV-P): A research program striving to improve blood donor safety and optimize transfusion outcomes across the lifespan. Transfusion. 2022 May;62(5):982-999. doi: 10.1111/trf.16869. Epub 2022 Apr 19. PMID: 35441384; PMCID: PMC9353062.\n",
    "\n",
    "## Setup\n",
    "### Import packages"
   ]
  },
  {
   "cell_type": "code",
   "execution_count": null,
   "id": "cfd695e7-441c-4b6d-8ca9-d9aa6efbca24",
   "metadata": {},
   "outputs": [],
   "source": [
    "import pandas as pd\n",
    "from rbc_gem_utils import get_dirpath, show_versions\n",
    "from rbc_gem_utils.util import AVOGADRO_NUMBER, ensure_iterable\n",
    "\n",
    "# Show versions of notebook\n",
    "show_versions()"
   ]
  },
  {
   "cell_type": "markdown",
   "id": "986ed6ea-90ce-46eb-b74f-b4772a61a0be",
   "metadata": {},
   "source": [
    "## Set organism, dataset, and paths"
   ]
  },
  {
   "cell_type": "code",
   "execution_count": null,
   "id": "27475040-ea64-48c3-b938-fcd3b516cdac",
   "metadata": {},
   "outputs": [],
   "source": [
    "organism = \"Human\"\n",
    "dataset_name = \"REDSIndex\"\n",
    "raw_data_dirpath = get_dirpath(use_temp=\"raw\") / organism / dataset_name\n",
    "\n",
    "# Ensure directory exists\n",
    "processed_data_dirpath = get_dirpath(use_temp=\"processed\") / organism / dataset_name\n",
    "processed_data_dirpath.mkdir(exist_ok=True, parents=True)"
   ]
  },
  {
   "cell_type": "markdown",
   "id": "a5a2a377-e27e-48a0-9502-1009012504ef",
   "metadata": {},
   "source": [
    "## Set data value type and variables for columns keys "
   ]
  },
  {
   "cell_type": "code",
   "execution_count": null,
   "id": "8793fa52-7494-41b9-93d4-28ccc3221d91",
   "metadata": {},
   "outputs": [],
   "source": [
    "protein_values_dtype = \"Intensities\"\n",
    "sample_key = \"SAMPLE ID\"\n",
    "donor_key = \"PUBLIC INDEX DONOR ID\""
   ]
  },
  {
   "cell_type": "markdown",
   "id": "46669799-289a-4027-aecc-178d2d10ccd9",
   "metadata": {},
   "source": [
    "## Load RBC Proteomics\n",
    "### Load protein data"
   ]
  },
  {
   "cell_type": "code",
   "execution_count": null,
   "id": "52ec2c7b-1628-40d3-bee5-ff295eaf61f9",
   "metadata": {},
   "outputs": [],
   "source": [
    "df_protein_data = pd.read_csv(\n",
    "    raw_data_dirpath / \"ProteinData.csv\",\n",
    "    index_col=None,\n",
    ").convert_dtypes()\n",
    "# Check to see if expected columns are included. If so, then order columns as listed.\n",
    "# Comes directly from UniProt if possible\n",
    "df_protein_data = df_protein_data.loc[\n",
    "    :,\n",
    "    [\n",
    "        \"Entry\",\n",
    "        \"Entry Name\",\n",
    "        \"Protein\",\n",
    "        \"Protein Names\",\n",
    "        \"Gene Names (Primary)\",\n",
    "        \"Length\",\n",
    "        \"Mass\",  # Should be in DA\n",
    "    ],\n",
    "]\n",
    "# Sort the data via alphabetical order of protein IDs for consistency\n",
    "df_protein_data = df_protein_data.set_index(\"Entry\").sort_index()\n",
    "df_protein_data.head()"
   ]
  },
  {
   "cell_type": "markdown",
   "id": "83b1a556-90cc-429e-b920-06aa96bc6db4",
   "metadata": {},
   "source": [
    "#### Load proteomics and map to UniProt if necessary"
   ]
  },
  {
   "cell_type": "code",
   "execution_count": null,
   "id": "ce8cc862-6bca-4640-b274-265e1d44da46",
   "metadata": {},
   "outputs": [],
   "source": [
    "df_proteomics = pd.read_csv(\n",
    "    raw_data_dirpath / f\"Protein{protein_values_dtype}.csv\",\n",
    "    index_col=None,\n",
    ").convert_dtypes()\n",
    "original_ids_type = \"uniprot\"\n",
    "\n",
    "df_proteomics = df_proteomics.set_index(donor_key)\n",
    "df_proteomics.index.name = sample_key\n",
    "# Transform Protein IDs to UniProt IDs\n",
    "if original_ids_type != \"uniprot\" and any(\n",
    "    df_proteomics.columns.isin(df_protein_data[original_ids_type])\n",
    "):\n",
    "    mapping_dict = df_protein_data.reset_index(drop=False)\n",
    "    mapping_dict = mapping_dict.set_index(original_ids_type)[df_protein_data.index.name]\n",
    "    mapping_dict = mapping_dict.to_dict()\n",
    "    df_proteomics = df_proteomics.rename(mapping_dict, axis=1)\n",
    "\n",
    "# # Sort for consistency\n",
    "# df_proteomics = df_proteomics.sort_index(axis=0)[\n",
    "#     [donor_key, time_key] + list(df_protein_data.index)\n",
    "# ]\n",
    "donor_ids = df_proteomics.index.unique()\n",
    "print(f\"Number of donors: {len(donor_ids)}\")\n",
    "print(\n",
    "    f\"Number of duplicated IDs: {len(df_proteomics[df_proteomics.index.duplicated()])}\"\n",
    ")\n",
    "df_proteomics"
   ]
  },
  {
   "cell_type": "markdown",
   "id": "7d3cd8fe-047b-4fb9-bb65-389d4929ae4a",
   "metadata": {},
   "source": [
    "### Load metadata corresponding to samples (optional)\n",
    "#### Genotype data"
   ]
  },
  {
   "cell_type": "code",
   "execution_count": null,
   "id": "b9833122-56ff-437c-b864-150a61d6788f",
   "metadata": {},
   "outputs": [],
   "source": [
    "try:\n",
    "    df_genotypes = pd.read_csv(\n",
    "        raw_data_dirpath / \"Genotypes.csv\",\n",
    "        index_col=[donor_key],\n",
    "    ).convert_dtypes()\n",
    "except FileNotFoundError:\n",
    "    df_genotypes = pd.DataFrame([])\n",
    "else:\n",
    "    df_genotypes.index.name = sample_key\n",
    "for col, series in df_genotypes.items():\n",
    "    counts = series.value_counts().sort_index()\n",
    "    print(col)\n",
    "    if len(counts) == 1:\n",
    "        df_genotypes = df_genotypes.drop(col, axis=1)\n",
    "    for k, v in counts.items():\n",
    "        print(f\"{k}: {v}\")\n",
    "    print()\n",
    "df_genotypes = df_genotypes.replace(-1, pd.NA)\n",
    "df_genotypes"
   ]
  },
  {
   "cell_type": "markdown",
   "id": "99a9b9d6-08ce-4c60-b65a-87cf5ffad108",
   "metadata": {},
   "source": [
    "#### Phenotype data"
   ]
  },
  {
   "cell_type": "code",
   "execution_count": null,
   "id": "73a6dc5c-9f38-46e0-b360-35f8bc17fb53",
   "metadata": {},
   "outputs": [],
   "source": [
    "try:\n",
    "    df_phenotypes = pd.read_csv(\n",
    "        raw_data_dirpath / \"Phenotypes.csv\",\n",
    "        index_col=[donor_key],\n",
    "    ).convert_dtypes()\n",
    "except FileNotFoundError:\n",
    "    df_phenotypes = pd.DataFrame([])\n",
    "else:\n",
    "    df_phenotypes.index.name = sample_key\n",
    "df_phenotypes"
   ]
  },
  {
   "cell_type": "markdown",
   "id": "ea20e03c-ff78-465b-a652-d76462fb5047",
   "metadata": {},
   "source": [
    "##### Cut phenotype data into ranges if desired"
   ]
  },
  {
   "cell_type": "code",
   "execution_count": null,
   "id": "fc80bd7e-9817-41ba-8946-55028917294c",
   "metadata": {},
   "outputs": [],
   "source": [
    "# cuts = {\n",
    "#     \"BMI\": [0, 25, 30, 40, 60],\n",
    "#     \"Age\": [0, 20, 40, 60, 80, 100],\n",
    "# }\n",
    "# if not df_phenotypes.empty:\n",
    "#     for col, bins in cuts.items():\n",
    "#         labels = []\n",
    "#         for idx in range(1, len(bins)):\n",
    "#             if idx == 1 or idx == len(bins) - 1:\n",
    "#                 labels += [f\"lt{bins[idx]:d}\"]\n",
    "#             elif idx:\n",
    "#                 labels += [f\"gt{bins[idx - 1]:d}\"]\n",
    "#             else:\n",
    "#                 labels += [f\"{bins[idx - 1]:d}to{bins[idx]:d}\"]\n",
    "#         df_phenotypes[f\"{col}_Range\"] = pd.cut(\n",
    "#             df_phenotypes[col], bins=bins, labels=labels, right=False\n",
    "#         )\n",
    "# df_phenotypes"
   ]
  },
  {
   "cell_type": "markdown",
   "id": "0cae62f2-96e4-4ce2-9e6b-502f75b2c7ed",
   "metadata": {},
   "source": [
    "#### Combine into one DataFrame for MetaData"
   ]
  },
  {
   "cell_type": "code",
   "execution_count": null,
   "id": "8c4bfdcc-2260-4901-9e32-8c72b997bda3",
   "metadata": {},
   "outputs": [],
   "source": [
    "print(f\"Proteomics: {df_proteomics.index.nunique()} donors\")\n",
    "print(\n",
    "    f\"  Genomics: {df_genotypes.dropna(how='all', axis=0).index.nunique() if not df_genotypes.empty else 0} donors\"\n",
    ")\n",
    "print(\n",
    "    f\"Phenotypes: {df_phenotypes.dropna(how='all', axis=0).index.nunique() if not df_phenotypes.empty else 0} donors\"\n",
    ")\n",
    "\n",
    "\n",
    "df_metadata = pd.concat((df_genotypes, df_phenotypes), axis=1).convert_dtypes()\n",
    "\n",
    "if not df_metadata.empty:\n",
    "    if not df_metadata.index.isin(df_proteomics.index).all():\n",
    "        df_metadata = df_metadata[df_metadata.index.isin(df_proteomics.index)]\n",
    "\n",
    "    print(f\"\\nFinal data: {df_metadata.index.nunique()} donors\")\n",
    "\n",
    "df_metadata.head()"
   ]
  },
  {
   "cell_type": "markdown",
   "id": "b9c1b77c-ad7e-4981-9b3d-0b1443fcf10f",
   "metadata": {},
   "source": [
    "### Get MCH per sample"
   ]
  },
  {
   "cell_type": "code",
   "execution_count": null,
   "id": "b6c4dd20-c0df-45b6-ba41-bfbc69c983af",
   "metadata": {},
   "outputs": [],
   "source": [
    "# Provide in picograms. Set as None to use metadata if provided\n",
    "mch_sample_value = None\n",
    "if mch_sample_value is None:\n",
    "    try:\n",
    "        df_MCH_per_sample = pd.read_csv(\n",
    "            raw_data_dirpath / \"Phenotypes.csv\",\n",
    "            index_col=[donor_key],\n",
    "        )\n",
    "\n",
    "    except FileNotFoundError:\n",
    "        raise ValueError(\n",
    "            \"Cannot determine MCH. No phenotype data provided and a default value is not provided\"\n",
    "        )\n",
    "    else:\n",
    "        df_MCH_per_sample.index.name = sample_key\n",
    "\n",
    "    # Ensure only metadata corresponds to the available omics data\n",
    "    if not df_MCH_per_sample.index.isin(df_proteomics.index).all():\n",
    "        df_MCH_per_sample = df_MCH_per_sample[\n",
    "            df_MCH_per_sample.index.isin(df_proteomics.index)\n",
    "        ]\n",
    "\n",
    "    if \"CBC.MCH\" not in df_MCH_per_sample.columns:\n",
    "        if all([x in df_MCH_per_sample.columns for x in [\"CBC.HGB\", \"CBC.RBC\"]]):\n",
    "            df_MCH_per_sample[\"CBC.MCH\"] = (\n",
    "                df_MCH_per_sample[\"CBC.HGB\"] / df_MCH_per_sample[\"CBC.RBC\"]\n",
    "            ) * 10\n",
    "        elif all([x in df_MCH_per_sample.columns for x in [\"CBC.MCHC\", \"CBC.MCV\"]]):\n",
    "            df_MCH_per_sample[\"CBC.MCH\"] = (\n",
    "                df_MCH_per_sample[\"CBC.MCHC\"] * df_MCH_per_sample[\"CBC.MCV\"]\n",
    "            ) / 100\n",
    "        else:\n",
    "            raise ValueError(\n",
    "                \"Cannot determine MCH, one of the following combinations is needed: (CBC.HGB and CBC.RBC) or (CBC.MCHC and CBC.MCV)\"\n",
    "            )\n",
    "    df_MCH_per_sample = df_MCH_per_sample[\"CBC.MCH\"]\n",
    "    n_missing = len(df_MCH_per_sample[df_MCH_per_sample.isna()])\n",
    "    print(f\"Missing values for {n_missing} samples.\")\n",
    "    print(f\"Mean MCH in pg: {df_MCH_per_sample.mean():.2f}\")\n",
    "    df_MCH_per_sample = df_MCH_per_sample.fillna(df_MCH_per_sample.mean())\n",
    "else:\n",
    "    print(\"Using default MCH value provided for all samples\")\n",
    "    df_MCH_per_sample = pd.Series(\n",
    "        [mch_sample_value] * df_proteomics.index.nunique(),\n",
    "        index=pd.Index(df_proteomics.index.unique(), name=sample_key),\n",
    "        name=\"CBC.MCH\",\n",
    "    )\n",
    "    print(f\"Mean MCH in pg: {mch_sample_value:.2f}\")\n",
    "\n",
    "df_MCH_per_sample.head()"
   ]
  },
  {
   "cell_type": "markdown",
   "id": "9cbe2053-f575-40cd-a0b1-0c60f67de80d",
   "metadata": {},
   "source": [
    "### Remove duplicated IDs in samples"
   ]
  },
  {
   "cell_type": "code",
   "execution_count": null,
   "id": "8de12a98-5857-42e7-9f0a-3172324a4c3e",
   "metadata": {},
   "outputs": [],
   "source": [
    "df_proteomics = df_proteomics[~df_proteomics.index.duplicated(keep=False)]\n",
    "df_MCH_per_sample = df_MCH_per_sample.loc[df_proteomics.index]\n",
    "sample_ids = list(df_proteomics.index)\n",
    "df_proteomics"
   ]
  },
  {
   "cell_type": "markdown",
   "id": "b6ca68ed-f645-43bd-bd0d-2ca3a5d0f6c2",
   "metadata": {},
   "source": [
    "### Get data subsets using operations"
   ]
  },
  {
   "cell_type": "code",
   "execution_count": null,
   "id": "4d0f7168-a424-4228-a9b2-32ba51fadc73",
   "metadata": {},
   "outputs": [],
   "source": [
    "operations = [\n",
    "    \"mean\",\n",
    "    \"median\",\n",
    "]\n",
    "operation_dfs_proteomics = []\n",
    "operation_dfs_MCH = []\n",
    "fill_keys = set()\n",
    "\n",
    "\n",
    "def group_data(df, operation, keys, columns, prefix_values=None, name_col=None):\n",
    "    keys = ensure_iterable(keys)\n",
    "    if not prefix_values:\n",
    "        prefix_values = [\"\"] * len(keys)\n",
    "    if isinstance(prefix_values, dict):\n",
    "        prefix_values = {k: prefix_values.get(k, \"\") for k in keys}\n",
    "    else:\n",
    "        prefix_values = dict(zip(keys, prefix_values))\n",
    "\n",
    "    df = df.groupby(keys, as_index=False, observed=False)[columns]\n",
    "    df = getattr(df, operation.lower())()\n",
    "    labels = df[keys].apply(\n",
    "        lambda x: \"_\".join([f\"{prefix_values[key]}{x[key]}\" for key in keys]),\n",
    "        axis=1,\n",
    "    )\n",
    "    df[name_col] = [f\"{operation.capitalize()}_{value}\" for value in labels]\n",
    "    return df"
   ]
  },
  {
   "cell_type": "markdown",
   "id": "25357b58-62ab-432d-80b1-d04413d7e105",
   "metadata": {},
   "source": [
    "#### Group by all donors"
   ]
  },
  {
   "cell_type": "code",
   "execution_count": null,
   "id": "b4ad21fe-9187-41d2-a84f-a5ca89e4a5f6",
   "metadata": {},
   "outputs": [],
   "source": [
    "# for operation in operations:\n",
    "#     df = getattr(df_proteomics, operation.lower())()\n",
    "#     df = pd.DataFrame(df.values, columns=[f\"{operation.capitalize()}_All\"], index=list(df.index)).T\n",
    "#     df.index.name = sample_key\n",
    "#     operation_dfs_proteomics += [df.reset_index(drop=False)]\n",
    "\n",
    "#     df = getattr(df_MCH_per_sample, operation.lower())()\n",
    "#     df = pd.DataFrame(df, columns=[f\"{operation.capitalize()}_All\"], index=[\"CBC.MCH\"]).T\n",
    "#     df.index.name = sample_key\n",
    "#     operation_dfs_MCH += [df.reset_index(drop=False)]"
   ]
  },
  {
   "cell_type": "markdown",
   "id": "df74c3f7-d7ee-468f-b746-fe32492b1a6c",
   "metadata": {},
   "source": [
    "#### Group by metadata only"
   ]
  },
  {
   "cell_type": "code",
   "execution_count": null,
   "id": "5ba38803-f136-4dd0-86ba-a6b39d5057c6",
   "metadata": {},
   "outputs": [],
   "source": [
    "keys_prefixes = dict(zip(list(df_genotypes.columns), list(df_genotypes.columns)))\n",
    "keys_prefixes.update(\n",
    "    # \"Gender\": \"Sex\",\n",
    "    # \"BMI_Range\": \"BMI\",\n",
    "    # \"Age_Range\": \"Age\",\n",
    ")\n",
    "keys_prefixes = {k: f\"{v}_\" for k, v in keys_prefixes.items()}\n",
    "for key, prefix in keys_prefixes.items():\n",
    "\n",
    "    operation_dfs_proteomics += [\n",
    "        group_data(\n",
    "            pd.merge(\n",
    "                df_proteomics,\n",
    "                df_metadata,\n",
    "                left_index=True,\n",
    "                right_index=True,\n",
    "                how=\"left\",\n",
    "            ).reset_index(drop=False),\n",
    "            operation,\n",
    "            keys=[key],\n",
    "            columns=list(df_protein_data.index),\n",
    "            prefix_values={key: prefix},\n",
    "            name_col=sample_key,\n",
    "        )\n",
    "        for operation in operations\n",
    "    ]\n",
    "\n",
    "    operation_dfs_MCH += [\n",
    "        group_data(\n",
    "            pd.merge(\n",
    "                df_MCH_per_sample,\n",
    "                df_metadata,\n",
    "                left_index=True,\n",
    "                right_index=True,\n",
    "                how=\"left\",\n",
    "            ).reset_index(drop=False),\n",
    "            operation,\n",
    "            keys=[key],\n",
    "            columns=[\"CBC.MCH\"],\n",
    "            prefix_values={key: prefix},\n",
    "            name_col=sample_key,\n",
    "        )\n",
    "        for operation in operations\n",
    "    ]"
   ]
  },
  {
   "cell_type": "markdown",
   "id": "0bc08acb-b032-467f-9b1f-765744a50604",
   "metadata": {},
   "source": [
    "### Add to DataFrames"
   ]
  },
  {
   "cell_type": "code",
   "execution_count": null,
   "id": "a655951b-0594-4c65-9134-4e7f503fd5e9",
   "metadata": {},
   "outputs": [],
   "source": [
    "try:\n",
    "    df_proteomics_op = pd.concat(operation_dfs_proteomics, axis=0).drop_duplicates()\n",
    "except (KeyError, ValueError):\n",
    "    df_proteomics_final = df_proteomics[df_protein_data.index].copy()\n",
    "else:\n",
    "    df_proteomics_final = pd.concat(\n",
    "        (df_proteomics.reset_index(drop=False), df_proteomics_op), axis=0\n",
    "    )\n",
    "    df_proteomics_final = df_proteomics_final.set_index(sample_key)[\n",
    "        df_protein_data.index\n",
    "    ]\n",
    "\n",
    "try:\n",
    "    df_MCH_op = pd.concat(operation_dfs_MCH, axis=0).drop_duplicates()\n",
    "except (KeyError, ValueError):\n",
    "    if isinstance(df_MCH_per_sample, pd.DataFrame):\n",
    "        df_MCH_final = df_MCH_per_sample[\"CBC.MCH\"].copy()\n",
    "    else:\n",
    "        df_MCH_final = df_MCH_per_sample.copy()\n",
    "else:\n",
    "    df_MCH_final = pd.concat(\n",
    "        (df_MCH_per_sample.reset_index(drop=False), df_MCH_op), axis=0\n",
    "    )\n",
    "    df_MCH_final = df_MCH_final.set_index(sample_key)[\"CBC.MCH\"]\n",
    "\n",
    "df_MCH_final.name = \"MCH\"\n",
    "df_MCH_final"
   ]
  },
  {
   "cell_type": "markdown",
   "id": "7d16a574-dd8e-435f-8e36-62303211b4dc",
   "metadata": {},
   "source": [
    "### Normalize data by hemoglobin mass\n",
    "#### Set percent for hemoglobin and low abundance protoemes"
   ]
  },
  {
   "cell_type": "code",
   "execution_count": null,
   "id": "ec27562d-332d-4951-9507-31ffa45ccafd",
   "metadata": {},
   "outputs": [],
   "source": [
    "HB_PERCENT, LA_PERCENT = (0.95, 0.05)\n",
    "df_percent_abundance = df_proteomics_final.apply(lambda x: x / x.sum(), axis=1)"
   ]
  },
  {
   "cell_type": "markdown",
   "id": "c9edf7b5-18a6-41c6-a5f4-621179000606",
   "metadata": {},
   "source": [
    "#### Scale data"
   ]
  },
  {
   "cell_type": "code",
   "execution_count": null,
   "id": "c41e719d-670b-469c-bf8d-c38645316f3f",
   "metadata": {},
   "outputs": [],
   "source": [
    "MODELED_PERCENT = HB_PERCENT + LA_PERCENT\n",
    "assert 1 >= MODELED_PERCENT\n",
    "HB_PROTEINS = {\n",
    "    \"HBA\": \"P69905\",  # Hemoglobin subunit alpha\n",
    "    \"HBB\": \"P68871\",  # Hemoglobin subunit beta\n",
    "    \"HBD\": \"P02042\",  # Hemoglobin subunit delta\n",
    "    \"HBE1\": \"P02100\",  # Hemoglobin subunit beta\n",
    "    \"HBG1\": \"P69891\",  # Hemoglobin subunit gamma-1\n",
    "    \"HBG2\": \"P69892\",  # Hemoglobin subunit gamma-2\n",
    "    \"HBM\": \"Q6B0K9\",  # Hemoglobin subunit mu\n",
    "    \"HBQ1\": \"P09105\",  # Hemoglobin subunit theta-1\n",
    "    \"HBZ\": \"P02008\",  # Hemoglobin subunit zeta\n",
    "}\n",
    "\n",
    "# Protein intensity / Total intensity --> Percent protein abundance / total protein\n",
    "df_percent_hb = df_percent_abundance.loc[\n",
    "    :, df_percent_abundance.columns.isin(list(HB_PROTEINS.values()))\n",
    "]\n",
    "df_percent_la = df_percent_abundance.loc[\n",
    "    :, ~df_percent_abundance.columns.isin(list(HB_PROTEINS.values()))\n",
    "]\n",
    "\n",
    "df_summary = {\n",
    "    \"Perfect total\": 1.0,\n",
    "    \"Current total\": df_percent_abundance.loc[sample_ids].sum(axis=1).mean().item(),\n",
    "    \"Hemoglobin total\": df_percent_hb.loc[sample_ids].sum(axis=1).mean().item(),\n",
    "    \"Low abundance total\": df_percent_la.loc[sample_ids].sum(axis=1).mean().item(),\n",
    "}\n",
    "\n",
    "# # Scale hemoglobin and low abundance protoeme percentages\n",
    "# df_percent_hb = HB_PERCENT * df_percent_hb.div(df_percent_hb.sum(axis=1), axis=0)\n",
    "# df_percent_la = LA_PERCENT * df_percent_la.div(df_percent_la.sum(axis=1), axis=0)\n",
    "\n",
    "# Combine dataframes back into one\n",
    "df_percent_abundance = pd.concat((df_percent_hb, df_percent_la), axis=1)\n",
    "\n",
    "df_summary[\"Hemoglobin scaled\"] = (\n",
    "    df_percent_hb.loc[sample_ids].sum(axis=1).mean().item()\n",
    ")\n",
    "df_summary[\"Low abundance scaled\"] = (\n",
    "    df_percent_la.loc[sample_ids].sum(axis=1).mean().item()\n",
    ")\n",
    "df_summary[\"Remaining scaled\"] = 1 - (HB_PERCENT + LA_PERCENT)\n",
    "df_summary = pd.DataFrame.from_dict(\n",
    "    {\" \" * max(30 - len(k), 0) + k: [f\"{v * 100:.1f}%\"] for k, v in df_summary.items()},\n",
    "    orient=\"index\",\n",
    "    columns=[\"Percentage\"],\n",
    ")\n",
    "print(df_summary)"
   ]
  },
  {
   "cell_type": "markdown",
   "id": "1f449d06-fa33-42e7-b178-83e21816db58",
   "metadata": {},
   "source": [
    "### Transform data to copy numbers and expected format"
   ]
  },
  {
   "cell_type": "code",
   "execution_count": null,
   "id": "299bd0dc-b31b-4731-a4b2-52ec6dc71332",
   "metadata": {},
   "outputs": [],
   "source": [
    "df_uniprot_to_mw = df_protein_data[\"Mass\"].astype(float)\n",
    "\n",
    "gDW_total_protein = (\n",
    "    df_MCH_final  # pgDW HB\n",
    "    * (1 / HB_PERCENT)  # pgDW total protein / pgDW HB\n",
    "    * (1 / 1e12)  #  gDW total protein / pgDW total protein\n",
    ")  #  gDW total protein\n",
    "\n",
    "# Percent protein abundance / total protein --> Specific protein concentration / total protein\n",
    "df_mol_per_gDW = df_percent_abundance.div(\n",
    "    df_uniprot_to_mw, axis=1  # mol protein / gDW total protein\n",
    ")\n",
    "# Convert from mol / gDW protein --> nmol / gDW protein\n",
    "df_nmol_per_gDW = df_mol_per_gDW * (1e9 / 1)  # nmol protein / mol protein\n",
    "\n",
    "# Convert from mol / gDW protein --> copy numbers / cell\n",
    "df_copy_numbers = df_mol_per_gDW.mul(gDW_total_protein, axis=0) * AVOGADRO_NUMBER\n",
    "df_copy_numbers"
   ]
  },
  {
   "cell_type": "markdown",
   "id": "017aa6da-ad0d-4bbb-bda1-ae55aab065b8",
   "metadata": {},
   "source": [
    "## Export absolute quantitative data and metadata per sample"
   ]
  },
  {
   "cell_type": "code",
   "execution_count": null,
   "id": "3dc915e1-d04a-4bde-ba70-a251b150c1cb",
   "metadata": {},
   "outputs": [],
   "source": [
    "dataframes_dict = {\n",
    "    \"ProteinData\": df_protein_data,\n",
    "    \"ProteinIntensities\": df_proteomics_final,\n",
    "    \"ProteinConcentrations\": df_nmol_per_gDW,\n",
    "    \"ProteinCopyNumbers\": df_copy_numbers,\n",
    "    \"MCH\": df_MCH_final,\n",
    "    \"Metadata\": df_metadata,\n",
    "}\n",
    "for data_type, df in dataframes_dict.items():\n",
    "    # df.to_csv(\n",
    "    #     processed_data_dirpath / f\"{data_type}.tsv\", sep=\"\\t\", index=True\n",
    "    # )\n",
    "    df.to_csv(processed_data_dirpath / f\"{data_type}.csv\", index=True)\n",
    "    print(f\"Saved data for {data_type}\")"
   ]
  },
  {
   "cell_type": "code",
   "execution_count": null,
   "id": "ed1b3967-78f7-4bd8-aa0f-61cb5cca5aac",
   "metadata": {},
   "outputs": [],
   "source": []
  }
 ],
 "metadata": {
  "kernelspec": {
   "display_name": "Python 3 (ipykernel)",
   "language": "python",
   "name": "python3"
  },
  "language_info": {
   "codemirror_mode": {
    "name": "ipython",
    "version": 3
   },
   "file_extension": ".py",
   "mimetype": "text/x-python",
   "name": "python",
   "nbconvert_exporter": "python",
   "pygments_lexer": "ipython3"
  }
 },
 "nbformat": 4,
 "nbformat_minor": 5
}
